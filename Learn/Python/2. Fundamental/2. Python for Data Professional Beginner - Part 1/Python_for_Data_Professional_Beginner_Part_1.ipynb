{
  "nbformat": 4,
  "nbformat_minor": 0,
  "metadata": {
    "colab": {
      "name": "Python for Data Professional Beginner - Part 1.ipynb",
      "provenance": [],
      "collapsed_sections": []
    },
    "kernelspec": {
      "name": "python3",
      "display_name": "Python 3"
    },
    "language_info": {
      "name": "python"
    }
  },
  "cells": [
    {
      "cell_type": "markdown",
      "metadata": {
        "id": "D_IMyKeBD5Rz"
      },
      "source": [
        "# Program pertama: \"Hello World\""
      ]
    },
    {
      "cell_type": "code",
      "metadata": {
        "id": "m49VzKaN1LiX",
        "colab": {
          "base_uri": "https://localhost:8080/"
        },
        "outputId": "e5be676a-c7bf-4b1a-dc32-cd771df5fc2a"
      },
      "source": [
        "print(\"Hello World!\")"
      ],
      "execution_count": 1,
      "outputs": [
        {
          "output_type": "stream",
          "text": [
            "Hello World!\n"
          ],
          "name": "stdout"
        }
      ]
    },
    {
      "cell_type": "markdown",
      "metadata": {
        "id": "4975-sBwEDw1"
      },
      "source": [
        "# Program Pertamaku"
      ]
    },
    {
      "cell_type": "code",
      "metadata": {
        "colab": {
          "base_uri": "https://localhost:8080/"
        },
        "id": "haiLAQ3VD83Z",
        "outputId": "79979b5c-1a2c-4ad0-8192-6a27fb0b5cbb"
      },
      "source": [
        "print(\"Halo Dunia\")\n",
        "print(\"Riset Bahasa Python\")"
      ],
      "execution_count": 2,
      "outputs": [
        {
          "output_type": "stream",
          "text": [
            "Halo Dunia\n",
            "Riset Bahasa Python\n"
          ],
          "name": "stdout"
        }
      ]
    },
    {
      "cell_type": "markdown",
      "metadata": {
        "id": "p3WJxYicEvQ0"
      },
      "source": [
        "# Struktur Program Python - Part 1"
      ]
    },
    {
      "cell_type": "code",
      "metadata": {
        "colab": {
          "base_uri": "https://localhost:8080/"
        },
        "id": "cJjnxrh_EIqH",
        "outputId": "ce1d7576-fd19-4d70-905b-deae33098f7e"
      },
      "source": [
        "# Statement\n",
        "print(\"Belajar Python menyenangkan\")\n",
        "print(\"Halo Dunia\")\n",
        "print(\"Hello World!\")"
      ],
      "execution_count": 3,
      "outputs": [
        {
          "output_type": "stream",
          "text": [
            "Belajar Python menyenangkan\n",
            "Halo Dunia\n",
            "Hello World!\n"
          ],
          "name": "stdout"
        }
      ]
    },
    {
      "cell_type": "code",
      "metadata": {
        "id": "Bgh_d5D7E9Df"
      },
      "source": [
        "bilangan1 = 5 # angka 5 disebut literal\n",
        "bilangan2 = 10 # angka 10 disebut literal\n",
        "kalimat1 = \"Belajar Bahasa Python\" # \"Belajar Bahasa Python\" disebut literal"
      ],
      "execution_count": 4,
      "outputs": []
    },
    {
      "cell_type": "code",
      "metadata": {
        "colab": {
          "base_uri": "https://localhost:8080/"
        },
        "id": "E5mg5idNFLiQ",
        "outputId": "abf37808-6cf7-4278-b788-27d56316d8df"
      },
      "source": [
        "print(bilangan1 + bilangan2)"
      ],
      "execution_count": 5,
      "outputs": [
        {
          "output_type": "stream",
          "text": [
            "15\n"
          ],
          "name": "stdout"
        }
      ]
    },
    {
      "cell_type": "markdown",
      "metadata": {
        "id": "V2OjFf8SFe6t"
      },
      "source": [
        "# Tugas Praktek"
      ]
    },
    {
      "cell_type": "code",
      "metadata": {
        "colab": {
          "base_uri": "https://localhost:8080/"
        },
        "id": "qXgYgrU5Fa0r",
        "outputId": "4e240d57-9076-4b8f-c393-c9a48b69f889"
      },
      "source": [
        "bilangan1 = 20\n",
        "bilangan2 = 10\n",
        "print(bilangan1 - bilangan2)"
      ],
      "execution_count": 6,
      "outputs": [
        {
          "output_type": "stream",
          "text": [
            "10\n"
          ],
          "name": "stdout"
        }
      ]
    },
    {
      "cell_type": "markdown",
      "metadata": {
        "id": "-L0NCmU-FpJg"
      },
      "source": [
        "# Tugas Praktek"
      ]
    },
    {
      "cell_type": "code",
      "metadata": {
        "colab": {
          "base_uri": "https://localhost:8080/"
        },
        "id": "7lrbZsRcFmjg",
        "outputId": "94086095-9a44-4b65-88c0-70beb8ea08e1"
      },
      "source": [
        "harga_asli = 20000\n",
        "potongan = 2000\n",
        "harga_setelah_potongan = harga_asli - potongan\n",
        "harga_final = harga_setelah_potongan * 1.1\n",
        "print(harga_final)"
      ],
      "execution_count": 7,
      "outputs": [
        {
          "output_type": "stream",
          "text": [
            "19800.0\n"
          ],
          "name": "stdout"
        }
      ]
    },
    {
      "cell_type": "markdown",
      "metadata": {
        "id": "-PIM_Z0rHr4O"
      },
      "source": [
        "# Sequence Type – Part 1"
      ]
    },
    {
      "cell_type": "code",
      "metadata": {
        "id": "Ac6JDTHeGBMI"
      },
      "source": [
        "contoh_list = [6, 'tujuh', 8, 9.0, 10]"
      ],
      "execution_count": 8,
      "outputs": []
    },
    {
      "cell_type": "code",
      "metadata": {
        "colab": {
          "base_uri": "https://localhost:8080/"
        },
        "id": "jFc_gpYcH5c1",
        "outputId": "de0e3935-181e-464a-dbc6-7030767d8eb2"
      },
      "source": [
        "contoh_list = [6, 'tujuh', 8, 9.0, 10]\n",
        "print(contoh_list[0]) # akan menghasilkan output 6\n",
        "print(contoh_list[3]) # akan menghasilkan output 9.0 "
      ],
      "execution_count": 9,
      "outputs": [
        {
          "output_type": "stream",
          "text": [
            "6\n",
            "9.0\n"
          ],
          "name": "stdout"
        }
      ]
    },
    {
      "cell_type": "code",
      "metadata": {
        "colab": {
          "base_uri": "https://localhost:8080/"
        },
        "id": "gXupT_t1IWBO",
        "outputId": "6cb139e5-290e-4bc5-a154-ec768ee7dc6a"
      },
      "source": [
        "contoh_list = [6, 'tujuh', 8, 9.0, 10]\n",
        "contoh_list[3] = 'empat' # mengganti nilai pada indeks ke-3\n",
        "print(contoh_list[3]) # akan menghasilkan output 'empat' "
      ],
      "execution_count": 10,
      "outputs": [
        {
          "output_type": "stream",
          "text": [
            "empat\n"
          ],
          "name": "stdout"
        }
      ]
    },
    {
      "cell_type": "code",
      "metadata": {
        "colab": {
          "base_uri": "https://localhost:8080/"
        },
        "id": "ENjuHLRVInDG",
        "outputId": "0bdc43bc-b4bd-4303-d7d1-c3d1c278c089"
      },
      "source": [
        "# Tugas\n",
        "contoh_list = [1, 'dua', 3, 4.0, 5]\n",
        "print(contoh_list[0]) # akan menghasilkan output 1\n",
        "print(contoh_list[3]) # akan menghasilkan output 4.0\n",
        "contoh_list = [1, 'dua', 3, 4, 5]\n",
        "contoh_list[3] = 'empat'\n",
        "print(contoh_list[3]) # akan menghasilkan output empat"
      ],
      "execution_count": 11,
      "outputs": [
        {
          "output_type": "stream",
          "text": [
            "1\n",
            "4.0\n",
            "empat\n"
          ],
          "name": "stdout"
        }
      ]
    },
    {
      "cell_type": "markdown",
      "metadata": {
        "id": "dfMgmefcJWhi"
      },
      "source": [
        "# Sequence Type – Part 2"
      ]
    },
    {
      "cell_type": "code",
      "metadata": {
        "id": "PJnmtgyiJN41"
      },
      "source": [
        "contoh_tuple = ('Juni', 'Juli', 'Agustus', 'September')"
      ],
      "execution_count": 12,
      "outputs": []
    },
    {
      "cell_type": "code",
      "metadata": {
        "colab": {
          "base_uri": "https://localhost:8080/"
        },
        "id": "2kfbuXyFJiSk",
        "outputId": "47b79f46-82de-4887-f8e1-7c33308e73d1"
      },
      "source": [
        "contoh_tuple = ('Juni', 'Juli', 'Agustus', 'September')\n",
        "print(contoh_tuple[0]) # akan menghasilkan output Juni"
      ],
      "execution_count": 13,
      "outputs": [
        {
          "output_type": "stream",
          "text": [
            "Juni\n"
          ],
          "name": "stdout"
        }
      ]
    },
    {
      "cell_type": "code",
      "metadata": {
        "colab": {
          "base_uri": "https://localhost:8080/",
          "height": 197
        },
        "id": "BfyDBnX7Joxy",
        "outputId": "c52b0402-a80c-4ae3-99fe-2d8027f08c9f"
      },
      "source": [
        "# Tuple bersifat immutable atau tidak dapat diubah nilainya\n",
        "contoh_tuple = ('Juni', 'Juli', 'Agustus', 'September')\n",
        "contoh_tuple[0] = 'Desember' # akan menghasilkan error"
      ],
      "execution_count": 14,
      "outputs": [
        {
          "output_type": "error",
          "ename": "TypeError",
          "evalue": "ignored",
          "traceback": [
            "\u001b[0;31m---------------------------------------------------------------------------\u001b[0m",
            "\u001b[0;31mTypeError\u001b[0m                                 Traceback (most recent call last)",
            "\u001b[0;32m<ipython-input-14-b1acdaa0c8d9>\u001b[0m in \u001b[0;36m<module>\u001b[0;34m()\u001b[0m\n\u001b[1;32m      1\u001b[0m \u001b[0;31m# Tuple bersifat immutable atau tidak dapat diubah nilainya\u001b[0m\u001b[0;34m\u001b[0m\u001b[0;34m\u001b[0m\u001b[0;34m\u001b[0m\u001b[0m\n\u001b[1;32m      2\u001b[0m \u001b[0mcontoh_tuple\u001b[0m \u001b[0;34m=\u001b[0m \u001b[0;34m(\u001b[0m\u001b[0;34m'Juni'\u001b[0m\u001b[0;34m,\u001b[0m \u001b[0;34m'Juli'\u001b[0m\u001b[0;34m,\u001b[0m \u001b[0;34m'Agustus'\u001b[0m\u001b[0;34m,\u001b[0m \u001b[0;34m'September'\u001b[0m\u001b[0;34m)\u001b[0m\u001b[0;34m\u001b[0m\u001b[0;34m\u001b[0m\u001b[0m\n\u001b[0;32m----> 3\u001b[0;31m \u001b[0mcontoh_tuple\u001b[0m\u001b[0;34m[\u001b[0m\u001b[0;36m0\u001b[0m\u001b[0;34m]\u001b[0m \u001b[0;34m=\u001b[0m \u001b[0;34m'Desember'\u001b[0m \u001b[0;31m# akan menghasilkan error\u001b[0m\u001b[0;34m\u001b[0m\u001b[0;34m\u001b[0m\u001b[0m\n\u001b[0m",
            "\u001b[0;31mTypeError\u001b[0m: 'tuple' object does not support item assignment"
          ]
        }
      ]
    },
    {
      "cell_type": "code",
      "metadata": {
        "colab": {
          "base_uri": "https://localhost:8080/"
        },
        "id": "IP8wR6XBJ5e2",
        "outputId": "ed910740-7d6b-4b31-ccd9-605711b2bbf3"
      },
      "source": [
        "# Tugas\n",
        "contoh_tuple = ('Januari', 'Februari', 'Maret', 'April')\n",
        "print(contoh_tuple[0])"
      ],
      "execution_count": 15,
      "outputs": [
        {
          "output_type": "stream",
          "text": [
            "Januari\n"
          ],
          "name": "stdout"
        }
      ]
    },
    {
      "cell_type": "code",
      "metadata": {
        "colab": {
          "base_uri": "https://localhost:8080/",
          "height": 197
        },
        "id": "PdiNnkYnKL0p",
        "outputId": "31f4b6bd-cbfe-492f-97ec-7298d4d35a47"
      },
      "source": [
        "# Tugas\n",
        "contoh_tuple = ('Januari', 'Februari', 'Maret', 'April')\n",
        "contoh_tuple[0] = 'Desember' # akan menghasilkan error"
      ],
      "execution_count": 16,
      "outputs": [
        {
          "output_type": "error",
          "ename": "TypeError",
          "evalue": "ignored",
          "traceback": [
            "\u001b[0;31m---------------------------------------------------------------------------\u001b[0m",
            "\u001b[0;31mTypeError\u001b[0m                                 Traceback (most recent call last)",
            "\u001b[0;32m<ipython-input-16-c15aad9d0b2c>\u001b[0m in \u001b[0;36m<module>\u001b[0;34m()\u001b[0m\n\u001b[1;32m      1\u001b[0m \u001b[0;31m# Tugas\u001b[0m\u001b[0;34m\u001b[0m\u001b[0;34m\u001b[0m\u001b[0;34m\u001b[0m\u001b[0m\n\u001b[1;32m      2\u001b[0m \u001b[0mcontoh_tuple\u001b[0m \u001b[0;34m=\u001b[0m \u001b[0;34m(\u001b[0m\u001b[0;34m'Januari'\u001b[0m\u001b[0;34m,\u001b[0m \u001b[0;34m'Februari'\u001b[0m\u001b[0;34m,\u001b[0m \u001b[0;34m'Maret'\u001b[0m\u001b[0;34m,\u001b[0m \u001b[0;34m'April'\u001b[0m\u001b[0;34m)\u001b[0m\u001b[0;34m\u001b[0m\u001b[0;34m\u001b[0m\u001b[0m\n\u001b[0;32m----> 3\u001b[0;31m \u001b[0mcontoh_tuple\u001b[0m\u001b[0;34m[\u001b[0m\u001b[0;36m0\u001b[0m\u001b[0;34m]\u001b[0m \u001b[0;34m=\u001b[0m \u001b[0;34m'Desember'\u001b[0m \u001b[0;31m# akan menghasilkan error\u001b[0m\u001b[0;34m\u001b[0m\u001b[0;34m\u001b[0m\u001b[0m\n\u001b[0m",
            "\u001b[0;31mTypeError\u001b[0m: 'tuple' object does not support item assignment"
          ]
        }
      ]
    },
    {
      "cell_type": "markdown",
      "metadata": {
        "id": "2HysieljKcIS"
      },
      "source": [
        "# Set Type"
      ]
    },
    {
      "cell_type": "code",
      "metadata": {
        "colab": {
          "base_uri": "https://localhost:8080/"
        },
        "id": "b5Qm8d7VKQeV",
        "outputId": "c21a4ad0-70c2-4daa-a7a2-1f3791053499"
      },
      "source": [
        "contoh_list = ['Theo', 'Annete', 'Mel', 'Handy', 'Mel']\n",
        "print(contoh_list)"
      ],
      "execution_count": 17,
      "outputs": [
        {
          "output_type": "stream",
          "text": [
            "['Theo', 'Annete', 'Mel', 'Handy', 'Mel']\n"
          ],
          "name": "stdout"
        }
      ]
    },
    {
      "cell_type": "code",
      "metadata": {
        "colab": {
          "base_uri": "https://localhost:8080/"
        },
        "id": "1OlekHjgKsAD",
        "outputId": "ce819e6e-5b85-49c3-d4f0-62cf44caa8ab"
      },
      "source": [
        "contoh_set = {'Theo', 'Annete', 'Mel', 'Handy', 'Mel'}\n",
        "print(contoh_set)"
      ],
      "execution_count": 18,
      "outputs": [
        {
          "output_type": "stream",
          "text": [
            "{'Annete', 'Mel', 'Handy', 'Theo'}\n"
          ],
          "name": "stdout"
        }
      ]
    },
    {
      "cell_type": "code",
      "metadata": {
        "colab": {
          "base_uri": "https://localhost:8080/"
        },
        "id": "NQ97t3qAKxhZ",
        "outputId": "24e70c7e-4fd5-40fe-9e04-e3bba00d6a7b"
      },
      "source": [
        "# frozenset: set yang bersifat immutable\n",
        "contoh_frozen_set = ({'Theo', 'Annete', 'Mel', 'Handy', 'Mel'})\n",
        "print(contoh_frozen_set)"
      ],
      "execution_count": 19,
      "outputs": [
        {
          "output_type": "stream",
          "text": [
            "{'Annete', 'Mel', 'Handy', 'Theo'}\n"
          ],
          "name": "stdout"
        }
      ]
    },
    {
      "cell_type": "code",
      "metadata": {
        "colab": {
          "base_uri": "https://localhost:8080/"
        },
        "id": "y0VRAcMHLE0T",
        "outputId": "f7fc3896-4e5f-4b22-8227-1114bf64bfc7"
      },
      "source": [
        "# Tugas\n",
        "contoh_list = ['Dewi', 'Budi', 'Cici', 'Linda', 'Cici']\n",
        "print(contoh_list)\n",
        "contoh_set = {'Dewi', 'Budi', 'Cici', 'Linda', 'Cici'}\n",
        "print(contoh_set)\n",
        "contoh_frozen_set = ({'Dewi', 'Budi', 'Cici', 'Linda', 'Cici'})\n",
        "print(contoh_frozen_set)"
      ],
      "execution_count": 20,
      "outputs": [
        {
          "output_type": "stream",
          "text": [
            "['Dewi', 'Budi', 'Cici', 'Linda', 'Cici']\n",
            "{'Dewi', 'Cici', 'Linda', 'Budi'}\n",
            "{'Dewi', 'Cici', 'Linda', 'Budi'}\n"
          ],
          "name": "stdout"
        }
      ]
    },
    {
      "cell_type": "markdown",
      "metadata": {
        "id": "aTxwQZTRLWE3"
      },
      "source": [
        "# Mapping Type / Dictionary"
      ]
    },
    {
      "cell_type": "code",
      "metadata": {
        "id": "B9CD0F_qLSRP"
      },
      "source": [
        "person = {'nama' : 'Theo Lau', 'pekerjaan' : 'Data Analyst'}"
      ],
      "execution_count": 21,
      "outputs": []
    },
    {
      "cell_type": "code",
      "metadata": {
        "colab": {
          "base_uri": "https://localhost:8080/"
        },
        "id": "NrHyfeIjLqaW",
        "outputId": "6fa2a88d-c8f2-4edb-9c51-40b2e9141848"
      },
      "source": [
        "print(person['nama'])\n",
        "print(person['pekerjaan'])"
      ],
      "execution_count": 22,
      "outputs": [
        {
          "output_type": "stream",
          "text": [
            "Theo Lau\n",
            "Data Analyst\n"
          ],
          "name": "stdout"
        }
      ]
    },
    {
      "cell_type": "code",
      "metadata": {
        "colab": {
          "base_uri": "https://localhost:8080/"
        },
        "id": "cp-Re8f3Lwnf",
        "outputId": "af298646-4aad-4858-dfcf-84dafdda9b73"
      },
      "source": [
        "# Tugas\n",
        "person = {'nama':'John Doe', 'pekerjaan':'programmer'}\n",
        "print(person['nama'])\n",
        "print(person['pekerjaan'])"
      ],
      "execution_count": 23,
      "outputs": [
        {
          "output_type": "stream",
          "text": [
            "John Doe\n",
            "programmer\n"
          ],
          "name": "stdout"
        }
      ]
    },
    {
      "cell_type": "markdown",
      "metadata": {
        "id": "9VMjQTIKMWKp"
      },
      "source": [
        "# Tugas Praktek"
      ]
    },
    {
      "cell_type": "code",
      "metadata": {
        "id": "tn57lsiSMMwq"
      },
      "source": [
        "sepatu = {'nama' : 'Sepatu Niko', 'harga' : 150000, 'diskon' : 30000}\n",
        "baju = {'nama' : 'Baju Unikloh', 'harga' : 80000, 'diskon' : 8000}\n",
        "celana = {'nama' : 'Celana Lepis', 'harga' : 200000, 'diskon' : 60000}"
      ],
      "execution_count": 24,
      "outputs": []
    },
    {
      "cell_type": "markdown",
      "metadata": {
        "id": "Z1DFBlq2M8nz"
      },
      "source": [
        "# Tugas Praktek"
      ]
    },
    {
      "cell_type": "code",
      "metadata": {
        "id": "MHbkuHqQMzGf"
      },
      "source": [
        "daftar_belaja = [sepatu, baju, celana]"
      ],
      "execution_count": 25,
      "outputs": []
    },
    {
      "cell_type": "markdown",
      "metadata": {
        "id": "2-HWcJw7NJ5y"
      },
      "source": [
        "# Tugas Praktek"
      ]
    },
    {
      "cell_type": "code",
      "metadata": {
        "colab": {
          "base_uri": "https://localhost:8080/"
        },
        "id": "kdvz6xn9NCW6",
        "outputId": "011873f2-9833-48ae-cb75-b46bb5f8b54d"
      },
      "source": [
        "# Data yang dinyatakan ke dalam dictionary\n",
        "sepatu = {\"nama\": \"Sepatu Niko\", \"harga\": 150000, \"diskon\": 30000} \n",
        "baju = {\"nama\": \"Baju Unikloh\", \"harga\": 80000, \"diskon\": 8000} \n",
        "celana = {\"nama\": \"Celana Lepis\", \"harga\": 200000, \"diskon\": 60000}\n",
        "\n",
        "# Hitunglah harga masing-masing data setelah dikurangi diskon\n",
        "harga_sepatu = sepatu[\"harga\"] - sepatu[\"diskon\"] \n",
        "harga_baju = baju[\"harga\"] - baju[\"diskon\"]\n",
        "harga_celana = celana[\"harga\"] - celana[\"diskon\"]\n",
        "\n",
        "# Hitung harga total\n",
        "total_harga = harga_sepatu + harga_baju + harga_celana\n",
        "\n",
        "# Hitung harga kena pajak (pajak 10%)\n",
        "total_pajak = total_harga * 0.1\n",
        "\n",
        "# Cetak total_harga + total_pajak\n",
        "print(total_harga + total_pajak)"
      ],
      "execution_count": 26,
      "outputs": [
        {
          "output_type": "stream",
          "text": [
            "365200.0\n"
          ],
          "name": "stdout"
        }
      ]
    },
    {
      "cell_type": "markdown",
      "metadata": {
        "id": "q4lzdcT_kCj7"
      },
      "source": [
        "# Arithmetic Operators"
      ]
    },
    {
      "cell_type": "code",
      "metadata": {
        "id": "hYCjvh2UN94J",
        "colab": {
          "base_uri": "https://localhost:8080/"
        },
        "outputId": "94a5f1c9-a085-4d41-ea3a-d4bbea4c70d2"
      },
      "source": [
        "print(3 + 5) # Penambahan\n",
        "print(4 - 2) # Pengurangan\n",
        "print(3 * 2) # Perkalian\n",
        "print(3 / 2) # Pembagian\n",
        "print(3 % 2) # Modulo\n",
        "print(8 % 2) # Modulo\n",
        "print(3 ** 2) # Perpangkatan\n",
        "print(3 / 2) # Floor"
      ],
      "execution_count": 27,
      "outputs": [
        {
          "output_type": "stream",
          "text": [
            "8\n",
            "2\n",
            "6\n",
            "1.5\n",
            "1\n",
            "0\n",
            "9\n",
            "1.5\n"
          ],
          "name": "stdout"
        }
      ]
    },
    {
      "cell_type": "markdown",
      "metadata": {
        "id": "8TaI6OLgkbwj"
      },
      "source": [
        "# Assignment Operators"
      ]
    },
    {
      "cell_type": "code",
      "metadata": {
        "colab": {
          "base_uri": "https://localhost:8080/"
        },
        "id": "xmUKH4dKkaNw",
        "outputId": "3a249e62-9774-4874-8931-6f64a68df980"
      },
      "source": [
        "# Penambahan\n",
        "x = 3\n",
        "\n",
        "x += 2\n",
        "\n",
        "print(x)"
      ],
      "execution_count": 28,
      "outputs": [
        {
          "output_type": "stream",
          "text": [
            "5\n"
          ],
          "name": "stdout"
        }
      ]
    },
    {
      "cell_type": "code",
      "metadata": {
        "colab": {
          "base_uri": "https://localhost:8080/"
        },
        "id": "rb8r_kuxkjgi",
        "outputId": "5fff6c50-10cd-48f5-b151-00530238f75e"
      },
      "source": [
        "# Pengurangan \n",
        "x = 3\n",
        "\n",
        "x -= 2\n",
        "\n",
        "print(x)"
      ],
      "execution_count": 29,
      "outputs": [
        {
          "output_type": "stream",
          "text": [
            "1\n"
          ],
          "name": "stdout"
        }
      ]
    },
    {
      "cell_type": "code",
      "metadata": {
        "colab": {
          "base_uri": "https://localhost:8080/"
        },
        "id": "agOK7fb_kytQ",
        "outputId": "31e35467-d3dd-4dd6-8595-ced38fe418ee"
      },
      "source": [
        "# Perkalian\n",
        "x = 3\n",
        "\n",
        "x *= 2\n",
        "\n",
        "print(x)"
      ],
      "execution_count": 30,
      "outputs": [
        {
          "output_type": "stream",
          "text": [
            "6\n"
          ],
          "name": "stdout"
        }
      ]
    },
    {
      "cell_type": "code",
      "metadata": {
        "colab": {
          "base_uri": "https://localhost:8080/"
        },
        "id": "9ob_0E1TkoqT",
        "outputId": "2fd4b189-0f8b-40f7-de6a-ffc9da802069"
      },
      "source": [
        "# Pembagian\n",
        "x = 3\n",
        "\n",
        "x /= 2\n",
        "\n",
        "print(x)"
      ],
      "execution_count": 31,
      "outputs": [
        {
          "output_type": "stream",
          "text": [
            "1.5\n"
          ],
          "name": "stdout"
        }
      ]
    },
    {
      "cell_type": "code",
      "metadata": {
        "colab": {
          "base_uri": "https://localhost:8080/"
        },
        "id": "iR-R82yOkutZ",
        "outputId": "1fbe9fea-279c-49a0-edd8-5dbecda92ee9"
      },
      "source": [
        "# Modulo\n",
        "x = 3\n",
        "\n",
        "x %= 2\n",
        "\n",
        "print(x)"
      ],
      "execution_count": 32,
      "outputs": [
        {
          "output_type": "stream",
          "text": [
            "1\n"
          ],
          "name": "stdout"
        }
      ]
    },
    {
      "cell_type": "code",
      "metadata": {
        "colab": {
          "base_uri": "https://localhost:8080/"
        },
        "id": "rtK3OcnYk_C0",
        "outputId": "9f6cade1-71bc-4b8f-fab6-f60c3b67914b"
      },
      "source": [
        "# Pangkat\n",
        "x = 3\n",
        "\n",
        "x **= 2\n",
        "\n",
        "print(x)"
      ],
      "execution_count": 33,
      "outputs": [
        {
          "output_type": "stream",
          "text": [
            "9\n"
          ],
          "name": "stdout"
        }
      ]
    },
    {
      "cell_type": "code",
      "metadata": {
        "colab": {
          "base_uri": "https://localhost:8080/"
        },
        "id": "b-Jtfv3PlEY2",
        "outputId": "137e24eb-89df-4c16-a13b-7000d3b5822d"
      },
      "source": [
        "# Floor\n",
        "x = 3\n",
        "\n",
        "x //= 2\n",
        "\n",
        "print(x)"
      ],
      "execution_count": 34,
      "outputs": [
        {
          "output_type": "stream",
          "text": [
            "1\n"
          ],
          "name": "stdout"
        }
      ]
    },
    {
      "cell_type": "markdown",
      "metadata": {
        "id": "mXd6rng1lUGO"
      },
      "source": [
        "# Comparison Operators"
      ]
    },
    {
      "cell_type": "code",
      "metadata": {
        "colab": {
          "base_uri": "https://localhost:8080/"
        },
        "id": "QMKeUutylXMj",
        "outputId": "d1b9c40b-5759-4859-b535-b3fe21ebba99"
      },
      "source": [
        "# Persamaan ==\n",
        "x = 33\n",
        "\n",
        "print(x == 33)\n",
        "print(x == 34)"
      ],
      "execution_count": 35,
      "outputs": [
        {
          "output_type": "stream",
          "text": [
            "True\n",
            "False\n"
          ],
          "name": "stdout"
        }
      ]
    },
    {
      "cell_type": "code",
      "metadata": {
        "colab": {
          "base_uri": "https://localhost:8080/"
        },
        "id": "dzGDdXbZlbFb",
        "outputId": "3022b98d-2c18-4c98-e518-9aa57a19637e"
      },
      "source": [
        "# Pertidaksamaan !=\n",
        "x = 33\n",
        "\n",
        "print(x != 33)\n",
        "print(x != 34)"
      ],
      "execution_count": 36,
      "outputs": [
        {
          "output_type": "stream",
          "text": [
            "False\n",
            "True\n"
          ],
          "name": "stdout"
        }
      ]
    },
    {
      "cell_type": "code",
      "metadata": {
        "colab": {
          "base_uri": "https://localhost:8080/"
        },
        "id": "K9zOmdKkls5w",
        "outputId": "c37d1284-ef30-49ea-e07f-38190c9896a1"
      },
      "source": [
        "# Lebih besar >\n",
        "x = 33\n",
        "y = 34\n",
        "\n",
        "print(x > y)\n",
        "print(y > x)"
      ],
      "execution_count": 37,
      "outputs": [
        {
          "output_type": "stream",
          "text": [
            "False\n",
            "True\n"
          ],
          "name": "stdout"
        }
      ]
    },
    {
      "cell_type": "code",
      "metadata": {
        "colab": {
          "base_uri": "https://localhost:8080/"
        },
        "id": "NSJpyLOcl1Yl",
        "outputId": "576ca379-472e-41d5-81dd-bc461e0b1f82"
      },
      "source": [
        "# Kurang dari <\n",
        "x = 33\n",
        "y = 34\n",
        "\n",
        "print(x < y)\n",
        "print(y < x)"
      ],
      "execution_count": 38,
      "outputs": [
        {
          "output_type": "stream",
          "text": [
            "True\n",
            "False\n"
          ],
          "name": "stdout"
        }
      ]
    },
    {
      "cell_type": "code",
      "metadata": {
        "colab": {
          "base_uri": "https://localhost:8080/"
        },
        "id": "FlhQ77u9l_d_",
        "outputId": "283725d4-2a9e-4200-9932-0bc80134ec4f"
      },
      "source": [
        "# Lebih besar sama dengan >=\n",
        "x = 33\n",
        "y = 34\n",
        "\n",
        "print(x >= y)\n",
        "print(y >= x)"
      ],
      "execution_count": 39,
      "outputs": [
        {
          "output_type": "stream",
          "text": [
            "False\n",
            "True\n"
          ],
          "name": "stdout"
        }
      ]
    },
    {
      "cell_type": "code",
      "metadata": {
        "colab": {
          "base_uri": "https://localhost:8080/"
        },
        "id": "MpvcKnWSmM7C",
        "outputId": "7d0b6a39-db01-4ce8-8114-7f9d148d4147"
      },
      "source": [
        "# kurang dari sama dengan <=\n",
        "x = 33\n",
        "y = 34\n",
        "\n",
        "print(x <= y)\n",
        "print(y <= x)"
      ],
      "execution_count": 40,
      "outputs": [
        {
          "output_type": "stream",
          "text": [
            "True\n",
            "False\n"
          ],
          "name": "stdout"
        }
      ]
    },
    {
      "cell_type": "markdown",
      "metadata": {
        "id": "t78JOh1KmXSf"
      },
      "source": [
        "# Logical Operators"
      ]
    },
    {
      "cell_type": "code",
      "metadata": {
        "colab": {
          "base_uri": "https://localhost:8080/"
        },
        "id": "9GjztkHgmTvV",
        "outputId": "98114bae-6a02-4a73-a123-c5e227720df6"
      },
      "source": [
        "# and\n",
        "x = 5\n",
        "\n",
        "print(x >= 1 and x <= 10)"
      ],
      "execution_count": 41,
      "outputs": [
        {
          "output_type": "stream",
          "text": [
            "True\n"
          ],
          "name": "stdout"
        }
      ]
    },
    {
      "cell_type": "code",
      "metadata": {
        "colab": {
          "base_uri": "https://localhost:8080/"
        },
        "id": "aAnJL0mdmiik",
        "outputId": "8c0a9bab-e80a-4732-a639-104caffeb205"
      },
      "source": [
        "# and\n",
        "x = 5\n",
        "\n",
        "print(x >= 1 and x <= 4)"
      ],
      "execution_count": 42,
      "outputs": [
        {
          "output_type": "stream",
          "text": [
            "False\n"
          ],
          "name": "stdout"
        }
      ]
    },
    {
      "cell_type": "code",
      "metadata": {
        "colab": {
          "base_uri": "https://localhost:8080/"
        },
        "id": "ylB_FSBbmmPM",
        "outputId": "ef3ed1bc-ee35-44ef-8265-c15babab977b"
      },
      "source": [
        "# or\n",
        "x = 3\n",
        "\n",
        "print(x >= 1 or x <= 2)"
      ],
      "execution_count": 43,
      "outputs": [
        {
          "output_type": "stream",
          "text": [
            "True\n"
          ],
          "name": "stdout"
        }
      ]
    },
    {
      "cell_type": "code",
      "metadata": {
        "colab": {
          "base_uri": "https://localhost:8080/"
        },
        "id": "biL6rE9bmvM4",
        "outputId": "f0cd2577-fb59-4175-903c-ee25bf4d2828"
      },
      "source": [
        "# or\n",
        "x = 3\n",
        "\n",
        "print(x >= 4 or x <= 2)"
      ],
      "execution_count": 44,
      "outputs": [
        {
          "output_type": "stream",
          "text": [
            "False\n"
          ],
          "name": "stdout"
        }
      ]
    },
    {
      "cell_type": "code",
      "metadata": {
        "colab": {
          "base_uri": "https://localhost:8080/"
        },
        "id": "_ZI6KMKomzOH",
        "outputId": "a977a7db-eb71-48d6-cc98-bb8837da1891"
      },
      "source": [
        "# not\n",
        "x = 77\n",
        "\n",
        "print(not(x == 7))\n",
        "print(not(x >= 10))"
      ],
      "execution_count": 45,
      "outputs": [
        {
          "output_type": "stream",
          "text": [
            "True\n",
            "False\n"
          ],
          "name": "stdout"
        }
      ]
    },
    {
      "cell_type": "markdown",
      "metadata": {
        "id": "3RV7lIiSnBSU"
      },
      "source": [
        "# Identity Operators"
      ]
    },
    {
      "cell_type": "code",
      "metadata": {
        "colab": {
          "base_uri": "https://localhost:8080/"
        },
        "id": "MVc7w7Ram3lR",
        "outputId": "b99d00ce-f670-4765-ec96-f76681b6a511"
      },
      "source": [
        "# is\n",
        "x = ['Ani', 'Budi']\n",
        "y = ['Ani', 'Budi']\n",
        "\n",
        "a = x\n",
        "\n",
        "print(a is x)\n",
        "print(a is y)"
      ],
      "execution_count": 46,
      "outputs": [
        {
          "output_type": "stream",
          "text": [
            "True\n",
            "False\n"
          ],
          "name": "stdout"
        }
      ]
    },
    {
      "cell_type": "code",
      "metadata": {
        "colab": {
          "base_uri": "https://localhost:8080/"
        },
        "id": "yXZiezYMnJoa",
        "outputId": "4b1ac1ef-c5c5-4c79-9d8c-a81a7c19612b"
      },
      "source": [
        "# is\n",
        "x = ['Ani', 'Budi']\n",
        "y = ['Ani', 'Budi']\n",
        "\n",
        "a = x\n",
        "\n",
        "print(a is not x)\n",
        "print(a is not y)"
      ],
      "execution_count": 47,
      "outputs": [
        {
          "output_type": "stream",
          "text": [
            "False\n",
            "True\n"
          ],
          "name": "stdout"
        }
      ]
    },
    {
      "cell_type": "code",
      "metadata": {
        "colab": {
          "base_uri": "https://localhost:8080/"
        },
        "id": "SkYKQMfunMgL",
        "outputId": "9371a4d7-7084-4eb5-f21a-2e829e8a01ba"
      },
      "source": [
        "# contoh lain penerapan dari identity operators\n",
        "x = 10\n",
        "print(type(x) is int)"
      ],
      "execution_count": 48,
      "outputs": [
        {
          "output_type": "stream",
          "text": [
            "True\n"
          ],
          "name": "stdout"
        }
      ]
    },
    {
      "cell_type": "code",
      "metadata": {
        "colab": {
          "base_uri": "https://localhost:8080/"
        },
        "id": "amVQ3pN8nWfv",
        "outputId": "68a278fd-2132-46a1-c5dc-300504e845a2"
      },
      "source": [
        "x /= 3\n",
        "print(type(x) is int)"
      ],
      "execution_count": 49,
      "outputs": [
        {
          "output_type": "stream",
          "text": [
            "False\n"
          ],
          "name": "stdout"
        }
      ]
    },
    {
      "cell_type": "markdown",
      "metadata": {
        "id": "WhcQ7ditnfFu"
      },
      "source": [
        "# Membership Operators"
      ]
    },
    {
      "cell_type": "code",
      "metadata": {
        "colab": {
          "base_uri": "https://localhost:8080/"
        },
        "id": "nHcqGE0Cnbsg",
        "outputId": "51071a66-8e75-4e0d-f058-eeb75eff8409"
      },
      "source": [
        "# in\n",
        "x = [\"Ani\", \"Budi\", \"Cici\"]\n",
        "\n",
        "y = \"Cici\"\n",
        "\n",
        "z = \"Dodi\"\n",
        "\n",
        "print(y in x)\n",
        "print(z in x)"
      ],
      "execution_count": 50,
      "outputs": [
        {
          "output_type": "stream",
          "text": [
            "True\n",
            "False\n"
          ],
          "name": "stdout"
        }
      ]
    },
    {
      "cell_type": "code",
      "metadata": {
        "colab": {
          "base_uri": "https://localhost:8080/"
        },
        "id": "OfMXB-g6nqTR",
        "outputId": "3e7ade11-d582-46d9-9d56-cdd1d09cea8f"
      },
      "source": [
        "# not in\n",
        "x = [\"Ani\", \"Budi\", \"Cici\"]\n",
        "\n",
        "y = \"Cici\"\n",
        "\n",
        "z = \"Dodi\"\n",
        "\n",
        "print(y not in x)\n",
        "print(z not in x)"
      ],
      "execution_count": 51,
      "outputs": [
        {
          "output_type": "stream",
          "text": [
            "False\n",
            "True\n"
          ],
          "name": "stdout"
        }
      ]
    },
    {
      "cell_type": "markdown",
      "metadata": {
        "id": "hnNjLL_CoSBA"
      },
      "source": [
        "# Nilai Prioritas Operator dalam Python – Part 1"
      ]
    },
    {
      "cell_type": "code",
      "metadata": {
        "colab": {
          "base_uri": "https://localhost:8080/"
        },
        "id": "bBoaTShBnxGy",
        "outputId": "614777b8-eb40-436b-cf56-f9ac6eab84df"
      },
      "source": [
        "# Kode awal\n",
        "total_harga = 150000\n",
        "potongan_harga = 0.3\n",
        "pajak = 0.1 # pajak dalam persen ~ 10%\n",
        "harga_bayar = 1 - 0.3 # baris pertama\n",
        "harga_bayar *= total_harga # baris kedua\n",
        "pajak_bayar = pajak * harga_bayar # baris ketiga\n",
        "harga_bayar += pajak_bayar # baris ke-4\n",
        "print(\"Kode awal: harga_bayar =\", harga_bayar)"
      ],
      "execution_count": 52,
      "outputs": [
        {
          "output_type": "stream",
          "text": [
            "Kode awal: harga_bayar = 115500.0\n"
          ],
          "name": "stdout"
        }
      ]
    },
    {
      "cell_type": "code",
      "metadata": {
        "colab": {
          "base_uri": "https://localhost:8080/"
        },
        "id": "H44wQk1Vo523",
        "outputId": "f5e34713-f697-4436-c586-36b09e5d8a4f"
      },
      "source": [
        "# Penyederhanaan baris kode dengan menerapkan prioritas operator\n",
        "total_harga = 150000\n",
        "potongan_harga = 0.3\n",
        "pajak = 0.1 # pajak dalam persen ~ 10%\n",
        "harga_bayar = (1 - 0.3) * total_harga #baris pertama \n",
        "harga_bayar += harga_bayar * pajak # baris kedua\n",
        "print(\"Penyederhanaan kode: harga_bayar =\", harga_bayar)"
      ],
      "execution_count": 53,
      "outputs": [
        {
          "output_type": "stream",
          "text": [
            "Penyederhanaan kode: harga_bayar = 115500.0\n"
          ],
          "name": "stdout"
        }
      ]
    },
    {
      "cell_type": "markdown",
      "metadata": {
        "id": "Feotbb1hp-od"
      },
      "source": [
        "# Tugas Praktek"
      ]
    },
    {
      "cell_type": "code",
      "metadata": {
        "colab": {
          "base_uri": "https://localhost:8080/"
        },
        "id": "fmPqyc2Gpc4G",
        "outputId": "b7962acf-abcf-42f0-fe05-3f12c8233689"
      },
      "source": [
        "sepatu = { \"nama\" : \"Sepatu Niko\", \"harga\": 150000, \"diskon\": 30000 }\n",
        "baju = { \"nama\" : \"Baju Unikloh\", \"harga\": 80000, \"diskon\": 8000 }\n",
        "celana = { \"nama\" : \"Celana Lepis\", \"harga\": 200000, \"diskon\": 60000 }\n",
        "harga_sepatu = sepatu[\"harga\"] - sepatu[\"diskon\"]\n",
        "harga_baju = baju[\"harga\"] - baju[\"diskon\"]\n",
        "harga_celana = celana[\"harga\"] - celana[\"diskon\"]\n",
        "total_harga = (harga_sepatu + harga_baju + harga_celana) * 1.1\n",
        "print(total_harga)"
      ],
      "execution_count": 54,
      "outputs": [
        {
          "output_type": "stream",
          "text": [
            "365200.00000000006\n"
          ],
          "name": "stdout"
        }
      ]
    },
    {
      "cell_type": "markdown",
      "metadata": {
        "id": "8cJ2Cs8teGyf"
      },
      "source": [
        "# Python Conditioning for Decision"
      ]
    },
    {
      "cell_type": "code",
      "metadata": {
        "id": "D-k2nFIHqAAe",
        "colab": {
          "base_uri": "https://localhost:8080/"
        },
        "outputId": "1e9e0c28-647f-4c97-fca7-80195035869f"
      },
      "source": [
        "x = 4\n",
        "\n",
        "if x % 2 == 0: # jika sisa bagi x dengan 2 sama dengan 0\n",
        "    print(\"x habis dibagi dua\") # statemen aksi lebih menjorok ke dalam"
      ],
      "execution_count": 55,
      "outputs": [
        {
          "output_type": "stream",
          "text": [
            "x habis dibagi dua\n"
          ],
          "name": "stdout"
        }
      ]
    },
    {
      "cell_type": "code",
      "metadata": {
        "colab": {
          "base_uri": "https://localhost:8080/"
        },
        "id": "6u9jAwjieaXG",
        "outputId": "c483d027-dd52-44f2-b479-0d6197b7c850"
      },
      "source": [
        "# Tugas\n",
        "if x % 2 == 0: # jika sisa bagi x dengan 2 sama dengan 0\n",
        "    print(\"x habis dibagi dua\")\n",
        "elif x % 3 == 0: # jika sisa bagi x dengan 3 sama dengan 0\n",
        "    print(\"x habis dibagi tiga\")\n",
        "elif x % 5 == 0: # jika sisa bagi x dengan 5 sama dengan 0\n",
        "    print(\"x habis dibagi lima\")\n",
        "else:\n",
        "    print(\"x tidak habis dibagi dua, tiga, ataupun lima\")"
      ],
      "execution_count": 56,
      "outputs": [
        {
          "output_type": "stream",
          "text": [
            "x habis dibagi dua\n"
          ],
          "name": "stdout"
        }
      ]
    },
    {
      "cell_type": "code",
      "metadata": {
        "colab": {
          "base_uri": "https://localhost:8080/"
        },
        "id": "_HJbtoUOfF6b",
        "outputId": "d83f1397-91bf-4cf2-f459-735450052825"
      },
      "source": [
        "# Tugas\n",
        "jam = 13\n",
        "\n",
        "if jam >= 5 and jam < 12: # selama jam 5 s.d. 12\n",
        "    print(\"Selamat Pagi!\")\n",
        "elif jam >= 12 and jam < 17: # selama jam 12 s.d. 17\n",
        "    print(\"Selamat Siang!\")\n",
        "elif jam >= 17 and jam < 19: # selama jam 17 s.d. 19\n",
        "    print(\"Selamat Sore!\")\n",
        "else: # selain kondisi di atas\n",
        "    print(\"Selamat Malam!\")"
      ],
      "execution_count": 57,
      "outputs": [
        {
          "output_type": "stream",
          "text": [
            "Selamat Siang!\n"
          ],
          "name": "stdout"
        }
      ]
    },
    {
      "cell_type": "markdown",
      "metadata": {
        "id": "Zm5dcPGaf3BC"
      },
      "source": [
        "# Tugas Praktek"
      ]
    },
    {
      "cell_type": "code",
      "metadata": {
        "colab": {
          "base_uri": "https://localhost:8080/"
        },
        "id": "GOSKI2xqfzIl",
        "outputId": "f5310baa-3879-4b23-d7fb-943e69a11838"
      },
      "source": [
        "tagihan_ke = 'Mr. Yoyo'\n",
        "warehousing = {'harga_harian' : 1000000, 'total_hari' : 15} \n",
        "cleansing = {'harga_harian' : 1500000, 'total_hari' : 10} \n",
        "integration = {'harga_harian' : 2000000, 'total_hari' : 15} \n",
        "transform = {'harga_harian' : 2500000, 'total_hari' : 10}\n",
        "sub_warehousing = warehousing['harga_harian'] * warehousing['total_hari']\n",
        "sub_cleansing = cleansing['harga_harian'] * cleansing['total_hari']\n",
        "sub_integration = integration['harga_harian'] * integration['total_hari']\n",
        "sub_transform = transform['harga_harian'] * transform['total_hari']\n",
        "total_harga = sub_warehousing + sub_cleansing + sub_integration + sub_transform\n",
        "print(\"Tagihan kepada:\") \n",
        "print(tagihan_ke)\n",
        "print(\"Selamat pagi, anda harus membayar tagihan sebesar:\") \n",
        "print(total_harga)"
      ],
      "execution_count": 58,
      "outputs": [
        {
          "output_type": "stream",
          "text": [
            "Tagihan kepada:\n",
            "Mr. Yoyo\n",
            "Selamat pagi, anda harus membayar tagihan sebesar:\n",
            "85000000\n"
          ],
          "name": "stdout"
        }
      ]
    },
    {
      "cell_type": "markdown",
      "metadata": {
        "id": "Vhl-WUZCgp40"
      },
      "source": [
        "# Tugas Praktek"
      ]
    },
    {
      "cell_type": "code",
      "metadata": {
        "colab": {
          "base_uri": "https://localhost:8080/"
        },
        "id": "keibqoJXgkTN",
        "outputId": "4e97d8e8-0d4f-4abc-a5ba-d29d31370975"
      },
      "source": [
        "jam = 17\n",
        "tagihan_ke = 'Mr. Yoyo'\n",
        "warehousing = { 'harga_harian': 1000000, 'total_hari':15 } \n",
        "cleansing = { 'harga_harian': 1500000, 'total_hari':10 } \n",
        "integration = { 'harga_harian':2000000, 'total_hari':15 } \n",
        "transform = { 'harga_harian':2500000, 'total_hari':10 }\n",
        "sub_warehousing = warehousing['harga_harian']*warehousing['total_hari'] \n",
        "sub_cleansing = cleansing['harga_harian']*cleansing['total_hari'] \n",
        "sub_integration = integration['harga_harian']*integration['total_hari'] \n",
        "sub_transform = transform['harga_harian']*transform['total_hari']\n",
        "total_harga = sub_warehousing+sub_cleansing+sub_integration+sub_transform\n",
        "print(\"Tagihan kepada:\")\n",
        "print(tagihan_ke)\n",
        "if jam > 19:\n",
        "    print(\"Selamat malam, anda harus membayar tagihan sebesar:\")\n",
        "elif jam > 17:\n",
        "    print(\"Selamat sore, anda harus membayar tagihan sebesar:\") \n",
        "elif jam > 12:\n",
        "    print(\"Selamat siang, anda harus membayar tagihan sebesar:\")\n",
        "else:\n",
        "    print(\"Selamat pagi, anda harus membayar tagihan sebesar:\") \n",
        "print(total_harga)"
      ],
      "execution_count": 59,
      "outputs": [
        {
          "output_type": "stream",
          "text": [
            "Tagihan kepada:\n",
            "Mr. Yoyo\n",
            "Selamat siang, anda harus membayar tagihan sebesar:\n",
            "85000000\n"
          ],
          "name": "stdout"
        }
      ]
    },
    {
      "cell_type": "markdown",
      "metadata": {
        "id": "W6W72tduJL8K"
      },
      "source": [
        "# Python while loops – Part 1"
      ]
    },
    {
      "cell_type": "code",
      "metadata": {
        "id": "2hAQ_3hrgrer",
        "colab": {
          "base_uri": "https://localhost:8080/"
        },
        "outputId": "38498de6-897e-4f14-dc58-25274f2fbb58"
      },
      "source": [
        "# Tugas 1\n",
        "tagihan = [50000, 75000, 125000, 300000, 200000]\n",
        "total_tagihan = tagihan[0] + tagihan[1] + tagihan[2] + tagihan[3] + tagihan[4]\n",
        "print(total_tagihan)"
      ],
      "execution_count": 60,
      "outputs": [
        {
          "output_type": "stream",
          "text": [
            "750000\n"
          ],
          "name": "stdout"
        }
      ]
    },
    {
      "cell_type": "code",
      "metadata": {
        "colab": {
          "base_uri": "https://localhost:8080/"
        },
        "id": "iwZ4iEQTJjkf",
        "outputId": "0cf941fb-a902-47c5-cfa3-bc7f5b1cce3a"
      },
      "source": [
        "# Tugas 2\n",
        "i = 0 # sebuah variabel untuk mengakses setiap elemen tagihan satu per satu\n",
        "jumlah_tagihan = len(tagihan) # panjang (jumlah elemen dalam) list tagihan\n",
        "total_tagihan = 0 # mula-mula, set total_tagihan ke 0\n",
        "while i < jumlah_tagihan: # selama nilai i kurang dari jumlah tagihan\n",
        "    total_tagihan += tagihan[i] # tambahkan tagihan[i] ke total_tagihan\n",
        "    i += 1 # tambahkan nilai i dengan 1 untuk memproses tagihan selanjutnya\n",
        "print(total_tagihan)"
      ],
      "execution_count": 61,
      "outputs": [
        {
          "output_type": "stream",
          "text": [
            "750000\n"
          ],
          "name": "stdout"
        }
      ]
    },
    {
      "cell_type": "markdown",
      "metadata": {
        "id": "EtdD8HGQK1Wg"
      },
      "source": [
        "# Python while loops – Part 2"
      ]
    },
    {
      "cell_type": "code",
      "metadata": {
        "colab": {
          "base_uri": "https://localhost:8080/"
        },
        "id": "ldTgac42KrJh",
        "outputId": "37d3b860-f043-422a-989e-ede9ae06cdea"
      },
      "source": [
        "tagihan = [50000, 75000, -150000, 125000, 300000, -50000, 200000]\n",
        "i = 0\n",
        "jumlah_tagihan = len(tagihan)\n",
        "total_tagihan = 0\n",
        "while i < jumlah_tagihan:\n",
        "    # jika terdapat tagihan ke-i yang bernilai minus (di bawah nol), pengulangan akan dihentikan\n",
        "    if tagihan[i] < 0:\n",
        "        total_tagihan = -1\n",
        "        print(\"terdapat angka minus dalam tagihan, perhitungan dihentikan!\")\n",
        "        break\n",
        "    total_tagihan += tagihan[i]\n",
        "    i += 1\n",
        "print(total_tagihan)"
      ],
      "execution_count": 62,
      "outputs": [
        {
          "output_type": "stream",
          "text": [
            "terdapat angka minus dalam tagihan, perhitungan dihentikan!\n",
            "-1\n"
          ],
          "name": "stdout"
        }
      ]
    },
    {
      "cell_type": "markdown",
      "metadata": {
        "id": "kninIY_ILoF5"
      },
      "source": [
        "# Python while loops – Part 3"
      ]
    },
    {
      "cell_type": "code",
      "metadata": {
        "colab": {
          "base_uri": "https://localhost:8080/"
        },
        "id": "GTlV47KzLkV-",
        "outputId": "93ba1464-5954-40d4-e98d-25b30b2d40ba"
      },
      "source": [
        "tagihan = [50000, 75000, -150000, 125000, 300000, -50000, 200000]\n",
        "i = 0\n",
        "jumlah_tagihan = len(tagihan)\n",
        "total_tagihan = 0\n",
        "while i < jumlah_tagihan:\n",
        "    if tagihan[i] < 0:\n",
        "        i += 1\n",
        "        continue\n",
        "    total_tagihan += tagihan[i]\n",
        "    i += 1\n",
        "print(total_tagihan)"
      ],
      "execution_count": 63,
      "outputs": [
        {
          "output_type": "stream",
          "text": [
            "750000\n"
          ],
          "name": "stdout"
        }
      ]
    },
    {
      "cell_type": "markdown",
      "metadata": {
        "id": "Ql8rvm3rML7k"
      },
      "source": [
        "# Python for loops – Part 1"
      ]
    },
    {
      "cell_type": "code",
      "metadata": {
        "colab": {
          "base_uri": "https://localhost:8080/"
        },
        "id": "gOK-xTieMD_f",
        "outputId": "910579c7-5213-4ff8-c70d-eeec13d0e108"
      },
      "source": [
        "list_tagihan = [50000, 75000, -150000, 125000, 300000, -50000, 200000]\n",
        "total_tagihan = 0\n",
        "for tagihan in list_tagihan: # untuk setiap tagihan dalam list tagihan\n",
        "    total_tagihan += tagihan # tambahkan tagihan ke total_tagihan\n",
        "print(total_tagihan)"
      ],
      "execution_count": 64,
      "outputs": [
        {
          "output_type": "stream",
          "text": [
            "550000\n"
          ],
          "name": "stdout"
        }
      ]
    },
    {
      "cell_type": "markdown",
      "metadata": {
        "id": "FsupOOGcMhhd"
      },
      "source": [
        "# Python for loops – Part 2"
      ]
    },
    {
      "cell_type": "code",
      "metadata": {
        "colab": {
          "base_uri": "https://localhost:8080/"
        },
        "id": "y8il07rKMcXK",
        "outputId": "479e7c1d-4e4a-4752-8855-1c0c92a33047"
      },
      "source": [
        "list_tagihan = [50000, 75000, -150000, 125000, 300000, -50000, 200000]\n",
        "total_tagihan = 0\n",
        "for tagihan in list_tagihan:\n",
        "    if tagihan < 0:\n",
        "        print(\"terdapat angka minus dalam tagihan, perhitungan dihentikan\")\n",
        "        break\n",
        "    total_tagihan += tagihan\n",
        "print(total_tagihan)"
      ],
      "execution_count": 65,
      "outputs": [
        {
          "output_type": "stream",
          "text": [
            "terdapat angka minus dalam tagihan, perhitungan dihentikan\n",
            "125000\n"
          ],
          "name": "stdout"
        }
      ]
    },
    {
      "cell_type": "markdown",
      "metadata": {
        "id": "IWjokk8_M5Nk"
      },
      "source": [
        "# Python for loops – Part 3"
      ]
    },
    {
      "cell_type": "code",
      "metadata": {
        "colab": {
          "base_uri": "https://localhost:8080/"
        },
        "id": "fBC339LqMzvd",
        "outputId": "b77e2cb4-71a7-475e-cf31-e2f3a2be395e"
      },
      "source": [
        "# nested loops\n",
        "list_daerah = ['Malang', 'Palembang', 'Medan']\n",
        "list_buah = ['Apel', 'Duku', 'Jeruk']\n",
        "for nama_daerah in list_daerah:\n",
        "    for nama_buah in list_buah:\n",
        "        print(nama_buah + \" \" + nama_daerah)"
      ],
      "execution_count": 66,
      "outputs": [
        {
          "output_type": "stream",
          "text": [
            "Apel Malang\n",
            "Duku Malang\n",
            "Jeruk Malang\n",
            "Apel Palembang\n",
            "Duku Palembang\n",
            "Jeruk Palembang\n",
            "Apel Medan\n",
            "Duku Medan\n",
            "Jeruk Medan\n"
          ],
          "name": "stdout"
        }
      ]
    },
    {
      "cell_type": "markdown",
      "metadata": {
        "id": "U1WjkfHeNOz-"
      },
      "source": [
        "# Tugas Praktek"
      ]
    },
    {
      "cell_type": "code",
      "metadata": {
        "colab": {
          "base_uri": "https://localhost:8080/"
        },
        "id": "lXbTP_fzNLai",
        "outputId": "6ff13409-5bc6-4070-e8e4-75397befa47d"
      },
      "source": [
        "list_cash_flow = [\n",
        "2500000, 5000000, -1000000, -2500000, 5000000, 10000000,\n",
        "-5000000, 7500000, 10000000, -1500000, 25000000, -2500000\n",
        "]\n",
        "\n",
        "total_pengeluaran, total_pemasukan = 0, 0\n",
        "for dana in list_cash_flow:\n",
        "    if dana > 0:\n",
        "        total_pemasukan += dana\n",
        "    else:\n",
        "        total_pengeluaran += dana\n",
        "total_pengeluaran *= -1\n",
        "print(total_pengeluaran);print(total_pemasukan)"
      ],
      "execution_count": 67,
      "outputs": [
        {
          "output_type": "stream",
          "text": [
            "12500000\n",
            "65000000\n"
          ],
          "name": "stdout"
        }
      ]
    },
    {
      "cell_type": "markdown",
      "metadata": {
        "id": "QYBzMOziN9Fa"
      },
      "source": [
        "# Mini Quiz"
      ]
    },
    {
      "cell_type": "code",
      "metadata": {
        "colab": {
          "base_uri": "https://localhost:8080/"
        },
        "id": "Hd_-xPg_N2-D",
        "outputId": "8a0a44e1-dd47-4ace-8f17-58f468abf21f"
      },
      "source": [
        "# Data\n",
        "uang_jalan = 1500000\n",
        "jumlah_hari = 31\n",
        "list_plat_nomor = [8993, 2198, 2501, 2735, 3772, 4837, 9152]\n",
        "\n",
        "# Pengecekan kendaraan dengan nomor pelat ganjil atau genap\n",
        "\n",
        "# Deklarasikan kendaraan_genap dan kendaraan_ganjil = 0\n",
        "\n",
        "kendaraan_genap = 0 \n",
        "kendaraan_ganjil = 0\n",
        "\n",
        "for plat_nomor in list_plat_nomor:\n",
        "    if plat_nomor % 2 == 0:\n",
        "        kendaraan_genap += 1\n",
        "    else:\n",
        "        kendaraan_ganjil += 1\n",
        "\n",
        "# Total pengeluaran untuk kendaraan dengan nomor pelat ganjil dan genap dalam 1 bulan\n",
        "i = 1\n",
        "total_pengeluaran = 0\n",
        "while i <= jumlah_hari:\n",
        "    if i % 2 == 0:\n",
        "        total_pengeluaran += (kendaraan_genap * uang_jalan)\n",
        "    else:\n",
        "        total_pengeluaran += (kendaraan_ganjil * uang_jalan)\n",
        "    i += 1\n",
        "# Cetak total pengeluaran\n",
        "print(total_pengeluaran)"
      ],
      "execution_count": 68,
      "outputs": [
        {
          "output_type": "stream",
          "text": [
            "163500000\n"
          ],
          "name": "stdout"
        }
      ]
    }
  ]
}