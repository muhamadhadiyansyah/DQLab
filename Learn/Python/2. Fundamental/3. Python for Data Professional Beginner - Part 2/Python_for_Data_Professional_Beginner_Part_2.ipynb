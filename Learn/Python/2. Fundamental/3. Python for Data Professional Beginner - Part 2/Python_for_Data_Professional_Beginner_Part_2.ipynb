{
  "nbformat": 4,
  "nbformat_minor": 0,
  "metadata": {
    "colab": {
      "name": "Python for Data Professional Beginner - Part 2.ipynb",
      "provenance": [],
      "collapsed_sections": []
    },
    "kernelspec": {
      "name": "python3",
      "display_name": "Python 3"
    },
    "language_info": {
      "name": "python"
    }
  },
  "cells": [
    {
      "cell_type": "markdown",
      "metadata": {
        "id": "UClJB4csPV2i"
      },
      "source": [
        "Mengakses List dan Tuple – Part 1"
      ]
    },
    {
      "cell_type": "code",
      "metadata": {
        "id": "8wJyydW6PSK_"
      },
      "source": [
        "bulan_pembelian = ('Januari', 'Februari', 'Maret', 'April', 'Mei', 'Juni', 'Juli', 'Agustus', 'September', 'Oktober', 'November', 'Desember')"
      ],
      "execution_count": 1,
      "outputs": []
    },
    {
      "cell_type": "code",
      "metadata": {
        "colab": {
          "base_uri": "https://localhost:8080/"
        },
        "id": "d4bBJrXQP9CQ",
        "outputId": "e473f056-55b0-4e3e-a6df-e59f4c57c20e"
      },
      "source": [
        "print(bulan_pembelian[0]) # Menampilkan Januari\n",
        "print(bulan_pembelian[5]) # Menampilkan Juni"
      ],
      "execution_count": 2,
      "outputs": [
        {
          "output_type": "stream",
          "text": [
            "Januari\n",
            "Juni\n"
          ],
          "name": "stdout"
        }
      ]
    },
    {
      "cell_type": "code",
      "metadata": {
        "colab": {
          "base_uri": "https://localhost:8080/"
        },
        "id": "Oz0Tyqo4QLAt",
        "outputId": "f5ceb3da-2be5-4eea-b9cc-8467f685084f"
      },
      "source": [
        "print(bulan_pembelian[-1]) # Menampilkan Desember\n",
        "print(bulan_pembelian[-2]) # Menampilkan November"
      ],
      "execution_count": 3,
      "outputs": [
        {
          "output_type": "stream",
          "text": [
            "Desember\n",
            "November\n"
          ],
          "name": "stdout"
        }
      ]
    },
    {
      "cell_type": "markdown",
      "metadata": {
        "id": "Xe-ca-yzQghP"
      },
      "source": [
        "# Mengakses List dan Tuple – Part 2"
      ]
    },
    {
      "cell_type": "code",
      "metadata": {
        "id": "CFnM75NAQVXS"
      },
      "source": [
        "bulan_pembelian = ('Januari', 'Februari', 'Maret', 'April', 'Mei', 'Juni', 'Juli', 'Agustus', 'September', 'Oktober', 'November', 'Desember')"
      ],
      "execution_count": 4,
      "outputs": []
    },
    {
      "cell_type": "code",
      "metadata": {
        "colab": {
          "base_uri": "https://localhost:8080/"
        },
        "id": "mA_OeGWLQjXb",
        "outputId": "da195c1b-9955-46d6-9f8b-aa3f60b24078"
      },
      "source": [
        "pertengahan_tahun = bulan_pembelian[4:8]\n",
        "print(pertengahan_tahun)"
      ],
      "execution_count": 5,
      "outputs": [
        {
          "output_type": "stream",
          "text": [
            "('Mei', 'Juni', 'Juli', 'Agustus')\n"
          ],
          "name": "stdout"
        }
      ]
    },
    {
      "cell_type": "code",
      "metadata": {
        "colab": {
          "base_uri": "https://localhost:8080/"
        },
        "id": "QyyUHAHJQyAA",
        "outputId": "55b57a96-055e-4e5b-9c9f-84dae7cc3226"
      },
      "source": [
        "awal_tahun = bulan_pembelian[:5]\n",
        "print(awal_tahun)"
      ],
      "execution_count": 6,
      "outputs": [
        {
          "output_type": "stream",
          "text": [
            "('Januari', 'Februari', 'Maret', 'April', 'Mei')\n"
          ],
          "name": "stdout"
        }
      ]
    },
    {
      "cell_type": "code",
      "metadata": {
        "colab": {
          "base_uri": "https://localhost:8080/"
        },
        "id": "QSkSyDahQ8GH",
        "outputId": "ed0825ae-9c32-4a2f-cf82-8855a70b832e"
      },
      "source": [
        "akhir_tahun = bulan_pembelian[8:]\n",
        "print(akhir_tahun)"
      ],
      "execution_count": 7,
      "outputs": [
        {
          "output_type": "stream",
          "text": [
            "('September', 'Oktober', 'November', 'Desember')\n"
          ],
          "name": "stdout"
        }
      ]
    },
    {
      "cell_type": "code",
      "metadata": {
        "colab": {
          "base_uri": "https://localhost:8080/"
        },
        "id": "h9tbxGxLRGhe",
        "outputId": "a64761a4-1ddb-4119-ff48-27a825a7fac3"
      },
      "source": [
        "bulan_pembelian = ('Januari', 'Februari', 'Maret', 'April', 'Mei', 'Juni', 'Juli', 'Agustus', 'September', 'Oktober', 'November', 'Desember')\n",
        "print(bulan_pembelian[-4:-1])"
      ],
      "execution_count": 8,
      "outputs": [
        {
          "output_type": "stream",
          "text": [
            "('September', 'Oktober', 'November')\n"
          ],
          "name": "stdout"
        }
      ]
    },
    {
      "cell_type": "markdown",
      "metadata": {
        "id": "jF4jfYYlRSQA"
      },
      "source": [
        "# Penggabungan Dua atau Lebih List atau Tuple"
      ]
    },
    {
      "cell_type": "code",
      "metadata": {
        "colab": {
          "base_uri": "https://localhost:8080/"
        },
        "id": "tPqwDX3wRNzS",
        "outputId": "1497f504-670f-4327-804c-5677427acf67"
      },
      "source": [
        "list_makanan = ['Gado-gado', 'Ayam Goreng', 'Rendang']\n",
        "list_minuman = ['Es Teh', 'Es Jeruk', 'Es Campur']\n",
        "list_menu = list_makanan + list_minuman\n",
        "print(list_menu)"
      ],
      "execution_count": 9,
      "outputs": [
        {
          "output_type": "stream",
          "text": [
            "['Gado-gado', 'Ayam Goreng', 'Rendang', 'Es Teh', 'Es Jeruk', 'Es Campur']\n"
          ],
          "name": "stdout"
        }
      ]
    },
    {
      "cell_type": "markdown",
      "metadata": {
        "id": "rP4QIwVSRmPQ"
      },
      "source": [
        "# List Manipulation – Part 1"
      ]
    },
    {
      "cell_type": "code",
      "metadata": {
        "colab": {
          "base_uri": "https://localhost:8080/"
        },
        "id": "p96qnU_qRdTU",
        "outputId": "b02bbb24-0adf-46f7-cbff-e6d9e4c6f5c6"
      },
      "source": [
        "# Fitur append()\n",
        "list_makanan = ['Gado-gado', 'Ayam Goreng', 'Rendang']\n",
        "list_makanan.append('Ketoprak')\n",
        "print(list_makanan)"
      ],
      "execution_count": 10,
      "outputs": [
        {
          "output_type": "stream",
          "text": [
            "['Gado-gado', 'Ayam Goreng', 'Rendang', 'Ketoprak']\n"
          ],
          "name": "stdout"
        }
      ]
    },
    {
      "cell_type": "code",
      "metadata": {
        "colab": {
          "base_uri": "https://localhost:8080/"
        },
        "id": "tRDO6qXgR1Ai",
        "outputId": "c23dbea9-2e50-4057-93f6-32590c4bc352"
      },
      "source": [
        "# Fitur clear()\n",
        "list_makanan = ['Gado-gado', 'Ayam Goreng', 'Rendang']\n",
        "list_makanan.clear()\n",
        "print(list_makanan)"
      ],
      "execution_count": 11,
      "outputs": [
        {
          "output_type": "stream",
          "text": [
            "[]\n"
          ],
          "name": "stdout"
        }
      ]
    },
    {
      "cell_type": "code",
      "metadata": {
        "colab": {
          "base_uri": "https://localhost:8080/"
        },
        "id": "vE3AtBR0R9l2",
        "outputId": "e7a28512-a719-4fcb-fbd3-50b65f0bba98"
      },
      "source": [
        "# Fitur copy()\n",
        "list_makanan1 = ['Gado-gado', 'Ayam Goreng', 'Rendang']\n",
        "list_makanan2 = list_makanan1.copy()\n",
        "list_makanan3 = list_makanan1\n",
        "\n",
        "list_makanan2.append('Opor')\n",
        "\n",
        "list_makanan3.append('Ketoprak')\n",
        "\n",
        "print(list_makanan2)\n",
        "print(list_makanan1)"
      ],
      "execution_count": 12,
      "outputs": [
        {
          "output_type": "stream",
          "text": [
            "['Gado-gado', 'Ayam Goreng', 'Rendang', 'Opor']\n",
            "['Gado-gado', 'Ayam Goreng', 'Rendang', 'Ketoprak']\n"
          ],
          "name": "stdout"
        }
      ]
    },
    {
      "cell_type": "code",
      "metadata": {
        "colab": {
          "base_uri": "https://localhost:8080/"
        },
        "id": "IfQ8aEmbSiMN",
        "outputId": "cad5feca-ba3c-4a51-8d36-eaac20625f14"
      },
      "source": [
        "# Fitur count()\n",
        "list_score = ['Budi', 'Sud', 'Budi', 'Budi', 'Budi', 'Sud', 'Sud']\n",
        "score_budi = list_score.count('Budi')\n",
        "score_sud = list_score.count('Sud')\n",
        "\n",
        "print(score_budi)\n",
        "print(score_sud)"
      ],
      "execution_count": 13,
      "outputs": [
        {
          "output_type": "stream",
          "text": [
            "4\n",
            "3\n"
          ],
          "name": "stdout"
        }
      ]
    },
    {
      "cell_type": "code",
      "metadata": {
        "colab": {
          "base_uri": "https://localhost:8080/"
        },
        "id": "p2j8AJUdS0jt",
        "outputId": "b1ac3991-6abf-4b5d-ff1c-eab83105cf9b"
      },
      "source": [
        "# Fitur extend()\n",
        "list_menu = ['Gado-gado', 'Ayam Goreng', 'Rendang']\n",
        "list_minuman = ['Es Teh', 'Es Jeruk', 'Es Campur']\n",
        "\n",
        "list_menu.extend(list_minuman)\n",
        "print(list_menu)"
      ],
      "execution_count": 14,
      "outputs": [
        {
          "output_type": "stream",
          "text": [
            "['Gado-gado', 'Ayam Goreng', 'Rendang', 'Es Teh', 'Es Jeruk', 'Es Campur']\n"
          ],
          "name": "stdout"
        }
      ]
    },
    {
      "cell_type": "markdown",
      "metadata": {
        "id": "akaNRFBrTKvk"
      },
      "source": [
        "# List Manipulation – Part 2"
      ]
    },
    {
      "cell_type": "code",
      "metadata": {
        "colab": {
          "base_uri": "https://localhost:8080/"
        },
        "id": "MIy1tXBqTEkm",
        "outputId": "6ecfad54-9926-4c9d-b2b3-f2556e29d4cd"
      },
      "source": [
        "# Fitur index()\n",
        "list_score = ['Budi','Sud','Budi','Budi','Budi','Sud','Sud']\n",
        "score_pertama_sud = list_score.index('Sud') + 1\n",
        "print(score_pertama_sud)"
      ],
      "execution_count": 15,
      "outputs": [
        {
          "output_type": "stream",
          "text": [
            "2\n"
          ],
          "name": "stdout"
        }
      ]
    },
    {
      "cell_type": "code",
      "metadata": {
        "colab": {
          "base_uri": "https://localhost:8080/"
        },
        "id": "aKpq9iJVTbNy",
        "outputId": "118c387c-3b0c-4dd4-b933-a41dc32f5d83"
      },
      "source": [
        "# Fitur insert()\n",
        "list_score = ['Budi','Sud','Budi','Budi','Sud']\n",
        "list_score.insert(3, 'Sud')\n",
        "print(list_score)"
      ],
      "execution_count": 16,
      "outputs": [
        {
          "output_type": "stream",
          "text": [
            "['Budi', 'Sud', 'Budi', 'Sud', 'Budi', 'Sud']\n"
          ],
          "name": "stdout"
        }
      ]
    },
    {
      "cell_type": "code",
      "metadata": {
        "colab": {
          "base_uri": "https://localhost:8080/"
        },
        "id": "DhP6jScdTokb",
        "outputId": "8f98b63b-c4ab-419c-a5ba-f63ad0f79373"
      },
      "source": [
        "# Fitur pop()\n",
        "list_menu = ['Gado-gado', 'Ayam Goreng', 'Rendang']\n",
        "list_menu.pop(1)\n",
        "print(list_menu)"
      ],
      "execution_count": 17,
      "outputs": [
        {
          "output_type": "stream",
          "text": [
            "['Gado-gado', 'Rendang']\n"
          ],
          "name": "stdout"
        }
      ]
    },
    {
      "cell_type": "code",
      "metadata": {
        "colab": {
          "base_uri": "https://localhost:8080/"
        },
        "id": "5-LHM0xoT1P3",
        "outputId": "0e4270c7-5bf9-44dd-c749-8d843bb499a4"
      },
      "source": [
        "# Fitur remove()\n",
        "list_menu = ['Gado-gado', 'Ayam Goreng', 'Rendang', 'Ketoprak']\n",
        "list_menu.remove('Rendang')\n",
        "print(list_menu)"
      ],
      "execution_count": 18,
      "outputs": [
        {
          "output_type": "stream",
          "text": [
            "['Gado-gado', 'Ayam Goreng', 'Ketoprak']\n"
          ],
          "name": "stdout"
        }
      ]
    },
    {
      "cell_type": "code",
      "metadata": {
        "colab": {
          "base_uri": "https://localhost:8080/"
        },
        "id": "d_zSu9TkUCue",
        "outputId": "133db8c2-e68a-4215-867f-3aa5111b4a1d"
      },
      "source": [
        "# Fitur reverse()\n",
        "list_menu = ['Gado-gado', 'Ayam Goreng', 'Rendang', 'Ketoprak']\n",
        "list_menu.reverse()\n",
        "print(list_menu)"
      ],
      "execution_count": 19,
      "outputs": [
        {
          "output_type": "stream",
          "text": [
            "['Ketoprak', 'Rendang', 'Ayam Goreng', 'Gado-gado']\n"
          ],
          "name": "stdout"
        }
      ]
    },
    {
      "cell_type": "code",
      "metadata": {
        "colab": {
          "base_uri": "https://localhost:8080/"
        },
        "id": "o4rkYpSnUUpk",
        "outputId": "b8f2d976-3e74-461d-9e80-c2da5339d456"
      },
      "source": [
        "# Fitur sort()\n",
        "list_menu = ['Gado-gado', 'Ayam Goreng', 'Rendang', 'Ketoprak']\n",
        "list_menu.sort()\n",
        "print(list_menu)"
      ],
      "execution_count": 20,
      "outputs": [
        {
          "output_type": "stream",
          "text": [
            "['Ayam Goreng', 'Gado-gado', 'Ketoprak', 'Rendang']\n"
          ],
          "name": "stdout"
        }
      ]
    },
    {
      "cell_type": "code",
      "metadata": {
        "colab": {
          "base_uri": "https://localhost:8080/"
        },
        "id": "97uzULwHUf5X",
        "outputId": "7ef64f67-1a43-457e-8cfe-43ece0a34136"
      },
      "source": [
        "# Fitur sort()\n",
        "list_menu = ['Gado-gado', 'Ayam Goreng', 'Rendang', 'Ketoprak']\n",
        "list_menu.sort(reverse=True)\n",
        "print(list_menu)"
      ],
      "execution_count": 21,
      "outputs": [
        {
          "output_type": "stream",
          "text": [
            "['Rendang', 'Ketoprak', 'Gado-gado', 'Ayam Goreng']\n"
          ],
          "name": "stdout"
        }
      ]
    },
    {
      "cell_type": "markdown",
      "metadata": {
        "id": "MBhS5kG3Url7"
      },
      "source": [
        "# Tuple Manipulation"
      ]
    },
    {
      "cell_type": "code",
      "metadata": {
        "colab": {
          "base_uri": "https://localhost:8080/"
        },
        "id": "0csQCUijUkze",
        "outputId": "6a2685c9-cbd4-4477-c2ff-8627d3ab7412"
      },
      "source": [
        "# Fitur count()\n",
        "tuple_score = ('Budi', 'Sud', 'Budi', 'Budi', 'Budi', 'Sud', 'Sud')\n",
        "score_budi = tuple_score.count('Budi')\n",
        "score_sud = tuple_score.count('Sud')\n",
        "\n",
        "print(score_budi)\n",
        "print(score_sud)"
      ],
      "execution_count": 22,
      "outputs": [
        {
          "output_type": "stream",
          "text": [
            "4\n",
            "3\n"
          ],
          "name": "stdout"
        }
      ]
    },
    {
      "cell_type": "code",
      "metadata": {
        "colab": {
          "base_uri": "https://localhost:8080/"
        },
        "id": "Y2BRY4peU6jn",
        "outputId": "18e93395-4439-40f2-f18b-f45dacfa1fb4"
      },
      "source": [
        "# Fitur index()\n",
        "tuple_score = ('Budi','Sud','Budi','Budi','Budi','Sud','Sud')\n",
        "score_pertama_sud = tuple_score.index('Sud') + 1\n",
        "print(score_pertama_sud)"
      ],
      "execution_count": 23,
      "outputs": [
        {
          "output_type": "stream",
          "text": [
            "2\n"
          ],
          "name": "stdout"
        }
      ]
    },
    {
      "cell_type": "markdown",
      "metadata": {
        "id": "OCcK-dJeVPo6"
      },
      "source": [
        "# Set Manipulation – Part 1"
      ]
    },
    {
      "cell_type": "code",
      "metadata": {
        "id": "C5qFfXdxVIST",
        "colab": {
          "base_uri": "https://localhost:8080/"
        },
        "outputId": "e9d8fb35-06f4-4503-bfdd-b302cde83a7a"
      },
      "source": [
        "# Fitur add()\n",
        "set_buah = {'Jeruk', 'Apel', 'Anggur'}\n",
        "set_buah.add('Melon')\n",
        "print(set_buah)"
      ],
      "execution_count": 24,
      "outputs": [
        {
          "output_type": "stream",
          "text": [
            "{'Jeruk', 'Apel', 'Melon', 'Anggur'}\n"
          ],
          "name": "stdout"
        }
      ]
    },
    {
      "cell_type": "code",
      "metadata": {
        "colab": {
          "base_uri": "https://localhost:8080/"
        },
        "id": "2pEC8NsRloAL",
        "outputId": "0a43abd4-5888-4627-dd2a-351b4119ad38"
      },
      "source": [
        "# Fitur clear()\n",
        "set_buah = {'Jeruk', 'Apel', 'Anggur'}\n",
        "set_buah.clear()\n",
        "print(set_buah)"
      ],
      "execution_count": 25,
      "outputs": [
        {
          "output_type": "stream",
          "text": [
            "set()\n"
          ],
          "name": "stdout"
        }
      ]
    },
    {
      "cell_type": "code",
      "metadata": {
        "colab": {
          "base_uri": "https://localhost:8080/"
        },
        "id": "FxNVhcnplxpo",
        "outputId": "4527327c-f37a-4134-f832-225d62690cdd"
      },
      "source": [
        "# Fitur copy()\n",
        "set_buah1 = {'Jeruk', 'Apel', 'Anggur'}\n",
        "set_buah2 = set_buah1\n",
        "set_buah3 = set_buah1.copy()\n",
        "\n",
        "set_buah2.add('Melon')\n",
        "set_buah3.add('Kiwi')\n",
        "\n",
        "print(set_buah1)\n",
        "print(set_buah3)"
      ],
      "execution_count": 26,
      "outputs": [
        {
          "output_type": "stream",
          "text": [
            "{'Jeruk', 'Apel', 'Melon', 'Anggur'}\n",
            "{'Jeruk', 'Apel', 'Kiwi', 'Anggur'}\n"
          ],
          "name": "stdout"
        }
      ]
    },
    {
      "cell_type": "code",
      "metadata": {
        "colab": {
          "base_uri": "https://localhost:8080/"
        },
        "id": "3wV3wOx9mNNe",
        "outputId": "fdd5f157-42b6-4c8c-9acb-22e5ecd5af49"
      },
      "source": [
        "# Fitur update()\n",
        "parcel1 = {'Anggur', 'Apel', 'Jeruk'}\n",
        "parcel2 = {'Apel', 'Kiwi', 'Melon'}\n",
        "\n",
        "parcel1.update(parcel2)\n",
        "print(parcel1)"
      ],
      "execution_count": 27,
      "outputs": [
        {
          "output_type": "stream",
          "text": [
            "{'Melon', 'Jeruk', 'Apel', 'Kiwi', 'Anggur'}\n"
          ],
          "name": "stdout"
        }
      ]
    },
    {
      "cell_type": "code",
      "metadata": {
        "colab": {
          "base_uri": "https://localhost:8080/"
        },
        "id": "670JaYWHmdk5",
        "outputId": "be0dfe3c-b519-442a-a868-6397952aa4a6"
      },
      "source": [
        "# Fitur pop()\n",
        "parcel = {'Anggur', 'Apel', 'Jeruk'}\n",
        "buah = parcel.pop()\n",
        "\n",
        "print(buah)\n",
        "print(parcel)"
      ],
      "execution_count": 28,
      "outputs": [
        {
          "output_type": "stream",
          "text": [
            "Jeruk\n",
            "{'Apel', 'Anggur'}\n"
          ],
          "name": "stdout"
        }
      ]
    },
    {
      "cell_type": "code",
      "metadata": {
        "colab": {
          "base_uri": "https://localhost:8080/"
        },
        "id": "xS0BiHI-mvOZ",
        "outputId": "76e0df39-d0ee-4e4f-d046-9bdb8d1979d9"
      },
      "source": [
        "# Fitur remove()\n",
        "parcel = {'Anggur', 'Apel', 'Jeruk'}\n",
        "parcel.remove('Apel')\n",
        "print(parcel)"
      ],
      "execution_count": 29,
      "outputs": [
        {
          "output_type": "stream",
          "text": [
            "{'Jeruk', 'Anggur'}\n"
          ],
          "name": "stdout"
        }
      ]
    },
    {
      "cell_type": "markdown",
      "metadata": {
        "id": "nHfK8OeUm-SB"
      },
      "source": [
        "# Set Manipulation – Part 2"
      ]
    },
    {
      "cell_type": "code",
      "metadata": {
        "colab": {
          "base_uri": "https://localhost:8080/"
        },
        "id": "DM6X549Em6kp",
        "outputId": "e60374f2-0840-4fa5-c71b-b76aaf19408f"
      },
      "source": [
        "# Fitur union()\n",
        "parcel1 = {'Anggur','Apel','Jeruk'}\n",
        "parcel2 = {'Apel','Kiwi','Melon'}\n",
        "\n",
        "parcel3 = parcel1.union(parcel2)\n",
        "\n",
        "print(parcel3)"
      ],
      "execution_count": 30,
      "outputs": [
        {
          "output_type": "stream",
          "text": [
            "{'Melon', 'Jeruk', 'Apel', 'Kiwi', 'Anggur'}\n"
          ],
          "name": "stdout"
        }
      ]
    },
    {
      "cell_type": "code",
      "metadata": {
        "colab": {
          "base_uri": "https://localhost:8080/"
        },
        "id": "RY_WfdUSnMe8",
        "outputId": "faae659f-7874-49bc-f9b1-94eb2dc543d5"
      },
      "source": [
        "# Fitur isdisjoint()\n",
        "parcel1 = {'Anggur', 'Apel', 'Jeruk'}\n",
        "parcel2 = {'Kiwi', 'Melon', 'Pisang'}\n",
        "parcel3 = {'Apel', 'Srikaya', 'Semangka'}\n",
        "\n",
        "parcel1_parcel2_disjoint = parcel1.isdisjoint(parcel2)\n",
        "print(parcel1_parcel2_disjoint)\n",
        "\n",
        "parcel1_parcel3_disjoint = parcel1.isdisjoint(parcel3)\n",
        "print(parcel1_parcel3_disjoint)"
      ],
      "execution_count": 31,
      "outputs": [
        {
          "output_type": "stream",
          "text": [
            "True\n",
            "False\n"
          ],
          "name": "stdout"
        }
      ]
    },
    {
      "cell_type": "code",
      "metadata": {
        "colab": {
          "base_uri": "https://localhost:8080/"
        },
        "id": "OxsixifBndsc",
        "outputId": "667a9f26-326f-437b-89f6-6f2dc02d83bb"
      },
      "source": [
        "# fitur issubset()\n",
        "parcel_A = {'Anggur', 'Apel'}\n",
        "parcel_B = {'Durian', 'Semangka', 'Apel'}\n",
        "parcel_C = {'Anggur', 'Kiwi', 'Apel', 'Jeruk', 'Melon'}\n",
        "\n",
        "parcel_A_dalam_C = parcel_A.issubset(parcel_C)\n",
        "\n",
        "parcel_B_dalam_C = parcel_B.issubset(parcel_C)\n",
        "\n",
        "print(parcel_A_dalam_C)\n",
        "print(parcel_B_dalam_C)"
      ],
      "execution_count": 32,
      "outputs": [
        {
          "output_type": "stream",
          "text": [
            "True\n",
            "False\n"
          ],
          "name": "stdout"
        }
      ]
    },
    {
      "cell_type": "code",
      "metadata": {
        "colab": {
          "base_uri": "https://localhost:8080/"
        },
        "id": "PfmOe6Lgntno",
        "outputId": "f0711c94-a9e9-41b3-b20f-da59bed40041"
      },
      "source": [
        "# Fitur issuperset()\n",
        "\n",
        "parcel_C_mengandung_A = parcel_C.issuperset(parcel_A)\n",
        "parcel_C_mengandung_B = parcel_C.issuperset(parcel_B)\n",
        "\n",
        "print(parcel_C_mengandung_A)\n",
        "print(parcel_C_mengandung_B)"
      ],
      "execution_count": 33,
      "outputs": [
        {
          "output_type": "stream",
          "text": [
            "True\n",
            "False\n"
          ],
          "name": "stdout"
        }
      ]
    },
    {
      "cell_type": "code",
      "metadata": {
        "colab": {
          "base_uri": "https://localhost:8080/"
        },
        "id": "QZTFpO15n8y5",
        "outputId": "ac1d7a27-98d0-4ee2-c598-1112eaa88f0f"
      },
      "source": [
        "# Fitur intersection()\n",
        "parcel_A = {'Anggur', 'Kiwi', 'Apel', 'Jeruk', 'Melon'}\n",
        "parcel_B = {'Apel', 'Jeruk', 'Semangka', 'Durian', 'Tomat'}\n",
        "\n",
        "parcel_C = parcel_A.intersection(parcel_B)\n",
        "\n",
        "print(parcel_C)"
      ],
      "execution_count": 34,
      "outputs": [
        {
          "output_type": "stream",
          "text": [
            "{'Jeruk', 'Apel'}\n"
          ],
          "name": "stdout"
        }
      ]
    },
    {
      "cell_type": "code",
      "metadata": {
        "colab": {
          "base_uri": "https://localhost:8080/"
        },
        "id": "jfacIslooGjD",
        "outputId": "98d38379-587e-4977-9afa-b7c1a4a0f85b"
      },
      "source": [
        "# Fitur difference()\n",
        "parcel_C = parcel_A.difference(parcel_B)\n",
        "\n",
        "print(parcel_C)"
      ],
      "execution_count": 35,
      "outputs": [
        {
          "output_type": "stream",
          "text": [
            "{'Melon', 'Kiwi', 'Anggur'}\n"
          ],
          "name": "stdout"
        }
      ]
    },
    {
      "cell_type": "code",
      "metadata": {
        "colab": {
          "base_uri": "https://localhost:8080/"
        },
        "id": "BbyJyzX4oM0s",
        "outputId": "6dd29734-4f62-4501-b055-2002b88048c3"
      },
      "source": [
        "# fitur symetrical_difference()\n",
        "parcel_A = {'Anggur', 'Apel', 'Jeruk', 'Melon'}\n",
        "parcel_B = {'Apel', 'Jeruk', 'Semangka', 'Leci'}\n",
        "\n",
        "parcel_C = parcel_A.symmetric_difference(parcel_B)\n",
        "\n",
        "print(parcel_C)"
      ],
      "execution_count": 36,
      "outputs": [
        {
          "output_type": "stream",
          "text": [
            "{'Semangka', 'Melon', 'Leci', 'Anggur'}\n"
          ],
          "name": "stdout"
        }
      ]
    },
    {
      "cell_type": "markdown",
      "metadata": {
        "id": "8fpSufqfotV7"
      },
      "source": [
        "# Dictionary Manipulation"
      ]
    },
    {
      "cell_type": "code",
      "metadata": {
        "colab": {
          "base_uri": "https://localhost:8080/"
        },
        "id": "EzBm8RKLoZKT",
        "outputId": "20d837d1-4328-4da5-fe82-f6066e5db79c"
      },
      "source": [
        "# Fitur clear()\n",
        "info_karyawan = {'nama' : 'Aksara',\n",
        "                 'nik' : '1211011',\n",
        "                 'pekerjaan' : 'Data Analyst'}\n",
        "info_karyawan.clear()\n",
        "print(info_karyawan)"
      ],
      "execution_count": 37,
      "outputs": [
        {
          "output_type": "stream",
          "text": [
            "{}\n"
          ],
          "name": "stdout"
        }
      ]
    },
    {
      "cell_type": "code",
      "metadata": {
        "colab": {
          "base_uri": "https://localhost:8080/"
        },
        "id": "G-kSxFmto_RN",
        "outputId": "18c6ab7e-7b58-4124-a6f8-ce6f114d9eac"
      },
      "source": [
        "# Fitur copy()\n",
        "info_karyawan1 = {'nama' : 'Aksara',\n",
        "                  'nik' : '1211011',\n",
        "                  'pekerjaan' : 'Data Analyst'}\n",
        "\n",
        "info_karyawan2 = info_karyawan1.copy()\n",
        "\n",
        "info_karyawan2['nama'] = 'Senja'\n",
        "info_karyawan2['nik'] = '1211056'\n",
        "\n",
        "print(info_karyawan1)\n",
        "print(info_karyawan2)"
      ],
      "execution_count": 38,
      "outputs": [
        {
          "output_type": "stream",
          "text": [
            "{'nama': 'Aksara', 'nik': '1211011', 'pekerjaan': 'Data Analyst'}\n",
            "{'nama': 'Senja', 'nik': '1211056', 'pekerjaan': 'Data Analyst'}\n"
          ],
          "name": "stdout"
        }
      ]
    },
    {
      "cell_type": "code",
      "metadata": {
        "colab": {
          "base_uri": "https://localhost:8080/"
        },
        "id": "tFF4MlCJpHjz",
        "outputId": "3131acaa-bf0f-49c6-d707-fbf3c7089800"
      },
      "source": [
        "# Fitur keys()\n",
        "info_karyawan = {'nama' : 'Aksara',\n",
        "                 'nik' : '1211011',\n",
        "                 'pekerjaan' : 'Data Analyst'}\n",
        "kunci_akses = list(info_karyawan.keys())\n",
        "print(kunci_akses)"
      ],
      "execution_count": 39,
      "outputs": [
        {
          "output_type": "stream",
          "text": [
            "['nama', 'nik', 'pekerjaan']\n"
          ],
          "name": "stdout"
        }
      ]
    },
    {
      "cell_type": "code",
      "metadata": {
        "colab": {
          "base_uri": "https://localhost:8080/"
        },
        "id": "RyWrbeS3pOZ5",
        "outputId": "3b7aa794-3f99-4d7e-c9e1-9964d8091a8e"
      },
      "source": [
        "# Fitur values()\n",
        "value_dict = list(info_karyawan.values())\n",
        "print(value_dict)"
      ],
      "execution_count": 40,
      "outputs": [
        {
          "output_type": "stream",
          "text": [
            "['Aksara', '1211011', 'Data Analyst']\n"
          ],
          "name": "stdout"
        }
      ]
    },
    {
      "cell_type": "code",
      "metadata": {
        "colab": {
          "base_uri": "https://localhost:8080/"
        },
        "id": "z8mToIDIpT27",
        "outputId": "4a8ba140-94d5-4f3f-8ed3-b07d1ae19930"
      },
      "source": [
        "info_karyawan.update({'skillset':['Python', 'R']})\n",
        "print(info_karyawan)"
      ],
      "execution_count": 41,
      "outputs": [
        {
          "output_type": "stream",
          "text": [
            "{'nama': 'Aksara', 'nik': '1211011', 'pekerjaan': 'Data Analyst', 'skillset': ['Python', 'R']}\n"
          ],
          "name": "stdout"
        }
      ]
    },
    {
      "cell_type": "markdown",
      "metadata": {
        "id": "rkOs5vcwpkg6"
      },
      "source": [
        "# Useful Tips and Tricks"
      ]
    },
    {
      "cell_type": "code",
      "metadata": {
        "colab": {
          "base_uri": "https://localhost:8080/"
        },
        "id": "KhDVlZ2zpZYc",
        "outputId": "71a591ba-cfcf-412b-ab03-630e24494ca0"
      },
      "source": [
        "# Tuple\n",
        "print(\">>> Tuple\")\n",
        "tuple_menu = ('Gado-gado', 'Ayam Goreng', 'Rendang', 'Ketoprak')\n",
        "jumlah_menu = len(tuple_menu)\n",
        "print(jumlah_menu)\n",
        "\n",
        "# List\n",
        "print(\">>> List\")\n",
        "list_menu = ['Gado-gado', 'Ayam Goreng', 'Rendang', 'Ketoprak']\n",
        "jumlah_menu = len(list_menu)\n",
        "print(jumlah_menu)\n",
        "\n",
        "# Konversi tipe data\n",
        "print(\">>> Konversi tipe data\")\n",
        "list_buah = ['Apel', 'Apel', 'Jeruk', 'Markisa', 'Jeruk', 'Markisa', 'Apel']\n",
        "set_buah = set(list_buah)\n",
        "print(set_buah)\n",
        "\n",
        "list_buah = list(set_buah)\n",
        "list_buah.sort()\n",
        "print(list_buah)"
      ],
      "execution_count": 42,
      "outputs": [
        {
          "output_type": "stream",
          "text": [
            ">>> Tuple\n",
            "4\n",
            ">>> List\n",
            "4\n",
            ">>> Konversi tipe data\n",
            "{'Jeruk', 'Markisa', 'Apel'}\n",
            "['Apel', 'Jeruk', 'Markisa']\n"
          ],
          "name": "stdout"
        }
      ]
    },
    {
      "cell_type": "markdown",
      "metadata": {
        "id": "QWL_RLIXp1lV"
      },
      "source": [
        "# Tugas Praktek"
      ]
    },
    {
      "cell_type": "code",
      "metadata": {
        "colab": {
          "base_uri": "https://localhost:8080/"
        },
        "id": "eRaHMW5EpwGM",
        "outputId": "88422e84-a3d3-4379-8c86-86707cc379e3"
      },
      "source": [
        "# Data keuangan\n",
        "keuangan = {\n",
        "'pengeluaran': [2, 2.5, 2.25, 2.5, 3.2, 2.5, 3.5, 4, 3],\n",
        "'pemasukan': [7.8, 7.5, 9, 7.6, 7.2, 7.5, 7, 10, 7.5]\n",
        "}\n",
        "\n",
        "# Perhitungan rata-rata pemasukan dan rata-rata pengeluaran\n",
        "total_pengeluaran = 0\n",
        "total_pemasukan = 0\n",
        "\n",
        "for biaya in keuangan['pengeluaran']: \n",
        "    total_pengeluaran += biaya \n",
        "for biaya in keuangan['pemasukan']: \n",
        "    total_pemasukan += biaya\n",
        "\n",
        "rata_rata_pengeluaran = total_pengeluaran / len(keuangan['pengeluaran'])\n",
        "rata_rata_pemasukan = total_pemasukan / len(keuangan['pemasukan'])\n",
        "\n",
        "print(rata_rata_pengeluaran) \n",
        "print(rata_rata_pemasukan) "
      ],
      "execution_count": 43,
      "outputs": [
        {
          "output_type": "stream",
          "text": [
            "2.8277777777777775\n",
            "7.8999999999999995\n"
          ],
          "name": "stdout"
        }
      ]
    },
    {
      "cell_type": "markdown",
      "metadata": {
        "id": "0EsyRxTF3liY"
      },
      "source": [
        "# Apa itu String Manipulation?"
      ]
    },
    {
      "cell_type": "code",
      "metadata": {
        "id": "cSPcUf3-qDiL",
        "colab": {
          "base_uri": "https://localhost:8080/"
        },
        "outputId": "8ffa55c8-9e84-4dd8-d4c4-616476375004"
      },
      "source": [
        "nama_produk = 'Sepatu Niko'\n",
        "nama_produk = nama_produk[:2] + \"P\" + nama_produk[3:9] + \"K\" + nama_produk[-1]\n",
        "print(nama_produk)"
      ],
      "execution_count": 44,
      "outputs": [
        {
          "output_type": "stream",
          "text": [
            "SePatu NiKo\n"
          ],
          "name": "stdout"
        }
      ]
    },
    {
      "cell_type": "code",
      "metadata": {
        "colab": {
          "base_uri": "https://localhost:8080/"
        },
        "id": "RjsN7rDU330j",
        "outputId": "40f318c1-d828-46bf-f517-ca8738e6890d"
      },
      "source": [
        "print(nama_produk[:7])"
      ],
      "execution_count": 45,
      "outputs": [
        {
          "output_type": "stream",
          "text": [
            "SePatu \n"
          ],
          "name": "stdout"
        }
      ]
    },
    {
      "cell_type": "code",
      "metadata": {
        "colab": {
          "base_uri": "https://localhost:8080/"
        },
        "id": "Hw2ifLgj37x1",
        "outputId": "e623704a-3db6-40ad-ce9b-71c91e4e40c2"
      },
      "source": [
        "print(nama_produk[7:])"
      ],
      "execution_count": 46,
      "outputs": [
        {
          "output_type": "stream",
          "text": [
            "NiKo\n"
          ],
          "name": "stdout"
        }
      ]
    },
    {
      "cell_type": "code",
      "metadata": {
        "colab": {
          "base_uri": "https://localhost:8080/"
        },
        "id": "ueIiZS183_oW",
        "outputId": "aa2981f3-4f44-4154-bf74-7c1d58c65fcd"
      },
      "source": [
        "print(len(nama_produk))"
      ],
      "execution_count": 47,
      "outputs": [
        {
          "output_type": "stream",
          "text": [
            "11\n"
          ],
          "name": "stdout"
        }
      ]
    },
    {
      "cell_type": "markdown",
      "metadata": {
        "id": "o-K827sT4Hx5"
      },
      "source": [
        "# Operator “+” untuk Tipe Data String"
      ]
    },
    {
      "cell_type": "code",
      "metadata": {
        "colab": {
          "base_uri": "https://localhost:8080/"
        },
        "id": "3fALUp584Be3",
        "outputId": "80b2ec7a-269d-4512-85c2-b445bf8987f8"
      },
      "source": [
        "# Tugas 1\n",
        "nama_depan = 'John'\n",
        "nama_belakang = 'Doe'\n",
        "nama_lengkap = nama_depan + ' ' + nama_belakang\n",
        "print(nama_lengkap)"
      ],
      "execution_count": 48,
      "outputs": [
        {
          "output_type": "stream",
          "text": [
            "John Doe\n"
          ],
          "name": "stdout"
        }
      ]
    },
    {
      "cell_type": "code",
      "metadata": {
        "colab": {
          "base_uri": "https://localhost:8080/"
        },
        "id": "KHj89Ara4fdn",
        "outputId": "5d594b90-0e58-40e4-d66d-6e14ec59603e"
      },
      "source": [
        "# Tugas 2\n",
        "nama_depan = 'John'\n",
        "nama_belakang = 'Doe'\n",
        "nama_lengkap = nama_depan + ' ' + nama_belakang\n",
        "umur = '27 tahun'\n",
        "alamat = 'Jl. Anggrek No. 100'\n",
        "nama_umur_alamat = 'Hi, saya ' + nama_lengkap + ' umur ' + umur + ', tinggal di ' + alamat + '.'\n",
        "print(nama_umur_alamat)"
      ],
      "execution_count": 49,
      "outputs": [
        {
          "output_type": "stream",
          "text": [
            "Hi, saya John Doe umur 27 tahun, tinggal di Jl. Anggrek No. 100.\n"
          ],
          "name": "stdout"
        }
      ]
    },
    {
      "cell_type": "markdown",
      "metadata": {
        "id": "ZbV9bf-X5KR3"
      },
      "source": [
        "# Menghilangkan Spasi di Awal dan/atau di Akhir"
      ]
    },
    {
      "cell_type": "code",
      "metadata": {
        "colab": {
          "base_uri": "https://localhost:8080/"
        },
        "id": "yQ3shS3h5EfN",
        "outputId": "d58db554-a3fc-4397-fc54-47751dc85b7d"
      },
      "source": [
        "# Fitur strip()\n",
        "kata_sambutan = '  halo, selamat siang!  '\n",
        "kata_sambutan = kata_sambutan.strip()\n",
        "print(kata_sambutan)"
      ],
      "execution_count": 50,
      "outputs": [
        {
          "output_type": "stream",
          "text": [
            "halo, selamat siang!\n"
          ],
          "name": "stdout"
        }
      ]
    },
    {
      "cell_type": "code",
      "metadata": {
        "colab": {
          "base_uri": "https://localhost:8080/"
        },
        "id": "Xtf8Zfbb5b7t",
        "outputId": "ac7126a5-061b-4a6a-dcea-a90a2f26a9cf"
      },
      "source": [
        "# Fitur lstrip()\n",
        "kata_sambutan = '  halo, selamat siang!  '\n",
        "kata_sambutan = kata_sambutan.lstrip()\n",
        "print(kata_sambutan)"
      ],
      "execution_count": 51,
      "outputs": [
        {
          "output_type": "stream",
          "text": [
            "halo, selamat siang!  \n"
          ],
          "name": "stdout"
        }
      ]
    },
    {
      "cell_type": "code",
      "metadata": {
        "colab": {
          "base_uri": "https://localhost:8080/"
        },
        "id": "qQ1orA0t5lsE",
        "outputId": "8a15805b-497b-44d5-c791-1f7a135628d3"
      },
      "source": [
        "# Fitur rstring()\n",
        "kata_sambutan = '  halo, selamat siang!  '\n",
        "kata_sambutan = kata_sambutan.rstrip()\n",
        "print(kata_sambutan)"
      ],
      "execution_count": 52,
      "outputs": [
        {
          "output_type": "stream",
          "text": [
            "  halo, selamat siang!\n"
          ],
          "name": "stdout"
        }
      ]
    },
    {
      "cell_type": "markdown",
      "metadata": {
        "id": "CB_D8WwA52ca"
      },
      "source": [
        "# Merubah Caps pada String"
      ]
    },
    {
      "cell_type": "code",
      "metadata": {
        "colab": {
          "base_uri": "https://localhost:8080/"
        },
        "id": "pR8fn67Z5uP3",
        "outputId": "24b67d82-2585-4b5f-842f-0842c073ae5e"
      },
      "source": [
        "# Fitur capitalize()\n",
        "judul_buku = 'belajar bahasa Python'\n",
        "print(judul_buku.capitalize())"
      ],
      "execution_count": 53,
      "outputs": [
        {
          "output_type": "stream",
          "text": [
            "Belajar bahasa python\n"
          ],
          "name": "stdout"
        }
      ]
    },
    {
      "cell_type": "code",
      "metadata": {
        "colab": {
          "base_uri": "https://localhost:8080/"
        },
        "id": "M82DW2E-57P9",
        "outputId": "b9a94f43-6025-47ab-f7b6-1ba6a34e9059"
      },
      "source": [
        "# Fitur .lower()\n",
        "judul_buku = 'Belajar Bahasa PYTHON.'\n",
        "print(judul_buku.lower())"
      ],
      "execution_count": 54,
      "outputs": [
        {
          "output_type": "stream",
          "text": [
            "belajar bahasa python.\n"
          ],
          "name": "stdout"
        }
      ]
    },
    {
      "cell_type": "code",
      "metadata": {
        "colab": {
          "base_uri": "https://localhost:8080/"
        },
        "id": "ZVubQQ0j57UW",
        "outputId": "4d0fefa6-a128-45c6-886d-c6ed8d752a85"
      },
      "source": [
        "# Fitur .upper()\n",
        "judul_buku = 'Belajar Bahasa PYTHON.'\n",
        "print(judul_buku.upper())"
      ],
      "execution_count": 55,
      "outputs": [
        {
          "output_type": "stream",
          "text": [
            "BELAJAR BAHASA PYTHON.\n"
          ],
          "name": "stdout"
        }
      ]
    },
    {
      "cell_type": "markdown",
      "metadata": {
        "id": "tT12ttQs6H29"
      },
      "source": [
        "# Pemecahan, Penggabungan, dan Penggantian String"
      ]
    },
    {
      "cell_type": "code",
      "metadata": {
        "colab": {
          "base_uri": "https://localhost:8080/"
        },
        "id": "AB8Rlt8h6D5v",
        "outputId": "c80a92df-ede8-4310-fe69-9c654e3cf1dd"
      },
      "source": [
        "# Fitur split()\n",
        "bilangan = \"ani dan budi dan wati dan johan\"\n",
        "\n",
        "karakter = bilangan.split(\"dan\")\n",
        "print(karakter)\n",
        "\n",
        "kata = bilangan.split(\" \")\n",
        "print(kata)"
      ],
      "execution_count": 56,
      "outputs": [
        {
          "output_type": "stream",
          "text": [
            "['ani ', ' budi ', ' wati ', ' johan']\n",
            "['ani', 'dan', 'budi', 'dan', 'wati', 'dan', 'johan']\n"
          ],
          "name": "stdout"
        }
      ]
    },
    {
      "cell_type": "code",
      "metadata": {
        "colab": {
          "base_uri": "https://localhost:8080/"
        },
        "id": "3sb4eYrj6cWc",
        "outputId": "60a021b3-73a9-475e-bd0b-1725a4a44e17"
      },
      "source": [
        "# Fitur join()\n",
        "pemisah = \" dan \"\n",
        "karakter = [\"Ricky\", \"Peter\", \"Jordan\"]\n",
        "\n",
        "kalimat = pemisah.join(karakter)\n",
        "print(kalimat)"
      ],
      "execution_count": 57,
      "outputs": [
        {
          "output_type": "stream",
          "text": [
            "Ricky dan Peter dan Jordan\n"
          ],
          "name": "stdout"
        }
      ]
    },
    {
      "cell_type": "code",
      "metadata": {
        "colab": {
          "base_uri": "https://localhost:8080/"
        },
        "id": "MBhDENJn6cY5",
        "outputId": "82df8fe7-472d-49fd-ea43-5e2b97d8f17a"
      },
      "source": [
        "# Fitur replace()\n",
        "kalimat = \"apel malang apel yang paling segar, apel sehat, apel nikmat\"\n",
        "kalimat = kalimat.replace(\"apel\", \"jeruk\")\n",
        "print(kalimat)"
      ],
      "execution_count": 58,
      "outputs": [
        {
          "output_type": "stream",
          "text": [
            "jeruk malang jeruk yang paling segar, jeruk sehat, jeruk nikmat\n"
          ],
          "name": "stdout"
        }
      ]
    },
    {
      "cell_type": "markdown",
      "metadata": {
        "id": "zSCxAWoo7dw2"
      },
      "source": [
        "# Menentukan Posisi dan Jumlah Sub-string pada String"
      ]
    },
    {
      "cell_type": "code",
      "metadata": {
        "id": "VKplgqAw6-tu"
      },
      "source": [
        "teks = \"Apel malang adalah apel termanis dibanding apel-apel lainnya\""
      ],
      "execution_count": 59,
      "outputs": []
    },
    {
      "cell_type": "code",
      "metadata": {
        "colab": {
          "base_uri": "https://localhost:8080/"
        },
        "id": "ueiWMNKD7mPM",
        "outputId": "f935aab8-af48-4fd2-ec75-a650c4c81237"
      },
      "source": [
        "# Fitur find()\n",
        "print(teks.find(\"Apel\"))\n",
        "print(teks.find(\"malang\"))"
      ],
      "execution_count": 60,
      "outputs": [
        {
          "output_type": "stream",
          "text": [
            "0\n",
            "5\n"
          ],
          "name": "stdout"
        }
      ]
    },
    {
      "cell_type": "code",
      "metadata": {
        "colab": {
          "base_uri": "https://localhost:8080/"
        },
        "id": "vfoDE73W7nbN",
        "outputId": "70ed3746-cbd6-4030-e18a-250127b7f5ab"
      },
      "source": [
        "# Fitur count()\n",
        "kemunculan_kata_apel = teks.count(\"apel\")\n",
        "print(kemunculan_kata_apel)"
      ],
      "execution_count": 61,
      "outputs": [
        {
          "output_type": "stream",
          "text": [
            "3\n"
          ],
          "name": "stdout"
        }
      ]
    },
    {
      "cell_type": "markdown",
      "metadata": {
        "id": "3EVoh5357-S5"
      },
      "source": [
        "# Menentukan String Apakah Diawali/Diakhiri oleh Sub-string"
      ]
    },
    {
      "cell_type": "code",
      "metadata": {
        "colab": {
          "base_uri": "https://localhost:8080/"
        },
        "id": "cVzVfyLY74Qx",
        "outputId": "57ea7c6c-e88c-4f7b-a1f1-05ccd02a4682"
      },
      "source": [
        "# Fitur .startswith()\n",
        "teks = \"Apel malang adalah apel termanis dibanding apel-apel lainnya\"\n",
        "\n",
        "print(teks.startswith(\"Apel\"))\n",
        "print(teks.startswith(\"apel\"))"
      ],
      "execution_count": 62,
      "outputs": [
        {
          "output_type": "stream",
          "text": [
            "True\n",
            "False\n"
          ],
          "name": "stdout"
        }
      ]
    },
    {
      "cell_type": "code",
      "metadata": {
        "colab": {
          "base_uri": "https://localhost:8080/"
        },
        "id": "tW7U_usJ7_X7",
        "outputId": "c69819c8-f262-4e93-bdbe-e4fecfd9af9a"
      },
      "source": [
        "# Fitur .endswith()\n",
        "print(teks.endswith(\"lainnya\"))\n",
        "print(teks.endswith(\"apel\"))"
      ],
      "execution_count": 63,
      "outputs": [
        {
          "output_type": "stream",
          "text": [
            "True\n",
            "False\n"
          ],
          "name": "stdout"
        }
      ]
    },
    {
      "cell_type": "markdown",
      "metadata": {
        "id": "9I5ALZYK8Rt1"
      },
      "source": [
        "# Tugas Praktek"
      ]
    },
    {
      "cell_type": "code",
      "metadata": {
        "colab": {
          "base_uri": "https://localhost:8080/"
        },
        "id": "qNuyjvEz8Ozf",
        "outputId": "aab3a4ff-d57c-4f73-c4aa-536ac4c92039"
      },
      "source": [
        "judul_artikel = [\n",
        "\"Buah Salak Baik untuk Mata\", \"Buah Salak Kaya Potasium\", \n",
        "\"Buah Jeruk Kaya Vitamin C\", \"Buah Salak Kaya Manfaat\", \n",
        "\"Salak Baik untuk Jantung\", \"Jeruk dapat Memperkuat Tulang\", \n",
        "\"Jeruk Mencegah Penyakit Asma\", \"Jeruk Memperkuat Gigi\", \n",
        "\"Jeruk Mencegah Kolesterol Jahat\", \"Salak Mencegah Diabetes\", \n",
        "\"Salak Memperkuat Dinding Usus\", \"Salak Baik untuk Darah\",\n",
        "\"Jeruk Kaya Manfaat untuk Jantung\", \"Salak si Kecil yang Baik\", \n",
        "\"Jeruk dan Salak Buah Kaya Manfaat\", \"Buah Jeruk Enak\",\n",
        "\"Tips Panen Jeruk Ribuan Kilo\", \"Tips Bertanam Salak\", \n",
        "\"Salak Manis untuk Berbuka\", \"Jeruk Baik untuk Wajah\"\n",
        "]\n",
        "\n",
        "jumlah_artikel_jeruk = 0\n",
        "jumlah_artikel_salak = 0\n",
        "\n",
        "for judul in judul_artikel:\n",
        "    if judul.count(\"Jeruk\") > 0: \n",
        "        jumlah_artikel_jeruk += 1\n",
        "    if judul.count(\"Salak\") > 0:\n",
        "        jumlah_artikel_salak += 1\n",
        "\n",
        "print(jumlah_artikel_jeruk) \n",
        "print(jumlah_artikel_salak)"
      ],
      "execution_count": 64,
      "outputs": [
        {
          "output_type": "stream",
          "text": [
            "10\n",
            "11\n"
          ],
          "name": "stdout"
        }
      ]
    },
    {
      "cell_type": "markdown",
      "metadata": {
        "id": "b4EAy1CH8hbm"
      },
      "source": [
        "# Tugas Praktek"
      ]
    },
    {
      "cell_type": "code",
      "metadata": {
        "colab": {
          "base_uri": "https://localhost:8080/"
        },
        "id": "vy54K2gC8eX_",
        "outputId": "e03d58b7-2896-4371-e616-6151fb881abc"
      },
      "source": [
        "judul_artikel = [\n",
        "\"Buah Salak Baik untuk Mata\", \"Buah Salak Kaya Potasium\", \n",
        "\"Buah Jeruk Kaya Vitamin C\", \"Buah Salak Kaya Manfaat\", \n",
        "\"Salak Baik untuk Jantung\", \"Jeruk dapat Memperkuat Tulang\", \n",
        "\"Jeruk Mencegah Penyakit Asma\", \"Jeruk Memperkuat Gigi\", \n",
        "\"Jeruk Mencegah Kolesterol Jahat\", \"Salak Mencegah Diabetes\", \n",
        "\"Salak Memperkuat Dinding Usus\", \"Salak Baik untuk Darah\",\n",
        "\"Jeruk Kaya Manfaat untuk Jantung\", \"Salak si Kecil yang Baik\", \n",
        "\"Jeruk dan Salak Buah Kaya Manfaat\", \"Buah Jeruk Enak\",\n",
        "\"Tips Panen Jeruk Ribuan Kilo\", \"Tips Bertanam Salak\", \n",
        "\"Salak Manis untuk Berbuka\", \"Jeruk Baik untuk Wajah\"\n",
        "]\n",
        "\n",
        "kata_positif = [\"Kaya\", \"Baik\", \"Mencegah\", \"Memperkuat\"]\n",
        "\n",
        "kata_positif_jeruk = 0\n",
        "kata_positif_salak = 0\n",
        "\n",
        "for judul in judul_artikel: \n",
        "    for kata in kata_positif:\n",
        "        if judul.count(\"Jeruk\") > 0 and judul.count(kata) > 0: \n",
        "            kata_positif_jeruk += 1\n",
        "        if judul.count(\"Salak\") > 0 and judul.count(kata) > 0:\n",
        "            kata_positif_salak += 1\n",
        "print(kata_positif_jeruk) \n",
        "print(kata_positif_salak)"
      ],
      "execution_count": 65,
      "outputs": [
        {
          "output_type": "stream",
          "text": [
            "8\n",
            "9\n"
          ],
          "name": "stdout"
        }
      ]
    },
    {
      "cell_type": "markdown",
      "metadata": {
        "id": "OicdOj1V0hJR"
      },
      "source": [
        "# Fungsi Pertama"
      ]
    },
    {
      "cell_type": "code",
      "metadata": {
        "id": "5aKlF00n8xLn"
      },
      "source": [
        "# Definisikan fungsi\n",
        "def contoh_fungsi():\n",
        "    print(\"Halo Dunia\")\n",
        "    print(\"Aku sedang belajar bahasa Python\")"
      ],
      "execution_count": 66,
      "outputs": []
    },
    {
      "cell_type": "code",
      "metadata": {
        "colab": {
          "base_uri": "https://localhost:8080/"
        },
        "id": "teRnyi6Q0rRe",
        "outputId": "cc94665f-9e4d-4d30-ebe1-fc20d9968aaa"
      },
      "source": [
        "# Panggil fungsi yang telah didefinisikan\n",
        "contoh_fungsi()"
      ],
      "execution_count": 67,
      "outputs": [
        {
          "output_type": "stream",
          "text": [
            "Halo Dunia\n",
            "Aku sedang belajar bahasa Python\n"
          ],
          "name": "stdout"
        }
      ]
    },
    {
      "cell_type": "markdown",
      "metadata": {
        "id": "hiajXSDm04CL"
      },
      "source": [
        "# Fungsi Kedua"
      ]
    },
    {
      "cell_type": "code",
      "metadata": {
        "id": "73AzrEqB0wfj"
      },
      "source": [
        "def fungsi_dengan_argumen(nama_depan, nama_belakang):\n",
        "    print(nama_depan + \" \" + nama_belakang)"
      ],
      "execution_count": 68,
      "outputs": []
    },
    {
      "cell_type": "code",
      "metadata": {
        "colab": {
          "base_uri": "https://localhost:8080/"
        },
        "id": "53RS-IQq1Nil",
        "outputId": "32f23ba6-4a83-41e8-cd2d-01916ba24c4b"
      },
      "source": [
        "fungsi_dengan_argumen(\"John\", \"Doe\")"
      ],
      "execution_count": 69,
      "outputs": [
        {
          "output_type": "stream",
          "text": [
            "John Doe\n"
          ],
          "name": "stdout"
        }
      ]
    },
    {
      "cell_type": "markdown",
      "metadata": {
        "id": "2rUSy8zF1k3z"
      },
      "source": [
        "# Fungsi Ketiga"
      ]
    },
    {
      "cell_type": "code",
      "metadata": {
        "id": "4j4sVSNA1TJU"
      },
      "source": [
        "def fungsi_dengan_argumen(nama_depan, nama_belakang = \"\"):\n",
        "    print(nama_depan + \" \" + nama_belakang)"
      ],
      "execution_count": 70,
      "outputs": []
    },
    {
      "cell_type": "code",
      "metadata": {
        "colab": {
          "base_uri": "https://localhost:8080/"
        },
        "id": "ArtsKkGw1ub3",
        "outputId": "894a9917-dc0a-4b01-bdad-0bcd4f48a0bd"
      },
      "source": [
        "fungsi_dengan_argumen(\"John\")"
      ],
      "execution_count": 71,
      "outputs": [
        {
          "output_type": "stream",
          "text": [
            "John \n"
          ],
          "name": "stdout"
        }
      ]
    },
    {
      "cell_type": "code",
      "metadata": {
        "colab": {
          "base_uri": "https://localhost:8080/"
        },
        "id": "8hlxU2SB1xgj",
        "outputId": "7470c7c2-a673-4e23-f882-c24c09245234"
      },
      "source": [
        "fungsi_dengan_argumen(\"John\", \"Doe\")"
      ],
      "execution_count": 72,
      "outputs": [
        {
          "output_type": "stream",
          "text": [
            "John Doe\n"
          ],
          "name": "stdout"
        }
      ]
    },
    {
      "cell_type": "markdown",
      "metadata": {
        "id": "7v79LvIW14RT"
      },
      "source": [
        "# Tugas Praktek"
      ]
    },
    {
      "cell_type": "code",
      "metadata": {
        "colab": {
          "base_uri": "https://localhost:8080/"
        },
        "id": "PhKCUbQ711ST",
        "outputId": "41ad07e8-7937-487e-89e2-f982bc85ce21"
      },
      "source": [
        "# Dua buah data yang tersimpan dalam tipe list\n",
        "data1 = [70, 70, 70, 100, 100, 100, 120, 120, 150, 150]\n",
        "data2 = [50, 60, 60, 50, 70, 70, 100, 80, 100, 90]\n",
        "\n",
        "# Definisikan fungsi hitung_rata_rata\n",
        "def hitung_rata_rata(data):\n",
        "    jumlah = 0\n",
        "    for item in data:\n",
        "        jumlah += item\n",
        "    rata_rata = jumlah /len(data)\n",
        "    return rata_rata\n",
        "\n",
        "# Hitung nilai rata-rata dari kedua data yang dimiliki\n",
        "print('Rata-rata data1:')\n",
        "print(hitung_rata_rata(data1))\n",
        "print('Rata-rata data2:')\n",
        "print(hitung_rata_rata(data2))"
      ],
      "execution_count": 73,
      "outputs": [
        {
          "output_type": "stream",
          "text": [
            "Rata-rata data1:\n",
            "105.0\n",
            "Rata-rata data2:\n",
            "73.0\n"
          ],
          "name": "stdout"
        }
      ]
    },
    {
      "cell_type": "markdown",
      "metadata": {
        "id": "4GkHqT3g2eeu"
      },
      "source": [
        "# Tugas Praktek"
      ]
    },
    {
      "cell_type": "code",
      "metadata": {
        "colab": {
          "base_uri": "https://localhost:8080/"
        },
        "id": "b3U2ZJvb2aBX",
        "outputId": "1f3b0ab9-a7f3-44c5-d794-9a0679280dfd"
      },
      "source": [
        "# Dua buah data yang tersimpan dalam tipe list\n",
        "data1 = [70, 70, 70, 100, 100, 100, 120, 120, 150, 150]\n",
        "data2 = [50, 60, 60, 50, 70, 70, 100, 80, 100, 90]\n",
        "\n",
        "# Fungsi rata-rata data\n",
        "def hitung_rata_rata(data):\n",
        "    jumlah = 0\n",
        "    for item in data:\n",
        "        jumlah += item\n",
        "    rata_rata = jumlah/len(data)\n",
        "    return rata_rata\n",
        "\n",
        "# Definisikan fungsi hitung_standar_deviasi\n",
        "def hitung_standar_deviasi(data):\n",
        "    rata_rata_data = hitung_rata_rata(data)\n",
        "    varians = 0\n",
        "    for item in data:\n",
        "        varians += (item - rata_rata_data) ** 2\n",
        "    varians /= len(data)\n",
        "    standar_deviasi = varians ** (1/2)\n",
        "    return standar_deviasi\n",
        "\n",
        "# Hitung nilai standar deviasi dari kedua data yang dimiliki\n",
        "print('Standar deviasi data1:')\n",
        "print(hitung_standar_deviasi(data1))\n",
        "print('Standar deviasi data2:')\n",
        "print(hitung_standar_deviasi(data2))"
      ],
      "execution_count": 74,
      "outputs": [
        {
          "output_type": "stream",
          "text": [
            "Standar deviasi data1:\n",
            "28.722813232690143\n",
            "Standar deviasi data2:\n",
            "17.916472867168917\n"
          ],
          "name": "stdout"
        }
      ]
    },
    {
      "cell_type": "markdown",
      "metadata": {
        "id": "B1wG229T2vI2"
      },
      "source": [
        "# Tugas Praktek"
      ]
    },
    {
      "cell_type": "code",
      "metadata": {
        "colab": {
          "base_uri": "https://localhost:8080/"
        },
        "id": "kKWCd5Un2sOj",
        "outputId": "6eabea5f-13da-427c-f6a1-5ba9e228aa1c"
      },
      "source": [
        "# Data properti\n",
        "tabel_properti = {\n",
        "'luas_tanah': [70, 70, 70, 100, 100, 100, 120, 120, 150, 150],\n",
        "'luas_bangunan': [50, 60, 60, 50, 70, 70, 100, 80, 100, 90],\n",
        "'jarak': [15, 30, 55, 30, 25, 50, 20, 50, 50, 15],\n",
        "'harga': [500, 400, 300, 700, 1000, 650, 2000, 1200, 1800, 3000]\n",
        "}\n",
        "\n",
        "# Fungsi rata-rata data\n",
        "def hitung_rata_rata(data):\n",
        "    jumlah = 0\n",
        "    for item in data:\n",
        "        jumlah += item\n",
        "    rata_rata = jumlah/len(data)\n",
        "    return rata_rata\n",
        "\n",
        "# Fungsi hitung_standar_deviasi\n",
        "def hitung_standar_deviasi(data):\n",
        "    rata_rata_data = hitung_rata_rata(data)\n",
        "    varians = 0\n",
        "    for item in data:\n",
        "        varians += (item - rata_rata_data) ** 2\n",
        "        varians /= len(data)\n",
        "    standar_deviasi = varians ** (1/2)\n",
        "    return standar_deviasi\n",
        "\n",
        "# Definisikan fungsi untuk menghitung rata-rata dan standar deviasi\n",
        "# setiap kolom pada tabel_properti yang diberikan oleh key dict.\n",
        "def deskripsi_properti(tabel):\n",
        "    for key in tabel.keys():\n",
        "        print('Rata-rata ' + key + ':')\n",
        "        print(hitung_rata_rata(tabel[key])) \n",
        "        print('Standar deviasi ' + key + ':')\n",
        "        print(hitung_standar_deviasi(tabel[key]))\n",
        "        print('')\n",
        "\n",
        "# Panggil fungsi deskripsi_properti untuk menghitung rata-rata \n",
        "# dan standar deviasi setiap kolom pada tabel_properti\n",
        "deskripsi_properti(tabel_properti)"
      ],
      "execution_count": 75,
      "outputs": [
        {
          "output_type": "stream",
          "text": [
            "Rata-rata luas_tanah:\n",
            "105.0\n",
            "Standar deviasi luas_tanah:\n",
            "14.93311056335886\n",
            "\n",
            "Rata-rata luas_bangunan:\n",
            "73.0\n",
            "Standar deviasi luas_bangunan:\n",
            "6.025948374480153\n",
            "\n",
            "Rata-rata jarak:\n",
            "34.0\n",
            "Standar deviasi jarak:\n",
            "6.24005184770928\n",
            "\n",
            "Rata-rata harga:\n",
            "1155.0\n",
            "Standar deviasi harga:\n",
            "587.0594351517378\n",
            "\n"
          ],
          "name": "stdout"
        }
      ]
    },
    {
      "cell_type": "markdown",
      "metadata": {
        "id": "XjeGk2Sw7U_g"
      },
      "source": [
        "# Membaca Berkas Teks – Part 1"
      ]
    },
    {
      "cell_type": "code",
      "metadata": {
        "id": "emnWao6K7Xbh"
      },
      "source": [
        "# Membaca file hello.txt dengan fungsi read()\n",
        "print(\">>> Membaca file hello.txt dengan fungsi read()\")\n",
        "file = open(\"hello.txt\", \"r\")\n",
        "content = file.read()\n",
        "file.close()\n",
        "print(content)\n",
        "# Membaca file hello.txt dengan fungsi readline()\n",
        "print(\">>> Membaca file hello.txt dengan fungsi readline()\")\n",
        "file = open(\"hello.txt\", \"r\")\n",
        "first_line = file.readline()\n",
        "second_line = file.readline()\n",
        "file.close()\n",
        "print(first_line)\n",
        "print(second_line)"
      ],
      "execution_count": null,
      "outputs": []
    },
    {
      "cell_type": "markdown",
      "metadata": {
        "id": "syelm0307Z71"
      },
      "source": [
        "# Membaca Berkas Teks – Part 2"
      ]
    },
    {
      "cell_type": "code",
      "metadata": {
        "id": "7ER5sFaw7c1K"
      },
      "source": [
        "# Membaca file hello.txt dengan fungsi readlines()\n",
        "print(\">>> Membaca file hello.txt dengan fungsi readlines()\")\n",
        "file = open(\"hello.txt\", \"r\")\n",
        "all_lines = file.readlines()\n",
        "file.close()\n",
        "print(all_lines)\n",
        "\n",
        "# Membaca file hello.txt dengan menerapkan looping\n",
        "print(\">>> Membaca file hello.txt dengan menerapkan looping\")\n",
        "file = open(\"hello.txt\", \"r\")\n",
        "for line in file:\n",
        "    print(line)"
      ],
      "execution_count": null,
      "outputs": []
    },
    {
      "cell_type": "markdown",
      "metadata": {
        "id": "GskIQyT37eYL"
      },
      "source": [
        "# Menulis Berkas Teks – Part 1"
      ]
    },
    {
      "cell_type": "code",
      "metadata": {
        "id": "yk42szc67ewA"
      },
      "source": [
        "# Menulis ke file hello_write.txt\n",
        "file = open(\"hello.txt\", \"w\")\n",
        "file.write(\"Sekarang kita belajar menulis dengan menggunakan Python\")\n",
        "file.write(\"Menulis konten file dengan mode w (write).\")\n",
        "file.close()"
      ],
      "execution_count": null,
      "outputs": []
    },
    {
      "cell_type": "markdown",
      "metadata": {
        "id": "O2mJqSz07jG_"
      },
      "source": [
        "# Menulis Berkas Teks – Part 2"
      ]
    },
    {
      "cell_type": "code",
      "metadata": {
        "id": "4EqKZLO-7loJ"
      },
      "source": [
        "# Menulis ke file dengan mode append\n",
        "file = open(\"hello.txt\", \"a\")\n",
        "file.writelines([\n",
        "\"Sekarang kita belajar menulis dengan menggunakan Python\", \n",
        "\"Menulis konten file dengan mode a (append).\"\n",
        "])\n",
        "file.close("
      ],
      "execution_count": null,
      "outputs": []
    },
    {
      "cell_type": "markdown",
      "metadata": {
        "id": "JE_GGwEi3A77"
      },
      "source": [
        "# Fungsi dalam Library Matematika – Part 1"
      ]
    },
    {
      "cell_type": "code",
      "metadata": {
        "id": "aaMRGAzY25ou"
      },
      "source": [
        "# Import library math\n",
        "import math"
      ],
      "execution_count": 76,
      "outputs": []
    },
    {
      "cell_type": "code",
      "metadata": {
        "colab": {
          "base_uri": "https://localhost:8080/"
        },
        "id": "oZpajEan5Mge",
        "outputId": "98bed74e-e64d-4836-9715-3d60245a12ad"
      },
      "source": [
        "# Fungsi math.ceil()\n",
        "x = 10.32\n",
        "y = 13.87\n",
        "x_ceil = math.ceil(x)\n",
        "y_ceil = math.ceil(y)\n",
        "print(x_ceil)\n",
        "print(y_ceil)"
      ],
      "execution_count": 77,
      "outputs": [
        {
          "output_type": "stream",
          "text": [
            "11\n",
            "14\n"
          ],
          "name": "stdout"
        }
      ]
    },
    {
      "cell_type": "code",
      "metadata": {
        "colab": {
          "base_uri": "https://localhost:8080/"
        },
        "id": "Yzj3jsw55NfX",
        "outputId": "b00d72a3-fd83-43fe-b85f-c4de1429ec01"
      },
      "source": [
        "# Fungsi math.floor()\n",
        "x_floor = math.floor(x)\n",
        "y_floor = math.floor(y)\n",
        "print(x_floor)\n",
        "print(y_floor)"
      ],
      "execution_count": 78,
      "outputs": [
        {
          "output_type": "stream",
          "text": [
            "10\n",
            "13\n"
          ],
          "name": "stdout"
        }
      ]
    },
    {
      "cell_type": "code",
      "metadata": {
        "colab": {
          "base_uri": "https://localhost:8080/"
        },
        "id": "Zmqh8XWD5NnZ",
        "outputId": "0428a1d7-0af4-4341-ff72-38b4d062a613"
      },
      "source": [
        "# Fungsi math.fabs()\n",
        "x = 10.32\n",
        "y = -13.87\n",
        "x = math.fabs(x)\n",
        "y = math.fabs(y)\n",
        "print(x)\n",
        "print(y)"
      ],
      "execution_count": 79,
      "outputs": [
        {
          "output_type": "stream",
          "text": [
            "10.32\n",
            "13.87\n"
          ],
          "name": "stdout"
        }
      ]
    },
    {
      "cell_type": "code",
      "metadata": {
        "colab": {
          "base_uri": "https://localhost:8080/"
        },
        "id": "BJyjWvNT5NtR",
        "outputId": "85b205c2-a38b-469b-9b08-d0ca2b5fa2da"
      },
      "source": [
        "# Fungsi math.factorial()\n",
        "x_factorial = math.factorial(5)\n",
        "print(x_factorial)"
      ],
      "execution_count": 80,
      "outputs": [
        {
          "output_type": "stream",
          "text": [
            "120\n"
          ],
          "name": "stdout"
        }
      ]
    },
    {
      "cell_type": "code",
      "metadata": {
        "colab": {
          "base_uri": "https://localhost:8080/"
        },
        "id": "_iarf3XF5Nys",
        "outputId": "2d13ce44-54d8-4f2e-b16d-ceae543c9c26"
      },
      "source": [
        "# Fungsi math.fsum()\n",
        "x = [1, 2, 3, 4, 5, 6, -6, -5, -4]\n",
        "total = math.fsum(x)\n",
        "print(total)"
      ],
      "execution_count": 81,
      "outputs": [
        {
          "output_type": "stream",
          "text": [
            "6.0\n"
          ],
          "name": "stdout"
        }
      ]
    },
    {
      "cell_type": "markdown",
      "metadata": {
        "id": "-J8dCMqi58U1"
      },
      "source": [
        "# Fungsi dalam Library Matematika – Part 2"
      ]
    },
    {
      "cell_type": "code",
      "metadata": {
        "id": "NSk8oVlX5N2v"
      },
      "source": [
        "# Import library math\n",
        "import math"
      ],
      "execution_count": 82,
      "outputs": []
    },
    {
      "cell_type": "code",
      "metadata": {
        "colab": {
          "base_uri": "https://localhost:8080/"
        },
        "id": "qEn8K9E75N5r",
        "outputId": "ad66fa26-69d1-410f-aae7-4978145097ff"
      },
      "source": [
        "# Fungsi math.log()\n",
        "# x = log basis 2 dari 8\n",
        "x = math.log(8, 2)\n",
        "\n",
        "# y = log basis 3 dari 81\n",
        "y = math.log(81, 3)\n",
        "\n",
        "# z = log basis 10 dari 10000\n",
        "z = math.log(10000,10)\n",
        "\n",
        "print(x)\n",
        "print(y)\n",
        "print(z)"
      ],
      "execution_count": 83,
      "outputs": [
        {
          "output_type": "stream",
          "text": [
            "3.0\n",
            "4.0\n",
            "4.0\n"
          ],
          "name": "stdout"
        }
      ]
    },
    {
      "cell_type": "code",
      "metadata": {
        "colab": {
          "base_uri": "https://localhost:8080/"
        },
        "id": "LFXomvB25N8W",
        "outputId": "53604cbb-142a-48d6-8e91-d4edb29d5149"
      },
      "source": [
        "# Fungsi math.sqrt()\n",
        "\n",
        "# akar kuadrat dari 100\n",
        "x = math.sqrt(100)\n",
        "print(x)\n",
        "\n",
        "# akar kuadrat dari 2\n",
        "y = math.sqrt(2)\n",
        "print(y)"
      ],
      "execution_count": 84,
      "outputs": [
        {
          "output_type": "stream",
          "text": [
            "10.0\n",
            "1.4142135623730951\n"
          ],
          "name": "stdout"
        }
      ]
    },
    {
      "cell_type": "code",
      "metadata": {
        "colab": {
          "base_uri": "https://localhost:8080/"
        },
        "id": "uXH0jpYi5N_I",
        "outputId": "72ee736b-ec19-46cf-d72c-9605e19e0646"
      },
      "source": [
        "# Fungsi math.copysign()\n",
        "\n",
        "x = 10.32\n",
        "y = -13.87\n",
        "z = -15\n",
        "\n",
        "x = math.copysign(x, z)\n",
        "y = math.copysign(y, z)\n",
        "z = math.copysign(z, 10)\n",
        "\n",
        "print(x)\n",
        "print(y)\n",
        "print(z)"
      ],
      "execution_count": 85,
      "outputs": [
        {
          "output_type": "stream",
          "text": [
            "-10.32\n",
            "-13.87\n",
            "15.0\n"
          ],
          "name": "stdout"
        }
      ]
    },
    {
      "cell_type": "markdown",
      "metadata": {
        "id": "qDg6gOpI6ycI"
      },
      "source": [
        "# Harga Rumah di Tangerang"
      ]
    },
    {
      "cell_type": "code",
      "metadata": {
        "id": "LVaXAZwU5OE9"
      },
      "source": [
        "# STEP 1: \n",
        "# Baca file \"harga_rumah.txt\"\n",
        "file_harga_rumah = open(\"harga_rumah.txt\", \"r\")\n",
        "data_harga_rumah = file_harga_rumah.readlines()\n",
        "file_harga_rumah.close()\n",
        "# Buat list of dict dengan nama harga rumah\n",
        "key_harga_rumah = data_harga_rumah[0].replace(\"\\n\",\"\").split(\",\")\n",
        "harga_rumah = []\n",
        "for baris in data_harga_rumah[1:]:\n",
        "\tbaris_harga_rumah = baris.replace(\"\\n\",\"\").split(\",\")\n",
        "\tdict_harga_rumah = dict()\n",
        "\tfor i in range(len(baris_harga_rumah)):\n",
        "\t\tdict_harga_rumah[key_harga_rumah[i]] = baris_harga_rumah[i]\n",
        "\tharga_rumah.append(dict_harga_rumah)\n",
        "print(harga_rumah)\n",
        "# STEP 2:\n",
        "# Buat fungsi  get_all_specified_attribute yang menerima parameter list_of_dictionary \n",
        "# (tipe data list yang berisikan sekumpulan tipe data dictionary) dan specified_key \n",
        "# (tipe data string). Fungsi akan mengembalikan sebuah list yang berisikan seluruh \n",
        "# atribut dengan kunci (key) specified_key. \n",
        "def get_all_specified_attributes(list_of_dictionary, specified_key):\n",
        "\tlist_attributes = []\n",
        "\tfor data in list_of_dictionary:\n",
        "\t\tattribute = data[specified_key]\n",
        "\t\tlist_attributes.append(attribute)\n",
        "\treturn list_attributes\n",
        "# STEP 3: \n",
        "# Buat fungsi fungsi min_value yang menerima parameter list_attributes (berupa \n",
        "# tipe data list) dan mengembalikan nilai terkecil dalam list_attributes \n",
        "def min_value(list_attributes):\n",
        "\tmin_attribute = 9999\n",
        "\tfor attr in list_attributes:\n",
        "\t\tif int(attr) < min_attribute:\n",
        "\t\t\tmin_attribute = int(attr)\n",
        "\treturn min_attribute\n",
        "# Buat fungsi dan max_value yang menerima parameter list_attribute dan \n",
        "# mengembalikan nilai terbesar dalam list_attributes.\t\n",
        "def max_value(list_attributes):\n",
        "\tmax_attribute = -9999\n",
        "\tfor attr in list_attributes:\n",
        "\t\tif int(attr) > max_attribute:\n",
        "\t\t\tmax_attribute = int(attr)\n",
        "\treturn max_attribute\n",
        "# STEP 4: \n",
        "# Buat fungsi transform_attribute yang menerima parameter attr (sebuah \n",
        "# bilangan), max_attr (sebuah bilangan) dan min_attr (sebuah bilangan) \n",
        "# yang mengembalikan nilai transformasi dari sebuah attribute.\n",
        "def transform_attribute(attr, max_attr, min_attr):\n",
        "\tnilai_transformasi = (attr - min_attr) / (max_attr - min_attr)\n",
        "\treturn nilai_transformasi\n",
        "# STEP 5:\n",
        "# Buat fungsi data_transformation yang menerima parameter list_of_dictionary \n",
        "# (sebuah list yang berisikan tipe data dictionary) dan list_attribute_names \n",
        "# (sebuah list yang berisikan tipe data string) mengembalikan hasil \n",
        "# transformasi data dari list_of_dictionary berdasarkan list_attribute_names \n",
        "# dan attr_info telah dispesifikasikan.\n",
        "def data_transformation(list_of_dictionary, list_attribute_names):\n",
        "\tattr_info = {}\n",
        "\tfor attr_name in list_attribute_names:\n",
        "\t\tspecified_attributes = get_all_specified_attributes(list_of_dictionary, attr_name)\n",
        "\t\tmax_attr = max_value(specified_attributes)\n",
        "\t\tmin_attr = min_value(specified_attributes)\n",
        "\t\tattr_info[attr_name] = {'max': max_attr, 'min': min_attr}\n",
        "\t\tdata_idx = 0\n",
        "\t\twhile(data_idx < len(list_of_dictionary)):\n",
        "\t\t\tlist_of_dictionary[data_idx][attr_name] = transform_attribute(int(list_of_dictionary[data_idx][attr_name]), max_attr, min_attr)\n",
        "\t\t\tdata_idx += 1\n",
        "\treturn list_of_dictionary, attr_info\n",
        "# STEP 6:\n",
        "# Berdasarkan data baru dan attr_info ini, buat fungsi transform_data yang\n",
        "# menerima parameter data dan attr_info dan mengembalikan nilai atribut \n",
        "# dari data baru yang telah ditransformasikan.\n",
        "def transform_data(data, attr_info):\n",
        "\tfor key_name in data.keys():\n",
        "\t\tdata[key_name] = (data[key_name] - attr_info[key_name]['min']) / (\n",
        "\t\t                  attr_info[key_name]['max'] - attr_info[key_name]['min'])\n",
        "\treturn data\n",
        "# STEP 7:\n",
        "# Buat fungsi yang digunakan untuk sistem prediksi harga berdasarkan \n",
        "# nilai kemiripan atribut, yaitu argument input data dan list_of_data!\n",
        "def abs_value(value):\n",
        "\tif value < 0:\n",
        "\t\treturn -value\n",
        "\telse:\n",
        "\t\treturn value\n",
        "def price_based_on_similarity(data, list_of_data):\n",
        "\tprediksi_harga = 0\n",
        "\tperbedaan_terkecil = 999\n",
        "\tfor data_point in list_of_data:\n",
        "\t\tperbedaan= abs_value(data['tanah'] - data_point['tanah'])\n",
        "\t\tperbedaan+= abs_value(data['bangunan'] - data_point['bangunan'])\n",
        "\t\tperbedaan+= abs_value(data['jarak_ke_pusat'] - data_point['jarak_ke_pusat'])\n",
        "\t\tif perbedaan < perbedaan_terkecil:\n",
        "\t\t\tprediksi_harga = data_point['harga']\n",
        "\t\t\tperbedaan_terkecil = perbedaan\n",
        "\treturn prediksi_harga\n",
        "# STEP 8:\n",
        "# Hitung harga rumah yang telah ditransformasikan ke dalam variabel \n",
        "# harga_rumah berikut dengan atributnya attr_info\n",
        "harga_rumah, attr_info = data_transformation(harga_rumah,\n",
        "\t\t\t\t\t\t\t\t\t\t\t ['tanah','bangunan','jarak_ke_pusat'])\n",
        "# Gunakan variabel data untuk memprediksi harga rumah\n",
        "data = {'tanah': 110, 'bangunan': 80, 'jarak_ke_pusat': 35}\n",
        "# Transformasikan data tersebut dengan dengan menggunakan attr_info yang telah \n",
        "# diperoleh yang kembali disimpan ke variabel data.\n",
        "data = transform_data(data, attr_info)\n",
        "# Hitunglah prediksi harga dari variabel data tersebut.\n",
        "harga = price_based_on_similarity(data, harga_rumah)\n",
        "print(\"Prediksi harga rumah: \", harga)"
      ],
      "execution_count": null,
      "outputs": []
    }
  ]
}