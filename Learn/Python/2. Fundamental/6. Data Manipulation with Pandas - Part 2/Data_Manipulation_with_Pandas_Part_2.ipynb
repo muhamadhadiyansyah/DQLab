{
  "nbformat": 4,
  "nbformat_minor": 0,
  "metadata": {
    "colab": {
      "name": "Data Manipulation with Pandas - Part 2.ipynb",
      "provenance": [],
      "collapsed_sections": []
    },
    "kernelspec": {
      "name": "python3",
      "display_name": "Python 3"
    },
    "language_info": {
      "name": "python"
    }
  },
  "cells": [
    {
      "cell_type": "markdown",
      "metadata": {
        "id": "w2Ez2sN-i3UZ"
      },
      "source": [
        "# Append"
      ]
    },
    {
      "cell_type": "code",
      "metadata": {
        "colab": {
          "base_uri": "https://localhost:8080/"
        },
        "id": "yo5wIGiMi21s",
        "outputId": "81383dbb-7058-4190-c6ca-7ddda4348942"
      },
      "source": [
        "import pandas as pd\n",
        "# Buatlah series of int (s1) dan series of string (s2)\n",
        "s1 = pd.Series([1, 2, 3, 4, 5, 6])\n",
        "s2 = pd.Series([\"a\", \"b\", \"c\", \"d\", \"e\", \"f\"])\n",
        "\n",
        "# Terapkan metode append\n",
        "s1_append_s2 = s1.append(s2)\n",
        "print(\"Series - append:\\n\", s1_append_s2)"
      ],
      "execution_count": 1,
      "outputs": [
        {
          "output_type": "stream",
          "text": [
            "Series - append:\n",
            " 0    1\n",
            "1    2\n",
            "2    3\n",
            "3    4\n",
            "4    5\n",
            "5    6\n",
            "0    a\n",
            "1    b\n",
            "2    c\n",
            "3    d\n",
            "4    e\n",
            "5    f\n",
            "dtype: object\n"
          ],
          "name": "stdout"
        }
      ]
    },
    {
      "cell_type": "code",
      "metadata": {
        "colab": {
          "base_uri": "https://localhost:8080/"
        },
        "id": "NAqWES5Rjb5R",
        "outputId": "382b7519-4037-4e60-a5ed-90e37544e7a6"
      },
      "source": [
        "# Buat dataframe df1 dan df2\n",
        "df1 = pd.DataFrame({'a':[1, 2],\n",
        "                    'b':[3, 4]})\n",
        "df2 = pd.DataFrame({'b':[1, 2],\n",
        "                    'a':[3, 4]})\n",
        "# Terapkan method append\n",
        "df2_append_df1 = df2.append(df1)\n",
        "print(\"Dataframe - append:\\n\", df2_append_df1)"
      ],
      "execution_count": 2,
      "outputs": [
        {
          "output_type": "stream",
          "text": [
            "Dataframe - append:\n",
            "    b  a\n",
            "0  1  3\n",
            "1  2  4\n",
            "0  3  1\n",
            "1  4  2\n"
          ],
          "name": "stdout"
        }
      ]
    },
    {
      "cell_type": "markdown",
      "metadata": {
        "id": "aezMbBPMj6in"
      },
      "source": [
        "# Concat"
      ]
    },
    {
      "cell_type": "code",
      "metadata": {
        "colab": {
          "base_uri": "https://localhost:8080/"
        },
        "id": "-1vtQmSPjtAE",
        "outputId": "b8acd58f-dfe8-4e4a-9d1a-82e54f50d427"
      },
      "source": [
        "import pandas as pd\n",
        "\n",
        "# Buat dataframe df1 dan df2\n",
        "df1 = pd.DataFrame({'a':[1, 2],\n",
        "                    'b':[3, 4]})\n",
        "df2 = pd.DataFrame({'b':[1, 2],\n",
        "                    'a':[3, 4]})\n",
        "\n",
        "# Terapkan method concat row-wise\n",
        "row_wise_concat = pd.concat([df2, df1])\n",
        "print(\"Row-wise - concat:\\n\", row_wise_concat)"
      ],
      "execution_count": 3,
      "outputs": [
        {
          "output_type": "stream",
          "text": [
            "Row-wise - concat:\n",
            "    b  a\n",
            "0  1  3\n",
            "1  2  4\n",
            "0  3  1\n",
            "1  4  2\n"
          ],
          "name": "stdout"
        }
      ]
    },
    {
      "cell_type": "code",
      "metadata": {
        "colab": {
          "base_uri": "https://localhost:8080/"
        },
        "id": "bNi3M5HKkSD4",
        "outputId": "2ed5264a-dc0b-472e-b7ea-bc410956dcb6"
      },
      "source": [
        "# Terapkan method concat column-wise\n",
        "col_wise_concat = pd.concat([df2, df1], axis=1)\n",
        "print(\"Column-wise - concat:\\n\", col_wise_concat)"
      ],
      "execution_count": 4,
      "outputs": [
        {
          "output_type": "stream",
          "text": [
            "Column-wise - concat:\n",
            "    b  a  a  b\n",
            "0  1  3  1  3\n",
            "1  2  4  2  4\n"
          ],
          "name": "stdout"
        }
      ]
    },
    {
      "cell_type": "code",
      "metadata": {
        "colab": {
          "base_uri": "https://localhost:8080/"
        },
        "id": "4-zOyo7BkW7r",
        "outputId": "a5fb7819-1235-4821-de24-54f7069a9d0c"
      },
      "source": [
        "# Penambahan identifier --> membentuk hasil penggabungan multiindex\n",
        "multiindex_concat = pd.concat([df2, df1], axis=0, keys=['df1', 'df2'])\n",
        "print(\"Multiindex - concat:\\n\", multiindex_concat)"
      ],
      "execution_count": 5,
      "outputs": [
        {
          "output_type": "stream",
          "text": [
            "Multiindex - concat:\n",
            "        b  a\n",
            "df1 0  1  3\n",
            "    1  2  4\n",
            "df2 0  3  1\n",
            "    1  4  2\n"
          ],
          "name": "stdout"
        }
      ]
    },
    {
      "cell_type": "markdown",
      "metadata": {
        "id": "Ru3pS4GRkgKQ"
      },
      "source": [
        "# Merge - Part 1"
      ]
    },
    {
      "cell_type": "code",
      "metadata": {
        "id": "ry2dUXZSkda1"
      },
      "source": [
        "import pandas as pd\n",
        "# Buat dataframe df1 dan df2\n",
        "df1 = pd.DataFrame({'key':['k1', 'k2', 'k3', 'k4', 'k5'],\n",
        "                    'val1':[200, 500, 0, 500, 100],\n",
        "                    'val2':[30, 50, 100, 20, 10]})\n",
        "df2 = pd.DataFrame({'key':['k1', 'k3', 'k5', 'k7', 'k10'],\n",
        "                    'val3':[1, 2, 3, 4, 5],\n",
        "                    'val4':[6, 7, 8, 8, 10]})"
      ],
      "execution_count": 6,
      "outputs": []
    },
    {
      "cell_type": "code",
      "metadata": {
        "colab": {
          "base_uri": "https://localhost:8080/"
        },
        "id": "mheBK8YAk5bQ",
        "outputId": "99941f5b-6396-4909-b555-b28102b34dc7"
      },
      "source": [
        "# Merge yang ekivalen dengan SQL left join\n",
        "merge_df_left = pd.merge(left=df2, right=df1, how='left', left_on='key', right_on='key')\n",
        "print('Merge - Left:\\n', merge_df_left)"
      ],
      "execution_count": 7,
      "outputs": [
        {
          "output_type": "stream",
          "text": [
            "Merge - Left:\n",
            "    key  val3  val4   val1   val2\n",
            "0   k1     1     6  200.0   30.0\n",
            "1   k3     2     7    0.0  100.0\n",
            "2   k5     3     8  100.0   10.0\n",
            "3   k7     4     8    NaN    NaN\n",
            "4  k10     5    10    NaN    NaN\n"
          ],
          "name": "stdout"
        }
      ]
    },
    {
      "cell_type": "code",
      "metadata": {
        "colab": {
          "base_uri": "https://localhost:8080/"
        },
        "id": "TxX9T-j9k96d",
        "outputId": "45140817-aa39-46f8-e467-1101938048fb"
      },
      "source": [
        "# Merge yang ekivalen dengan SQL right join\n",
        "merge_df_right = pd.merge(left=df2, right=df1, how='right', left_on='key', right_on='key')\n",
        "print('Merge - Right:\\n', merge_df_right)"
      ],
      "execution_count": 8,
      "outputs": [
        {
          "output_type": "stream",
          "text": [
            "Merge - Right:\n",
            "   key  val3  val4  val1  val2\n",
            "0  k1   1.0   6.0   200    30\n",
            "1  k2   NaN   NaN   500    50\n",
            "2  k3   2.0   7.0     0   100\n",
            "3  k4   NaN   NaN   500    20\n",
            "4  k5   3.0   8.0   100    10\n"
          ],
          "name": "stdout"
        }
      ]
    },
    {
      "cell_type": "code",
      "metadata": {
        "colab": {
          "base_uri": "https://localhost:8080/"
        },
        "id": "_jhxEK-9lF11",
        "outputId": "b440289d-a576-4438-b381-15e1bb171ce5"
      },
      "source": [
        "# Merge yang ekivalen dengan SQL inner join\n",
        "merge_df_inner = pd.merge(left=df2, right=df1, how='inner', left_on='key', right_on='key')\n",
        "print('Merge - Inner:\\n', merge_df_inner)"
      ],
      "execution_count": 9,
      "outputs": [
        {
          "output_type": "stream",
          "text": [
            "Merge - Inner:\n",
            "   key  val3  val4  val1  val2\n",
            "0  k1     1     6   200    30\n",
            "1  k3     2     7     0   100\n",
            "2  k5     3     8   100    10\n"
          ],
          "name": "stdout"
        }
      ]
    },
    {
      "cell_type": "code",
      "metadata": {
        "colab": {
          "base_uri": "https://localhost:8080/"
        },
        "id": "YFWbHgH5lK_8",
        "outputId": "0b52e1bf-6e28-4d90-8d57-26472e832a3d"
      },
      "source": [
        "# Merge yang ekivalen dengan SQL outer join\n",
        "merge_df_outer = pd.merge(left=df2, right=df1, how='outer', left_on='key', right_on='key')\n",
        "print('Merge - Outer:\\n', merge_df_outer)"
      ],
      "execution_count": 10,
      "outputs": [
        {
          "output_type": "stream",
          "text": [
            "Merge - Outer:\n",
            "    key  val3  val4   val1   val2\n",
            "0   k1   1.0   6.0  200.0   30.0\n",
            "1   k3   2.0   7.0    0.0  100.0\n",
            "2   k5   3.0   8.0  100.0   10.0\n",
            "3   k7   4.0   8.0    NaN    NaN\n",
            "4  k10   5.0  10.0    NaN    NaN\n",
            "5   k2   NaN   NaN  500.0   50.0\n",
            "6   k4   NaN   NaN  500.0   20.0\n"
          ],
          "name": "stdout"
        }
      ]
    },
    {
      "cell_type": "markdown",
      "metadata": {
        "id": "ZUrGE8eOfOty"
      },
      "source": [
        "# Merge - Part 2"
      ]
    },
    {
      "cell_type": "code",
      "metadata": {
        "id": "Exy6WHwylPGn",
        "colab": {
          "base_uri": "https://localhost:8080/"
        },
        "outputId": "d8814c46-d310-4af7-bf6a-06f4f2c52eeb"
      },
      "source": [
        "import pandas as pd\n",
        "\n",
        "# Buat dataframe df1 dan df2\n",
        "df1 = pd.DataFrame({'key':['k1', 'k2', 'k3', 'k4', 'k5'],\n",
        "                    'val1':[200, 500, 0, 500, 100], \n",
        "                    'val2':[30, 50, 100, 20, 10]}).set_index(['key', 'val2'])\n",
        "print('Dataframe 1:\\n', df1)\n",
        "\n",
        "df2 = pd.DataFrame({'key':['k1', 'k3', 'k5', 'k7', 'k10'],\n",
        "                    'val3':[1, 2, 3, 4, 5], \n",
        "                    'val4':[6, 7, 8, 8, 10]}).set_index(['key', 'val3'])\n",
        "print('Dataframe 2:\\n', df2)"
      ],
      "execution_count": 11,
      "outputs": [
        {
          "output_type": "stream",
          "text": [
            "Dataframe 1:\n",
            "           val1\n",
            "key val2      \n",
            "k1  30     200\n",
            "k2  50     500\n",
            "k3  100      0\n",
            "k4  20     500\n",
            "k5  10     100\n",
            "Dataframe 2:\n",
            "           val4\n",
            "key val3      \n",
            "k1  1        6\n",
            "k3  2        7\n",
            "k5  3        8\n",
            "k7  4        8\n",
            "k10 5       10\n"
          ],
          "name": "stdout"
        }
      ]
    },
    {
      "cell_type": "code",
      "metadata": {
        "colab": {
          "base_uri": "https://localhost:8080/"
        },
        "id": "eub8YwqYfrH3",
        "outputId": "d90183b9-d8e9-4cbb-da15-85889244763a"
      },
      "source": [
        "# Merge dataframe yang memiliki multi index\n",
        "df_merge = pd.merge(df1.reset_index(), df2.reset_index())\n",
        "print('Merging dataframe:\\n', df_merge)"
      ],
      "execution_count": 12,
      "outputs": [
        {
          "output_type": "stream",
          "text": [
            "Merging dataframe:\n",
            "   key  val2  val1  val3  val4\n",
            "0  k1    30   200     1     6\n",
            "1  k3   100     0     2     7\n",
            "2  k5    10   100     3     8\n"
          ],
          "name": "stdout"
        }
      ]
    },
    {
      "cell_type": "markdown",
      "metadata": {
        "id": "0iLIA6kPf9om"
      },
      "source": [
        "# Join"
      ]
    },
    {
      "cell_type": "code",
      "metadata": {
        "id": "qcnGTP8tf7G0"
      },
      "source": [
        "import pandas as pd\n",
        "\n",
        "# Buat dataframe df1 dan df2\n",
        "df1 = pd.DataFrame({'key':['k1', 'k2', 'k3', 'k4', 'k5'],\n",
        "                    'val1':[200, 500, 0, 500, 100],\n",
        "                    'val2':[30, 50, 100, 20, 10]})\n",
        "df2 = pd.DataFrame({'key':['k1', 'k3', 'k5', 'k7', 'k10'],\n",
        "                    'val3':[1, 2, 3, 4, 5],\n",
        "                    'val4':[6, 7, 8, 8, 10]})"
      ],
      "execution_count": 13,
      "outputs": []
    },
    {
      "cell_type": "code",
      "metadata": {
        "colab": {
          "base_uri": "https://localhost:8080/"
        },
        "id": "vOJGupwqgeam",
        "outputId": "bbf41229-90d9-4563-d581-a0acb54ba407"
      },
      "source": [
        "# Penerapan join dengan menggunakan set_index dan keyword how\n",
        "join_df = df1.set_index('key').join(df2.set_index('key'), how='outer')\n",
        "print(join_df)"
      ],
      "execution_count": 14,
      "outputs": [
        {
          "output_type": "stream",
          "text": [
            "      val1   val2  val3  val4\n",
            "key                          \n",
            "k1   200.0   30.0   1.0   6.0\n",
            "k10    NaN    NaN   5.0  10.0\n",
            "k2   500.0   50.0   NaN   NaN\n",
            "k3     0.0  100.0   2.0   7.0\n",
            "k4   500.0   20.0   NaN   NaN\n",
            "k5   100.0   10.0   3.0   8.0\n",
            "k7     NaN    NaN   4.0   8.0\n"
          ],
          "name": "stdout"
        }
      ]
    },
    {
      "cell_type": "markdown",
      "metadata": {
        "id": "aql4K8USg5qh"
      },
      "source": [
        "# Dataset"
      ]
    },
    {
      "cell_type": "code",
      "metadata": {
        "colab": {
          "base_uri": "https://localhost:8080/"
        },
        "id": "TUflLHkWgixN",
        "outputId": "a6b0d11e-ef12-48ba-ea7e-a7ed9b9a519b"
      },
      "source": [
        "import pandas as pd\n",
        "# Dataframe\n",
        "data = pd.DataFrame({'kelas': 6 * ['A'] + 6 * ['B'],\n",
        "                     'murid': 2 * ['A1'] + 2 * ['A2'] + 2 * ['A3'] + 2 * ['B1'] + 2 * ['B2'] + 2 * ['B3'],\n",
        "                     'pelajaran': 6 * ['math','english'],\n",
        "                     'nilai': [90, 60, 70, 85, 50, 60, 100, 40, 95, 80, 60, 45]}, columns=['kelas', 'murid', 'pelajaran', 'nilai'])\n",
        "\n",
        "# Unique value pada setiap kolom data\n",
        "for column in data.columns:\n",
        "    print('Unique value %s: %s' % (column, data[column].unique()))"
      ],
      "execution_count": 15,
      "outputs": [
        {
          "output_type": "stream",
          "text": [
            "Unique value kelas: ['A' 'B']\n",
            "Unique value murid: ['A1' 'A2' 'A3' 'B1' 'B2' 'B3']\n",
            "Unique value pelajaran: ['math' 'english']\n",
            "Unique value nilai: [ 90  60  70  85  50 100  40  95  80  45]\n"
          ],
          "name": "stdout"
        }
      ]
    },
    {
      "cell_type": "markdown",
      "metadata": {
        "id": "s5Hf_aTlhjz6"
      },
      "source": [
        "# Pivot"
      ]
    },
    {
      "cell_type": "code",
      "metadata": {
        "id": "rxsjkQ4MhgWU"
      },
      "source": [
        "import pandas as pd\n",
        "# Dataframe\n",
        "data = pd.DataFrame({'kelas': 6 * ['A'] + 6 * ['B'],\n",
        "                     'murid': 2 * ['A1'] + 2 * ['A2'] + 2 * ['A3'] + 2 * ['B1'] + 2 * ['B2'] + 2 * ['B3'],\n",
        "                     'pelajaran': 6 * ['math', 'english'],\n",
        "                     'nilai': [90, 60, 70, 85, 50, 60, 100, 40, 95, 80, 60, 45]}, columns=['kelas', 'murid', 'pelajaran', 'nilai'])"
      ],
      "execution_count": 16,
      "outputs": []
    },
    {
      "cell_type": "code",
      "metadata": {
        "colab": {
          "base_uri": "https://localhost:8080/"
        },
        "id": "MN9g9K0ohr5F",
        "outputId": "3eeeaf78-f3ae-4060-bfd9-5b7622c1463d"
      },
      "source": [
        "# Pivoting with single column measurement\n",
        "pivot1 = data.pivot(index='murid', columns='pelajaran', values='nilai')\n",
        "print('Pivoting with single column measurement:\\n', pivot1)"
      ],
      "execution_count": 17,
      "outputs": [
        {
          "output_type": "stream",
          "text": [
            "Pivoting with single column measurement:\n",
            " pelajaran  english  math\n",
            "murid                   \n",
            "A1              60    90\n",
            "A2              85    70\n",
            "A3              60    50\n",
            "B1              40   100\n",
            "B2              80    95\n",
            "B3              45    60\n"
          ],
          "name": "stdout"
        }
      ]
    },
    {
      "cell_type": "code",
      "metadata": {
        "colab": {
          "base_uri": "https://localhost:8080/"
        },
        "id": "SQckAvmah8Ja",
        "outputId": "d737fe1b-509c-4ae0-8497-d07924b42ce7"
      },
      "source": [
        "# Pivoting with multiple column measurement\n",
        "pivot2 = data.pivot(index='murid', columns='pelajaran')\n",
        "print('Pivoting with multiple column measurement:\\n', pivot2)"
      ],
      "execution_count": 18,
      "outputs": [
        {
          "output_type": "stream",
          "text": [
            "Pivoting with multiple column measurement:\n",
            "             kelas        nilai     \n",
            "pelajaran english math english math\n",
            "murid                              \n",
            "A1              A    A      60   90\n",
            "A2              A    A      85   70\n",
            "A3              A    A      60   50\n",
            "B1              B    B      40  100\n",
            "B2              B    B      80   95\n",
            "B3              B    B      45   60\n"
          ],
          "name": "stdout"
        }
      ]
    },
    {
      "cell_type": "markdown",
      "metadata": {
        "id": "0bQm6ZvQiCOE"
      },
      "source": [
        "# Pivot_table"
      ]
    },
    {
      "cell_type": "code",
      "metadata": {
        "id": "N-sKP9PXh-Z0"
      },
      "source": [
        "import pandas as pd\n",
        "# Dataframe\n",
        "data = pd.DataFrame({'kelas': 6 * ['A'] + 6 * ['B'],\n",
        "                     'murid': 2 * ['A1'] + 2 * ['A2'] + 2 * ['A3'] + 2 * ['B1'] + 2 * ['B2'] + 2 * ['B3'],\n",
        "                     'pelajaran': 6 * ['math', 'english'],\n",
        "                     'nilai': [90, 60, 70, 85, 50, 60, 100, 40, 95, 80, 60, 45]}, columns=['kelas', 'murid', 'pelajaran', 'nilai'])"
      ],
      "execution_count": 19,
      "outputs": []
    },
    {
      "cell_type": "code",
      "metadata": {
        "colab": {
          "base_uri": "https://localhost:8080/"
        },
        "id": "uRX_e_5bifpO",
        "outputId": "d02f5da6-4248-45a7-b079-8ba3193b24aa"
      },
      "source": [
        "# Creating pivot and assign pivot_tab dengan menggunakan keyword aggfunc='mean'\n",
        "pivot_tab_mean = data.pivot_table(index='kelas', columns='pelajaran', values='nilai', aggfunc='mean')\n",
        "print('Creating pivot table -- aggfunc mean:\\n', pivot_tab_mean)"
      ],
      "execution_count": 20,
      "outputs": [
        {
          "output_type": "stream",
          "text": [
            "Creating pivot table -- aggfunc mean:\n",
            " pelajaran    english  math\n",
            "kelas                     \n",
            "A          68.333333  70.0\n",
            "B          55.000000  85.0\n"
          ],
          "name": "stdout"
        }
      ]
    },
    {
      "cell_type": "code",
      "metadata": {
        "colab": {
          "base_uri": "https://localhost:8080/"
        },
        "id": "fz8-z3s3ijx7",
        "outputId": "8cd04a1e-515a-43b8-d800-677cbfaaf565"
      },
      "source": [
        "# Creating pivot and assign pivot_tab dengan menggunakan keyword aggfunc='median'\n",
        "pivot_tab_median = data.pivot_table(index='kelas', columns='pelajaran', values='nilai', aggfunc='median')\n",
        "print('Creating pivot table -- aggfunc median:\\n', pivot_tab_median)"
      ],
      "execution_count": 21,
      "outputs": [
        {
          "output_type": "stream",
          "text": [
            "Creating pivot table -- aggfunc median:\n",
            " pelajaran  english  math\n",
            "kelas                   \n",
            "A               60    70\n",
            "B               45    95\n"
          ],
          "name": "stdout"
        }
      ]
    },
    {
      "cell_type": "code",
      "metadata": {
        "colab": {
          "base_uri": "https://localhost:8080/"
        },
        "id": "qgaBdGIJipKv",
        "outputId": "2eaf6ae1-1fe6-4983-bccb-dc121d7c53df"
      },
      "source": [
        "# Creating pivot and assign pivot_tab dengan menggunakan keyword aggfunc=sum\n",
        "pivot_tab_sum = data.pivot_table(index='kelas', columns='pelajaran', values='nilai', aggfunc=sum)\n",
        "print('Creating pivot table -- aggfunc sum:\\n', pivot_tab_sum)"
      ],
      "execution_count": 22,
      "outputs": [
        {
          "output_type": "stream",
          "text": [
            "Creating pivot table -- aggfunc sum:\n",
            " pelajaran  english  math\n",
            "kelas                   \n",
            "A              205   210\n",
            "B              165   255\n"
          ],
          "name": "stdout"
        }
      ]
    },
    {
      "cell_type": "markdown",
      "metadata": {
        "id": "G0pxbgT9i0WQ"
      },
      "source": [
        "# Melt - Part 1"
      ]
    },
    {
      "cell_type": "code",
      "metadata": {
        "colab": {
          "base_uri": "https://localhost:8080/"
        },
        "id": "xE8gBWJBixyq",
        "outputId": "e4c3a6a7-5de2-463e-c9a7-38742369132f"
      },
      "source": [
        "import pandas as pd\n",
        "# Dataframe\n",
        "data = pd.DataFrame({'kelas': 6 * ['A'] + 6 * ['B'],\n",
        "                     'murid': 2 * ['A1'] + 2 * ['A2'] + 2 * ['A3'] + 2 * ['B1'] + 2 * ['B2'] + 2 * ['B3'],\n",
        "                     'pelajaran': 6 * ['math', 'english'],\n",
        "                     'nilai': [90, 60, 70, 85, 50, 60, 100, 40, 95, 80, 60, 45]}, columns=['kelas', 'murid', 'pelajaran', 'nilai'])\n",
        "\n",
        "# Pivoting dataframe\n",
        "data_pivot = data.pivot_table(index='kelas', columns='pelajaran', values='nilai', aggfunc='mean').reset_index()\n",
        "print('Pivoting dataframe:\\n', data_pivot)"
      ],
      "execution_count": 23,
      "outputs": [
        {
          "output_type": "stream",
          "text": [
            "Pivoting dataframe:\n",
            " pelajaran kelas    english  math\n",
            "0             A  68.333333  70.0\n",
            "1             B  55.000000  85.0\n"
          ],
          "name": "stdout"
        }
      ]
    },
    {
      "cell_type": "code",
      "metadata": {
        "colab": {
          "base_uri": "https://localhost:8080/"
        },
        "id": "IhM5dWQajcFY",
        "outputId": "a1eaa8c3-2a0f-49e0-e113-d73c01aba8b9"
      },
      "source": [
        "# [1] Melting dataframe data_pivot\n",
        "data_melt_1 = pd.melt(data_pivot)\n",
        "print('Melting dataframe:\\n', data_melt_1)"
      ],
      "execution_count": 24,
      "outputs": [
        {
          "output_type": "stream",
          "text": [
            "Melting dataframe:\n",
            "   pelajaran    value\n",
            "0     kelas        A\n",
            "1     kelas        B\n",
            "2   english  68.3333\n",
            "3   english       55\n",
            "4      math       70\n",
            "5      math       85\n"
          ],
          "name": "stdout"
        }
      ]
    },
    {
      "cell_type": "code",
      "metadata": {
        "colab": {
          "base_uri": "https://localhost:8080/"
        },
        "id": "wxFWjhnzjcdx",
        "outputId": "e5420d8f-bb4e-4b92-e90a-1c7acedc65ad"
      },
      "source": [
        "# [2] Melting dataframe data_pivot dengan id_vars\n",
        "data_melt_2 = pd.melt(data_pivot, id_vars='kelas')\n",
        "print('Melting dataframe dengan idvars:\\n', data_melt_2)"
      ],
      "execution_count": 25,
      "outputs": [
        {
          "output_type": "stream",
          "text": [
            "Melting dataframe dengan idvars:\n",
            "   kelas pelajaran      value\n",
            "0     A   english  68.333333\n",
            "1     B   english  55.000000\n",
            "2     A      math  70.000000\n",
            "3     B      math  85.000000\n"
          ],
          "name": "stdout"
        }
      ]
    },
    {
      "cell_type": "markdown",
      "metadata": {
        "id": "sHF7VjNojvMS"
      },
      "source": [
        "# Melt - Part 2"
      ]
    },
    {
      "cell_type": "code",
      "metadata": {
        "colab": {
          "base_uri": "https://localhost:8080/"
        },
        "id": "4eVXTJySjsFU",
        "outputId": "b1f5a270-2811-4df6-e580-6f02c153b70a"
      },
      "source": [
        "import pandas as pd\n",
        "# Dataframe\n",
        "data = pd.DataFrame({'kelas': 6 * ['A'] + 6 * ['B'],\n",
        "                     'murid': 2 * ['A1'] + 2 * ['A2'] + 2 * ['A3'] + 2 * ['B1'] + 2 * ['B2'] + 2 * ['B3'],\n",
        "                     'pelajaran': 6 * ['math', 'english'],\n",
        "                     'nilai': [90, 60, 70, 85, 50, 60, 100, 40, 95, 80, 60, 45]}, columns=['kelas', 'murid', 'pelajaran', 'nilai'])\n",
        "\n",
        "# Pivoting dataframe\n",
        "data_pivot = data.pivot_table(index='kelas', columns='pelajaran', values='nilai', aggfunc='mean').reset_index()\n",
        "print('Pivoting dataframe:\\n', data_pivot)"
      ],
      "execution_count": 26,
      "outputs": [
        {
          "output_type": "stream",
          "text": [
            "Pivoting dataframe:\n",
            " pelajaran kelas    english  math\n",
            "0             A  68.333333  70.0\n",
            "1             B  55.000000  85.0\n"
          ],
          "name": "stdout"
        }
      ]
    },
    {
      "cell_type": "code",
      "metadata": {
        "colab": {
          "base_uri": "https://localhost:8080/"
        },
        "id": "EnXsJuHzkM_q",
        "outputId": "397d40d8-200d-487e-b863-a3c822c0e79e"
      },
      "source": [
        "# [3.a] Melting dataframe data_pivot dengan value_vars\n",
        "data_melt_3a = pd.melt(data_pivot, value_vars=['math'])\n",
        "print('Melting dataframe dengan value_vars:\\n', data_melt_3a)"
      ],
      "execution_count": 27,
      "outputs": [
        {
          "output_type": "stream",
          "text": [
            "Melting dataframe dengan value_vars:\n",
            "   pelajaran  value\n",
            "0      math   70.0\n",
            "1      math   85.0\n"
          ],
          "name": "stdout"
        }
      ]
    },
    {
      "cell_type": "code",
      "metadata": {
        "colab": {
          "base_uri": "https://localhost:8080/"
        },
        "id": "3nfiewJ1kPy2",
        "outputId": "9373b39b-3726-4481-90e7-5407c397cb5d"
      },
      "source": [
        "# [3.b] Melting dataframe data_pivot dengan id_vars dan value_vars\n",
        "data_melt_3b = pd.melt(data_pivot, id_vars='kelas', value_vars=['math'])\n",
        "print('Melting dataframe dengan id_vars dan value_vars:\\n', data_melt_3b)"
      ],
      "execution_count": 28,
      "outputs": [
        {
          "output_type": "stream",
          "text": [
            "Melting dataframe dengan id_vars dan value_vars:\n",
            "   kelas pelajaran  value\n",
            "0     A      math   70.0\n",
            "1     B      math   85.0\n"
          ],
          "name": "stdout"
        }
      ]
    },
    {
      "cell_type": "code",
      "metadata": {
        "colab": {
          "base_uri": "https://localhost:8080/"
        },
        "id": "mhicbE-SkSWV",
        "outputId": "30657bc7-aacd-403d-e949-c67e87f13c5e"
      },
      "source": [
        "# [4] Melting dataframe data_pivot dengan id_vars, value_vars, var_name. dan value_name\n",
        "data_melt_4 = pd.melt(data_pivot, id_vars='kelas', value_vars=['english','math'], var_name='pelajaran', value_name='nilai')\n",
        "print('Melting dataframe dengan id_vars, value_vars, var_name. dan value_name:\\n', data_melt_4)"
      ],
      "execution_count": 29,
      "outputs": [
        {
          "output_type": "stream",
          "text": [
            "Melting dataframe dengan id_vars, value_vars, var_name. dan value_name:\n",
            "   kelas pelajaran      nilai\n",
            "0     A   english  68.333333\n",
            "1     B   english  55.000000\n",
            "2     A      math  70.000000\n",
            "3     B      math  85.000000\n"
          ],
          "name": "stdout"
        }
      ]
    },
    {
      "cell_type": "markdown",
      "metadata": {
        "id": "7K8l8d6EkX-f"
      },
      "source": [
        "# Stack & Unstack - Part 1"
      ]
    },
    {
      "cell_type": "code",
      "metadata": {
        "id": "zodMD4cLkVj1"
      },
      "source": [
        "import pandas as pd\n",
        "# Dataframe\n",
        "data = pd.DataFrame({'kelas': 6 * ['A'] + 6 * ['B'],\n",
        "                     'murid': 2 * ['A1'] + 2 * ['A2'] + 2 * ['A3'] + 2 * ['B1'] + 2 * ['B2'] + 2 * ['B3'],\n",
        "                     'pelajaran': 6 * ['math', 'english'],\n",
        "                     'nilai': [90, 60, 70, 85, 50, 60, 100, 40, 95, 80, 60, 45]}, columns=['kelas', 'murid', 'pelajaran', 'nilai'])"
      ],
      "execution_count": 30,
      "outputs": []
    },
    {
      "cell_type": "code",
      "metadata": {
        "colab": {
          "base_uri": "https://localhost:8080/"
        },
        "id": "Y-DjLCWMkvWy",
        "outputId": "7f892b5f-96da-435e-f17b-79b4933d236e"
      },
      "source": [
        "# Set index data untuk kolom kelas, murid, dan pelajaran\n",
        "data = data.set_index(['kelas', 'murid', 'pelajaran'])\n",
        "print('Dataframe multi index:\\n', data)"
      ],
      "execution_count": 31,
      "outputs": [
        {
          "output_type": "stream",
          "text": [
            "Dataframe multi index:\n",
            "                        nilai\n",
            "kelas murid pelajaran       \n",
            "A     A1    math          90\n",
            "            english       60\n",
            "      A2    math          70\n",
            "            english       85\n",
            "      A3    math          50\n",
            "            english       60\n",
            "B     B1    math         100\n",
            "            english       40\n",
            "      B2    math          95\n",
            "            english       80\n",
            "      B3    math          60\n",
            "            english       45\n"
          ],
          "name": "stdout"
        }
      ]
    },
    {
      "cell_type": "code",
      "metadata": {
        "colab": {
          "base_uri": "https://localhost:8080/"
        },
        "id": "QUehj3nMkxVD",
        "outputId": "876adc3b-912b-49d8-cd34-8849fd2be201"
      },
      "source": [
        "# [1] Unstacking dataframe\n",
        "data_unstack_1 = data.unstack()\n",
        "print('Unstacking dataframe:\\n', data_unstack_1)"
      ],
      "execution_count": 32,
      "outputs": [
        {
          "output_type": "stream",
          "text": [
            "Unstacking dataframe:\n",
            "               nilai     \n",
            "pelajaran   english math\n",
            "kelas murid             \n",
            "A     A1         60   90\n",
            "      A2         85   70\n",
            "      A3         60   50\n",
            "B     B1         40  100\n",
            "      B2         80   95\n",
            "      B3         45   60\n"
          ],
          "name": "stdout"
        }
      ]
    },
    {
      "cell_type": "code",
      "metadata": {
        "colab": {
          "base_uri": "https://localhost:8080/"
        },
        "id": "5Pf8NFy_kzdt",
        "outputId": "a6faf325-ac38-4c24-aa5d-124ebab975f0"
      },
      "source": [
        "# [2] Unstacking dengan specify level name\n",
        "data_unstack_2 = data.unstack(level='murid')\n",
        "print('Unstacking dataframe dengan level name:\\n', data_unstack_2)"
      ],
      "execution_count": 33,
      "outputs": [
        {
          "output_type": "stream",
          "text": [
            "Unstacking dataframe dengan level name:\n",
            "                 nilai                               \n",
            "murid              A1    A2    A3     B1    B2    B3\n",
            "kelas pelajaran                                     \n",
            "A     english    60.0  85.0  60.0    NaN   NaN   NaN\n",
            "      math       90.0  70.0  50.0    NaN   NaN   NaN\n",
            "B     english     NaN   NaN   NaN   40.0  80.0  45.0\n",
            "      math        NaN   NaN   NaN  100.0  95.0  60.0\n"
          ],
          "name": "stdout"
        }
      ]
    },
    {
      "cell_type": "code",
      "metadata": {
        "colab": {
          "base_uri": "https://localhost:8080/"
        },
        "id": "Z90qZxoUk1p6",
        "outputId": "3dd245fa-2c13-4700-f44f-f690b6a7add9"
      },
      "source": [
        "# [3] Unstacking dengan specify level position\n",
        "data_unstack_3 = data.unstack(level=1)\n",
        "print('Unstacking dataframe dengan level position:\\n', data_unstack_3)"
      ],
      "execution_count": 34,
      "outputs": [
        {
          "output_type": "stream",
          "text": [
            "Unstacking dataframe dengan level position:\n",
            "                 nilai                               \n",
            "murid              A1    A2    A3     B1    B2    B3\n",
            "kelas pelajaran                                     \n",
            "A     english    60.0  85.0  60.0    NaN   NaN   NaN\n",
            "      math       90.0  70.0  50.0    NaN   NaN   NaN\n",
            "B     english     NaN   NaN   NaN   40.0  80.0  45.0\n",
            "      math        NaN   NaN   NaN  100.0  95.0  60.0\n"
          ],
          "name": "stdout"
        }
      ]
    },
    {
      "cell_type": "markdown",
      "metadata": {
        "id": "seXm4OUFk6Wn"
      },
      "source": [
        "# Stack & Unstack - Part 2"
      ]
    },
    {
      "cell_type": "code",
      "metadata": {
        "colab": {
          "base_uri": "https://localhost:8080/"
        },
        "id": "iiH2Nxdxk34M",
        "outputId": "4c9c256a-e736-4087-cba5-6357e4b152e9"
      },
      "source": [
        "import pandas as pd\n",
        "# Dataframe\n",
        "data = pd.DataFrame({'kelas': 6 * ['A'] + 6 * ['B'],\n",
        "                     'murid': 2 * ['A1'] + 2 * ['A2'] + 2 * ['A3'] + 2 * ['B1'] + 2 * ['B2'] + 2 * ['B3'],\n",
        "                     'pelajaran': 6 * ['math', 'english'],\n",
        "                     'nilai': [90, 60, 70, 85, 50, 60, 100, 40, 95, 80, 60, 45]}, columns=['kelas', 'murid', 'pelajaran', 'nilai'])\n",
        "data = data.set_index(['kelas', 'murid', 'pelajaran'])\n",
        "data_unstack = data.unstack(level=1)\n",
        "print('Dataframe:\\n', data_unstack)"
      ],
      "execution_count": 35,
      "outputs": [
        {
          "output_type": "stream",
          "text": [
            "Dataframe:\n",
            "                 nilai                               \n",
            "murid              A1    A2    A3     B1    B2    B3\n",
            "kelas pelajaran                                     \n",
            "A     english    60.0  85.0  60.0    NaN   NaN   NaN\n",
            "      math       90.0  70.0  50.0    NaN   NaN   NaN\n",
            "B     english     NaN   NaN   NaN   40.0  80.0  45.0\n",
            "      math        NaN   NaN   NaN  100.0  95.0  60.0\n"
          ],
          "name": "stdout"
        }
      ]
    },
    {
      "cell_type": "code",
      "metadata": {
        "colab": {
          "base_uri": "https://localhost:8080/"
        },
        "id": "FQ_WDT8plNMF",
        "outputId": "f5d655bb-e9bc-4b3d-ae70-52a682b2e9ab"
      },
      "source": [
        "# [1] Stacking dataframe\n",
        "data_stack = data_unstack.stack()\n",
        "print('Stacked dataframe:\\n', data_stack)"
      ],
      "execution_count": 36,
      "outputs": [
        {
          "output_type": "stream",
          "text": [
            "Stacked dataframe:\n",
            "                        nilai\n",
            "kelas pelajaran murid       \n",
            "A     english   A1      60.0\n",
            "                A2      85.0\n",
            "                A3      60.0\n",
            "      math      A1      90.0\n",
            "                A2      70.0\n",
            "                A3      50.0\n",
            "B     english   B1      40.0\n",
            "                B2      80.0\n",
            "                B3      45.0\n",
            "      math      B1     100.0\n",
            "                B2      95.0\n",
            "                B3      60.0\n"
          ],
          "name": "stdout"
        }
      ]
    },
    {
      "cell_type": "code",
      "metadata": {
        "colab": {
          "base_uri": "https://localhost:8080/"
        },
        "id": "khpiFMfFlTlp",
        "outputId": "9dfc3e2c-03a7-4413-b3e6-0f5f1461e37d"
      },
      "source": [
        "# [2] Tukar posisi index setelah stacking dataframe\n",
        "data_swap = data_stack.swaplevel(1, 2)\n",
        "print('Swapped data:\\n', data_swap)"
      ],
      "execution_count": 37,
      "outputs": [
        {
          "output_type": "stream",
          "text": [
            "Swapped data:\n",
            "                        nilai\n",
            "kelas murid pelajaran       \n",
            "A     A1    english     60.0\n",
            "      A2    english     85.0\n",
            "      A3    english     60.0\n",
            "      A1    math        90.0\n",
            "      A2    math        70.0\n",
            "      A3    math        50.0\n",
            "B     B1    english     40.0\n",
            "      B2    english     80.0\n",
            "      B3    english     45.0\n",
            "      B1    math       100.0\n",
            "      B2    math        95.0\n",
            "      B3    math        60.0\n"
          ],
          "name": "stdout"
        }
      ]
    },
    {
      "cell_type": "code",
      "metadata": {
        "colab": {
          "base_uri": "https://localhost:8080/"
        },
        "id": "YaFnLuCulWHj",
        "outputId": "b56a23c6-01ed-47a3-ad9c-d3eb305a61af"
      },
      "source": [
        "# [3] Melakukan sort_index pada stacking dataframe\n",
        "data_sort = data_swap.sort_index()\n",
        "print('Sorted data:\\n', data_sort)"
      ],
      "execution_count": 38,
      "outputs": [
        {
          "output_type": "stream",
          "text": [
            "Sorted data:\n",
            "                        nilai\n",
            "kelas murid pelajaran       \n",
            "A     A1    english     60.0\n",
            "            math        90.0\n",
            "      A2    english     85.0\n",
            "            math        70.0\n",
            "      A3    english     60.0\n",
            "            math        50.0\n",
            "B     B1    english     40.0\n",
            "            math       100.0\n",
            "      B2    english     80.0\n",
            "            math        95.0\n",
            "      B3    english     45.0\n",
            "            math        60.0\n"
          ],
          "name": "stdout"
        }
      ]
    },
    {
      "cell_type": "markdown",
      "metadata": {
        "id": "SKlHj1EOlzXf"
      },
      "source": [
        "# Review Inspeksi Data"
      ]
    },
    {
      "cell_type": "code",
      "metadata": {
        "colab": {
          "base_uri": "https://localhost:8080/"
        },
        "id": "rsBRa0ZslX3c",
        "outputId": "34d79fa1-d872-4372-b5ff-9795535cd7ec"
      },
      "source": [
        "import pandas as pd\n",
        "# Load data global_air_quality.csv\n",
        "global_air_quality = pd.read_csv('https://storage.googleapis.com/dqlab-dataset/LO4/global_air_quality_4000rows.csv')\n",
        "print('Lima data teratas:\\n', global_air_quality.head())"
      ],
      "execution_count": 39,
      "outputs": [
        {
          "output_type": "stream",
          "text": [
            "Lima data teratas:\n",
            "                           location  ... averaged_over_in_hours\n",
            "0                  MOBILE-KICKAPOO  ...                   1.00\n",
            "1                  Oxford St Ebbes  ...                   1.00\n",
            "2                 BROADWAY (South)  ...                   1.00\n",
            "3  Deen Dayal Nagar, Sagar - MPPCB  ...                   0.25\n",
            "4                        Manglerud  ...                   1.00\n",
            "\n",
            "[5 rows x 11 columns]\n"
          ],
          "name": "stdout"
        }
      ]
    },
    {
      "cell_type": "code",
      "metadata": {
        "colab": {
          "base_uri": "https://localhost:8080/"
        },
        "id": "LGfoOoU9mKp3",
        "outputId": "18cbbf68-86cf-4acc-9de1-273de8e2e601"
      },
      "source": [
        "# Melakukan pengecekan terhadap data\n",
        "print('Info global_air_quality:\\n', global_air_quality.info())"
      ],
      "execution_count": 40,
      "outputs": [
        {
          "output_type": "stream",
          "text": [
            "<class 'pandas.core.frame.DataFrame'>\n",
            "RangeIndex: 4000 entries, 0 to 3999\n",
            "Data columns (total 11 columns):\n",
            " #   Column                  Non-Null Count  Dtype  \n",
            "---  ------                  --------------  -----  \n",
            " 0   location                3997 non-null   object \n",
            " 1   city                    3966 non-null   object \n",
            " 2   country                 4000 non-null   object \n",
            " 3   pollutant               4000 non-null   object \n",
            " 4   value                   4000 non-null   float64\n",
            " 5   timestamp               4000 non-null   object \n",
            " 6   unit                    4000 non-null   object \n",
            " 7   source_name             4000 non-null   object \n",
            " 8   latitude                4000 non-null   float64\n",
            " 9   longitude               4000 non-null   float64\n",
            " 10  averaged_over_in_hours  3634 non-null   float64\n",
            "dtypes: float64(4), object(7)\n",
            "memory usage: 343.9+ KB\n",
            "Info global_air_quality:\n",
            " None\n"
          ],
          "name": "stdout"
        }
      ]
    },
    {
      "cell_type": "code",
      "metadata": {
        "colab": {
          "base_uri": "https://localhost:8080/"
        },
        "id": "Iz5GW2PHmMgZ",
        "outputId": "fb9db52f-4bde-449b-fb4f-632fcddfe62c"
      },
      "source": [
        "# Melakukan count tanpa groupby\n",
        "print('Count tanpa groupby:\\n', global_air_quality.count())"
      ],
      "execution_count": 41,
      "outputs": [
        {
          "output_type": "stream",
          "text": [
            "Count tanpa groupby:\n",
            " location                  3997\n",
            "city                      3966\n",
            "country                   4000\n",
            "pollutant                 4000\n",
            "value                     4000\n",
            "timestamp                 4000\n",
            "unit                      4000\n",
            "source_name               4000\n",
            "latitude                  4000\n",
            "longitude                 4000\n",
            "averaged_over_in_hours    3634\n",
            "dtype: int64\n"
          ],
          "name": "stdout"
        }
      ]
    },
    {
      "cell_type": "code",
      "metadata": {
        "colab": {
          "base_uri": "https://localhost:8080/"
        },
        "id": "SwpCRU72mOLj",
        "outputId": "1efe9577-50eb-4577-eb6d-cc786ba2c1f3"
      },
      "source": [
        "# Melakukan count dengan groupby \n",
        "gaq_groupby_count = global_air_quality.groupby('source_name').count()\n",
        "print('Count dengan groupby (5 data teratas):\\n', gaq_groupby_count.head())"
      ],
      "execution_count": 42,
      "outputs": [
        {
          "output_type": "stream",
          "text": [
            "Count dengan groupby (5 data teratas):\n",
            "              location  city  ...  longitude  averaged_over_in_hours\n",
            "source_name                  ...                                   \n",
            "ARPALAZIO          72    72  ...         72                      72\n",
            "Agaar.mn           27    27  ...         27                       0\n",
            "AirNow           1712  1681  ...       1715                    1715\n",
            "Andalucia          71    71  ...         71                      71\n",
            "Anqing              4     4  ...          4                       4\n",
            "\n",
            "[5 rows x 10 columns]\n"
          ],
          "name": "stdout"
        }
      ]
    },
    {
      "cell_type": "markdown",
      "metadata": {
        "id": "idWO3h_cmVsr"
      },
      "source": [
        "# Groupby dan Aggregasi dengan Fungsi Statistik Dasar - Part 1"
      ]
    },
    {
      "cell_type": "code",
      "metadata": {
        "id": "nnXW0npEmSPr"
      },
      "source": [
        "import pandas as pd\n",
        "# Load data global_air_quality.csv\n",
        "gaq = pd.read_csv('https://storage.googleapis.com/dqlab-dataset/LO4/global_air_quality_4000rows.csv')"
      ],
      "execution_count": 43,
      "outputs": []
    },
    {
      "cell_type": "code",
      "metadata": {
        "colab": {
          "base_uri": "https://localhost:8080/"
        },
        "id": "7vdOM7kGnEaH",
        "outputId": "73aa47b9-cb7f-4a31-def8-e13c64caf3c9"
      },
      "source": [
        "# Create variabel pollutant \n",
        "pollutant = gaq[['country', 'city', 'pollutant', 'value']].pivot_table(index=['country', 'city'], columns='pollutant').fillna(0)\n",
        "print('Data pollutant (5 teratas):\\n', pollutant.head())"
      ],
      "execution_count": 44,
      "outputs": [
        {
          "output_type": "stream",
          "text": [
            "Data pollutant (5 teratas):\n",
            "                      value                                     \n",
            "pollutant               bc      co   no2   o3   pm10  pm25  so2\n",
            "country city                                                   \n",
            "AR      Buenos Aires   0.0     0.0   0.0  0.0    0.0  18.1  0.0\n",
            "AU      Townsville     0.0     0.0   0.0  0.0    0.0   3.9  0.0\n",
            "BA      Goražde        0.0   141.0  19.0  8.0    0.0   0.0  0.0\n",
            "        Ilijaš         0.0     0.0   0.0  0.0  100.0   0.0  0.0\n",
            "        Jajce          0.0  1508.0  25.0  6.0    9.0   0.0  0.0\n"
          ],
          "name": "stdout"
        }
      ]
    },
    {
      "cell_type": "code",
      "metadata": {
        "colab": {
          "base_uri": "https://localhost:8080/"
        },
        "id": "DzENNvW6nKm_",
        "outputId": "8b92c261-c9e1-4148-9ed7-0e7fdd661cbc"
      },
      "source": [
        "# [1] Group berdasarkan country dan terapkan aggregasi mean\n",
        "pollutant_mean = pollutant.groupby('country').mean()\n",
        "print('Rata-rata pollutant (5 teratas):\\n', pollutant_mean.head())"
      ],
      "execution_count": 45,
      "outputs": [
        {
          "output_type": "stream",
          "text": [
            "Rata-rata pollutant (5 teratas):\n",
            "           value                         ...                                 \n",
            "pollutant    bc          co        no2  ...       pm10       pm25        so2\n",
            "country                                 ...                                 \n",
            "AR          0.0    0.000000   0.000000  ...   0.000000  18.100000   0.000000\n",
            "AU          0.0    0.000000   0.000000  ...   0.000000   3.900000   0.000000\n",
            "BA          0.0  475.833333  19.500000  ...  40.333333   0.000000  18.000000\n",
            "CA          0.0    0.036818   0.000355  ...   0.836364   3.433601   0.000091\n",
            "CL          0.0    0.000000  21.000000  ...   0.000000   0.000000   0.000000\n",
            "\n",
            "[5 rows x 7 columns]\n"
          ],
          "name": "stdout"
        }
      ]
    },
    {
      "cell_type": "code",
      "metadata": {
        "colab": {
          "base_uri": "https://localhost:8080/"
        },
        "id": "xuMuAgHNnS9s",
        "outputId": "69350404-7f0e-453a-8279-81f2caa6a7f6"
      },
      "source": [
        "# [2] Group berdasarkan country dan terapkan aggregasi std\n",
        "pollutant_std = pollutant.groupby('country').std().fillna(0)\n",
        "print('Standar deviasi pollutant (5 teratas):\\n', pollutant_std.head())"
      ],
      "execution_count": 46,
      "outputs": [
        {
          "output_type": "stream",
          "text": [
            "Standar deviasi pollutant (5 teratas):\n",
            "         value                                                                 \n",
            "           bc          co        no2        o3       pm10      pm25        so2\n",
            "country                                                                       \n",
            "AR        0.0    0.000000   0.000000  0.000000   0.000000  0.000000   0.000000\n",
            "AU        0.0    0.000000   0.000000  0.000000   0.000000  0.000000   0.000000\n",
            "BA        0.0  536.925476  11.945711  8.207720  46.701891  0.000000  30.403947\n",
            "CA        0.0    0.089841   0.000750  0.019323   1.713052  2.286509   0.000302\n",
            "CL        0.0    0.000000   0.000000  0.000000   0.000000  0.000000   0.000000\n"
          ],
          "name": "stdout"
        }
      ]
    },
    {
      "cell_type": "markdown",
      "metadata": {
        "id": "c35rVKZpnZch"
      },
      "source": [
        "# Groupby dan Aggregasi dengan Fungsi Statistik Dasar - Part 2"
      ]
    },
    {
      "cell_type": "code",
      "metadata": {
        "colab": {
          "base_uri": "https://localhost:8080/"
        },
        "id": "R-R6wfTKnU2z",
        "outputId": "9ddbd101-0518-4962-d7d6-7908604902be"
      },
      "source": [
        "# [3] Group berdasarkan country dan terapkan aggregasi sum\n",
        "pollutant_sum = pollutant.groupby('country').sum()\n",
        "print('Total pollutant (5 teratas):\\n', pollutant_sum.head())"
      ],
      "execution_count": 47,
      "outputs": [
        {
          "output_type": "stream",
          "text": [
            "Total pollutant (5 teratas):\n",
            "           value                                                          \n",
            "pollutant    bc        co       no2         o3   pm10       pm25      so2\n",
            "country                                                                  \n",
            "AR          0.0     0.000    0.0000   0.000000    0.0  18.100000    0.000\n",
            "AU          0.0     0.000    0.0000   0.000000    0.0   3.900000    0.000\n",
            "BA          0.0  2855.000  117.0000  35.000000  242.0   0.000000  108.000\n",
            "CA          0.0     0.405    0.0039   0.285593    9.2  37.769608    0.001\n",
            "CL          0.0     0.000   21.0000   0.000000    0.0   0.000000    0.000\n"
          ],
          "name": "stdout"
        }
      ]
    },
    {
      "cell_type": "code",
      "metadata": {
        "colab": {
          "base_uri": "https://localhost:8080/"
        },
        "id": "41h0rDmvnhEs",
        "outputId": "cd8b843a-94b6-4383-ab42-5112eed57c02"
      },
      "source": [
        "# [4] Group berdasarkan country dan terapkan aggregasi nunique\n",
        "pollutant_nunique = pollutant.groupby('country').nunique()\n",
        "print('Jumlah unique value pollutant (5 teratas):\\n', pollutant_nunique.head())"
      ],
      "execution_count": 48,
      "outputs": [
        {
          "output_type": "stream",
          "text": [
            "Jumlah unique value pollutant (5 teratas):\n",
            "           value                        \n",
            "pollutant    bc co no2 o3 pm10 pm25 so2\n",
            "country                                \n",
            "AR            1  1   1  1    1    1   1\n",
            "AU            1  1   1  1    1    1   1\n",
            "BA            1  6   6  4    5    1   4\n",
            "CA            1  3   4  9    4   10   2\n",
            "CL            1  1   1  1    1    1   1\n"
          ],
          "name": "stdout"
        }
      ]
    },
    {
      "cell_type": "markdown",
      "metadata": {
        "id": "58iaaPo_nqw7"
      },
      "source": [
        "# Groupby dan Aggregasi dengan Fungsi Statistik Dasar - Part 3"
      ]
    },
    {
      "cell_type": "code",
      "metadata": {
        "colab": {
          "base_uri": "https://localhost:8080/"
        },
        "id": "f7frEJJTnkbj",
        "outputId": "894e05ea-9d95-49d4-82af-72bf010ef420"
      },
      "source": [
        "# Group berdasarkan country dan terapkan aggregasi min\n",
        "pollutant_min = pollutant.groupby('country').min()\n",
        "print('Nilai min pollutant (5 teratas):\\n', pollutant_min.head())"
      ],
      "execution_count": 49,
      "outputs": [
        {
          "output_type": "stream",
          "text": [
            "Nilai min pollutant (5 teratas):\n",
            "           value                                \n",
            "pollutant    bc   co   no2   o3 pm10  pm25  so2\n",
            "country                                        \n",
            "AR          0.0  0.0   0.0  0.0  0.0  18.1  0.0\n",
            "AU          0.0  0.0   0.0  0.0  0.0   3.9  0.0\n",
            "BA          0.0  0.0   0.0  0.0  0.0   0.0  0.0\n",
            "CA          0.0  0.0   0.0  0.0  0.0   0.0  0.0\n",
            "CL          0.0  0.0  21.0  0.0  0.0   0.0  0.0\n"
          ],
          "name": "stdout"
        }
      ]
    },
    {
      "cell_type": "code",
      "metadata": {
        "colab": {
          "base_uri": "https://localhost:8080/"
        },
        "id": "O503eFOen26u",
        "outputId": "2cb71543-79a4-4fbe-cb9f-ea85ed60d6bd"
      },
      "source": [
        "# Group berdasarkan country dan terapkan aggregasi max\n",
        "pollutant_max = pollutant.groupby('country').max()\n",
        "print('Nilai min pollutant (5 teratas):\\n', pollutant_max.head())"
      ],
      "execution_count": 50,
      "outputs": [
        {
          "output_type": "stream",
          "text": [
            "Nilai min pollutant (5 teratas):\n",
            "           value                                                   \n",
            "pollutant    bc        co      no2         o3   pm10  pm25     so2\n",
            "country                                                           \n",
            "AR          0.0     0.000   0.0000   0.000000    0.0  18.1   0.000\n",
            "AU          0.0     0.000   0.0000   0.000000    0.0   3.9   0.000\n",
            "BA          0.0  1508.000  32.0000  21.000000  100.0   0.0  78.000\n",
            "CA          0.0     0.285   0.0024   0.048333    5.2   6.0   0.001\n",
            "CL          0.0     0.000  21.0000   0.000000    0.0   0.0   0.000\n"
          ],
          "name": "stdout"
        }
      ]
    },
    {
      "cell_type": "code",
      "metadata": {
        "colab": {
          "base_uri": "https://localhost:8080/"
        },
        "id": "FjumfLarn8Lt",
        "outputId": "2629789d-e068-4d26-efce-1162d030f222"
      },
      "source": [
        "# Group berdasarkan country dan terapkan aggregasi first\n",
        "pollutant_first = pollutant.groupby('country').first()\n",
        "print('Item pertama pollutant (5 teratas):\\n', pollutant_first.head())"
      ],
      "execution_count": 51,
      "outputs": [
        {
          "output_type": "stream",
          "text": [
            "Item pertama pollutant (5 teratas):\n",
            "           value                                            \n",
            "pollutant    bc       co      no2        o3 pm10  pm25  so2\n",
            "country                                                    \n",
            "AR          0.0    0.000   0.0000  0.000000  0.0  18.1  0.0\n",
            "AU          0.0    0.000   0.0000  0.000000  0.0   3.9  0.0\n",
            "BA          0.0  141.000  19.0000  8.000000  0.0   0.0  0.0\n",
            "CA          0.0    0.285   0.0024  0.048333  0.0   3.9  0.0\n",
            "CL          0.0    0.000  21.0000  0.000000  0.0   0.0  0.0\n"
          ],
          "name": "stdout"
        }
      ]
    },
    {
      "cell_type": "code",
      "metadata": {
        "colab": {
          "base_uri": "https://localhost:8080/"
        },
        "id": "9BBfYw_WoAu2",
        "outputId": "f83acabe-753e-437c-f686-03a6e7c6fb70"
      },
      "source": [
        "# Group berdasarkan country dan terapkan aggregasi last\n",
        "pollutant_last = pollutant.groupby('country').last()\n",
        "print('Item terakhir pollutant (5 teratas):\\n', pollutant_last.head())"
      ],
      "execution_count": 52,
      "outputs": [
        {
          "output_type": "stream",
          "text": [
            "Item terakhir pollutant (5 teratas):\n",
            "           value                                      \n",
            "pollutant    bc     co   no2     o3  pm10  pm25   so2\n",
            "country                                              \n",
            "AR          0.0    0.0   0.0  0.000   0.0  18.1   0.0\n",
            "AU          0.0    0.0   0.0  0.000   0.0   3.9   0.0\n",
            "BA          0.0  292.0  29.0  0.000  96.0   0.0  78.0\n",
            "CA          0.0    0.0   0.0  0.036   3.0   0.0   0.0\n",
            "CL          0.0    0.0  21.0  0.000   0.0   0.0   0.0\n"
          ],
          "name": "stdout"
        }
      ]
    },
    {
      "cell_type": "markdown",
      "metadata": {
        "id": "fWx5xJHQoFfg"
      },
      "source": [
        "# Groupby dengan Multiple Aggregations"
      ]
    },
    {
      "cell_type": "code",
      "metadata": {
        "colab": {
          "base_uri": "https://localhost:8080/"
        },
        "id": "QEykzW_NoDJ4",
        "outputId": "cab00109-105f-4700-cdb4-3f8cf52aaba9"
      },
      "source": [
        "import pandas as pd\n",
        "# Load data https://storage.googleapis.com/dqlab-dataset/LO4/global_air_quality_4000rows.csv\n",
        "gaq = pd.read_csv('https://storage.googleapis.com/dqlab-dataset/LO4/global_air_quality_4000rows.csv')\n",
        "\n",
        "# Create variabel pollutant \n",
        "pollutant = gaq[['country', 'city', 'pollutant', 'value']].pivot_table(index=['country', 'city'], columns='pollutant').fillna(0)\n",
        "print('Data pollutant (5 teratas):\\n', pollutant.head())"
      ],
      "execution_count": 53,
      "outputs": [
        {
          "output_type": "stream",
          "text": [
            "Data pollutant (5 teratas):\n",
            "                      value                                     \n",
            "pollutant               bc      co   no2   o3   pm10  pm25  so2\n",
            "country city                                                   \n",
            "AR      Buenos Aires   0.0     0.0   0.0  0.0    0.0  18.1  0.0\n",
            "AU      Townsville     0.0     0.0   0.0  0.0    0.0   3.9  0.0\n",
            "BA      Goražde        0.0   141.0  19.0  8.0    0.0   0.0  0.0\n",
            "        Ilijaš         0.0     0.0   0.0  0.0  100.0   0.0  0.0\n",
            "        Jajce          0.0  1508.0  25.0  6.0    9.0   0.0  0.0\n"
          ],
          "name": "stdout"
        }
      ]
    },
    {
      "cell_type": "code",
      "metadata": {
        "colab": {
          "base_uri": "https://localhost:8080/"
        },
        "id": "Y-WGDQMeoUiU",
        "outputId": "72216317-11e8-4b92-80a0-d54e14a2f190"
      },
      "source": [
        "# Group berdasarkan country dan terapkan aggregasi: min, median, mean, max\n",
        "multiagg = pollutant.groupby('country').agg(['min', 'median', 'mean', 'max'])\n",
        "print('Multiple aggregations (5 teratas):\\n', multiagg.head())"
      ],
      "execution_count": 54,
      "outputs": [
        {
          "output_type": "stream",
          "text": [
            "Multiple aggregations (5 teratas):\n",
            "         value                        ...                                     \n",
            "           bc                    co  ...  pm25  so2                          \n",
            "          min median mean  max  min  ...   max  min median       mean     max\n",
            "country                              ...                                     \n",
            "AR        0.0    0.0  0.0  0.0  0.0  ...  18.1  0.0    0.0   0.000000   0.000\n",
            "AU        0.0    0.0  0.0  0.0  0.0  ...   3.9  0.0    0.0   0.000000   0.000\n",
            "BA        0.0    0.0  0.0  0.0  0.0  ...   0.0  0.0    5.5  18.000000  78.000\n",
            "CA        0.0    0.0  0.0  0.0  0.0  ...   6.0  0.0    0.0   0.000091   0.001\n",
            "CL        0.0    0.0  0.0  0.0  0.0  ...   0.0  0.0    0.0   0.000000   0.000\n",
            "\n",
            "[5 rows x 28 columns]\n"
          ],
          "name": "stdout"
        }
      ]
    },
    {
      "cell_type": "markdown",
      "metadata": {
        "id": "MasIqMY5oaNa"
      },
      "source": [
        "# Groupby dengan Custom Aggregations"
      ]
    },
    {
      "cell_type": "code",
      "metadata": {
        "colab": {
          "base_uri": "https://localhost:8080/"
        },
        "id": "YTdefWl5oXEv",
        "outputId": "ba9df1bb-37bb-47b6-9471-cca6c1deffca"
      },
      "source": [
        "import pandas as pd\n",
        "# Load data https://storage.googleapis.com/dqlab-dataset/LO4/global_air_quality_4000rows.csv\n",
        "gaq = pd.read_csv('https://storage.googleapis.com/dqlab-dataset/LO4/global_air_quality_4000rows.csv')\n",
        "\n",
        "# Create variabel pollutant \n",
        "pollutant = gaq[['country', 'city', 'pollutant', 'value']].pivot_table(index=['country', 'city'], columns='pollutant').fillna(0)\n",
        "print('Data pollutant (5 teratas):\\n', pollutant.head())"
      ],
      "execution_count": 55,
      "outputs": [
        {
          "output_type": "stream",
          "text": [
            "Data pollutant (5 teratas):\n",
            "                      value                                     \n",
            "pollutant               bc      co   no2   o3   pm10  pm25  so2\n",
            "country city                                                   \n",
            "AR      Buenos Aires   0.0     0.0   0.0  0.0    0.0  18.1  0.0\n",
            "AU      Townsville     0.0     0.0   0.0  0.0    0.0   3.9  0.0\n",
            "BA      Goražde        0.0   141.0  19.0  8.0    0.0   0.0  0.0\n",
            "        Ilijaš         0.0     0.0   0.0  0.0  100.0   0.0  0.0\n",
            "        Jajce          0.0  1508.0  25.0  6.0    9.0   0.0  0.0\n"
          ],
          "name": "stdout"
        }
      ]
    },
    {
      "cell_type": "code",
      "metadata": {
        "colab": {
          "base_uri": "https://localhost:8080/"
        },
        "id": "0vv8gyhaokpY",
        "outputId": "9851d276-dc62-4017-cb8f-be4b9d2315e3"
      },
      "source": [
        "# Create function: data_range\n",
        "def data_range(series):\n",
        "    return series.max() - series.min()\n",
        "\n",
        "# Group berdasarkan country dan terapkan aggregasi dari function: range\n",
        "custom_agg = pollutant.groupby('country').agg(data_range)\n",
        "print('Custom aggregation (5 teratas):\\n', custom_agg.head())"
      ],
      "execution_count": 56,
      "outputs": [
        {
          "output_type": "stream",
          "text": [
            "Custom aggregation (5 teratas):\n",
            "         value                                                  \n",
            "           bc        co      no2         o3   pm10 pm25     so2\n",
            "country                                                        \n",
            "AR        0.0     0.000   0.0000   0.000000    0.0  0.0   0.000\n",
            "AU        0.0     0.000   0.0000   0.000000    0.0  0.0   0.000\n",
            "BA        0.0  1508.000  32.0000  21.000000  100.0  0.0  78.000\n",
            "CA        0.0     0.285   0.0024   0.048333    5.2  6.0   0.001\n",
            "CL        0.0     0.000   0.0000   0.000000    0.0  0.0   0.000\n"
          ],
          "name": "stdout"
        }
      ]
    },
    {
      "cell_type": "code",
      "metadata": {
        "colab": {
          "base_uri": "https://localhost:8080/"
        },
        "id": "hBPdnb1co3PH",
        "outputId": "0f7f60aa-5c9e-4bba-d2b1-64fd04ae2811"
      },
      "source": [
        "# Create sebuah function: iqr\n",
        "def iqr(series):\n",
        "\tQ1 = series.quantile(0.25)\n",
        "\tQ3 = series.quantile(0.75)\n",
        "\treturn Q3 - Q1\n",
        "\n",
        "# Group berdasarkan country dan terapkan aggregasi dari function: iqr\n",
        "custom_agg = pollutant.groupby('country').agg(iqr)\n",
        "print('Custom aggregation (5 teratas):\\n', custom_agg.head())"
      ],
      "execution_count": 57,
      "outputs": [
        {
          "output_type": "stream",
          "text": [
            "Custom aggregation (5 teratas):\n",
            "         value                                                  \n",
            "           bc      co       no2        o3  pm10      pm25   so2\n",
            "country                                                        \n",
            "AR        0.0    0.00   0.00000  0.000000   0.0  0.000000   0.0\n",
            "AU        0.0    0.00   0.00000  0.000000   0.0  0.000000   0.0\n",
            "BA        0.0  297.75  14.25000  7.500000  79.0  0.000000  17.0\n",
            "CA        0.0    0.00   0.00025  0.035708   0.5  3.876471   0.0\n",
            "CL        0.0    0.00   0.00000  0.000000   0.0  0.000000   0.0\n"
          ],
          "name": "stdout"
        }
      ]
    },
    {
      "cell_type": "markdown",
      "metadata": {
        "id": "gwuwAbRHo-Gy"
      },
      "source": [
        "# Groupby dengan Custom Aggregations by dict"
      ]
    },
    {
      "cell_type": "code",
      "metadata": {
        "colab": {
          "base_uri": "https://localhost:8080/"
        },
        "id": "nBu_z3hFo61u",
        "outputId": "5ed8fbfd-e190-4c9d-fcae-c65bad0a1cc5"
      },
      "source": [
        "import pandas as pd\n",
        "# Load data https://storage.googleapis.com/dqlab-dataset/LO4/global_air_quality_4000rows.csv\n",
        "gaq = pd.read_csv('https://storage.googleapis.com/dqlab-dataset/LO4/global_air_quality_4000rows.csv')\n",
        "\n",
        "# Create variabel pollutant \n",
        "pollutant = gaq[['country', 'city', 'pollutant', 'value']].pivot_table(index=['country', 'city'], columns='pollutant').fillna(0)\n",
        "print('Data pollutant (5 teratas):\\n', pollutant.head())"
      ],
      "execution_count": 58,
      "outputs": [
        {
          "output_type": "stream",
          "text": [
            "Data pollutant (5 teratas):\n",
            "                      value                                     \n",
            "pollutant               bc      co   no2   o3   pm10  pm25  so2\n",
            "country city                                                   \n",
            "AR      Buenos Aires   0.0     0.0   0.0  0.0    0.0  18.1  0.0\n",
            "AU      Townsville     0.0     0.0   0.0  0.0    0.0   3.9  0.0\n",
            "BA      Goražde        0.0   141.0  19.0  8.0    0.0   0.0  0.0\n",
            "        Ilijaš         0.0     0.0   0.0  0.0  100.0   0.0  0.0\n",
            "        Jajce          0.0  1508.0  25.0  6.0    9.0   0.0  0.0\n"
          ],
          "name": "stdout"
        }
      ]
    },
    {
      "cell_type": "code",
      "metadata": {
        "colab": {
          "base_uri": "https://localhost:8080/"
        },
        "id": "pgmTjjBopS1P",
        "outputId": "375554f6-d4ca-442e-9a76-ac886a2e9fd9"
      },
      "source": [
        "# Function IQR\n",
        "def iqr(series):\n",
        "\treturn series.quantile(0.75) - series.quantile(0.25)\n",
        "\n",
        "# Create custom aggregation using dict\n",
        "custom_agg_dict = pollutant['value'][['pm10', 'pm25', 'so2']].groupby('country').agg({'pm10':'median',\n",
        "                                                                                      'pm25':iqr,\n",
        "                                                                                      'so2':iqr})\n",
        "print('\\nCetak 5 data teratas custom_agg_dict:\\n', custom_agg_dict.head())"
      ],
      "execution_count": 59,
      "outputs": [
        {
          "output_type": "stream",
          "text": [
            "\n",
            "Cetak 5 data teratas custom_agg_dict:\n",
            "          pm10      pm25   so2\n",
            "country                      \n",
            "AR        0.0  0.000000   0.0\n",
            "AU        0.0  0.000000   0.0\n",
            "BA       23.0  0.000000  17.0\n",
            "CA        0.0  3.876471   0.0\n",
            "CL        0.0  0.000000   0.0\n"
          ],
          "name": "stdout"
        }
      ]
    },
    {
      "cell_type": "markdown",
      "metadata": {
        "id": "Rpe5HXwMolHK"
      },
      "source": [
        "# Load Dataset as Time Series"
      ]
    },
    {
      "cell_type": "code",
      "metadata": {
        "id": "SAD4Q8DYpbVJ",
        "colab": {
          "base_uri": "https://localhost:8080/"
        },
        "outputId": "5ea91320-7c5d-4ffb-e27d-04566b6923f8"
      },
      "source": [
        "import pandas as pd\n",
        "# Load dataset https://storage.googleapis.com/dqlab-dataset/LO4/global_air_quality_4000rows.csv\n",
        "gaq = pd.read_csv('https://storage.googleapis.com/dqlab-dataset/LO4/global_air_quality_4000rows.csv', parse_dates=True, index_col='timestamp')\n",
        "# Cetak 5 data teratas\n",
        "print(gaq.head())"
      ],
      "execution_count": 60,
      "outputs": [
        {
          "output_type": "stream",
          "text": [
            "                                                  location  ... averaged_over_in_hours\n",
            "timestamp                                                   ...                       \n",
            "2017-01-18 16:00:00+00:00                  MOBILE-KICKAPOO  ...                   1.00\n",
            "2020-04-07 20:00:00+00:00                  Oxford St Ebbes  ...                   1.00\n",
            "2020-04-07 19:00:00+00:00                 BROADWAY (South)  ...                   1.00\n",
            "2020-04-07 18:30:00+00:00  Deen Dayal Nagar, Sagar - MPPCB  ...                   0.25\n",
            "2020-04-07 20:00:00+00:00                        Manglerud  ...                   1.00\n",
            "\n",
            "[5 rows x 10 columns]\n"
          ],
          "name": "stdout"
        }
      ]
    },
    {
      "cell_type": "code",
      "metadata": {
        "colab": {
          "base_uri": "https://localhost:8080/"
        },
        "id": "gNULEVGlo-zT",
        "outputId": "edd0391d-1faa-4e75-97c7-6272780334c7"
      },
      "source": [
        "# Cetak info dari dataframe gaq\n",
        "print('info')\n",
        "print(gaq.info())"
      ],
      "execution_count": 61,
      "outputs": [
        {
          "output_type": "stream",
          "text": [
            "info\n",
            "<class 'pandas.core.frame.DataFrame'>\n",
            "DatetimeIndex: 4000 entries, 2017-01-18 16:00:00+00:00 to 2017-01-08 08:00:00+00:00\n",
            "Data columns (total 10 columns):\n",
            " #   Column                  Non-Null Count  Dtype  \n",
            "---  ------                  --------------  -----  \n",
            " 0   location                3997 non-null   object \n",
            " 1   city                    3966 non-null   object \n",
            " 2   country                 4000 non-null   object \n",
            " 3   pollutant               4000 non-null   object \n",
            " 4   value                   4000 non-null   float64\n",
            " 5   unit                    4000 non-null   object \n",
            " 6   source_name             4000 non-null   object \n",
            " 7   latitude                4000 non-null   float64\n",
            " 8   longitude               4000 non-null   float64\n",
            " 9   averaged_over_in_hours  3634 non-null   float64\n",
            "dtypes: float64(4), object(6)\n",
            "memory usage: 343.8+ KB\n",
            "None\n"
          ],
          "name": "stdout"
        }
      ]
    },
    {
      "cell_type": "markdown",
      "metadata": {
        "id": "UsrH-W8lpVPs"
      },
      "source": [
        "# Convert to Datetime"
      ]
    },
    {
      "cell_type": "code",
      "metadata": {
        "colab": {
          "base_uri": "https://localhost:8080/"
        },
        "id": "YkrA91KAo_uM",
        "outputId": "2058be30-dbf7-4a1c-b98d-597ff58ffd52"
      },
      "source": [
        "import pandas as pd\n",
        "# Load dataset https://storage.googleapis.com/dqlab-dataset/LO4/global_air_quality_4000rows.csv\n",
        "gaq = pd.read_csv('https://storage.googleapis.com/dqlab-dataset/LO4/global_air_quality_4000rows.csv')\n",
        "# Cetak 5 data teratas\n",
        "print('Sebelum diubah dalam format datetime:\\n', gaq.head())"
      ],
      "execution_count": 62,
      "outputs": [
        {
          "output_type": "stream",
          "text": [
            "Sebelum diubah dalam format datetime:\n",
            "                           location  ... averaged_over_in_hours\n",
            "0                  MOBILE-KICKAPOO  ...                   1.00\n",
            "1                  Oxford St Ebbes  ...                   1.00\n",
            "2                 BROADWAY (South)  ...                   1.00\n",
            "3  Deen Dayal Nagar, Sagar - MPPCB  ...                   0.25\n",
            "4                        Manglerud  ...                   1.00\n",
            "\n",
            "[5 rows x 11 columns]\n"
          ],
          "name": "stdout"
        }
      ]
    },
    {
      "cell_type": "code",
      "metadata": {
        "id": "tOTcHkS0pYBS"
      },
      "source": [
        "# Ubah menjadi datetime\n",
        "gaq['timestamp'] = pd.to_datetime(gaq['timestamp'])\n",
        "gaq = gaq.set_index('timestamp')"
      ],
      "execution_count": 63,
      "outputs": []
    },
    {
      "cell_type": "code",
      "metadata": {
        "colab": {
          "base_uri": "https://localhost:8080/"
        },
        "id": "5c06C-ufpZvq",
        "outputId": "5347a7b2-5c6e-4b62-9950-125fb2e61d45"
      },
      "source": [
        "# Cetak 5 data teratas\n",
        "print('Sesudah diubah dalam format datetime:\\n', gaq.head())"
      ],
      "execution_count": 64,
      "outputs": [
        {
          "output_type": "stream",
          "text": [
            "Sesudah diubah dalam format datetime:\n",
            "                                                   location  ... averaged_over_in_hours\n",
            "timestamp                                                   ...                       \n",
            "2017-01-18 16:00:00+00:00                  MOBILE-KICKAPOO  ...                   1.00\n",
            "2020-04-07 20:00:00+00:00                  Oxford St Ebbes  ...                   1.00\n",
            "2020-04-07 19:00:00+00:00                 BROADWAY (South)  ...                   1.00\n",
            "2020-04-07 18:30:00+00:00  Deen Dayal Nagar, Sagar - MPPCB  ...                   0.25\n",
            "2020-04-07 20:00:00+00:00                        Manglerud  ...                   1.00\n",
            "\n",
            "[5 rows x 10 columns]\n"
          ],
          "name": "stdout"
        }
      ]
    },
    {
      "cell_type": "markdown",
      "metadata": {
        "id": "xNju-vYpptdK"
      },
      "source": [
        "# Downsampling Data"
      ]
    },
    {
      "cell_type": "code",
      "metadata": {
        "colab": {
          "base_uri": "https://localhost:8080/"
        },
        "id": "g8taZqJRpbdc",
        "outputId": "7a821312-34a2-423a-cf20-b8987b7d16d4"
      },
      "source": [
        "import pandas as pd\n",
        "# Load dataset https://storage.googleapis.com/dqlab-dataset/LO4/global_air_quality_4000rows.csv\n",
        "gaq = pd.read_csv('https://storage.googleapis.com/dqlab-dataset/LO4/global_air_quality_4000rows.csv')\n",
        "gaq['timestamp'] = pd.to_datetime(gaq['timestamp'])\n",
        "gaq = gaq.set_index('timestamp')\n",
        "print('Dataset sebelum di-downsampling (5 teratas):\\n', gaq.head())"
      ],
      "execution_count": 65,
      "outputs": [
        {
          "output_type": "stream",
          "text": [
            "Dataset sebelum di-downsampling (5 teratas):\n",
            "                                                   location  ... averaged_over_in_hours\n",
            "timestamp                                                   ...                       \n",
            "2017-01-18 16:00:00+00:00                  MOBILE-KICKAPOO  ...                   1.00\n",
            "2020-04-07 20:00:00+00:00                  Oxford St Ebbes  ...                   1.00\n",
            "2020-04-07 19:00:00+00:00                 BROADWAY (South)  ...                   1.00\n",
            "2020-04-07 18:30:00+00:00  Deen Dayal Nagar, Sagar - MPPCB  ...                   0.25\n",
            "2020-04-07 20:00:00+00:00                        Manglerud  ...                   1.00\n",
            "\n",
            "[5 rows x 10 columns]\n"
          ],
          "name": "stdout"
        }
      ]
    },
    {
      "cell_type": "code",
      "metadata": {
        "colab": {
          "base_uri": "https://localhost:8080/"
        },
        "id": "HKztOl9Apye7",
        "outputId": "d9f6b95c-a0fc-4b08-b47f-4ac5ea09ed98"
      },
      "source": [
        "# Downsampling dari daily to monthly dan kita hitung rata-rata untuk sebulan\n",
        "gaq_monthly = gaq.resample('M').mean()\n",
        "print('Downsampling daily to monthly - mean (5 teratas):\\n', gaq_monthly.head())"
      ],
      "execution_count": 66,
      "outputs": [
        {
          "output_type": "stream",
          "text": [
            "Downsampling daily to monthly - mean (5 teratas):\n",
            "                            value  latitude  longitude  averaged_over_in_hours\n",
            "timestamp                                                                    \n",
            "2014-05-31 00:00:00+00:00    9.7    14.635    121.080                     1.0\n",
            "2014-06-30 00:00:00+00:00    NaN       NaN        NaN                     NaN\n",
            "2014-07-31 00:00:00+00:00    NaN       NaN        NaN                     NaN\n",
            "2014-08-31 00:00:00+00:00    7.1    37.132    -86.148                     1.0\n",
            "2014-09-30 00:00:00+00:00    NaN       NaN        NaN                     NaN\n"
          ],
          "name": "stdout"
        }
      ]
    },
    {
      "cell_type": "code",
      "metadata": {
        "colab": {
          "base_uri": "https://localhost:8080/"
        },
        "id": "MGYIsZ4mqFPw",
        "outputId": "93b5c083-b104-49b1-a82f-62b4aad24448"
      },
      "source": [
        "# Downsampling dari daily to yearly dan kita hitung total untuk setiap tahun\n",
        "gaq_yearly = gaq.resample('A').sum()\n",
        "print('Downsampling daily to yearly - sum (5 teratas):\\n', gaq_yearly.head())"
      ],
      "execution_count": 67,
      "outputs": [
        {
          "output_type": "stream",
          "text": [
            "Downsampling daily to yearly - sum (5 teratas):\n",
            "                                    value  ...  averaged_over_in_hours\n",
            "timestamp                                 ...                        \n",
            "2014-12-31 00:00:00+00:00      16.800000  ...                    2.00\n",
            "2015-12-31 00:00:00+00:00     319.209800  ...                   30.00\n",
            "2016-12-31 00:00:00+00:00   11356.389400  ...                  172.25\n",
            "2017-12-31 00:00:00+00:00   20181.246425  ...                  147.75\n",
            "2018-12-31 00:00:00+00:00 -282811.729944  ...                 1284.50\n",
            "\n",
            "[5 rows x 4 columns]\n"
          ],
          "name": "stdout"
        }
      ]
    },
    {
      "cell_type": "code",
      "metadata": {
        "id": "_hUS-38RqmTx"
      },
      "source": [
        " [1] Downsampling dari daily to weekly dan kita hitung maksimum untuk seminggu\n",
        "gaq_weekly = gaq.resample('W').max()\n",
        "print('Downsampling daily to weekly - max (5 teratas):\\n', gaq_weekly.head())"
      ],
      "execution_count": null,
      "outputs": []
    },
    {
      "cell_type": "code",
      "metadata": {
        "id": "1nxl40hWq4ig"
      },
      "source": [
        "# [2] Downsampling dari daily to quaterly dan kita hitung minimumnya untuk tiap quarter\n",
        "gaq_quaterly = gaq.resample('Q').min()\n",
        "print('Downsampling daily to quaterly - min (5 teratas):\\n', gaq_quaterly.head())"
      ],
      "execution_count": null,
      "outputs": []
    },
    {
      "cell_type": "markdown",
      "metadata": {
        "id": "EgqilYAMq7lM"
      },
      "source": [
        "# Upsampling Data"
      ]
    },
    {
      "cell_type": "code",
      "metadata": {
        "colab": {
          "base_uri": "https://localhost:8080/"
        },
        "id": "tcWZ9CUSq8B5",
        "outputId": "d9b3f9c4-8586-4704-e139-aa3136f778cc"
      },
      "source": [
        "import pandas as pd\n",
        "# Load dataset https://storage.googleapis.com/dqlab-dataset/LO4/global_air_quality_4000rows.csv\n",
        "gaq = pd.read_csv('https://storage.googleapis.com/dqlab-dataset/LO4/global_air_quality_4000rows.csv')\n",
        "gaq['timestamp'] = pd.to_datetime(gaq['timestamp'])\n",
        "gaq = gaq.set_index('timestamp')\n",
        "print('Dataset sebelum di-upsampling (5 teratas):\\n', gaq.head())"
      ],
      "execution_count": 69,
      "outputs": [
        {
          "output_type": "stream",
          "text": [
            "Dataset sebelum di-upsampling (5 teratas):\n",
            "                                                   location  ... averaged_over_in_hours\n",
            "timestamp                                                   ...                       \n",
            "2017-01-18 16:00:00+00:00                  MOBILE-KICKAPOO  ...                   1.00\n",
            "2020-04-07 20:00:00+00:00                  Oxford St Ebbes  ...                   1.00\n",
            "2020-04-07 19:00:00+00:00                 BROADWAY (South)  ...                   1.00\n",
            "2020-04-07 18:30:00+00:00  Deen Dayal Nagar, Sagar - MPPCB  ...                   0.25\n",
            "2020-04-07 20:00:00+00:00                        Manglerud  ...                   1.00\n",
            "\n",
            "[5 rows x 10 columns]\n"
          ],
          "name": "stdout"
        }
      ]
    },
    {
      "cell_type": "code",
      "metadata": {
        "colab": {
          "base_uri": "https://localhost:8080/"
        },
        "id": "rnP7syilq_Ew",
        "outputId": "7752e215-2657-45dd-b212-9ba66ee6cbfe"
      },
      "source": [
        "# Upsampling dari daily to hourly dan kita hitung reratanya\n",
        "gaq_hourly = gaq.resample('H').mean()\n",
        "print('Upsampling daily to hourly - mean (5 teratas):\\n', gaq_hourly.head())  "
      ],
      "execution_count": 70,
      "outputs": [
        {
          "output_type": "stream",
          "text": [
            "Upsampling daily to hourly - mean (5 teratas):\n",
            "                            value  latitude  longitude  averaged_over_in_hours\n",
            "timestamp                                                                    \n",
            "2014-05-13 03:00:00+00:00    9.7    14.635     121.08                     1.0\n",
            "2014-05-13 04:00:00+00:00    NaN       NaN        NaN                     NaN\n",
            "2014-05-13 05:00:00+00:00    NaN       NaN        NaN                     NaN\n",
            "2014-05-13 06:00:00+00:00    NaN       NaN        NaN                     NaN\n",
            "2014-05-13 07:00:00+00:00    NaN       NaN        NaN                     NaN\n"
          ],
          "name": "stdout"
        }
      ]
    },
    {
      "cell_type": "markdown",
      "metadata": {
        "id": "JJYbAdwKrGfO"
      },
      "source": [
        "# Resampling by Frequency"
      ]
    },
    {
      "cell_type": "code",
      "metadata": {
        "colab": {
          "base_uri": "https://localhost:8080/"
        },
        "id": "TAqq8JRLrEJP",
        "outputId": "45206cb1-4f0a-4528-dd97-0bc0dc2ceb54"
      },
      "source": [
        "import pandas as pd\n",
        "# Load dataset https://storage.googleapis.com/dqlab-dataset/LO4/global_air_quality_4000rows.csv\n",
        "gaq = pd.read_csv('https://storage.googleapis.com/dqlab-dataset/LO4/global_air_quality_4000rows.csv')\n",
        "gaq['timestamp'] = pd.to_datetime(gaq['timestamp'])\n",
        "gaq = gaq.set_index('timestamp')\n",
        "print('Dataset sebelum di-resampling (5 teratas):\\n', gaq.head())"
      ],
      "execution_count": 71,
      "outputs": [
        {
          "output_type": "stream",
          "text": [
            "Dataset sebelum di-resampling (5 teratas):\n",
            "                                                   location  ... averaged_over_in_hours\n",
            "timestamp                                                   ...                       \n",
            "2017-01-18 16:00:00+00:00                  MOBILE-KICKAPOO  ...                   1.00\n",
            "2020-04-07 20:00:00+00:00                  Oxford St Ebbes  ...                   1.00\n",
            "2020-04-07 19:00:00+00:00                 BROADWAY (South)  ...                   1.00\n",
            "2020-04-07 18:30:00+00:00  Deen Dayal Nagar, Sagar - MPPCB  ...                   0.25\n",
            "2020-04-07 20:00:00+00:00                        Manglerud  ...                   1.00\n",
            "\n",
            "[5 rows x 10 columns]\n"
          ],
          "name": "stdout"
        }
      ]
    },
    {
      "cell_type": "code",
      "metadata": {
        "colab": {
          "base_uri": "https://localhost:8080/"
        },
        "id": "kYZt26T3rZxE",
        "outputId": "46be0bdc-8501-4acd-db88-6771ade883e6"
      },
      "source": [
        "# Downsampling dari daily to 2 weekly, hitung reratanya, dan fillna = 'ffill'\n",
        "gaq_2weekly = gaq.resample('2W').mean().fillna(method='ffill')\n",
        "print('Resampling daily to 2 weekly - mean - ffill (5 teratas):\\n', gaq_2weekly.head())"
      ],
      "execution_count": 72,
      "outputs": [
        {
          "output_type": "stream",
          "text": [
            "Resampling daily to 2 weekly - mean - ffill (5 teratas):\n",
            "                            value  latitude  longitude  averaged_over_in_hours\n",
            "timestamp                                                                    \n",
            "2014-05-18 00:00:00+00:00    9.7    14.635     121.08                     1.0\n",
            "2014-06-01 00:00:00+00:00    9.7    14.635     121.08                     1.0\n",
            "2014-06-15 00:00:00+00:00    9.7    14.635     121.08                     1.0\n",
            "2014-06-29 00:00:00+00:00    9.7    14.635     121.08                     1.0\n",
            "2014-07-13 00:00:00+00:00    9.7    14.635     121.08                     1.0\n"
          ],
          "name": "stdout"
        }
      ]
    },
    {
      "cell_type": "code",
      "metadata": {
        "colab": {
          "base_uri": "https://localhost:8080/"
        },
        "id": "nT3rvhIerZ-d",
        "outputId": "80cdfeb8-86df-4ddd-93eb-f7e77dab6593"
      },
      "source": [
        "# Upsampling dari daily to 8 hourly, hitung reratanya, dan fillna = 'bfill'\n",
        "gaq_8hourly = gaq.resample('8H').mean().fillna(method='bfill')\n",
        "print('Resampling daily to 8 hourly - mean - bfill (5 teratas):\\n', gaq_8hourly.head())"
      ],
      "execution_count": 73,
      "outputs": [
        {
          "output_type": "stream",
          "text": [
            "Resampling daily to 8 hourly - mean - bfill (5 teratas):\n",
            "                            value  latitude  longitude  averaged_over_in_hours\n",
            "timestamp                                                                    \n",
            "2014-05-13 00:00:00+00:00    9.7    14.635    121.080                     1.0\n",
            "2014-05-13 08:00:00+00:00    7.1    37.132    -86.148                     1.0\n",
            "2014-05-13 16:00:00+00:00    7.1    37.132    -86.148                     1.0\n",
            "2014-05-14 00:00:00+00:00    7.1    37.132    -86.148                     1.0\n",
            "2014-05-14 08:00:00+00:00    7.1    37.132    -86.148                     1.0\n"
          ],
          "name": "stdout"
        }
      ]
    },
    {
      "cell_type": "code",
      "metadata": {
        "colab": {
          "base_uri": "https://localhost:8080/"
        },
        "id": "GirLc3sFrMMM",
        "outputId": "51c2f12e-f20c-4193-ee3d-fec0df6efb34"
      },
      "source": [
        "# Resample dari daily to 2 monthly, hitung reratanya, dan fillna = 'bfill'\n",
        "gaq_2monthly = gaq.resample('2M').mean().fillna(method='bfill')\n",
        "print('Resampling daily to 2 monthly - mean - bfill (5 teratas):\\n', gaq_2monthly.head())"
      ],
      "execution_count": 74,
      "outputs": [
        {
          "output_type": "stream",
          "text": [
            "Resampling daily to 2 monthly - mean - bfill (5 teratas):\n",
            "                            value  latitude  longitude  averaged_over_in_hours\n",
            "timestamp                                                                    \n",
            "2014-05-31 00:00:00+00:00    9.7    14.635    121.080                     1.0\n",
            "2014-07-31 00:00:00+00:00    7.1    37.132    -86.148                     1.0\n",
            "2014-09-30 00:00:00+00:00    7.1    37.132    -86.148                     1.0\n",
            "2014-11-30 00:00:00+00:00   18.1   -34.560    -58.506                     1.0\n",
            "2015-01-31 00:00:00+00:00   18.1   -34.560    -58.506                     1.0\n"
          ],
          "name": "stdout"
        }
      ]
    },
    {
      "cell_type": "markdown",
      "metadata": {
        "id": "v4jmVWjFsMcY"
      },
      "source": [
        "# Visualisasi"
      ]
    },
    {
      "cell_type": "code",
      "metadata": {
        "id": "IwS0SeocrYg2"
      },
      "source": [
        "import pandas as pd\n",
        "import matplotlib.pyplot as plt\n",
        "# Load dataset https://storage.googleapis.com/dqlab-dataset/LO4/global_air_quality_4000rows.csv\n",
        "gaq = pd.read_csv('https://storage.googleapis.com/dqlab-dataset/LO4/global_air_quality_4000rows.csv')\n",
        "gaq['timestamp'] = pd.to_datetime(gaq['timestamp'])\n",
        "gaq = gaq.set_index('timestamp')"
      ],
      "execution_count": 75,
      "outputs": []
    },
    {
      "cell_type": "code",
      "metadata": {
        "colab": {
          "base_uri": "https://localhost:8080/"
        },
        "id": "__xzsXFcsUQg",
        "outputId": "74fc1cd5-5bf4-4e0c-c8c7-7597d1c9c2bf"
      },
      "source": [
        "# [1] Membuat pivot table yang menunjukkan waktu di baris nya dan masing-masing value dari pollutant nya dalam kolom\n",
        "gaq_viz = gaq[['pollutant', 'value']].reset_index().set_index(['timestamp', 'pollutant'])\n",
        "gaq_viz = gaq_viz.pivot_table(index='timestamp', columns='pollutant', aggfunc='mean').fillna(0)\n",
        "gaq_viz.columns = gaq_viz.columns.droplevel(0)\n",
        "print('Data (5 teratas):\\n', gaq_viz.head())"
      ],
      "execution_count": 76,
      "outputs": [
        {
          "output_type": "stream",
          "text": [
            "Data (5 teratas):\n",
            " pollutant                   bc   co  no2   o3  pm10  pm25  so2\n",
            "timestamp                                                     \n",
            "2014-05-13 03:00:00+00:00  0.0  0.0  0.0  0.0   0.0   9.7  0.0\n",
            "2014-08-12 20:00:00+00:00  0.0  0.0  0.0  0.0   0.0   7.1  0.0\n",
            "2015-04-15 00:00:00+00:00  0.0  0.0  0.0  0.0   0.0  18.1  0.0\n",
            "2015-08-21 01:00:00+00:00  0.0  0.0  0.0  0.0   0.0  36.9  0.0\n",
            "2015-09-13 01:00:00+00:00  0.0  0.0  0.0  0.0   0.0   8.8  0.0\n"
          ],
          "name": "stdout"
        }
      ]
    },
    {
      "cell_type": "code",
      "metadata": {
        "colab": {
          "base_uri": "https://localhost:8080/",
          "height": 635
        },
        "id": "8I2zZ2DQsdUy",
        "outputId": "ab05ca01-716f-4931-9cde-52ecc3b3720b"
      },
      "source": [
        "# [2] Membuat fungsi yang memberikan default value 0 ketika value nya di bawah 0 dan apply ke setiap elemen dari dataset tersebut, kemudian menampilkannya sebagai chart\n",
        "def default_val(val):\n",
        " if val < 0:\n",
        "   return 0\n",
        " else:\n",
        "   return val\n",
        "line1 = gaq_viz.resample('M').mean().ffill().applymap(lambda x: default_val(x)).apply(lambda x: x/x.max()) # default value if value < 0 then 0, kemudian menghasilkan % value = value/max(value)\n",
        "line1.plot(\n",
        "   title = 'average value of each pollutant over months',\n",
        "   figsize = (10,10), #ukuran canvas 10px x 10px\n",
        "   ylim = (0,1.25), #memberikan batas tampilan y-axis hanya 0 sampai 125%\n",
        "   subplots = True #memecah plot menjadi beberapa bagian sesuai dengan jumlah kolom\n",
        ")\n",
        "plt.ylabel('avg pollutant (%)')\n",
        "plt.xlabel('month')\n",
        "plt.show()"
      ],
      "execution_count": 77,
      "outputs": [
        {
          "output_type": "display_data",
          "data": {
            "image/png": "[encoded data removed]",
            "text/plain": [
              "<Figure size 720x720 with 7 Axes>"
            ]
          },
          "metadata": {
            "tags": [],
            "needs_background": "light"
          }
        }
      ]
    },
    {
      "cell_type": "markdown",
      "metadata": {
        "id": "0xi_0Sn_sqxD"
      },
      "source": [
        "# Performa Penjualan di Setiap Cabang - Part 1"
      ]
    },
    {
      "cell_type": "code",
      "metadata": {
        "colab": {
          "base_uri": "https://localhost:8080/"
        },
        "id": "aiXNcW6ishRw",
        "outputId": "5ef0abda-df25-403b-99d8-80e255b94d02"
      },
      "source": [
        "import pandas as pd\n",
        "import matplotlib.pyplot as plt\n",
        "\n",
        "# [1]. Load masing-masing data dengan pandas\n",
        "retail_data1 = pd.read_csv('https://storage.googleapis.com/dqlab-dataset/LO4/retail_data_from_1_until_3.csv')\n",
        "retail_data2 = pd.read_csv('https://storage.googleapis.com/dqlab-dataset/LO4/retail_data_from_4_until_6.csv')\n",
        "retail_data3 = pd.read_csv('https://storage.googleapis.com/dqlab-dataset/LO4/retail_data_from_7_until_9.csv')\n",
        "retail_data4 = pd.read_csv('https://storage.googleapis.com/dqlab-dataset/LO4/retail_data_from_10_until_12.csv')\n",
        "\n",
        "# [2]. Pengecekan Data\n",
        "print('PENGECEKAN DATA\\n\\n')\n",
        "\n",
        "# Cek data sekilas (tampilkan 5 baris teratas)\n",
        "print(retail_data1.head())\n",
        "\n",
        "# Cek list kolom untuk semua dataframe\n",
        "print('Kolom retail_data1: %s' %retail_data1.columns)\n",
        "print('Kolom retail_data2: %s' %retail_data2.columns)\n",
        "print('Kolom retail_data3: %s' %retail_data3.columns)\n",
        "print('Kolom retail_data4: %s' %retail_data4.columns)\n",
        "\n",
        "# Concat multiple dataframe menjadi 1 dataframe\n",
        "retail_table = pd.concat([retail_data1, retail_data2, retail_data3, retail_data4])\n",
        "print('\\nJumlah baris:', retail_table.shape[0])\n",
        "\n",
        "# Pengecekan dataframe info\n",
        "print('\\nInfo:')\n",
        "print(retail_table.info())\n",
        "\n",
        "# Pengecekan statistik deskriptif\n",
        "print('\\nStatistik deskriptif:\\n', retail_table.describe())"
      ],
      "execution_count": 78,
      "outputs": [
        {
          "output_type": "stream",
          "text": [
            "/usr/local/lib/python3.7/dist-packages/IPython/core/interactiveshell.py:2718: DtypeWarning: Columns (0) have mixed types.Specify dtype option on import or set low_memory=False.\n",
            "  interactivity=interactivity, compiler=compiler, result=result)\n"
          ],
          "name": "stderr"
        },
        {
          "output_type": "stream",
          "text": [
            "PENGECEKAN DATA\n",
            "\n",
            "\n",
            "   order_id order_date  customer_id  ... quantity item_price total_price\n",
            "0   1612339   01-01-19        18055  ...        4    1934000     7736000\n",
            "1   1612339   01-01-19        18055  ...        8     604000     4832000\n",
            "2   1612339   01-01-19        18055  ...       12     747000     8964000\n",
            "3   1612339   01-01-19        18055  ...       12     450000     5400000\n",
            "4   1612339   01-01-19        18055  ...        3    1500000     4500000\n",
            "\n",
            "[5 rows x 10 columns]\n",
            "Kolom retail_data1: Index(['order_id', 'order_date', 'customer_id', 'city', 'province',\n",
            "       'product_id', 'brand', 'quantity', 'item_price', 'total_price'],\n",
            "      dtype='object')\n",
            "Kolom retail_data2: Index(['order_id', 'order_date', 'customer_id', 'city', 'province',\n",
            "       'product_id', 'brand', 'quantity', 'item_price', 'total_price'],\n",
            "      dtype='object')\n",
            "Kolom retail_data3: Index(['order_id', 'order_date', 'customer_id', 'city', 'province',\n",
            "       'product_id', 'brand', 'quantity', 'item_price', 'total_price'],\n",
            "      dtype='object')\n",
            "Kolom retail_data4: Index(['order_id', 'order_date', 'customer_id', 'city', 'province',\n",
            "       'product_id', 'brand', 'quantity', 'item_price', 'total_price'],\n",
            "      dtype='object')\n",
            "\n",
            "Jumlah baris: 508557\n",
            "\n",
            "Info:\n",
            "<class 'pandas.core.frame.DataFrame'>\n",
            "Int64Index: 508557 entries, 0 to 201825\n",
            "Data columns (total 10 columns):\n",
            " #   Column       Non-Null Count   Dtype \n",
            "---  ------       --------------   ----- \n",
            " 0   order_id     508557 non-null  object\n",
            " 1   order_date   508557 non-null  object\n",
            " 2   customer_id  508557 non-null  int64 \n",
            " 3   city         508557 non-null  object\n",
            " 4   province     508557 non-null  object\n",
            " 5   product_id   508557 non-null  object\n",
            " 6   brand        508557 non-null  object\n",
            " 7   quantity     508557 non-null  int64 \n",
            " 8   item_price   508557 non-null  int64 \n",
            " 9   total_price  508557 non-null  int64 \n",
            "dtypes: int64(4), object(6)\n",
            "memory usage: 42.7+ MB\n",
            "None\n",
            "\n",
            "Statistik deskriptif:\n",
            "          customer_id       quantity    item_price   total_price\n",
            "count  508557.000000  508557.000000  5.085570e+05  5.085570e+05\n",
            "mean    11509.957582      10.571326  1.357347e+06  7.043305e+06\n",
            "std      6758.489806     112.805119  1.481544e+07  5.135112e+07\n",
            "min         0.000000       1.000000 -3.871709e+09 -3.871709e+09\n",
            "25%     12370.000000       1.000000  4.500000e+05  1.356000e+06\n",
            "50%     14388.000000       4.000000  7.400000e+05  3.498000e+06\n",
            "75%     16261.000000      11.000000  1.458000e+06  6.270000e+06\n",
            "max     18287.000000   74215.000000  4.739478e+09  2.790484e+10\n"
          ],
          "name": "stdout"
        }
      ]
    },
    {
      "cell_type": "markdown",
      "metadata": {
        "id": "LKBAjWf5s7ze"
      },
      "source": [
        "# Performa Penjualan di setiap Cabang - Part 2"
      ]
    },
    {
      "cell_type": "code",
      "metadata": {
        "colab": {
          "base_uri": "https://localhost:8080/"
        },
        "id": "xZJhnD3os03o",
        "outputId": "7e8c180c-de46-4a0e-e6fc-f7cdf90e3075"
      },
      "source": [
        "# [3]. Transformasi Data\n",
        "print('TRANSFORMASI DATA\\n\\n')\n",
        "\n",
        "# Memastikan data yang memiliki item_price < 0 atau total_price < 0\n",
        "cek = retail_table.loc[(retail_table['item_price'] < 0) | (retail_table['total_price'] < 0)]\n",
        "print('\\nitem_price < 0 atau total_price < 0:\\n', cek)\n",
        "\n",
        "# Jika tidak masuk akal datanya dapat dibuang\n",
        "if cek.shape[0] != 0:\n",
        "  retail_table = retail_table.loc[(retail_table['item_price'] > 0) & (retail_table['total_price'] > 0)]\n",
        "\n",
        "# Cek apakah masih ada order_id yang bernilai undefined dan delete row tersebut\n",
        "cek = retail_table.loc[retail_table['order_id'] == 'undefined']\n",
        "print('\\norder_id yang bernilai undefined:\\n', cek)\n",
        "\n",
        "# Jika ada maka buang baris tersebut\n",
        "if cek.shape[0] != 0:\n",
        "\tretail_table = retail_table.loc[retail_table['order_id'] != 'undefined']\n",
        "\n",
        "# Transform order_id menjadi int64\n",
        "retail_table['order_id'] = retail_table['order_id'].astype('int64')\n",
        "\n",
        "# Transform order_date menjadi datetime Pandas\n",
        "retail_table['order_date'] = pd.to_datetime(retail_table['order_date'])\n",
        "\n",
        "# Cek dataframe info kembali untuk memastikan\n",
        "print('\\nInfo:')\n",
        "print(retail_table.info())\n",
        "\n",
        "# Cek statistik deskriptif kembali, untuk memastikan\n",
        "print('\\nStatistik deskriptif:\\n', retail_table.describe())"
      ],
      "execution_count": 79,
      "outputs": [
        {
          "output_type": "stream",
          "text": [
            "TRANSFORMASI DATA\n",
            "\n",
            "\n",
            "\n",
            "item_price < 0 atau total_price < 0:\n",
            "         order_id order_date  customer_id  ... quantity  item_price total_price\n",
            "83664  undefined   06-09-19            0  ...        1 -3871709000 -3871709000\n",
            "83665  undefined   06-09-19            0  ...        1 -3871709000 -3871709000\n",
            "\n",
            "[2 rows x 10 columns]\n",
            "\n",
            "order_id yang bernilai undefined:\n",
            "         order_id order_date  customer_id  ... quantity  item_price total_price\n",
            "83663  undefined   06-09-19            0  ...        1  3871733000  3871733000\n",
            "\n",
            "[1 rows x 10 columns]\n",
            "\n",
            "Info:\n",
            "<class 'pandas.core.frame.DataFrame'>\n",
            "Int64Index: 508554 entries, 0 to 201825\n",
            "Data columns (total 10 columns):\n",
            " #   Column       Non-Null Count   Dtype         \n",
            "---  ------       --------------   -----         \n",
            " 0   order_id     508554 non-null  int64         \n",
            " 1   order_date   508554 non-null  datetime64[ns]\n",
            " 2   customer_id  508554 non-null  int64         \n",
            " 3   city         508554 non-null  object        \n",
            " 4   province     508554 non-null  object        \n",
            " 5   product_id   508554 non-null  object        \n",
            " 6   brand        508554 non-null  object        \n",
            " 7   quantity     508554 non-null  int64         \n",
            " 8   item_price   508554 non-null  int64         \n",
            " 9   total_price  508554 non-null  int64         \n",
            "dtypes: datetime64[ns](1), int64(5), object(4)\n",
            "memory usage: 42.7+ MB\n",
            "None\n",
            "\n",
            "Statistik deskriptif:\n",
            "            order_id    customer_id       quantity    item_price   total_price\n",
            "count  5.085540e+05  508554.000000  508554.000000  5.085540e+05  5.085540e+05\n",
            "mean   1.680676e+06   11510.025480      10.571383  1.364968e+06  7.050960e+06\n",
            "std    3.865433e+04    6758.451924     112.805449  1.144767e+07  5.048185e+07\n",
            "min    1.612339e+06       0.000000       1.000000  1.200000e+04  1.200000e+04\n",
            "25%    1.646143e+06   12370.000000       1.000000  4.500000e+05  1.356000e+06\n",
            "50%    1.682617e+06   14388.000000       4.000000  7.400000e+05  3.498000e+06\n",
            "75%    1.714960e+06   16261.000000      11.000000  1.458000e+06  6.270000e+06\n",
            "max    1.742998e+06   18287.000000   74215.000000  4.739478e+09  2.790484e+10\n"
          ],
          "name": "stdout"
        }
      ]
    },
    {
      "cell_type": "markdown",
      "metadata": {
        "id": "YfQKOTbMtSsi"
      },
      "source": [
        "# Performa Penjualan di setiap Cabang - Part 3"
      ]
    },
    {
      "cell_type": "code",
      "metadata": {
        "colab": {
          "base_uri": "https://localhost:8080/"
        },
        "id": "IIohzqKLtPYo",
        "outputId": "ac8bf630-1766-48fa-abd5-9e2272b5654f"
      },
      "source": [
        "# [4]. Filter hanya 5 province terbesar di pulau Jawa\n",
        "print('\\nFILTER 5 PROVINCE TERBESAR DI PULAU JAWA\\n')\n",
        "java = ['DKI Jakarta', 'Jawa Barat', 'Jawa Tengah', 'Jawa Timur', 'Yogyakarta']\n",
        "retail_table = retail_table.loc[retail_table['province'].isin(java)]\n",
        "\n",
        "# Untuk memastikan kolom provinsi isinya sudah sama dengan java\n",
        "print(retail_table['province'].unique())\n",
        "\n",
        "# [5]. Kelompokkan sesuai dengan order_date dan province kemudian aggregasikan\n",
        "groupby_city_province = retail_table.groupby(['order_date', 'province']).agg({\n",
        "   'order_id': 'nunique',\n",
        "   'customer_id': 'nunique',\n",
        "   'product_id': 'nunique',\n",
        "   'brand': 'nunique',\n",
        "   'total_price': sum\n",
        "})\n",
        "\n",
        "# Ubah nama kolomnya menjadi 'order','customer','product','brand','GMV'\n",
        "groupby_city_province.columns = ['order', 'customer', 'product', 'brand', 'GMV']\n",
        "print('\\ngroupby_city_province (10 data teratas):\\n', groupby_city_province.head(10))\n",
        "\n",
        "# [6]. Unstack untuk mendapatkan order_date di bagian baris dan province di bagian column\n",
        "unstack_city_province = groupby_city_province.unstack('province').fillna(0)\n",
        "print('\\nunstack_city_province (5 data teratas):\\n', unstack_city_province.head())"
      ],
      "execution_count": 80,
      "outputs": [
        {
          "output_type": "stream",
          "text": [
            "\n",
            "FILTER 5 PROVINCE TERBESAR DI PULAU JAWA\n",
            "\n",
            "['DKI Jakarta' 'Jawa Barat' 'Jawa Timur' 'Yogyakarta' 'Jawa Tengah']\n",
            "\n",
            "groupby_city_province (10 data teratas):\n",
            "                         order  customer  product  brand         GMV\n",
            "order_date province                                                \n",
            "2019-01-01 DKI Jakarta     34        33      328     22  4717083000\n",
            "           Jawa Barat      11         9      136     18  1557289000\n",
            "           Jawa Tengah      4         4      116     20   352052000\n",
            "           Jawa Timur       6         6       83     15  1106603000\n",
            "           Yogyakarta       7         4       88     16  9454007000\n",
            "2019-01-02 DKI Jakarta     17        17      259     22  1877858000\n",
            "           Jawa Barat      10         9      194     22  1290147000\n",
            "           Jawa Tengah      4         3       49     15  1813991000\n",
            "           Jawa Timur       6         6       63     19   663106000\n",
            "           Yogyakarta       2         2       56     19   549622000\n",
            "\n",
            "unstack_city_province (5 data teratas):\n",
            "                  order             ...           GMV              \n",
            "province   DKI Jakarta Jawa Barat  ...    Jawa Timur    Yogyakarta\n",
            "order_date                         ...                            \n",
            "2019-01-01        34.0       11.0  ...  1.106603e+09  9.454007e+09\n",
            "2019-01-02        17.0       10.0  ...  6.631060e+08  5.496220e+08\n",
            "2019-01-03        11.0        4.0  ...  6.567010e+08  7.444940e+08\n",
            "2019-01-04        30.0        7.0  ...  2.110220e+08  7.368640e+08\n",
            "2019-01-05        21.0        8.0  ...  2.119120e+08  1.359550e+08\n",
            "\n",
            "[5 rows x 25 columns]\n"
          ],
          "name": "stdout"
        }
      ]
    },
    {
      "cell_type": "markdown",
      "metadata": {
        "id": "uc_LtTKotgkz"
      },
      "source": [
        "# Performa Penjualan di setiap Cabang - Part 4"
      ]
    },
    {
      "cell_type": "code",
      "metadata": {
        "colab": {
          "base_uri": "https://localhost:8080/"
        },
        "id": "CQowOKCIteGE",
        "outputId": "9e5f1093-e8c8-4e21-b2f7-98b6f8f7ddd3"
      },
      "source": [
        "# [7]. Slicing data untuk masing-masing measurement, misal: order\n",
        "idx = pd.IndexSlice\n",
        "by_order = unstack_city_province.loc[:, idx['order']]\n",
        "print('\\nby order (5 data teratas):\\n', by_order.head())\n",
        "\n",
        "# [8]. Lakukan resampling pada data tersebut untuk dilakukan perhitungan rata-rata bulanan \n",
        "by_order_monthly_mean = by_order.resample('M').mean()\n",
        "print('\\nby_order_monthly_mean (5 data teratas):\\n', by_order_monthly_mean.head())"
      ],
      "execution_count": 81,
      "outputs": [
        {
          "output_type": "stream",
          "text": [
            "\n",
            "by order (5 data teratas):\n",
            " province    DKI Jakarta  Jawa Barat  Jawa Tengah  Jawa Timur  Yogyakarta\n",
            "order_date                                                              \n",
            "2019-01-01         34.0        11.0          4.0         6.0         7.0\n",
            "2019-01-02         17.0        10.0          4.0         6.0         2.0\n",
            "2019-01-03         11.0         4.0         10.0         5.0         6.0\n",
            "2019-01-04         30.0         7.0          8.0         1.0         8.0\n",
            "2019-01-05         21.0         8.0          2.0         3.0         2.0\n",
            "\n",
            "by_order_monthly_mean (5 data teratas):\n",
            " province    DKI Jakarta  Jawa Barat  Jawa Tengah  Jawa Timur  Yogyakarta\n",
            "order_date                                                              \n",
            "2019-01-31    21.526316    8.684211     4.421053    3.473684    4.368421\n",
            "2019-02-28    24.391304    8.173913     3.652174    3.869565    4.130435\n",
            "2019-03-31    25.111111    7.481481     3.703704    4.370370    3.740741\n",
            "2019-04-30    25.884615    9.807692     4.538462    4.000000    3.846154\n",
            "2019-05-31    28.409091   10.045455     4.409091    5.272727    4.772727\n"
          ],
          "name": "stdout"
        }
      ]
    },
    {
      "cell_type": "markdown",
      "metadata": {
        "id": "idxK_KNZtmMi"
      },
      "source": [
        "# Performa Penjualan di setiap Cabang - Part 5"
      ]
    },
    {
      "cell_type": "code",
      "metadata": {
        "colab": {
          "base_uri": "https://localhost:8080/",
          "height": 361
        },
        "id": "ApHVov91tjIY",
        "outputId": "bf1c2dd2-6bae-42e7-813e-80b9fdf5d851"
      },
      "source": [
        "import matplotlib.pyplot as plt\n",
        "\n",
        "# [9]. Plot untuk hasil pada langkah #[8]\n",
        "by_order_monthly_mean.plot(\n",
        "   figsize = (8,5),\n",
        "   title = 'Average Daily order Size in Month View for all Province'\n",
        ")\n",
        "plt.ylabel('avg order size')\n",
        "plt.xlabel('month')\n",
        "plt.show()"
      ],
      "execution_count": 82,
      "outputs": [
        {
          "output_type": "display_data",
          "data": {
            "image/png": "[encoded data removed]",
            "text/plain": [
              "<Figure size 576x360 with 1 Axes>"
            ]
          },
          "metadata": {
            "tags": [],
            "needs_background": "light"
          }
        }
      ]
    },
    {
      "cell_type": "markdown",
      "metadata": {
        "id": "WDGhFtyctq0o"
      },
      "source": [
        "# Performa Penjualan di setiap Cabang - Part 6"
      ]
    },
    {
      "cell_type": "code",
      "metadata": {
        "colab": {
          "base_uri": "https://localhost:8080/",
          "height": 1000
        },
        "id": "5ZoQnXMztogt",
        "outputId": "786b16bc-ae92-4fff-f142-b5000ba020f7"
      },
      "source": [
        "import matplotlib.pyplot as plt\n",
        "\n",
        "# Create figure canvas dan axes for 5 line plots\n",
        "fig, axes = plt.subplots(5, 1, figsize=(8, 25))\n",
        "\n",
        "# Slicing index\n",
        "idx = pd.IndexSlice\n",
        "for i, measurement in enumerate(groupby_city_province.columns):\n",
        "    # Slicing data untuk masing-masing measurement\n",
        "    by_measurement = unstack_city_province.loc[:, idx[measurement]]\n",
        "    # Lakukan resampling pada data tersebut untuk dilakukan perhitungan rata-rata bulanan \n",
        "    by_measurement_monthly_mean = by_measurement.resample('M').mean()\n",
        "    # Plot by_measurement_monthly_mean\n",
        "    by_measurement_monthly_mean.plot(\n",
        "        title = 'Average Daily ' + measurement + ' Size in Month View for all Province',\n",
        "        ax = axes[i]\n",
        "    )\n",
        "    axes[i].set_ylabel('avg ' + measurement + ' size')\n",
        "    axes[i].set_xlabel('month')\n",
        "\n",
        "# Adjust the layout and show the plot\n",
        "plt.tight_layout()\n",
        "plt.show()"
      ],
      "execution_count": 83,
      "outputs": [
        {
          "output_type": "display_data",
          "data": {
            "image/png": "[encoded data removed]",
            "text/plain": [
              "<Figure size 576x1800 with 5 Axes>"
            ]
          },
          "metadata": {
            "tags": [],
            "needs_background": "light"
          }
        }
      ]
    }
  ]
}