{
  "nbformat": 4,
  "nbformat_minor": 0,
  "metadata": {
    "colab": {
      "name": "Data Wrangling Python.ipynb",
      "provenance": [],
      "collapsed_sections": []
    },
    "kernelspec": {
      "name": "python3",
      "display_name": "Python 3"
    },
    "language_info": {
      "name": "python"
    }
  },
  "cells": [
    {
      "cell_type": "markdown",
      "metadata": {
        "id": "TIeZSYDeq4s_"
      },
      "source": [
        "# Membaca file dengan menggunakan pandas"
      ]
    },
    {
      "cell_type": "code",
      "metadata": {
        "colab": {
          "base_uri": "https://localhost:8080/"
        },
        "id": "upV11Iqdq2Ve",
        "outputId": "44128f98-0f39-43bb-af8c-f1f2d97b84e7"
      },
      "source": [
        "import pandas as pd\n",
        "\n",
        "csv_data = pd.read_csv(\"https://storage.googleapis.com/dqlab-dataset/shopping_data.csv\")\n",
        "\n",
        "print(csv_data)"
      ],
      "execution_count": 1,
      "outputs": [
        {
          "output_type": "stream",
          "text": [
            "     CustomerID   Genre  Age  Annual Income (k$)  Spending Score (1-100)\n",
            "0             1    Male   19                  15                      39\n",
            "1             2    Male   21                  15                      81\n",
            "2             3  Female   20                  16                       6\n",
            "3             4  Female   23                  16                      77\n",
            "4             5  Female   31                  17                      40\n",
            "..          ...     ...  ...                 ...                     ...\n",
            "195         196  Female   35                 120                      79\n",
            "196         197  Female   45                 126                      28\n",
            "197         198    Male   32                 126                      74\n",
            "198         199    Male   32                 137                      18\n",
            "199         200    Male   30                 137                      83\n",
            "\n",
            "[200 rows x 5 columns]\n"
          ],
          "name": "stdout"
        }
      ]
    },
    {
      "cell_type": "markdown",
      "metadata": {
        "id": "v6aXYit2r-I1"
      },
      "source": [
        "# Membaca file dengan menggunakan head()"
      ]
    },
    {
      "cell_type": "code",
      "metadata": {
        "colab": {
          "base_uri": "https://localhost:8080/"
        },
        "id": "L8PHfOrfrShK",
        "outputId": "fbd65d19-2f28-4e7f-cf33-8ac4b138bdd6"
      },
      "source": [
        "import pandas as pd\n",
        "\n",
        "csv_data = pd.read_csv(\"https://storage.googleapis.com/dqlab-dataset/shopping_data.csv\")\n",
        "\n",
        "print(csv_data.head())"
      ],
      "execution_count": 2,
      "outputs": [
        {
          "output_type": "stream",
          "text": [
            "   CustomerID   Genre  Age  Annual Income (k$)  Spending Score (1-100)\n",
            "0           1    Male   19                  15                      39\n",
            "1           2    Male   21                  15                      81\n",
            "2           3  Female   20                  16                       6\n",
            "3           4  Female   23                  16                      77\n",
            "4           5  Female   31                  17                      40\n"
          ],
          "name": "stdout"
        }
      ]
    },
    {
      "cell_type": "markdown",
      "metadata": {
        "id": "P43CI3wrr_dF"
      },
      "source": [
        "# Melakukan akses data kolom"
      ]
    },
    {
      "cell_type": "code",
      "metadata": {
        "colab": {
          "base_uri": "https://localhost:8080/"
        },
        "id": "bydG4UmFr6Y1",
        "outputId": "fdbcc81c-6fdc-4078-c58b-71b47bf1b572"
      },
      "source": [
        "import pandas as pd\n",
        "\n",
        "csv_data = pd.read_csv(\"https://storage.googleapis.com/dqlab-dataset/shopping_data.csv\")\n",
        "\n",
        "# Mengetahui nama-nama kolom yang terdapat di dalam dataset\n",
        "print(csv_data.columns)"
      ],
      "execution_count": 3,
      "outputs": [
        {
          "output_type": "stream",
          "text": [
            "Index(['CustomerID', 'Genre', 'Age', 'Annual Income (k$)',\n",
            "       'Spending Score (1-100)'],\n",
            "      dtype='object')\n"
          ],
          "name": "stdout"
        }
      ]
    },
    {
      "cell_type": "code",
      "metadata": {
        "colab": {
          "base_uri": "https://localhost:8080/"
        },
        "id": "s28ygGc1sUqL",
        "outputId": "3b7754e7-d15a-4f95-c048-51b1baa6aab8"
      },
      "source": [
        "import pandas as pd\n",
        "\n",
        "csv_data = pd.read_csv(\"https://storage.googleapis.com/dqlab-dataset/shopping_data.csv\")\n",
        "\n",
        "print(csv_data['Age'])"
      ],
      "execution_count": 4,
      "outputs": [
        {
          "output_type": "stream",
          "text": [
            "0      19\n",
            "1      21\n",
            "2      20\n",
            "3      23\n",
            "4      31\n",
            "       ..\n",
            "195    35\n",
            "196    45\n",
            "197    32\n",
            "198    32\n",
            "199    30\n",
            "Name: Age, Length: 200, dtype: int64\n"
          ],
          "name": "stdout"
        }
      ]
    },
    {
      "cell_type": "markdown",
      "metadata": {
        "id": "QEJOQf3ksiOT"
      },
      "source": [
        "# Melakukan akses data melalui baris"
      ]
    },
    {
      "cell_type": "code",
      "metadata": {
        "colab": {
          "base_uri": "https://localhost:8080/"
        },
        "id": "MXUYq9Dzsd69",
        "outputId": "d21014ea-2968-4656-a04c-d2b24e9a0f41"
      },
      "source": [
        "import pandas as pd\n",
        "\n",
        "csv_data = pd.read_csv(\"https://storage.googleapis.com/dqlab-dataset/shopping_data.csv\")\n",
        "\n",
        "print(csv_data.iloc[5])"
      ],
      "execution_count": 5,
      "outputs": [
        {
          "output_type": "stream",
          "text": [
            "CustomerID                     6\n",
            "Genre                     Female\n",
            "Age                           22\n",
            "Annual Income (k$)            17\n",
            "Spending Score (1-100)        76\n",
            "Name: 5, dtype: object\n"
          ],
          "name": "stdout"
        }
      ]
    },
    {
      "cell_type": "markdown",
      "metadata": {
        "id": "J5Z0vc_ps5IB"
      },
      "source": [
        "# Menampilkan suatu data dari baris dan kolom tertentu"
      ]
    },
    {
      "cell_type": "code",
      "metadata": {
        "colab": {
          "base_uri": "https://localhost:8080/"
        },
        "id": "bqUgbBeTsujQ",
        "outputId": "0e18018c-299f-4e8d-e663-d0edac33cac6"
      },
      "source": [
        "import pandas as pd\n",
        "\n",
        "csv_data = pd.read_csv(\"https://storage.googleapis.com/dqlab-dataset/shopping_data.csv\")\n",
        "\n",
        "print(csv_data['Age'].iloc[1])\n",
        "\n",
        "print(\"Cuplikan Dataset\")\n",
        "\n",
        "print(csv_data.head())"
      ],
      "execution_count": 6,
      "outputs": [
        {
          "output_type": "stream",
          "text": [
            "21\n",
            "Cuplikan Dataset\n",
            "   CustomerID   Genre  Age  Annual Income (k$)  Spending Score (1-100)\n",
            "0           1    Male   19                  15                      39\n",
            "1           2    Male   21                  15                      81\n",
            "2           3  Female   20                  16                       6\n",
            "3           4  Female   23                  16                      77\n",
            "4           5  Female   31                  17                      40\n"
          ],
          "name": "stdout"
        }
      ]
    },
    {
      "cell_type": "markdown",
      "metadata": {
        "id": "QVe1tQS7tK_T"
      },
      "source": [
        "# Menampilkan data dalam range tertentu"
      ]
    },
    {
      "cell_type": "code",
      "metadata": {
        "colab": {
          "base_uri": "https://localhost:8080/"
        },
        "id": "Y0Yg9RCNtDjj",
        "outputId": "cd7f1491-0c6f-4d52-8d05-0070b1af24f8"
      },
      "source": [
        "import pandas as pd\n",
        "\n",
        "csv_data = pd.read_csv(\"https://storage.googleapis.com/dqlab-dataset/shopping_data.csv\")\n",
        "\n",
        "print(\"Menampilkan data ke 5 sampai kurang dari 10\")\n",
        "\n",
        "print(csv_data['Age'].iloc[5:10])"
      ],
      "execution_count": 7,
      "outputs": [
        {
          "output_type": "stream",
          "text": [
            "Menampilkan data ke 5 sampai kurang dari 10\n",
            "5    22\n",
            "6    35\n",
            "7    23\n",
            "8    64\n",
            "9    30\n",
            "Name: Age, dtype: int64\n"
          ],
          "name": "stdout"
        }
      ]
    },
    {
      "cell_type": "code",
      "metadata": {
        "colab": {
          "base_uri": "https://localhost:8080/"
        },
        "id": "1JNhjB9ctevE",
        "outputId": "e6d88365-f3cc-4419-ef96-2d9a7bdc683f"
      },
      "source": [
        "import pandas as pd\n",
        "\n",
        "csv_data = pd.read_csv(\"https://storage.googleapis.com/dqlab-dataset/shopping_data.csv\")\n",
        "\n",
        "print(\"Menampilkan data ke 5 sampai kurang dari 10 dalam satu baris:\")\n",
        "\n",
        "print(csv_data.iloc[5:10])"
      ],
      "execution_count": 8,
      "outputs": [
        {
          "output_type": "stream",
          "text": [
            "Menampilkan data ke 5 sampai kurang dari 10 dalam satu baris:\n",
            "   CustomerID   Genre  Age  Annual Income (k$)  Spending Score (1-100)\n",
            "5           6  Female   22                  17                      76\n",
            "6           7  Female   35                  18                       6\n",
            "7           8  Female   23                  18                      94\n",
            "8           9    Male   64                  19                       3\n",
            "9          10  Female   30                  19                      72\n"
          ],
          "name": "stdout"
        }
      ]
    },
    {
      "cell_type": "markdown",
      "metadata": {
        "id": "KyLmXWuEtnnC"
      },
      "source": [
        "# Menampilkan informasi statistik dengan Numpy"
      ]
    },
    {
      "cell_type": "code",
      "metadata": {
        "colab": {
          "base_uri": "https://localhost:8080/"
        },
        "id": "4Znur9N8tjGe",
        "outputId": "8ab139f7-7c7b-46f2-d13c-b5ce9a99bf72"
      },
      "source": [
        "import pandas as pd\n",
        "\n",
        "csv_data = pd.read_csv(\"https://storage.googleapis.com/dqlab-dataset/shopping_data.csv\")\n",
        "\n",
        "print(csv_data.describe(include=\"all\"))"
      ],
      "execution_count": 9,
      "outputs": [
        {
          "output_type": "stream",
          "text": [
            "        CustomerID   Genre  ...  Annual Income (k$)  Spending Score (1-100)\n",
            "count   200.000000     200  ...          200.000000              200.000000\n",
            "unique         NaN       2  ...                 NaN                     NaN\n",
            "top            NaN  Female  ...                 NaN                     NaN\n",
            "freq           NaN     112  ...                 NaN                     NaN\n",
            "mean    100.500000     NaN  ...           60.560000               50.200000\n",
            "std      57.879185     NaN  ...           26.264721               25.823522\n",
            "min       1.000000     NaN  ...           15.000000                1.000000\n",
            "25%      50.750000     NaN  ...           41.500000               34.750000\n",
            "50%     100.500000     NaN  ...           61.500000               50.000000\n",
            "75%     150.250000     NaN  ...           78.000000               73.000000\n",
            "max     200.000000     NaN  ...          137.000000               99.000000\n",
            "\n",
            "[11 rows x 5 columns]\n"
          ],
          "name": "stdout"
        }
      ]
    },
    {
      "cell_type": "code",
      "metadata": {
        "colab": {
          "base_uri": "https://localhost:8080/"
        },
        "id": "_W_N3jYxuN6P",
        "outputId": "7069ab91-5fca-4965-fe29-bd56cc5dbfa7"
      },
      "source": [
        "import pandas as pd\n",
        "\n",
        "csv_data = pd.read_csv(\"https://storage.googleapis.com/dqlab-dataset/shopping_data.csv\")\n",
        "\n",
        "print(csv_data.describe(exclude=['O']))"
      ],
      "execution_count": 10,
      "outputs": [
        {
          "output_type": "stream",
          "text": [
            "       CustomerID         Age  Annual Income (k$)  Spending Score (1-100)\n",
            "count  200.000000  200.000000          200.000000              200.000000\n",
            "mean   100.500000   38.850000           60.560000               50.200000\n",
            "std     57.879185   13.969007           26.264721               25.823522\n",
            "min      1.000000   18.000000           15.000000                1.000000\n",
            "25%     50.750000   28.750000           41.500000               34.750000\n",
            "50%    100.500000   36.000000           61.500000               50.000000\n",
            "75%    150.250000   49.000000           78.000000               73.000000\n",
            "max    200.000000   70.000000          137.000000               99.000000\n"
          ],
          "name": "stdout"
        }
      ]
    },
    {
      "cell_type": "markdown",
      "metadata": {
        "id": "HhqdJ4Jfu4wH"
      },
      "source": [
        "# Melakukan pengecekan untuk nilai NULL yang ada"
      ]
    },
    {
      "cell_type": "code",
      "metadata": {
        "colab": {
          "base_uri": "https://localhost:8080/"
        },
        "id": "l7WRYHq-uciU",
        "outputId": "8c643812-4dd9-4308-c116-0c6f44d17cc5"
      },
      "source": [
        "import pandas as pd\n",
        "\n",
        "csv_data = pd.read_csv(\"https://storage.googleapis.com/dqlab-dataset/shopping_data.csv\")\n",
        "\n",
        "print(csv_data.isnull().values.any())"
      ],
      "execution_count": 11,
      "outputs": [
        {
          "output_type": "stream",
          "text": [
            "False\n"
          ],
          "name": "stdout"
        }
      ]
    },
    {
      "cell_type": "code",
      "metadata": {
        "colab": {
          "base_uri": "https://localhost:8080/"
        },
        "id": "E5DbOw1ivIdd",
        "outputId": "1f681182-768d-4c01-d8f2-cbcb25dc77eb"
      },
      "source": [
        "import pandas as pd\n",
        "\n",
        "csv_data = pd.read_csv(\"https://storage.googleapis.com/dqlab-dataset/shopping_data_missingvalue.csv\")\n",
        "\n",
        "print(csv_data.isnull().values.any())"
      ],
      "execution_count": 12,
      "outputs": [
        {
          "output_type": "stream",
          "text": [
            "True\n"
          ],
          "name": "stdout"
        }
      ]
    },
    {
      "cell_type": "markdown",
      "metadata": {
        "id": "uuTAJ4GRweQ5"
      },
      "source": [
        "# Mengisi dengan Mean"
      ]
    },
    {
      "cell_type": "code",
      "metadata": {
        "colab": {
          "base_uri": "https://localhost:8080/"
        },
        "id": "qkiS6JYhvViC",
        "outputId": "9119ec75-a1a8-4dea-db78-e3d3e9b1b55a"
      },
      "source": [
        "import pandas as pd\n",
        "\n",
        "csv_data = pd.read_csv(\"https://storage.googleapis.com/dqlab-dataset/shopping_data_missingvalue.csv\")\n",
        "\n",
        "print(csv_data.mean())"
      ],
      "execution_count": 13,
      "outputs": [
        {
          "output_type": "stream",
          "text": [
            "CustomerID                100.500000\n",
            "Age                        38.939698\n",
            "Annual Income (k$)         61.005051\n",
            "Spending Score (1-100)     50.489899\n",
            "dtype: float64\n"
          ],
          "name": "stdout"
        }
      ]
    },
    {
      "cell_type": "code",
      "metadata": {
        "colab": {
          "base_uri": "https://localhost:8080/"
        },
        "id": "Tem-SVpuwpZU",
        "outputId": "1d6218a0-6ac4-43cd-b808-ffb1b4ae7aa9"
      },
      "source": [
        "import pandas as pd\n",
        "\n",
        "csv_data = pd.read_csv(\"https://storage.googleapis.com/dqlab-dataset/shopping_data_missingvalue.csv\")\n",
        "print(csv_data.mean())\n",
        "print(\"Dataset yang masih terdapat nilai kosong ! :\")\n",
        "print(csv_data.head(10))\n",
        "\n",
        "csv_data = csv_data.fillna(csv_data.mean())\n",
        "print(\"Dataset yang sudah diproses Handling Missing Value dengan Mean :\")\n",
        "print(csv_data.head(10))"
      ],
      "execution_count": 14,
      "outputs": [
        {
          "output_type": "stream",
          "text": [
            "CustomerID                100.500000\n",
            "Age                        38.939698\n",
            "Annual Income (k$)         61.005051\n",
            "Spending Score (1-100)     50.489899\n",
            "dtype: float64\n",
            "Dataset yang masih terdapat nilai kosong ! :\n",
            "   CustomerID   Genre   Age  Annual Income (k$)  Spending Score (1-100)\n",
            "0           1    Male  19.0                15.0                    39.0\n",
            "1           2    Male   NaN                15.0                    81.0\n",
            "2           3  Female  20.0                 NaN                     6.0\n",
            "3           4  Female  23.0                16.0                    77.0\n",
            "4           5  Female  31.0                17.0                     NaN\n",
            "5           6  Female  22.0                 NaN                    76.0\n",
            "6           7  Female  35.0                18.0                     6.0\n",
            "7           8  Female  23.0                18.0                    94.0\n",
            "8           9    Male  64.0                19.0                     NaN\n",
            "9          10  Female  30.0                19.0                    72.0\n",
            "Dataset yang sudah diproses Handling Missing Value dengan Mean :\n",
            "   CustomerID   Genre        Age  Annual Income (k$)  Spending Score (1-100)\n",
            "0           1    Male  19.000000           15.000000               39.000000\n",
            "1           2    Male  38.939698           15.000000               81.000000\n",
            "2           3  Female  20.000000           61.005051                6.000000\n",
            "3           4  Female  23.000000           16.000000               77.000000\n",
            "4           5  Female  31.000000           17.000000               50.489899\n",
            "5           6  Female  22.000000           61.005051               76.000000\n",
            "6           7  Female  35.000000           18.000000                6.000000\n",
            "7           8  Female  23.000000           18.000000               94.000000\n",
            "8           9    Male  64.000000           19.000000               50.489899\n",
            "9          10  Female  30.000000           19.000000               72.000000\n"
          ],
          "name": "stdout"
        }
      ]
    },
    {
      "cell_type": "markdown",
      "metadata": {
        "id": "1A_FjotgxXjk"
      },
      "source": [
        "# Mengisi dengan Median"
      ]
    },
    {
      "cell_type": "code",
      "metadata": {
        "colab": {
          "base_uri": "https://localhost:8080/"
        },
        "id": "CxsY3ztPxLju",
        "outputId": "4b874d93-2b32-43c2-ad2a-444751260c33"
      },
      "source": [
        "import pandas as pd\n",
        "\n",
        "csv_data = pd.read_csv(\"https://storage.googleapis.com/dqlab-dataset/shopping_data_missingvalue.csv\")\n",
        "\n",
        "print(csv_data.median())"
      ],
      "execution_count": 15,
      "outputs": [
        {
          "output_type": "stream",
          "text": [
            "CustomerID                100.5\n",
            "Age                        36.0\n",
            "Annual Income (k$)         62.0\n",
            "Spending Score (1-100)     50.0\n",
            "dtype: float64\n"
          ],
          "name": "stdout"
        }
      ]
    },
    {
      "cell_type": "code",
      "metadata": {
        "colab": {
          "base_uri": "https://localhost:8080/"
        },
        "id": "jdIjVtaXxZtX",
        "outputId": "cbc08d13-c867-4ad2-9291-3b7fb6c5ddb7"
      },
      "source": [
        "import pandas as pd\n",
        "\n",
        "csv_data = pd.read_csv(\"https://storage.googleapis.com/dqlab-dataset/shopping_data_missingvalue.csv\")\n",
        "print(\"Dataset yang masih terdapat nilai kosong ! :\")\n",
        "print(csv_data.head(10))\n",
        "\n",
        "csv_data = csv_data.fillna(csv_data.median())\n",
        "print(\"Dataset yang sudah diproses Handling Missing Values dengan Median :\")\n",
        "print(csv_data.head(10))"
      ],
      "execution_count": 16,
      "outputs": [
        {
          "output_type": "stream",
          "text": [
            "Dataset yang masih terdapat nilai kosong ! :\n",
            "   CustomerID   Genre   Age  Annual Income (k$)  Spending Score (1-100)\n",
            "0           1    Male  19.0                15.0                    39.0\n",
            "1           2    Male   NaN                15.0                    81.0\n",
            "2           3  Female  20.0                 NaN                     6.0\n",
            "3           4  Female  23.0                16.0                    77.0\n",
            "4           5  Female  31.0                17.0                     NaN\n",
            "5           6  Female  22.0                 NaN                    76.0\n",
            "6           7  Female  35.0                18.0                     6.0\n",
            "7           8  Female  23.0                18.0                    94.0\n",
            "8           9    Male  64.0                19.0                     NaN\n",
            "9          10  Female  30.0                19.0                    72.0\n",
            "Dataset yang sudah diproses Handling Missing Values dengan Median :\n",
            "   CustomerID   Genre   Age  Annual Income (k$)  Spending Score (1-100)\n",
            "0           1    Male  19.0                15.0                    39.0\n",
            "1           2    Male  36.0                15.0                    81.0\n",
            "2           3  Female  20.0                62.0                     6.0\n",
            "3           4  Female  23.0                16.0                    77.0\n",
            "4           5  Female  31.0                17.0                    50.0\n",
            "5           6  Female  22.0                62.0                    76.0\n",
            "6           7  Female  35.0                18.0                     6.0\n",
            "7           8  Female  23.0                18.0                    94.0\n",
            "8           9    Male  64.0                19.0                    50.0\n",
            "9          10  Female  30.0                19.0                    72.0\n"
          ],
          "name": "stdout"
        }
      ]
    },
    {
      "cell_type": "markdown",
      "metadata": {
        "id": "3ixFTwY6y3gH"
      },
      "source": [
        "# Praktek Normalisasi menggunakan Scikit Learn pada Python"
      ]
    },
    {
      "cell_type": "code",
      "metadata": {
        "colab": {
          "base_uri": "https://localhost:8080/"
        },
        "id": "sFoMVHKQxeLa",
        "outputId": "acc8631c-5546-40d7-dee0-ed07441844ad"
      },
      "source": [
        "import pandas as pd\n",
        "import numpy as np\n",
        "from sklearn import preprocessing\n",
        "\n",
        "csv_data = pd.read_csv(\"https://storage.googleapis.com/dqlab-dataset/shopping_data.csv\")\n",
        "array = csv_data.values\n",
        "print(array)"
      ],
      "execution_count": 17,
      "outputs": [
        {
          "output_type": "stream",
          "text": [
            "[[1 'Male' 19 15 39]\n",
            " [2 'Male' 21 15 81]\n",
            " [3 'Female' 20 16 6]\n",
            " [4 'Female' 23 16 77]\n",
            " [5 'Female' 31 17 40]\n",
            " [6 'Female' 22 17 76]\n",
            " [7 'Female' 35 18 6]\n",
            " [8 'Female' 23 18 94]\n",
            " [9 'Male' 64 19 3]\n",
            " [10 'Female' 30 19 72]\n",
            " [11 'Male' 67 19 14]\n",
            " [12 'Female' 35 19 99]\n",
            " [13 'Female' 58 20 15]\n",
            " [14 'Female' 24 20 77]\n",
            " [15 'Male' 37 20 13]\n",
            " [16 'Male' 22 20 79]\n",
            " [17 'Female' 35 21 35]\n",
            " [18 'Male' 20 21 66]\n",
            " [19 'Male' 52 23 29]\n",
            " [20 'Female' 35 23 98]\n",
            " [21 'Male' 35 24 35]\n",
            " [22 'Male' 25 24 73]\n",
            " [23 'Female' 46 25 5]\n",
            " [24 'Male' 31 25 73]\n",
            " [25 'Female' 54 28 14]\n",
            " [26 'Male' 29 28 82]\n",
            " [27 'Female' 45 28 32]\n",
            " [28 'Male' 35 28 61]\n",
            " [29 'Female' 40 29 31]\n",
            " [30 'Female' 23 29 87]\n",
            " [31 'Male' 60 30 4]\n",
            " [32 'Female' 21 30 73]\n",
            " [33 'Male' 53 33 4]\n",
            " [34 'Male' 18 33 92]\n",
            " [35 'Female' 49 33 14]\n",
            " [36 'Female' 21 33 81]\n",
            " [37 'Female' 42 34 17]\n",
            " [38 'Female' 30 34 73]\n",
            " [39 'Female' 36 37 26]\n",
            " [40 'Female' 20 37 75]\n",
            " [41 'Female' 65 38 35]\n",
            " [42 'Male' 24 38 92]\n",
            " [43 'Male' 48 39 36]\n",
            " [44 'Female' 31 39 61]\n",
            " [45 'Female' 49 39 28]\n",
            " [46 'Female' 24 39 65]\n",
            " [47 'Female' 50 40 55]\n",
            " [48 'Female' 27 40 47]\n",
            " [49 'Female' 29 40 42]\n",
            " [50 'Female' 31 40 42]\n",
            " [51 'Female' 49 42 52]\n",
            " [52 'Male' 33 42 60]\n",
            " [53 'Female' 31 43 54]\n",
            " [54 'Male' 59 43 60]\n",
            " [55 'Female' 50 43 45]\n",
            " [56 'Male' 47 43 41]\n",
            " [57 'Female' 51 44 50]\n",
            " [58 'Male' 69 44 46]\n",
            " [59 'Female' 27 46 51]\n",
            " [60 'Male' 53 46 46]\n",
            " [61 'Male' 70 46 56]\n",
            " [62 'Male' 19 46 55]\n",
            " [63 'Female' 67 47 52]\n",
            " [64 'Female' 54 47 59]\n",
            " [65 'Male' 63 48 51]\n",
            " [66 'Male' 18 48 59]\n",
            " [67 'Female' 43 48 50]\n",
            " [68 'Female' 68 48 48]\n",
            " [69 'Male' 19 48 59]\n",
            " [70 'Female' 32 48 47]\n",
            " [71 'Male' 70 49 55]\n",
            " [72 'Female' 47 49 42]\n",
            " [73 'Female' 60 50 49]\n",
            " [74 'Female' 60 50 56]\n",
            " [75 'Male' 59 54 47]\n",
            " [76 'Male' 26 54 54]\n",
            " [77 'Female' 45 54 53]\n",
            " [78 'Male' 40 54 48]\n",
            " [79 'Female' 23 54 52]\n",
            " [80 'Female' 49 54 42]\n",
            " [81 'Male' 57 54 51]\n",
            " [82 'Male' 38 54 55]\n",
            " [83 'Male' 67 54 41]\n",
            " [84 'Female' 46 54 44]\n",
            " [85 'Female' 21 54 57]\n",
            " [86 'Male' 48 54 46]\n",
            " [87 'Female' 55 57 58]\n",
            " [88 'Female' 22 57 55]\n",
            " [89 'Female' 34 58 60]\n",
            " [90 'Female' 50 58 46]\n",
            " [91 'Female' 68 59 55]\n",
            " [92 'Male' 18 59 41]\n",
            " [93 'Male' 48 60 49]\n",
            " [94 'Female' 40 60 40]\n",
            " [95 'Female' 32 60 42]\n",
            " [96 'Male' 24 60 52]\n",
            " [97 'Female' 47 60 47]\n",
            " [98 'Female' 27 60 50]\n",
            " [99 'Male' 48 61 42]\n",
            " [100 'Male' 20 61 49]\n",
            " [101 'Female' 23 62 41]\n",
            " [102 'Female' 49 62 48]\n",
            " [103 'Male' 67 62 59]\n",
            " [104 'Male' 26 62 55]\n",
            " [105 'Male' 49 62 56]\n",
            " [106 'Female' 21 62 42]\n",
            " [107 'Female' 66 63 50]\n",
            " [108 'Male' 54 63 46]\n",
            " [109 'Male' 68 63 43]\n",
            " [110 'Male' 66 63 48]\n",
            " [111 'Male' 65 63 52]\n",
            " [112 'Female' 19 63 54]\n",
            " [113 'Female' 38 64 42]\n",
            " [114 'Male' 19 64 46]\n",
            " [115 'Female' 18 65 48]\n",
            " [116 'Female' 19 65 50]\n",
            " [117 'Female' 63 65 43]\n",
            " [118 'Female' 49 65 59]\n",
            " [119 'Female' 51 67 43]\n",
            " [120 'Female' 50 67 57]\n",
            " [121 'Male' 27 67 56]\n",
            " [122 'Female' 38 67 40]\n",
            " [123 'Female' 40 69 58]\n",
            " [124 'Male' 39 69 91]\n",
            " [125 'Female' 23 70 29]\n",
            " [126 'Female' 31 70 77]\n",
            " [127 'Male' 43 71 35]\n",
            " [128 'Male' 40 71 95]\n",
            " [129 'Male' 59 71 11]\n",
            " [130 'Male' 38 71 75]\n",
            " [131 'Male' 47 71 9]\n",
            " [132 'Male' 39 71 75]\n",
            " [133 'Female' 25 72 34]\n",
            " [134 'Female' 31 72 71]\n",
            " [135 'Male' 20 73 5]\n",
            " [136 'Female' 29 73 88]\n",
            " [137 'Female' 44 73 7]\n",
            " [138 'Male' 32 73 73]\n",
            " [139 'Male' 19 74 10]\n",
            " [140 'Female' 35 74 72]\n",
            " [141 'Female' 57 75 5]\n",
            " [142 'Male' 32 75 93]\n",
            " [143 'Female' 28 76 40]\n",
            " [144 'Female' 32 76 87]\n",
            " [145 'Male' 25 77 12]\n",
            " [146 'Male' 28 77 97]\n",
            " [147 'Male' 48 77 36]\n",
            " [148 'Female' 32 77 74]\n",
            " [149 'Female' 34 78 22]\n",
            " [150 'Male' 34 78 90]\n",
            " [151 'Male' 43 78 17]\n",
            " [152 'Male' 39 78 88]\n",
            " [153 'Female' 44 78 20]\n",
            " [154 'Female' 38 78 76]\n",
            " [155 'Female' 47 78 16]\n",
            " [156 'Female' 27 78 89]\n",
            " [157 'Male' 37 78 1]\n",
            " [158 'Female' 30 78 78]\n",
            " [159 'Male' 34 78 1]\n",
            " [160 'Female' 30 78 73]\n",
            " [161 'Female' 56 79 35]\n",
            " [162 'Female' 29 79 83]\n",
            " [163 'Male' 19 81 5]\n",
            " [164 'Female' 31 81 93]\n",
            " [165 'Male' 50 85 26]\n",
            " [166 'Female' 36 85 75]\n",
            " [167 'Male' 42 86 20]\n",
            " [168 'Female' 33 86 95]\n",
            " [169 'Female' 36 87 27]\n",
            " [170 'Male' 32 87 63]\n",
            " [171 'Male' 40 87 13]\n",
            " [172 'Male' 28 87 75]\n",
            " [173 'Male' 36 87 10]\n",
            " [174 'Male' 36 87 92]\n",
            " [175 'Female' 52 88 13]\n",
            " [176 'Female' 30 88 86]\n",
            " [177 'Male' 58 88 15]\n",
            " [178 'Male' 27 88 69]\n",
            " [179 'Male' 59 93 14]\n",
            " [180 'Male' 35 93 90]\n",
            " [181 'Female' 37 97 32]\n",
            " [182 'Female' 32 97 86]\n",
            " [183 'Male' 46 98 15]\n",
            " [184 'Female' 29 98 88]\n",
            " [185 'Female' 41 99 39]\n",
            " [186 'Male' 30 99 97]\n",
            " [187 'Female' 54 101 24]\n",
            " [188 'Male' 28 101 68]\n",
            " [189 'Female' 41 103 17]\n",
            " [190 'Female' 36 103 85]\n",
            " [191 'Female' 34 103 23]\n",
            " [192 'Female' 32 103 69]\n",
            " [193 'Male' 33 113 8]\n",
            " [194 'Female' 38 113 91]\n",
            " [195 'Female' 47 120 16]\n",
            " [196 'Female' 35 120 79]\n",
            " [197 'Female' 45 126 28]\n",
            " [198 'Male' 32 126 74]\n",
            " [199 'Male' 32 137 18]\n",
            " [200 'Male' 30 137 83]]\n"
          ],
          "name": "stdout"
        }
      ]
    },
    {
      "cell_type": "code",
      "metadata": {
        "colab": {
          "base_uri": "https://localhost:8080/"
        },
        "id": "wrsaFVF8zHag",
        "outputId": "aa2b173c-35aa-4fec-8ae0-66bf967b57a6"
      },
      "source": [
        "X = array[:, 2 : 5] # Memisahkan fitur dari dataset. \n",
        "Y = array[:, 0 : 1]  # Memisahkan class dari dataset\n",
        "\n",
        "dataset = pd.DataFrame({'Customer ID' : array[:, 0], 'Gender' : array[:, 1], 'Age' : array[:,2], 'Income' : array[:, 3], 'Spending Score' : array[:, 4]})\n",
        "print(\"dataset sebelum dinormalisasi :\")\n",
        "print(dataset.head(10))\n",
        "\n",
        "min_max_scaler = preprocessing.MinMaxScaler(feature_range=(0, 1)) # Inisialisasi normalisasi MinMax\n",
        "data = min_max_scaler.fit_transform(X) # Transformasi MinMax untuk fitur\n",
        "dataset = pd.DataFrame({'Age' : data[:, 0], 'Income' : data[:, 1], 'Spending Score' : data[:, 2], 'Customer ID' : array[:, 0], 'Gender' : array[:, 1]})\n",
        "\n",
        "print(\"dataset setelah dinormalisasi :\")\n",
        "print(dataset.head(10))"
      ],
      "execution_count": 18,
      "outputs": [
        {
          "output_type": "stream",
          "text": [
            "dataset sebelum dinormalisasi :\n",
            "  Customer ID  Gender Age Income Spending Score\n",
            "0           1    Male  19     15             39\n",
            "1           2    Male  21     15             81\n",
            "2           3  Female  20     16              6\n",
            "3           4  Female  23     16             77\n",
            "4           5  Female  31     17             40\n",
            "5           6  Female  22     17             76\n",
            "6           7  Female  35     18              6\n",
            "7           8  Female  23     18             94\n",
            "8           9    Male  64     19              3\n",
            "9          10  Female  30     19             72\n",
            "dataset setelah dinormalisasi :\n",
            "        Age    Income  Spending Score Customer ID  Gender\n",
            "0  0.019231  0.000000        0.387755           1    Male\n",
            "1  0.057692  0.000000        0.816327           2    Male\n",
            "2  0.038462  0.008197        0.051020           3  Female\n",
            "3  0.096154  0.008197        0.775510           4  Female\n",
            "4  0.250000  0.016393        0.397959           5  Female\n",
            "5  0.076923  0.016393        0.765306           6  Female\n",
            "6  0.326923  0.024590        0.051020           7  Female\n",
            "7  0.096154  0.024590        0.948980           8  Female\n",
            "8  0.884615  0.032787        0.020408           9    Male\n",
            "9  0.230769  0.032787        0.724490          10  Female\n"
          ],
          "name": "stdout"
        }
      ]
    }
  ]
}