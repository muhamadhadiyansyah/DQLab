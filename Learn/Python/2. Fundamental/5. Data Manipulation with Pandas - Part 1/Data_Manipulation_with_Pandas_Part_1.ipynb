{
  "nbformat": 4,
  "nbformat_minor": 0,
  "metadata": {
    "colab": {
      "name": "Data Manipulation with Pandas - Part 1.ipynb",
      "provenance": [],
      "collapsed_sections": []
    },
    "kernelspec": {
      "name": "python3",
      "display_name": "Python 3"
    },
    "language_info": {
      "name": "python"
    }
  },
  "cells": [
    {
      "cell_type": "markdown",
      "metadata": {
        "id": "w1CxZ1ZplKHe"
      },
      "source": [
        "# Memanggil Library Pandas"
      ]
    },
    {
      "cell_type": "code",
      "metadata": {
        "id": "FFBpyW-4S7J7"
      },
      "source": [
        "import pandas as pd\n",
        "import numpy as np"
      ],
      "execution_count": 1,
      "outputs": []
    },
    {
      "cell_type": "markdown",
      "metadata": {
        "id": "2J7MrADAleCL"
      },
      "source": [
        "# DataFrame & Series"
      ]
    },
    {
      "cell_type": "code",
      "metadata": {
        "colab": {
          "base_uri": "https://localhost:8080/"
        },
        "id": "vHpYW65qlWhb",
        "outputId": "906e629f-d0dc-441c-d033-b1ff992d9bce"
      },
      "source": [
        "# Series\n",
        "number_list = pd.Series([1, 2, 3, 4, 5, 6])\n",
        "print('Series:')\n",
        "print(number_list)"
      ],
      "execution_count": 2,
      "outputs": [
        {
          "output_type": "stream",
          "text": [
            "Series:\n",
            "0    1\n",
            "1    2\n",
            "2    3\n",
            "3    4\n",
            "4    5\n",
            "5    6\n",
            "dtype: int64\n"
          ],
          "name": "stdout"
        }
      ]
    },
    {
      "cell_type": "code",
      "metadata": {
        "colab": {
          "base_uri": "https://localhost:8080/"
        },
        "id": "EHW2bJ2LlxH8",
        "outputId": "00171b9e-d473-4f7b-9a53-97c8198f90cc"
      },
      "source": [
        "# DataFrame\n",
        "matrix = [[1, 2, 3],\n",
        "          ['a', 'b', 'c'],\n",
        "          [3, 4, 5],\n",
        "          ['d', 4, 6]]\n",
        "matrix_list = pd.DataFrame(matrix)\n",
        "print('DataFrame:')\n",
        "print(matrix_list)"
      ],
      "execution_count": 3,
      "outputs": [
        {
          "output_type": "stream",
          "text": [
            "DataFrame:\n",
            "   0  1  2\n",
            "0  1  2  3\n",
            "1  a  b  c\n",
            "2  3  4  5\n",
            "3  d  4  6\n"
          ],
          "name": "stdout"
        }
      ]
    },
    {
      "cell_type": "markdown",
      "metadata": {
        "id": "0HtNU-n6mPWw"
      },
      "source": [
        "# Atribut DataFrame & Series - Part 1"
      ]
    },
    {
      "cell_type": "code",
      "metadata": {
        "colab": {
          "base_uri": "https://localhost:8080/"
        },
        "id": "V4iGThkXmHWm",
        "outputId": "3aa04880-b3b5-4085-9c9d-187aa6651187"
      },
      "source": [
        "# info(): mengecek kolom apa yang membentuk dataframe itu, data types, berapa yang non null, dll. \n",
        "# Attribute ini tidak dapat digunakan pada series, hanya pada data frame saja\n",
        "\n",
        "print(matrix_list.info())"
      ],
      "execution_count": 4,
      "outputs": [
        {
          "output_type": "stream",
          "text": [
            "<class 'pandas.core.frame.DataFrame'>\n",
            "RangeIndex: 4 entries, 0 to 3\n",
            "Data columns (total 3 columns):\n",
            " #   Column  Non-Null Count  Dtype \n",
            "---  ------  --------------  ----- \n",
            " 0   0       4 non-null      object\n",
            " 1   1       4 non-null      object\n",
            " 2   2       4 non-null      object\n",
            "dtypes: object(3)\n",
            "memory usage: 224.0+ bytes\n",
            "None\n"
          ],
          "name": "stdout"
        }
      ]
    },
    {
      "cell_type": "code",
      "metadata": {
        "colab": {
          "base_uri": "https://localhost:8080/"
        },
        "id": "q05ByihGmgMH",
        "outputId": "c411509e-e813-4eaf-e0e3-e5af4e60c7e2"
      },
      "source": [
        "# shape: mengetahui berapa baris dan kolom, hasilnya dalam format tuple (baris, kolom)\n",
        "print('Shape dari number_list:', number_list.shape) \n",
        "print('Shape dari matrix_list:', matrix_list.shape)"
      ],
      "execution_count": 5,
      "outputs": [
        {
          "output_type": "stream",
          "text": [
            "Shape dari number_list: (6,)\n",
            "Shape dari matrix_list: (4, 3)\n"
          ],
          "name": "stdout"
        }
      ]
    },
    {
      "cell_type": "code",
      "metadata": {
        "colab": {
          "base_uri": "https://localhost:8080/"
        },
        "id": "G45HR8wxm71w",
        "outputId": "e919a9de-4881-4004-a945-08b2fbeece3b"
      },
      "source": [
        "# dtypes: mengetahui tipe data di tiap kolom. \n",
        "# Tipe data object: kombinasi untuk berbagai tipe data (number & text, etc).\n",
        "\n",
        "print('Tipe data number_list:', number_list.dtypes)\n",
        "print('Tipe data matrix_list:', matrix_list.dtypes)"
      ],
      "execution_count": 6,
      "outputs": [
        {
          "output_type": "stream",
          "text": [
            "Tipe data number_list: int64\n",
            "Tipe data matrix_list: 0    object\n",
            "1    object\n",
            "2    object\n",
            "dtype: object\n"
          ],
          "name": "stdout"
        }
      ]
    },
    {
      "cell_type": "code",
      "metadata": {
        "colab": {
          "base_uri": "https://localhost:8080/"
        },
        "id": "xFGdgr38nNmg",
        "outputId": "3cc68590-fd32-4f06-8725-0b4903ba48aa"
      },
      "source": [
        "# astype(nama_tipe_data): convert tipe data berdasarkan tipe data \n",
        "# seperti: float, int, str, numpy.float, numpy.int ataupun numpy.datetime.\n",
        "print('Konversi number_list ke str:', number_list.astype('str'))\n",
        "print('Konversi matrix_list ke str:', matrix_list.astype('str'))"
      ],
      "execution_count": 7,
      "outputs": [
        {
          "output_type": "stream",
          "text": [
            "Konversi number_list ke str: 0    1\n",
            "1    2\n",
            "2    3\n",
            "3    4\n",
            "4    5\n",
            "5    6\n",
            "dtype: object\n",
            "Konversi matrix_list ke str:    0  1  2\n",
            "0  1  2  3\n",
            "1  a  b  c\n",
            "2  3  4  5\n",
            "3  d  4  6\n"
          ],
          "name": "stdout"
        }
      ]
    },
    {
      "cell_type": "markdown",
      "metadata": {
        "id": "UsI4tV1rnz-0"
      },
      "source": [
        "# Atribut DataFrame & Series - Part 2"
      ]
    },
    {
      "cell_type": "code",
      "metadata": {
        "colab": {
          "base_uri": "https://localhost:8080/"
        },
        "id": "VAGai6Bmnm1r",
        "outputId": "b64453e3-bc49-42cf-e8b6-33a4f776a765"
      },
      "source": [
        "# .copy(): melakukan duplikat, untuk disimpan di variable yang berbeda mungkin supaya tidak loading data lagi.\n",
        "num_list = number_list.copy()\n",
        "print('Copy number_list ke num_list:', num_list)\n",
        "mtr_list = matrix_list.copy()\n",
        "print('Copy matrix_list ke mtr_list:', mtr_list)"
      ],
      "execution_count": 8,
      "outputs": [
        {
          "output_type": "stream",
          "text": [
            "Copy number_list ke num_list: 0    1\n",
            "1    2\n",
            "2    3\n",
            "3    4\n",
            "4    5\n",
            "5    6\n",
            "dtype: int64\n",
            "Copy matrix_list ke mtr_list:    0  1  2\n",
            "0  1  2  3\n",
            "1  a  b  c\n",
            "2  3  4  5\n",
            "3  d  4  6\n"
          ],
          "name": "stdout"
        }
      ]
    },
    {
      "cell_type": "code",
      "metadata": {
        "colab": {
          "base_uri": "https://localhost:8080/"
        },
        "id": "24IL5lM3oQ8a",
        "outputId": "c064c1e1-34a6-417b-d6a0-84ce0e64e4e1"
      },
      "source": [
        "# .to_list(): mengubah series menjadi list dan tidak dapat digunakan untuk dataframe.\n",
        "print(number_list.to_list())"
      ],
      "execution_count": 9,
      "outputs": [
        {
          "output_type": "stream",
          "text": [
            "[1, 2, 3, 4, 5, 6]\n"
          ],
          "name": "stdout"
        }
      ]
    },
    {
      "cell_type": "code",
      "metadata": {
        "colab": {
          "base_uri": "https://localhost:8080/"
        },
        "id": "Y805BcRDoZoo",
        "outputId": "a4067ad7-3852-4352-f997-ad5a80e47304"
      },
      "source": [
        "# .unique(): menghasilkan nilai unik dari suatu kolom, hasilnya dalam bentuk numpy array.\n",
        "# Attribute ini hanya digunakan pada series saja.\n",
        "print(number_list.unique())"
      ],
      "execution_count": 10,
      "outputs": [
        {
          "output_type": "stream",
          "text": [
            "[1 2 3 4 5 6]\n"
          ],
          "name": "stdout"
        }
      ]
    },
    {
      "cell_type": "markdown",
      "metadata": {
        "id": "VlbAN2CWos2E"
      },
      "source": [
        "# Atribut DataFrame & Series - Part 3"
      ]
    },
    {
      "cell_type": "code",
      "metadata": {
        "colab": {
          "base_uri": "https://localhost:8080/"
        },
        "id": "MRWYGvJRokTw",
        "outputId": "a7c8dedf-38d5-471d-9ce3-5d706fc9f692"
      },
      "source": [
        "# .index: untuk mencari index/key dari Series atau Dataframe.\n",
        "print('Index number_list:', number_list.index)\n",
        "print('Index matrix_list:', matrix_list.index)"
      ],
      "execution_count": 11,
      "outputs": [
        {
          "output_type": "stream",
          "text": [
            "Index number_list: RangeIndex(start=0, stop=6, step=1)\n",
            "Index matrix_list: RangeIndex(start=0, stop=4, step=1)\n"
          ],
          "name": "stdout"
        }
      ]
    },
    {
      "cell_type": "code",
      "metadata": {
        "colab": {
          "base_uri": "https://localhost:8080/"
        },
        "id": "4L8IKUEHo9YM",
        "outputId": "64d6d564-0f3a-41eb-c5e0-e92bfe081a8f"
      },
      "source": [
        "# .loc: slice dataframe atau series berdasarkan nama kolom\n",
        "print('.loc[0:1] pada number_list:', number_list.loc[0:1])\n",
        "print('.loc[0:1] pada matrix_list:', matrix_list.loc[0:1])"
      ],
      "execution_count": 12,
      "outputs": [
        {
          "output_type": "stream",
          "text": [
            ".loc[0:1] pada number_list: 0    1\n",
            "1    2\n",
            "dtype: int64\n",
            ".loc[0:1] pada matrix_list:    0  1  2\n",
            "0  1  2  3\n",
            "1  a  b  c\n"
          ],
          "name": "stdout"
        }
      ]
    },
    {
      "cell_type": "markdown",
      "metadata": {
        "id": "UhwBJniHphaM"
      },
      "source": [
        "# QUIZ"
      ]
    },
    {
      "cell_type": "code",
      "metadata": {
        "colab": {
          "base_uri": "https://localhost:8080/"
        },
        "id": "VDbs1bo6pP_g",
        "outputId": "222710f7-7cfd-42c6-ce4a-f6f87b0d1d0a"
      },
      "source": [
        "matrix = [[1,2,3],\n",
        "          ['a','b','c'],\n",
        "          [3,4,5],\n",
        "          ['d',4,6]]\n",
        "matrix_list = pd.DataFrame(matrix)\n",
        "\n",
        "matrix_list.iloc[0:2, 2].to_list()"
      ],
      "execution_count": 13,
      "outputs": [
        {
          "output_type": "execute_result",
          "data": {
            "text/plain": [
              "[3, 'c']"
            ]
          },
          "metadata": {
            "tags": []
          },
          "execution_count": 13
        }
      ]
    },
    {
      "cell_type": "markdown",
      "metadata": {
        "id": "woFv_h5GpyDz"
      },
      "source": [
        "# Creating Series & Dataframe from List"
      ]
    },
    {
      "cell_type": "code",
      "metadata": {
        "colab": {
          "base_uri": "https://localhost:8080/"
        },
        "id": "uSUhG-kApsdC",
        "outputId": "c5b6d88f-9aff-4da0-88aa-3cbcc02d6159"
      },
      "source": [
        "# Creating Series from List\n",
        "ex_list = ['a', 1, 3, 5, 'c', 'd']\n",
        "ex_series = pd.Series(ex_list)\n",
        "print(ex_series)"
      ],
      "execution_count": 14,
      "outputs": [
        {
          "output_type": "stream",
          "text": [
            "0    a\n",
            "1    1\n",
            "2    3\n",
            "3    5\n",
            "4    c\n",
            "5    d\n",
            "dtype: object\n"
          ],
          "name": "stdout"
        }
      ]
    },
    {
      "cell_type": "code",
      "metadata": {
        "colab": {
          "base_uri": "https://localhost:8080/"
        },
        "id": "krvu42ByqNG1",
        "outputId": "68fc9677-853f-4bc1-efeb-bb6c834878c5"
      },
      "source": [
        "# Creating dataframe from list of list\n",
        "ex_list_of_list = [[1,'a','b','c'],\n",
        "                   [2.5,'d','e','f'],\n",
        "                   [5,'g','h','i'],\n",
        "                   [7.5,'j',10.5,'l']]\n",
        "\n",
        "index = ['dq', 'lab', 'kar', 'lan']\n",
        "cols = ['float', 'char', 'obj', 'char']\n",
        "ex_df = pd.DataFrame(ex_list_of_list, index=index, columns=cols)\n",
        "print(ex_df)"
      ],
      "execution_count": 15,
      "outputs": [
        {
          "output_type": "stream",
          "text": [
            "     float char   obj char\n",
            "dq     1.0    a     b    c\n",
            "lab    2.5    d     e    f\n",
            "kar    5.0    g     h    i\n",
            "lan    7.5    j  10.5    l\n"
          ],
          "name": "stdout"
        }
      ]
    },
    {
      "cell_type": "markdown",
      "metadata": {
        "id": "LkCNJnKzq_-Z"
      },
      "source": [
        "# Creating Series & Dataframe from Dictionary"
      ]
    },
    {
      "cell_type": "code",
      "metadata": {
        "colab": {
          "base_uri": "https://localhost:8080/"
        },
        "id": "2MPytRxqq3YV",
        "outputId": "13d3ff6c-7de9-49eb-d0ec-202b0d705867"
      },
      "source": [
        "# Creating series from dictionary\n",
        "dict_series = {'1':'a',\n",
        "               '2':'b',\n",
        "               '3':'c'}\n",
        "          \n",
        "ex_series = pd.Series(dict_series)\n",
        "print(ex_series)"
      ],
      "execution_count": 16,
      "outputs": [
        {
          "output_type": "stream",
          "text": [
            "1    a\n",
            "2    b\n",
            "3    c\n",
            "dtype: object\n"
          ],
          "name": "stdout"
        }
      ]
    },
    {
      "cell_type": "code",
      "metadata": {
        "id": "KtPVTTeCrNDt"
      },
      "source": [
        "# Creating dataframe from dictionary\n",
        "df_series = {'1':['a', 'b', 'c'],\n",
        "             '2':['b', 'c', 'd'],\n",
        "             '4':[2, 3, 'z']}\n",
        "ex_df = pd.DataFrame(df_series, index=index)\n",
        "print(ex_df)"
      ],
      "execution_count": null,
      "outputs": []
    },
    {
      "cell_type": "markdown",
      "metadata": {
        "id": "gOy0OZTFsD_z"
      },
      "source": [
        "# Creating Series & Dataframe from Numpy Array"
      ]
    },
    {
      "cell_type": "code",
      "metadata": {
        "colab": {
          "base_uri": "https://localhost:8080/"
        },
        "id": "Ou6AJAORrePe",
        "outputId": "d06e8f67-dbdb-4937-8f0c-8cf4fe3e84e4"
      },
      "source": [
        "# Creating series from numpy array (1D)\n",
        "arr_series = np.array([1, 2, 3, 4, 5, 6, 6, 7])\n",
        "ex_series = pd.Series(arr_series)\n",
        "print(ex_series)"
      ],
      "execution_count": 18,
      "outputs": [
        {
          "output_type": "stream",
          "text": [
            "0    1\n",
            "1    2\n",
            "2    3\n",
            "3    4\n",
            "4    5\n",
            "5    6\n",
            "6    6\n",
            "7    7\n",
            "dtype: int64\n"
          ],
          "name": "stdout"
        }
      ]
    },
    {
      "cell_type": "code",
      "metadata": {
        "colab": {
          "base_uri": "https://localhost:8080/"
        },
        "id": "-tJkq-ErsPSi",
        "outputId": "6176a27b-9b2b-408d-e406-048a1b74c020"
      },
      "source": [
        "# Creating dataframe from numpy array (2D)\n",
        "arr_df = np.array([[1, 2, 3, 5],\n",
        "                   [5, 6, 7, 8],\n",
        "                   ['a', 'b', 'c', 10]])\n",
        "ex_df = pd.DataFrame(arr_df)\n",
        "print(ex_df)"
      ],
      "execution_count": 19,
      "outputs": [
        {
          "output_type": "stream",
          "text": [
            "   0  1  2   3\n",
            "0  1  2  3   5\n",
            "1  5  6  7   8\n",
            "2  a  b  c  10\n"
          ],
          "name": "stdout"
        }
      ]
    },
    {
      "cell_type": "code",
      "metadata": {
        "id": "vFClwm9wsgtF"
      },
      "source": [
        "ex_df.iloc[2, 0:2] = [11, 12]"
      ],
      "execution_count": 20,
      "outputs": []
    },
    {
      "cell_type": "code",
      "metadata": {
        "colab": {
          "base_uri": "https://localhost:8080/",
          "height": 142
        },
        "id": "DFDpxC7zsuVc",
        "outputId": "7248cff3-38cb-4366-fdd6-cddb522ee77c"
      },
      "source": [
        "ex_df"
      ],
      "execution_count": 21,
      "outputs": [
        {
          "output_type": "execute_result",
          "data": {
            "text/html": [
              "<div>\n",
              "<style scoped>\n",
              "    .dataframe tbody tr th:only-of-type {\n",
              "        vertical-align: middle;\n",
              "    }\n",
              "\n",
              "    .dataframe tbody tr th {\n",
              "        vertical-align: top;\n",
              "    }\n",
              "\n",
              "    .dataframe thead th {\n",
              "        text-align: right;\n",
              "    }\n",
              "</style>\n",
              "<table border=\"1\" class=\"dataframe\">\n",
              "  <thead>\n",
              "    <tr style=\"text-align: right;\">\n",
              "      <th></th>\n",
              "      <th>0</th>\n",
              "      <th>1</th>\n",
              "      <th>2</th>\n",
              "      <th>3</th>\n",
              "    </tr>\n",
              "  </thead>\n",
              "  <tbody>\n",
              "    <tr>\n",
              "      <th>0</th>\n",
              "      <td>1</td>\n",
              "      <td>2</td>\n",
              "      <td>3</td>\n",
              "      <td>5</td>\n",
              "    </tr>\n",
              "    <tr>\n",
              "      <th>1</th>\n",
              "      <td>5</td>\n",
              "      <td>6</td>\n",
              "      <td>7</td>\n",
              "      <td>8</td>\n",
              "    </tr>\n",
              "    <tr>\n",
              "      <th>2</th>\n",
              "      <td>11</td>\n",
              "      <td>12</td>\n",
              "      <td>c</td>\n",
              "      <td>10</td>\n",
              "    </tr>\n",
              "  </tbody>\n",
              "</table>\n",
              "</div>"
            ],
            "text/plain": [
              "    0   1  2   3\n",
              "0   1   2  3   5\n",
              "1   5   6  7   8\n",
              "2  11  12  c  10"
            ]
          },
          "metadata": {
            "tags": []
          },
          "execution_count": 21
        }
      ]
    },
    {
      "cell_type": "markdown",
      "metadata": {
        "id": "Hem72oC5s8Lu"
      },
      "source": [
        "# Read Dataset - CSV dan TSV"
      ]
    },
    {
      "cell_type": "code",
      "metadata": {
        "colab": {
          "base_uri": "https://localhost:8080/"
        },
        "id": "g5qRRaeCsxIk",
        "outputId": "7e6353b5-796d-463e-9019-68d27ce08a9c"
      },
      "source": [
        "# Membaca File CSV\n",
        "df_csv = pd.read_csv('https://storage.googleapis.com/dqlab-dataset/sample_csv.csv')\n",
        "print(df_csv.head(3))"
      ],
      "execution_count": 22,
      "outputs": [
        {
          "output_type": "stream",
          "text": [
            "   order_id  order_date  customer_id  ...    brand quantity item_price\n",
            "0   1612339  2019-01-01        18055  ...  BRAND_C        4    1934000\n",
            "1   1612339  2019-01-01        18055  ...  BRAND_V        8     604000\n",
            "2   1612339  2019-01-01        18055  ...  BRAND_G       12     747000\n",
            "\n",
            "[3 rows x 9 columns]\n"
          ],
          "name": "stdout"
        }
      ]
    },
    {
      "cell_type": "code",
      "metadata": {
        "colab": {
          "base_uri": "https://localhost:8080/"
        },
        "id": "7umFyYQsto8t",
        "outputId": "dd5b27f4-6e85-4391-804a-489340749937"
      },
      "source": [
        "# Membaca File TSV\n",
        "df_tsv = pd.read_csv('https://storage.googleapis.com/dqlab-dataset/sample_tsv.tsv', sep='\\t')\n",
        "print(df_tsv.head(3))"
      ],
      "execution_count": 23,
      "outputs": [
        {
          "output_type": "stream",
          "text": [
            "   order_id  order_date  customer_id  ...    brand quantity item_price\n",
            "0   1612339  2019-01-01        18055  ...  BRAND_C        4    1934000\n",
            "1   1612339  2019-01-01        18055  ...  BRAND_V        8     604000\n",
            "2   1612339  2019-01-01        18055  ...  BRAND_G       12     747000\n",
            "\n",
            "[3 rows x 9 columns]\n"
          ],
          "name": "stdout"
        }
      ]
    },
    {
      "cell_type": "markdown",
      "metadata": {
        "id": "meYHmS6DuA9k"
      },
      "source": [
        "# Read Dataset - Excel"
      ]
    },
    {
      "cell_type": "code",
      "metadata": {
        "colab": {
          "base_uri": "https://localhost:8080/"
        },
        "id": "SzU3ucdpt4JR",
        "outputId": "d533225e-a503-4f45-a328-86ac42595313"
      },
      "source": [
        "# File xlsx dengan data di sheet 'test'\n",
        "df_excel = pd.read_excel('https://storage.googleapis.com/dqlab-dataset/sample_excel.xlsx', sheet_name='test')\n",
        "print(df_excel.head(4))"
      ],
      "execution_count": 24,
      "outputs": [
        {
          "output_type": "stream",
          "text": [
            "   order_id  order_date  customer_id  ...    brand quantity item_price\n",
            "0   1612339  2019-01-01        18055  ...  BRAND_C        4    1934000\n",
            "1   1612339  2019-01-01        18055  ...  BRAND_V        8     604000\n",
            "2   1612339  2019-01-01        18055  ...  BRAND_G       12     747000\n",
            "3   1612339  2019-01-01        18055  ...  BRAND_B       12     450000\n",
            "\n",
            "[4 rows x 9 columns]\n"
          ],
          "name": "stdout"
        }
      ]
    },
    {
      "cell_type": "markdown",
      "metadata": {
        "id": "6VP8vBNEuhGo"
      },
      "source": [
        "# Read Dataset - JSON"
      ]
    },
    {
      "cell_type": "code",
      "metadata": {
        "colab": {
          "base_uri": "https://localhost:8080/"
        },
        "id": "Q9vG7Z7auTOv",
        "outputId": "94b6dc2b-de4a-4028-9c51-eccba326cfbf"
      },
      "source": [
        "# File JSON\n",
        "url = 'https://storage.googleapis.com/dqlab-dataset/covid2019-api-herokuapp-v2.json'\n",
        "df_json = pd.read_json(url)\n",
        "print(df_json.head(10))"
      ],
      "execution_count": 25,
      "outputs": [
        {
          "output_type": "stream",
          "text": [
            "                                                data          dt          ts\n",
            "0  {'location': 'US', 'confirmed': 3363056, 'deat...  07-14-2020  1594684800\n",
            "1  {'location': 'Brazil', 'confirmed': 1884967, '...  07-14-2020  1594684800\n",
            "2  {'location': 'India', 'confirmed': 906752, 'de...  07-14-2020  1594684800\n",
            "3  {'location': 'Russia', 'confirmed': 732547, 'd...  07-14-2020  1594684800\n",
            "4  {'location': 'Peru', 'confirmed': 330123, 'dea...  07-14-2020  1594684800\n",
            "5  {'location': 'Chile', 'confirmed': 317657, 'de...  07-14-2020  1594684800\n",
            "6  {'location': 'Mexico', 'confirmed': 304435, 'd...  07-14-2020  1594684800\n",
            "7  {'location': 'United Kingdom', 'confirmed': 29...  07-14-2020  1594684800\n",
            "8  {'location': 'South Africa', 'confirmed': 2877...  07-14-2020  1594684800\n",
            "9  {'location': 'Iran', 'confirmed': 259652, 'dea...  07-14-2020  1594684800\n"
          ],
          "name": "stdout"
        }
      ]
    },
    {
      "cell_type": "markdown",
      "metadata": {
        "id": "pj2Eyv2JuzBA"
      },
      "source": [
        "# Read Dataset - SQL"
      ]
    },
    {
      "cell_type": "code",
      "metadata": {
        "colab": {
          "base_uri": "https://localhost:8080/"
        },
        "id": "_jgypOHFutNq",
        "outputId": "4e7286e9-0bcd-43d4-c581-fb504261a2a1"
      },
      "source": [
        "!pip3 install mysql-connector-python"
      ],
      "execution_count": 26,
      "outputs": [
        {
          "output_type": "stream",
          "text": [
            "Collecting mysql-connector-python\n",
            "\u001b[?25l  Downloading https://files.pythonhosted.org/packages/ef/5b/a7dc32e711e4a065896188afef6864489ccf4bdab0928581c4262e84110d/mysql_connector_python-8.0.25-cp37-cp37m-manylinux1_x86_64.whl (25.4MB)\n",
            "\u001b[K     |████████████████████████████████| 25.4MB 152kB/s \n",
            "\u001b[?25hRequirement already satisfied: protobuf>=3.0.0 in /usr/local/lib/python3.7/dist-packages (from mysql-connector-python) (3.12.4)\n",
            "Requirement already satisfied: six>=1.9 in /usr/local/lib/python3.7/dist-packages (from protobuf>=3.0.0->mysql-connector-python) (1.15.0)\n",
            "Requirement already satisfied: setuptools in /usr/local/lib/python3.7/dist-packages (from protobuf>=3.0.0->mysql-connector-python) (56.1.0)\n",
            "Installing collected packages: mysql-connector-python\n",
            "Successfully installed mysql-connector-python-8.0.25\n"
          ],
          "name": "stdout"
        }
      ]
    },
    {
      "cell_type": "code",
      "metadata": {
        "colab": {
          "base_uri": "https://localhost:8080/"
        },
        "id": "pRiWOMBtvD9J",
        "outputId": "399ab608-579d-4e70-eae3-05cf2c3c3f79"
      },
      "source": [
        "import mysql.connector\n",
        "# Membuat koneksi ke database\n",
        "my_conn = mysql.connector.connect(host=\"relational.fit.cvut.cz\",\n",
        "                                  port=3306,\n",
        "                                  user=\"guest\",\n",
        "                                  passwd=\"relational\",\n",
        "                                  database=\"financial\",\n",
        "                                  use_pure=True)\n",
        "# Membuat query sql untuk membaca tabel loan\n",
        "my_query = \"\"\"\n",
        "SELECT *\n",
        "FROM loan;\n",
        "\"\"\"\n",
        "\n",
        "# Gunakanlah .read_sql_query untuk membaca tabel loan tersebut\n",
        "df_loan = pd.read_sql_query(my_query, my_conn)\n",
        "print(df_loan.head())"
      ],
      "execution_count": 27,
      "outputs": [
        {
          "output_type": "stream",
          "text": [
            "   loan_id  account_id        date  amount  duration  payments status\n",
            "0     4959           2  1994-01-05   80952        24    3373.0      A\n",
            "1     4961          19  1996-04-29   30276        12    2523.0      B\n",
            "2     4962          25  1997-12-08   30276        12    2523.0      A\n",
            "3     4967          37  1998-10-14  318480        60    5308.0      D\n",
            "4     4968          38  1998-04-19  110736        48    2307.0      C\n"
          ],
          "name": "stdout"
        }
      ]
    },
    {
      "cell_type": "code",
      "metadata": {
        "colab": {
          "base_uri": "https://localhost:8080/"
        },
        "id": "Vp_4j6TMvSyM",
        "outputId": "ab91d0e4-cad4-49f2-aa1f-6a71f9079845"
      },
      "source": [
        "# Cara lain\n",
        "# Menggunakan .read_sql\n",
        "df_loan = pd.read_sql(my_query, my_conn)\n",
        "print(df_loan.head())"
      ],
      "execution_count": 28,
      "outputs": [
        {
          "output_type": "stream",
          "text": [
            "   loan_id  account_id        date  amount  duration  payments status\n",
            "0     4959           2  1994-01-05   80952        24    3373.0      A\n",
            "1     4961          19  1996-04-29   30276        12    2523.0      B\n",
            "2     4962          25  1997-12-08   30276        12    2523.0      A\n",
            "3     4967          37  1998-10-14  318480        60    5308.0      D\n",
            "4     4968          38  1998-04-19  110736        48    2307.0      C\n"
          ],
          "name": "stdout"
        }
      ]
    },
    {
      "cell_type": "markdown",
      "metadata": {
        "id": "uT0LMBuowdU8"
      },
      "source": [
        "# Read Dataset - Google BigQuery"
      ]
    },
    {
      "cell_type": "code",
      "metadata": {
        "id": "zZ_E5MYLxA0z"
      },
      "source": [
        "# Buat query\n",
        "query = \"\"\"\n",
        "SELECT *\n",
        "FROM 'bigquery-public-data.covid19_jhu_csse_eu.summary'\n",
        "LIMIT 1000;\n",
        "\"\"\"\n",
        "\n",
        "# Baca data dari Google Big Query\n",
        "df_covid19_eu_summary = pd.read_gbq(query, project_id=\"XXXXXXXX\")\n",
        "print(df_covid19_eu_summary)"
      ],
      "execution_count": null,
      "outputs": []
    },
    {
      "cell_type": "markdown",
      "metadata": {
        "id": "TUjjdrxOxJWe"
      },
      "source": [
        "# Write Dataset"
      ]
    },
    {
      "cell_type": "code",
      "metadata": {
        "id": "aRJera2LxHZt"
      },
      "source": [
        "# .to_csv()\n",
        "# digunakan untuk export dataframe kembali ke csv atau tsv\n",
        "\n",
        "# CSV\n",
        "df_csv.to_csv(\"csv1.csv\", index=False)"
      ],
      "execution_count": 29,
      "outputs": []
    },
    {
      "cell_type": "code",
      "metadata": {
        "id": "hy2vEBLTxg0H"
      },
      "source": [
        "# TSV\n",
        "df_csv.to_csv(\"tsv1.tsv\", index=False, sep='\\t')"
      ],
      "execution_count": 30,
      "outputs": []
    },
    {
      "cell_type": "code",
      "metadata": {
        "id": "r9a-H-IKxvuw"
      },
      "source": [
        "# .to_clipboard()\n",
        "# export dataframe menjadi bahan copy jadi nanti bisa tinggal klik paste di excel atau google sheets\n",
        "\n",
        "df_loan.to_clipboard()"
      ],
      "execution_count": null,
      "outputs": []
    },
    {
      "cell_type": "code",
      "metadata": {
        "id": "Z8enbO0ix5bN"
      },
      "source": [
        "# .to_excel()\n",
        "# export dataframe menjadi file excel\n",
        "\n",
        "df_excel.to_excel(\"xlsx1.xlsx\", index=False)"
      ],
      "execution_count": 32,
      "outputs": []
    },
    {
      "cell_type": "code",
      "metadata": {
        "id": "fQNmpZbUyH8p"
      },
      "source": [
        "# .to_gbq()\n",
        "# export dataframe menjadi table di Google BigQuery\n",
        "\n",
        "df.to_gbq(\"temp.test\", project_id=\"XXXXXX\", if_exists=\"fail\")"
      ],
      "execution_count": null,
      "outputs": []
    },
    {
      "cell_type": "markdown",
      "metadata": {
        "id": "WuhHU2Q2ySuv"
      },
      "source": [
        "- temp: nama dataset,\n",
        "\n",
        "- test: nama table\n",
        "\n",
        "- if_exists: ketika tabel dengan dataset.table_name yang sama sudah ada, apa action yang ingin dilakukan\n",
        "\n",
        "- \"fail\": tidak melakukan apa-apa,\n",
        "\n",
        "- \"replace': membuang tabel yang sudah ada dan mengganti yang baru,\n",
        "\n",
        "- \"append\": menambah baris di tabel tersebut dengan data yang baru"
      ]
    },
    {
      "cell_type": "markdown",
      "metadata": {
        "id": "Lm6uPoa_yc1A"
      },
      "source": [
        "# Head & Tail"
      ]
    },
    {
      "cell_type": "code",
      "metadata": {
        "colab": {
          "base_uri": "https://localhost:8080/"
        },
        "id": "uaAS_-dRyZsV",
        "outputId": "1855e10e-7396-4d6c-cf2d-597a833cda8f"
      },
      "source": [
        "import pandas as pd\n",
        "# Baca file sample_csv.csv\n",
        "df = pd.read_csv(\"https://storage.googleapis.com/dqlab-dataset/sample_csv.csv\")\n",
        "# Tampilkan 3 data teratas\n",
        "print(\"Tiga data teratas:\\n\", df.head(3))"
      ],
      "execution_count": 35,
      "outputs": [
        {
          "output_type": "stream",
          "text": [
            "Tiga data teratas:\n",
            "    order_id  order_date  customer_id  ...    brand quantity item_price\n",
            "0   1612339  2019-01-01        18055  ...  BRAND_C        4    1934000\n",
            "1   1612339  2019-01-01        18055  ...  BRAND_V        8     604000\n",
            "2   1612339  2019-01-01        18055  ...  BRAND_G       12     747000\n",
            "\n",
            "[3 rows x 9 columns]\n"
          ],
          "name": "stdout"
        }
      ]
    },
    {
      "cell_type": "code",
      "metadata": {
        "colab": {
          "base_uri": "https://localhost:8080/"
        },
        "id": "jI3YQ3iOyhUd",
        "outputId": "3b387165-0add-4187-be47-b065ff58c3a8"
      },
      "source": [
        "# Tampilkan 3 data terbawah\n",
        "print(\"Tiga data terbawah:\\n\", df.tail(3))"
      ],
      "execution_count": 36,
      "outputs": [
        {
          "output_type": "stream",
          "text": [
            "Tiga data terbawah:\n",
            "      order_id  order_date  customer_id  ...    brand quantity item_price\n",
            "98    1612390  2019-01-01        12681  ...  BRAND_S       24     450000\n",
            "99    1612390  2019-01-01        12681  ...  BRAND_S       24     450000\n",
            "100   1612390  2019-01-01        12681  ...  BRAND_B        4    1325000\n",
            "\n",
            "[3 rows x 9 columns]\n"
          ],
          "name": "stdout"
        }
      ]
    },
    {
      "cell_type": "markdown",
      "metadata": {
        "id": "cw9u-x4bCSeP"
      },
      "source": [
        "# Indexing"
      ]
    },
    {
      "cell_type": "code",
      "metadata": {
        "id": "INn4TZ9_yiVb",
        "colab": {
          "base_uri": "https://localhost:8080/"
        },
        "outputId": "3d4c6da8-5e11-47b5-b008-ccd8566466b7"
      },
      "source": [
        "import pandas as pd\n",
        "# Baca file TSV sample_tsv.tsv\n",
        "df = pd.read_csv(\"https://storage.googleapis.com/dqlab-dataset/sample_tsv.tsv\", sep=\"\\t\")\n",
        "# Index dari df\n",
        "print(\"Index:\", df.index)\n",
        "# Column dari df\n",
        "print(\"Columns:\", df.columns)"
      ],
      "execution_count": 37,
      "outputs": [
        {
          "output_type": "stream",
          "text": [
            "Index: RangeIndex(start=0, stop=101, step=1)\n",
            "Columns: Index(['order_id', 'order_date', 'customer_id', 'city', 'province',\n",
            "       'product_id', 'brand', 'quantity', 'item_price'],\n",
            "      dtype='object')\n"
          ],
          "name": "stdout"
        }
      ]
    },
    {
      "cell_type": "code",
      "metadata": {
        "colab": {
          "base_uri": "https://localhost:8080/"
        },
        "id": "mJSXukwmDI32",
        "outputId": "97679859-fc79-4685-d07c-75b9c2b9fafd"
      },
      "source": [
        "# Baca file TSV sample_tsv.tsv\n",
        "df = pd.read_csv(\"https://storage.googleapis.com/dqlab-dataset/sample_tsv.tsv\", sep=\"\\t\")\n",
        "\n",
        "# Set multi index df\n",
        "df_x = df.set_index(['order_id', 'customer_id', 'product_id', 'order_date'])\n",
        "print(df_x)"
      ],
      "execution_count": 38,
      "outputs": [
        {
          "output_type": "stream",
          "text": [
            "                                                       city  ... item_price\n",
            "order_id customer_id product_id order_date                   ...           \n",
            "1612339  18055       P0648      2019-01-01  Jakarta Selatan  ...    1934000\n",
            "                     P3826      2019-01-01  Jakarta Selatan  ...     604000\n",
            "                     P1508      2019-01-01  Jakarta Selatan  ...     747000\n",
            "                     P0520      2019-01-01  Jakarta Selatan  ...     450000\n",
            "                     P1513      2019-01-01  Jakarta Selatan  ...    1500000\n",
            "...                                                     ...  ...        ...\n",
            "1612390  12681       P3388      2019-01-01         Makassar  ...     450000\n",
            "                     P3082      2019-01-01         Makassar  ...    1045000\n",
            "                     P3354      2019-01-01         Makassar  ...     450000\n",
            "                     P3357      2019-01-01         Makassar  ...     450000\n",
            "                     P0422      2019-01-01         Makassar  ...    1325000\n",
            "\n",
            "[101 rows x 5 columns]\n"
          ],
          "name": "stdout"
        }
      ]
    },
    {
      "cell_type": "code",
      "metadata": {
        "colab": {
          "base_uri": "https://localhost:8080/"
        },
        "id": "EptrmRjbECPN",
        "outputId": "67074923-4f5b-4f5c-c49d-046e3c1301d2"
      },
      "source": [
        "# Melihat multi index yang telah di set\n",
        "# Index dari df_x\n",
        "print(\"Index df_x:\", df_x.index)"
      ],
      "execution_count": 39,
      "outputs": [
        {
          "output_type": "stream",
          "text": [
            "Index df_x: MultiIndex([(1612339, 18055, 'P0648', '2019-01-01'),\n",
            "            (1612339, 18055, 'P3826', '2019-01-01'),\n",
            "            (1612339, 18055, 'P1508', '2019-01-01'),\n",
            "            (1612339, 18055, 'P0520', '2019-01-01'),\n",
            "            (1612339, 18055, 'P1513', '2019-01-01'),\n",
            "            (1612339, 18055, 'P3911', '2019-01-01'),\n",
            "            (1612339, 18055, 'P1780', '2019-01-01'),\n",
            "            (1612339, 18055, 'P3132', '2019-01-01'),\n",
            "            (1612339, 18055, 'P1342', '2019-01-01'),\n",
            "            (1612339, 18055, 'P2556', '2019-01-01'),\n",
            "            ...\n",
            "            (1612387, 17228, 'P0535', '2019-01-01'),\n",
            "            (1612387, 17228, 'P0029', '2019-01-01'),\n",
            "            (1612387, 17228, 'P3362', '2019-01-01'),\n",
            "            (1612387, 17228, 'P3409', '2019-01-01'),\n",
            "            (1612390, 12681, 'P1867', '2019-01-01'),\n",
            "            (1612390, 12681, 'P3388', '2019-01-01'),\n",
            "            (1612390, 12681, 'P3082', '2019-01-01'),\n",
            "            (1612390, 12681, 'P3354', '2019-01-01'),\n",
            "            (1612390, 12681, 'P3357', '2019-01-01'),\n",
            "            (1612390, 12681, 'P0422', '2019-01-01')],\n",
            "           names=['order_id', 'customer_id', 'product_id', 'order_date'], length=101)\n"
          ],
          "name": "stdout"
        }
      ]
    },
    {
      "cell_type": "code",
      "metadata": {
        "colab": {
          "base_uri": "https://localhost:8080/"
        },
        "id": "-hVx6jMKEPaC",
        "outputId": "409fc1bb-dc0d-45dc-b85d-6d75cf618f44"
      },
      "source": [
        "# Print nama dan level dari multi index\n",
        "for name, level in zip(df_x.index.names, df_x.index.levels):\n",
        "    print(name, ':', level)"
      ],
      "execution_count": 40,
      "outputs": [
        {
          "output_type": "stream",
          "text": [
            "order_id : Int64Index([1612339, 1612342, 1612345, 1612369, 1612372, 1612375, 1612378,\n",
            "            1612381, 1612384, 1612387, 1612390],\n",
            "           dtype='int64', name='order_id')\n",
            "customer_id : Int64Index([12681, 13963, 15649, 17091, 17228, 17450, 17470, 17511, 17616,\n",
            "            18055],\n",
            "           dtype='int64', name='customer_id')\n",
            "product_id : Index(['P0029', 'P0040', 'P0041', 'P0116', 'P0117', 'P0219', 'P0255', 'P0327',\n",
            "       'P0422', 'P0449', 'P0491', 'P0515', 'P0517', 'P0520', 'P0525', 'P0535',\n",
            "       'P0648', 'P0704', 'P0708', 'P0709', 'P0784', 'P0791', 'P0792', 'P0931',\n",
            "       'P0968', 'P1118', 'P1251', 'P1255', 'P1305', 'P1306', 'P1307', 'P1329',\n",
            "       'P1342', 'P1469', 'P1508', 'P1513', 'P1597', 'P1600', 'P1679', 'P1680',\n",
            "       'P1683', 'P1684', 'P1685', 'P1700', 'P1741', 'P1742', 'P1780', 'P1800',\n",
            "       'P1813', 'P1867', 'P1945', 'P2086', 'P2089', 'P2103', 'P2154', 'P2159',\n",
            "       'P2325', 'P2494', 'P2556', 'P2575', 'P2594', 'P2641', 'P2660', 'P2707',\n",
            "       'P2760', 'P2783', 'P2806', 'P2866', 'P2881', 'P2928', 'P2935', 'P2946',\n",
            "       'P2964', 'P3006', 'P3082', 'P3122', 'P3132', 'P3354', 'P3357', 'P3362',\n",
            "       'P3388', 'P3409', 'P3412', 'P3484', 'P3599', 'P3665', 'P3826', 'P3837',\n",
            "       'P3911', 'P4009', 'P4025', 'P4057', 'P4059', 'P4060', 'P4075'],\n",
            "      dtype='object', name='product_id')\n",
            "order_date : Index(['2019-01-01'], dtype='object', name='order_date')\n"
          ],
          "name": "stdout"
        }
      ]
    },
    {
      "cell_type": "code",
      "metadata": {
        "colab": {
          "base_uri": "https://localhost:8080/"
        },
        "id": "XLo8iJJ0EjCy",
        "outputId": "bbf97e30-ae3a-40f4-e1a7-510033856320"
      },
      "source": [
        "import pandas as pd\n",
        "# Baca file TSV sample_tsv.tsv\n",
        "df = pd.read_csv(\"https://storage.googleapis.com/dqlab-dataset/sample_tsv.tsv\", sep=\"\\t\")\n",
        "# Set multi index df\n",
        "df_x = df.set_index(['order_date', 'city', 'customer_id'])\n",
        "# Print nama dan level dari multi index\n",
        "for name, level in zip(df_x.index.names, df_x.index.levels):\n",
        "    print(name,':',level)"
      ],
      "execution_count": 41,
      "outputs": [
        {
          "output_type": "stream",
          "text": [
            "order_date : Index(['2019-01-01'], dtype='object', name='order_date')\n",
            "city : Index(['Bogor', 'Jakarta Pusat', 'Jakarta Selatan', 'Jakarta Utara',\n",
            "       'Makassar', 'Malang', 'Surabaya', 'Tangerang'],\n",
            "      dtype='object', name='city')\n",
            "customer_id : Int64Index([12681, 13963, 15649, 17091, 17228, 17450, 17470, 17511, 17616,\n",
            "            18055],\n",
            "           dtype='int64', name='customer_id')\n"
          ],
          "name": "stdout"
        }
      ]
    },
    {
      "cell_type": "code",
      "metadata": {
        "colab": {
          "base_uri": "https://localhost:8080/"
        },
        "id": "AcosWBVnEnc1",
        "outputId": "c56852d9-6892-4b37-e4ed-39a1892fa479"
      },
      "source": [
        "# Buat dataframe\n",
        "df_week = pd.DataFrame({\n",
        "    \"day_number\" : [1, 2, 3, 4, 5, 6, 7],\n",
        "    \"week_type\" : [\"weekday\" for i in range(5)] + [\"weekend\" for i in range(2)]\n",
        "})\n",
        "\n",
        "# Definisikan indexnya dan assign \n",
        "df_week.index = ['Mon', 'Tue', 'Wed', 'Thu', 'Fri', 'Sat', 'Sun']\n",
        "print(df_week)"
      ],
      "execution_count": 42,
      "outputs": [
        {
          "output_type": "stream",
          "text": [
            "     day_number week_type\n",
            "Mon           1   weekday\n",
            "Tue           2   weekday\n",
            "Wed           3   weekday\n",
            "Thu           4   weekday\n",
            "Fri           5   weekday\n",
            "Sat           6   weekend\n",
            "Sun           7   weekend\n"
          ],
          "name": "stdout"
        }
      ]
    },
    {
      "cell_type": "code",
      "metadata": {
        "colab": {
          "base_uri": "https://localhost:8080/"
        },
        "id": "aic3P-TEFX8H",
        "outputId": "370eb0b0-76df-4d1d-c7b6-d767dce55243"
      },
      "source": [
        "# Tugas Praktek\n",
        "\n",
        "# Baca file sample_tsv.tsv untuk 10 baris pertama saja\n",
        "df = pd.read_csv(\"https://storage.googleapis.com/dqlab-dataset/sample_tsv.tsv\", sep=\"\\t\", nrows=10)\n",
        "\n",
        "# Cetak data frame awal\n",
        "print(\"Dataframe awal:\\n\", df)\n",
        "# Set index baru\n",
        "\n",
        "df.index = [\"Pesanan ke-\" + str(i) for i in range(1, 11)]\n",
        "\n",
        "# Cetak data frame dengan index baru\n",
        "print(\"Dataframe dengan index baru:\\n\", df)"
      ],
      "execution_count": 43,
      "outputs": [
        {
          "output_type": "stream",
          "text": [
            "Dataframe awal:\n",
            "    order_id  order_date  customer_id  ...    brand quantity item_price\n",
            "0   1612339  2019-01-01        18055  ...  BRAND_C        4    1934000\n",
            "1   1612339  2019-01-01        18055  ...  BRAND_V        8     604000\n",
            "2   1612339  2019-01-01        18055  ...  BRAND_G       12     747000\n",
            "3   1612339  2019-01-01        18055  ...  BRAND_B       12     450000\n",
            "4   1612339  2019-01-01        18055  ...  BRAND_G        3    1500000\n",
            "5   1612339  2019-01-01        18055  ...  BRAND_V        3    2095000\n",
            "6   1612339  2019-01-01        18055  ...  BRAND_H        3    2095000\n",
            "7   1612339  2019-01-01        18055  ...  BRAND_S        3    1745000\n",
            "8   1612339  2019-01-01        18055  ...  BRAND_F        6    1045000\n",
            "9   1612339  2019-01-01        18055  ...  BRAND_P        6    1045000\n",
            "\n",
            "[10 rows x 9 columns]\n",
            "Dataframe dengan index baru:\n",
            "                order_id  order_date  customer_id  ...    brand quantity item_price\n",
            "Pesanan ke-1    1612339  2019-01-01        18055  ...  BRAND_C        4    1934000\n",
            "Pesanan ke-2    1612339  2019-01-01        18055  ...  BRAND_V        8     604000\n",
            "Pesanan ke-3    1612339  2019-01-01        18055  ...  BRAND_G       12     747000\n",
            "Pesanan ke-4    1612339  2019-01-01        18055  ...  BRAND_B       12     450000\n",
            "Pesanan ke-5    1612339  2019-01-01        18055  ...  BRAND_G        3    1500000\n",
            "Pesanan ke-6    1612339  2019-01-01        18055  ...  BRAND_V        3    2095000\n",
            "Pesanan ke-7    1612339  2019-01-01        18055  ...  BRAND_H        3    2095000\n",
            "Pesanan ke-8    1612339  2019-01-01        18055  ...  BRAND_S        3    1745000\n",
            "Pesanan ke-9    1612339  2019-01-01        18055  ...  BRAND_F        6    1045000\n",
            "Pesanan ke-10   1612339  2019-01-01        18055  ...  BRAND_P        6    1045000\n",
            "\n",
            "[10 rows x 9 columns]\n"
          ],
          "name": "stdout"
        }
      ]
    },
    {
      "cell_type": "code",
      "metadata": {
        "colab": {
          "base_uri": "https://localhost:8080/"
        },
        "id": "DsWDq7QuFzFK",
        "outputId": "83f8df2f-d13d-4bdd-d258-59c9b8f702ed"
      },
      "source": [
        "# Baca file sample_tsv.tsv dan set lah index_col sesuai instruksi\n",
        "df = pd.read_csv(\"https://storage.googleapis.com/dqlab-dataset/sample_tsv.tsv\", sep=\"\\t\", index_col=[\"order_date\"])\n",
        "\n",
        "# Cetak data frame untuk 8 data teratas\n",
        "print(\"Dataframe:\\n\", df.head(8))"
      ],
      "execution_count": 44,
      "outputs": [
        {
          "output_type": "stream",
          "text": [
            "Dataframe:\n",
            "             order_id  customer_id  ... quantity item_price\n",
            "order_date                         ...                    \n",
            "2019-01-01   1612339        18055  ...        4    1934000\n",
            "2019-01-01   1612339        18055  ...        8     604000\n",
            "2019-01-01   1612339        18055  ...       12     747000\n",
            "2019-01-01   1612339        18055  ...       12     450000\n",
            "2019-01-01   1612339        18055  ...        3    1500000\n",
            "2019-01-01   1612339        18055  ...        3    2095000\n",
            "2019-01-01   1612339        18055  ...        3    2095000\n",
            "2019-01-01   1612339        18055  ...        3    1745000\n",
            "\n",
            "[8 rows x 8 columns]\n"
          ],
          "name": "stdout"
        }
      ]
    },
    {
      "cell_type": "code",
      "metadata": {
        "colab": {
          "base_uri": "https://localhost:8080/"
        },
        "id": "b1I1_nTXGOR_",
        "outputId": "2b56d744-e0e0-4c41-987c-41a2264b0ead"
      },
      "source": [
        "# Tugas praktek\n",
        "\n",
        "# Baca file sample_tsv.tsv dan set lah index_col sesuai instruksi\n",
        "df = pd.read_csv(\"https://storage.googleapis.com/dqlab-dataset/sample_tsv.tsv\", sep=\"\\t\", index_col=[\"order_date\", \"order_id\"])\n",
        "\n",
        "# Cetak data frame untuk 8 data teratas\n",
        "print(\"Dataframe:\\n\", df.head(8))"
      ],
      "execution_count": 45,
      "outputs": [
        {
          "output_type": "stream",
          "text": [
            "Dataframe:\n",
            "                      customer_id             city  ... quantity item_price\n",
            "order_date order_id                                ...                    \n",
            "2019-01-01 1612339         18055  Jakarta Selatan  ...        4    1934000\n",
            "           1612339         18055  Jakarta Selatan  ...        8     604000\n",
            "           1612339         18055  Jakarta Selatan  ...       12     747000\n",
            "           1612339         18055  Jakarta Selatan  ...       12     450000\n",
            "           1612339         18055  Jakarta Selatan  ...        3    1500000\n",
            "           1612339         18055  Jakarta Selatan  ...        3    2095000\n",
            "           1612339         18055  Jakarta Selatan  ...        3    2095000\n",
            "           1612339         18055  Jakarta Selatan  ...        3    1745000\n",
            "\n",
            "[8 rows x 7 columns]\n"
          ],
          "name": "stdout"
        }
      ]
    },
    {
      "cell_type": "code",
      "metadata": {
        "colab": {
          "base_uri": "https://localhost:8080/"
        },
        "id": "LW5fewHiGWs_",
        "outputId": "a0ed15f4-942e-4d50-f395-793ff8e857b4"
      },
      "source": [
        "# quiz\n",
        "\n",
        "df_week = pd.DataFrame({'day_number' : [1, 2, 3, 4, 5, 6, 7],\n",
        "                        'week_type' : ['weekday' for i in range(5)] + ['weekend' for i in range(2)]})\n",
        "df_week.ix = ['Mon', 'Tue', 'Wed', 'Thu', 'Fri', 'Sat', 'Sun']\n",
        "df_week.index = [df_week.ix, df_week['day_number'].to_list()]\n",
        "df_week.index.names = ['name', 'num']"
      ],
      "execution_count": 46,
      "outputs": [
        {
          "output_type": "stream",
          "text": [
            "/usr/local/lib/python3.7/dist-packages/ipykernel_launcher.py:5: UserWarning: Pandas doesn't allow columns to be created via a new attribute name - see https://pandas.pydata.org/pandas-docs/stable/indexing.html#attribute-access\n",
            "  \"\"\"\n"
          ],
          "name": "stderr"
        }
      ]
    },
    {
      "cell_type": "markdown",
      "metadata": {
        "id": "ebKYqQsmHP4h"
      },
      "source": [
        "# Slicing"
      ]
    },
    {
      "cell_type": "code",
      "metadata": {
        "colab": {
          "base_uri": "https://localhost:8080/"
        },
        "id": "SK9mKeMCHE7V",
        "outputId": "86d99b38-c661-4e25-b067-110491766e69"
      },
      "source": [
        "# Baca file sample_csv.csv\n",
        "df = pd.read_csv(\"https://storage.googleapis.com/dqlab-dataset/sample_csv.csv\")\n",
        "\n",
        "# Slice berdasarkan kolom\n",
        "df_slice = df.loc[(df['order_date'] == \"2019-01-01\") &\n",
        "                  (df['product_id'].isin(['P2154', 'P2556']))]\n",
        "print('Slice langsung berdasarkan kolom:\\n', df_slice)"
      ],
      "execution_count": 47,
      "outputs": [
        {
          "output_type": "stream",
          "text": [
            "Slice langsung berdasarkan kolom:\n",
            "     order_id  order_date  customer_id  ...    brand quantity item_price\n",
            "9    1612339  2019-01-01        18055  ...  BRAND_P        6    1045000\n",
            "10   1612339  2019-01-01        18055  ...  BRAND_M        4    1745000\n",
            "\n",
            "[2 rows x 9 columns]\n"
          ],
          "name": "stdout"
        }
      ]
    },
    {
      "cell_type": "code",
      "metadata": {
        "colab": {
          "base_uri": "https://localhost:8080/"
        },
        "id": "YLnCVrokH4G3",
        "outputId": "242fefc0-7473-4dbe-9b85-ef1da123e111"
      },
      "source": [
        "# Tugas Praktek\n",
        "\n",
        "# Baca file sample_csv.csv\n",
        "df = pd.read_csv(\"https://storage.googleapis.com/dqlab-dataset/sample_csv.csv\")\n",
        "\n",
        "# Slice berdasarkan kolom\n",
        "df_slice = df.loc[(df['customer_id'] == '18055') &\n",
        "                  (df['product_id'].isin(['P0029', 'P0040', 'P0041', 'P0116', 'P0117']))]\n",
        "print('Slice langsung berdasarkan kolom:\\n', df_slice)"
      ],
      "execution_count": 48,
      "outputs": [
        {
          "output_type": "stream",
          "text": [
            "Slice langsung berdasarkan kolom:\n",
            " Empty DataFrame\n",
            "Columns: [order_id, order_date, customer_id, city, province, product_id, brand, quantity, item_price]\n",
            "Index: []\n"
          ],
          "name": "stdout"
        }
      ]
    },
    {
      "cell_type": "code",
      "metadata": {
        "colab": {
          "base_uri": "https://localhost:8080/"
        },
        "id": "tJPp5TgfI1UK",
        "outputId": "2d511cf2-967c-412f-f993-25381b23107a"
      },
      "source": [
        "# Cara 1: Gunakan method .loc seperti yang dicontohkan berikut\n",
        "\n",
        "# Baca file sample_csv.csv\n",
        "df = pd.read_csv('https://storage.googleapis.com/dqlab-dataset/sample_csv.csv')\n",
        "\n",
        "# Set index dari df sesuai instruksi\n",
        "df = df.set_index(['order_date', 'product_id'])\n",
        "\n",
        "# Cara 1: Gunakan .loc\n",
        "df_slice1 = df.loc[('2019-01-01', ['P2154', 'P2556']), :]\n",
        "print('Cara 1:\\n', df_slice1)"
      ],
      "execution_count": 49,
      "outputs": [
        {
          "output_type": "stream",
          "text": [
            "Cara 1:\n",
            "                        order_id  customer_id  ... quantity item_price\n",
            "order_date product_id                         ...                    \n",
            "2019-01-01 P2556        1612339        18055  ...        6    1045000\n",
            "           P2154        1612339        18055  ...        4    1745000\n",
            "\n",
            "[2 rows x 7 columns]\n"
          ],
          "name": "stdout"
        }
      ]
    },
    {
      "cell_type": "code",
      "metadata": {
        "colab": {
          "base_uri": "https://localhost:8080/"
        },
        "id": "6VV_0juXJsmo",
        "outputId": "c2bfdf2f-d2c0-4393-cde7-4059ba3e2540"
      },
      "source": [
        "# Cara 2: Gunakan pd.IndexSlice sebagai varaibel untuk melakukan slicing index\n",
        "\n",
        "# Cara 2: Gunakan pd.IndexSlice dan terapkan dengan .loc\n",
        "idx = pd.IndexSlice\n",
        "df_slice2 = df.sort_index().loc[idx['2019-01-01', 'P2154':'P2556'], :]\n",
        "print('Cara 2:\\n', df_slice2)"
      ],
      "execution_count": 50,
      "outputs": [
        {
          "output_type": "stream",
          "text": [
            "Cara 2:\n",
            "                        order_id  customer_id  ... quantity item_price\n",
            "order_date product_id                         ...                    \n",
            "2019-01-01 P2154        1612339        18055  ...        4    1745000\n",
            "           P2159        1612339        18055  ...       24     310000\n",
            "           P2325        1612372        17511  ...       48     604000\n",
            "           P2494        1612372        17511  ...       40     904000\n",
            "           P2556        1612339        18055  ...        6    1045000\n",
            "\n",
            "[5 rows x 7 columns]\n"
          ],
          "name": "stdout"
        }
      ]
    },
    {
      "cell_type": "code",
      "metadata": {
        "colab": {
          "base_uri": "https://localhost:8080/"
        },
        "id": "eXUOjRpvK3jI",
        "outputId": "ed20648e-9f5e-4f62-ddd3-93440a000000"
      },
      "source": [
        "# TUGAS\n",
        "\n",
        "import pandas as pd\n",
        "# Baca file sample_csv.csv\n",
        "df = pd.read_csv(\"https://storage.googleapis.com/dqlab-dataset/sample_csv.csv\")\n",
        "# Set index dari df sesuai instruksi\n",
        "df = df.set_index([\"order_date\", \"order_id\", \"product_id\"])\n",
        "# Slice sesuai intruksi\n",
        "df_slice = df.loc[(\"2019-01-01\", 1612339, [\"P2154\",\"P2159\"]),:]\n",
        "print(\"Slice df:\\n\", df_slice)"
      ],
      "execution_count": 51,
      "outputs": [
        {
          "output_type": "stream",
          "text": [
            "Slice df:\n",
            "                                 customer_id  ... item_price\n",
            "order_date order_id product_id               ...           \n",
            "2019-01-01 1612339  P2154             18055  ...    1745000\n",
            "                    P2159             18055  ...     310000\n",
            "\n",
            "[2 rows x 6 columns]\n"
          ],
          "name": "stdout"
        }
      ]
    },
    {
      "cell_type": "markdown",
      "metadata": {
        "id": "0H6-wSiiL8X7"
      },
      "source": [
        "# Transforming"
      ]
    },
    {
      "cell_type": "code",
      "metadata": {
        "id": "IH5ONSMdLSNp",
        "colab": {
          "base_uri": "https://localhost:8080/"
        },
        "outputId": "5c6fedde-da87-407c-91de-112e2439faa3"
      },
      "source": [
        "import pandas as pd\n",
        "# Baca file sample_csv.csv\n",
        "df = pd.read_csv(\"https://storage.googleapis.com/dqlab-dataset/sample_csv.csv\")\n",
        "# Tampilkan tipe data\n",
        "print(\"Tipe data df:\\n\", df.dtypes)\n",
        "# Ubah tipe data kolom order_date menjadi datetime\n",
        "df[\"order_date\"] = pd.to_datetime(df[\"order_date\"])\n",
        "# Tampilkan tipe data df setelah transformasi\n",
        "print(\"\\nTipe data df setelah transformasi:\\n\", df.dtypes)"
      ],
      "execution_count": 52,
      "outputs": [
        {
          "output_type": "stream",
          "text": [
            "Tipe data df:\n",
            " order_id        int64\n",
            "order_date     object\n",
            "customer_id     int64\n",
            "city           object\n",
            "province       object\n",
            "product_id     object\n",
            "brand          object\n",
            "quantity        int64\n",
            "item_price      int64\n",
            "dtype: object\n",
            "\n",
            "Tipe data df setelah transformasi:\n",
            " order_id                int64\n",
            "order_date     datetime64[ns]\n",
            "customer_id             int64\n",
            "city                   object\n",
            "province               object\n",
            "product_id             object\n",
            "brand                  object\n",
            "quantity                int64\n",
            "item_price              int64\n",
            "dtype: object\n"
          ],
          "name": "stdout"
        }
      ]
    },
    {
      "cell_type": "code",
      "metadata": {
        "colab": {
          "base_uri": "https://localhost:8080/"
        },
        "id": "7z8C0hRCvjkU",
        "outputId": "a55815d9-6f4e-44b2-e903-6d5aa1182bcc"
      },
      "source": [
        "import pandas as pd\n",
        "# Baca file sample_csv.csv\n",
        "df = pd.read_csv(\"https://storage.googleapis.com/dqlab-dataset/sample_csv.csv\")\n",
        "# Tampilkan tipe data\n",
        "print(\"Tipe data df:\\n\", df.dtypes)\n",
        "# Ubah tipe data kolom quantity menjadi tipe data numerik float\n",
        "df[\"quantity\"] = pd.to_numeric(df[\"quantity\"], downcast=\"float\")\n",
        "# Ubah tipe data kolom city menjadi tipe data category\n",
        "df[\"city\"] = df[\"city\"].astype(\"category\")\n",
        "# Tampilkan tipe data df setelah transformasi\n",
        "print(\"\\nTipe data df setelah transformasi:\\n\", df.dtypes)"
      ],
      "execution_count": 53,
      "outputs": [
        {
          "output_type": "stream",
          "text": [
            "Tipe data df:\n",
            " order_id        int64\n",
            "order_date     object\n",
            "customer_id     int64\n",
            "city           object\n",
            "province       object\n",
            "product_id     object\n",
            "brand          object\n",
            "quantity        int64\n",
            "item_price      int64\n",
            "dtype: object\n",
            "\n",
            "Tipe data df setelah transformasi:\n",
            " order_id          int64\n",
            "order_date       object\n",
            "customer_id       int64\n",
            "city           category\n",
            "province         object\n",
            "product_id       object\n",
            "brand            object\n",
            "quantity        float32\n",
            "item_price        int64\n",
            "dtype: object\n"
          ],
          "name": "stdout"
        }
      ]
    },
    {
      "cell_type": "code",
      "metadata": {
        "colab": {
          "base_uri": "https://localhost:8080/"
        },
        "id": "BTOXopxwwYuQ",
        "outputId": "dc3d7bad-a8db-45a7-aeb7-5885799f75b4"
      },
      "source": [
        "import pandas as pd\n",
        "\n",
        "# Membaca file sample_csv.csv\n",
        "df = pd.read_csv(\"https://storage.googleapis.com/dqlab-dataset/sample_csv.csv\")\n",
        "\n",
        "# Cetak 5 baris teratas kolom brand\n",
        "print(\"Kolom brand awal:\\n\", df[\"brand\"].head())\n",
        "\n",
        "# Ubah kolom brand menjadi lower case\n",
        "df[\"brand\"] = df[\"brand\"].apply(lambda x: x.lower())\n",
        "\n",
        "# Cetak 5 baris teratas kolom brand\n",
        "print(\"Kolom brand setelah diubah:\\n\", df[\"brand\"].head())"
      ],
      "execution_count": 54,
      "outputs": [
        {
          "output_type": "stream",
          "text": [
            "Kolom brand awal:\n",
            " 0    BRAND_C\n",
            "1    BRAND_V\n",
            "2    BRAND_G\n",
            "3    BRAND_B\n",
            "4    BRAND_G\n",
            "Name: brand, dtype: object\n",
            "Kolom brand setelah diubah:\n",
            " 0    brand_c\n",
            "1    brand_v\n",
            "2    brand_g\n",
            "3    brand_b\n",
            "4    brand_g\n",
            "Name: brand, dtype: object\n"
          ],
          "name": "stdout"
        }
      ]
    },
    {
      "cell_type": "code",
      "metadata": {
        "colab": {
          "base_uri": "https://localhost:8080/"
        },
        "id": "bORT3mxMxedI",
        "outputId": "1f02a7af-6081-4b59-cde4-62291547b673"
      },
      "source": [
        "# Mengambil huruf terakhir dari brand\n",
        "\n",
        "# Membaca file sample_csv.csv\n",
        "df = pd.read_csv(\"https://storage.googleapis.com/dqlab-dataset/sample_csv.csv\")\n",
        "\n",
        "# Cetak 5 baris teratas kolom brand\n",
        "print(\"Kolom brand awal:\\n\", df[\"brand\"].head())\n",
        "\n",
        "# Ambil karakter terakhir dari kolom brand\n",
        "df[\"brand\"] = df[\"brand\"].map(lambda x: x[-1])\n",
        "\n",
        "# Cetak 5 baris teratas kolom brand\n",
        "print(\"Kolom brand setelah map:\\n\", df[\"brand\"].head())"
      ],
      "execution_count": 55,
      "outputs": [
        {
          "output_type": "stream",
          "text": [
            "Kolom brand awal:\n",
            " 0    BRAND_C\n",
            "1    BRAND_V\n",
            "2    BRAND_G\n",
            "3    BRAND_B\n",
            "4    BRAND_G\n",
            "Name: brand, dtype: object\n",
            "Kolom brand setelah map:\n",
            " 0    C\n",
            "1    V\n",
            "2    G\n",
            "3    B\n",
            "4    G\n",
            "Name: brand, dtype: object\n"
          ],
          "name": "stdout"
        }
      ]
    },
    {
      "cell_type": "code",
      "metadata": {
        "colab": {
          "base_uri": "https://localhost:8080/"
        },
        "id": "JsnrMb9WyAhi",
        "outputId": "3115605e-406e-48ea-e909-c5463b07b829"
      },
      "source": [
        "import pandas as pd\n",
        "# Baca file sample_csv.csv\n",
        "df = pd.read_csv(\"https://storage.googleapis.com/dqlab-dataset/sample_csv.csv\")\n",
        "# Cetak 5 baris teratas kolom brand\n",
        "print(\"Kolom brand awal:\\n\", df[\"brand\"].head())\n",
        "# Gunakan method apply untuk merubah isi kolom menjadi lower case\n",
        "df[\"brand\"] = df[\"brand\"].apply(lambda x: x.lower())\n",
        "# Cetak 5 baris teratas kolom brand\n",
        "print(\"Kolom brand setelah apply:\\n\", df[\"brand\"].head())\n",
        "# Gunakan method map untuk mengambil kode brand yaitu karakter terakhirnya\n",
        "df[\"brand\"] = df[\"brand\"].map(lambda x: x[-1])\n",
        "# Cetak 5 baris teratas kolom brand\n",
        "print(\"Kolom brand setelah map:\\n\", df[\"brand\"].head())"
      ],
      "execution_count": 56,
      "outputs": [
        {
          "output_type": "stream",
          "text": [
            "Kolom brand awal:\n",
            " 0    BRAND_C\n",
            "1    BRAND_V\n",
            "2    BRAND_G\n",
            "3    BRAND_B\n",
            "4    BRAND_G\n",
            "Name: brand, dtype: object\n",
            "Kolom brand setelah apply:\n",
            " 0    brand_c\n",
            "1    brand_v\n",
            "2    brand_g\n",
            "3    brand_b\n",
            "4    brand_g\n",
            "Name: brand, dtype: object\n",
            "Kolom brand setelah map:\n",
            " 0    c\n",
            "1    v\n",
            "2    g\n",
            "3    b\n",
            "4    g\n",
            "Name: brand, dtype: object\n"
          ],
          "name": "stdout"
        }
      ]
    },
    {
      "cell_type": "code",
      "metadata": {
        "colab": {
          "base_uri": "https://localhost:8080/"
        },
        "id": "CY4GZu7QyiNi",
        "outputId": "bf900a63-91b0-46c0-fe83-338642902245"
      },
      "source": [
        "# .applymap: untuk dataframe\n",
        "\n",
        "import numpy as np\n",
        "import pandas as pd\n",
        "\n",
        "# number generator set angka seed menjadi suatu angka, bisa semua angka, supaya hasil randomnya selalu sama ketika kita run\n",
        "np.random.seed(100)\n",
        "\n",
        "# create dataframe 3 baris dan 5 kolom dengan angka random\n",
        "df_tr = pd.DataFrame(np.random.rand(3, 5))\n",
        "\n",
        "# Cetak dataframe\n",
        "print(\"DataFrame:\\n\", df_tr)"
      ],
      "execution_count": 57,
      "outputs": [
        {
          "output_type": "stream",
          "text": [
            "DataFrame:\n",
            "           0         1         2         3         4\n",
            "0  0.543405  0.278369  0.424518  0.844776  0.004719\n",
            "1  0.121569  0.670749  0.825853  0.136707  0.575093\n",
            "2  0.891322  0.209202  0.185328  0.108377  0.219697\n"
          ],
          "name": "stdout"
        }
      ]
    },
    {
      "cell_type": "code",
      "metadata": {
        "colab": {
          "base_uri": "https://localhost:8080/"
        },
        "id": "PmGO6fVdzudw",
        "outputId": "3eea30d8-80e7-49d0-86f1-403fbe7bf499"
      },
      "source": [
        "# Cara 1 tanpa define function diawal, langsung menggunakan fungsi anonymous lambda x\n",
        "df_tr1 = df_tr.applymap(lambda x: x * 100)\n",
        "print(\"\\nDataFrame - cara 1:\\n\", df_tr1)"
      ],
      "execution_count": 58,
      "outputs": [
        {
          "output_type": "stream",
          "text": [
            "\n",
            "DataFrame - cara 1:\n",
            "            0          1          2          3          4\n",
            "0  54.340494  27.836939  42.451759  84.477613   0.471886\n",
            "1  12.156912  67.074908  82.585276  13.670659  57.509333\n",
            "2  89.132195  20.920212  18.532822  10.837689  21.969749\n"
          ],
          "name": "stdout"
        }
      ]
    },
    {
      "cell_type": "code",
      "metadata": {
        "colab": {
          "base_uri": "https://localhost:8080/"
        },
        "id": "TNB7mnL60JDw",
        "outputId": "709b941d-614b-49d9-86fc-a7f2069aef9b"
      },
      "source": [
        "# Cara 2 dengan define function\n",
        "def times_100(x):\n",
        "    return x * 100\n",
        "df_tr2 = df_tr.applymap(times_100)\n",
        "print(\"\\nDataFrame - cara 2:\\n\", df_tr2)"
      ],
      "execution_count": 59,
      "outputs": [
        {
          "output_type": "stream",
          "text": [
            "\n",
            "DataFrame - cara 2:\n",
            "            0          1          2          3          4\n",
            "0  54.340494  27.836939  42.451759  84.477613   0.471886\n",
            "1  12.156912  67.074908  82.585276  13.670659  57.509333\n",
            "2  89.132195  20.920212  18.532822  10.837689  21.969749\n"
          ],
          "name": "stdout"
        }
      ]
    },
    {
      "cell_type": "code",
      "metadata": {
        "colab": {
          "base_uri": "https://localhost:8080/"
        },
        "id": "ahGdazBl0iRI",
        "outputId": "242de971-e64a-4fbc-ae0d-77fe7373c5c1"
      },
      "source": [
        "import numpy as np\n",
        "import pandas as pd\n",
        "# number generator, set angka seed menjadi suatu angka, bisa semua angka, supaya hasil random nya selalu sama ketika kita run\n",
        "np.random.seed(1234)\n",
        "# create dataframe 3 baris dan 4 kolom dengan angka random\n",
        "df_tr = pd.DataFrame(np.random.rand(3, 4)) \n",
        "# Cetak dataframe\n",
        "print(\"Dataframe:\\n\", df_tr)\n",
        "# Cara 1 dengan tanpa define function awalnya, langsung pake fungsi anonymous lambda x\n",
        "df_tr1 = df_tr.applymap(lambda x: x**2+3*x+2) \n",
        "print(\"\\nDataframe - cara 1:\\n\", df_tr1)\n",
        "# Cara 2 dengan define function \n",
        "def qudratic_fun(x):\n",
        "\treturn x**2+3*x+2\n",
        "df_tr2 = df_tr.applymap(qudratic_fun)\n",
        "print(\"\\nDataframe - cara 2:\\n\", df_tr2)"
      ],
      "execution_count": 60,
      "outputs": [
        {
          "output_type": "stream",
          "text": [
            "Dataframe:\n",
            "           0         1         2         3\n",
            "0  0.191519  0.622109  0.437728  0.785359\n",
            "1  0.779976  0.272593  0.276464  0.801872\n",
            "2  0.958139  0.875933  0.357817  0.500995\n",
            "\n",
            "Dataframe - cara 1:\n",
            "           0         1         2         3\n",
            "0  2.611238  4.253346  3.504789  4.972864\n",
            "1  4.948290  2.892085  2.905825  5.048616\n",
            "2  5.792449  5.395056  3.201485  3.753981\n",
            "\n",
            "Dataframe - cara 2:\n",
            "           0         1         2         3\n",
            "0  2.611238  4.253346  3.504789  4.972864\n",
            "1  4.948290  2.892085  2.905825  5.048616\n",
            "2  5.792449  5.395056  3.201485  3.753981\n"
          ],
          "name": "stdout"
        }
      ]
    },
    {
      "cell_type": "markdown",
      "metadata": {
        "id": "heZ5sOZt143S"
      },
      "source": [
        "# # Handling Missing Values"
      ]
    },
    {
      "cell_type": "markdown",
      "metadata": {
        "id": "ZaK9OhqM16nr"
      },
      "source": [
        "# Pendahuluan"
      ]
    },
    {
      "cell_type": "markdown",
      "metadata": {
        "id": "W2_CNlIh1913"
      },
      "source": [
        "https://pandas.pydata.org/pandas-docs/stable/user_guide/missing_data.html"
      ]
    },
    {
      "cell_type": "markdown",
      "metadata": {
        "id": "wyvzvu9I2UxO"
      },
      "source": [
        "# Inspeksi Missing Value"
      ]
    },
    {
      "cell_type": "code",
      "metadata": {
        "colab": {
          "base_uri": "https://localhost:8080/"
        },
        "id": "fUmRzJsA02sP",
        "outputId": "e3feacf5-d3c2-43a3-b17c-bb219c5cc1df"
      },
      "source": [
        "# Cara 1 untuk mengetahui adanya missing value\n",
        "\n",
        "import pandas as pd\n",
        "# Baca file \"public data covid19 jhu csse eu.csv\"\n",
        "df = pd.read_csv(\"https://storage.googleapis.com/dqlab-dataset/CHAPTER%204%20-%20missing%20value%20-%20public%20data%20covid19%20.csv\")\n",
        "# Cetak info dari df\n",
        "print(df.info())"
      ],
      "execution_count": 61,
      "outputs": [
        {
          "output_type": "stream",
          "text": [
            "<class 'pandas.core.frame.DataFrame'>\n",
            "RangeIndex: 1000 entries, 0 to 999\n",
            "Data columns (total 13 columns):\n",
            " #   Column          Non-Null Count  Dtype  \n",
            "---  ------          --------------  -----  \n",
            " 0   province_state  960 non-null    object \n",
            " 1   country_region  1000 non-null   object \n",
            " 2   date            1000 non-null   object \n",
            " 3   latitude        874 non-null    float64\n",
            " 4   longitude       874 non-null    float64\n",
            " 5   location_geom   874 non-null    object \n",
            " 6   confirmed       1000 non-null   int64  \n",
            " 7   deaths          999 non-null    float64\n",
            " 8   recovered       999 non-null    float64\n",
            " 9   active          949 non-null    float64\n",
            " 10  fips            949 non-null    float64\n",
            " 11  admin2          842 non-null    object \n",
            " 12  combined_key    0 non-null      float64\n",
            "dtypes: float64(7), int64(1), object(5)\n",
            "memory usage: 101.7+ KB\n",
            "None\n"
          ],
          "name": "stdout"
        }
      ]
    },
    {
      "cell_type": "code",
      "metadata": {
        "colab": {
          "base_uri": "https://localhost:8080/"
        },
        "id": "fmIx37Vj2upF",
        "outputId": "c323cb1b-aecd-4d23-fdf9-7acfdbaa4cae"
      },
      "source": [
        "# Cara 2 untuk mengetahui adanya missing value\n",
        "\n",
        "# Cetak jumlah missing value di setiap kolom\n",
        "mv = df.isna().sum()\n",
        "print(\"\\nJumlah missing value per kolom:\\n\", mv)"
      ],
      "execution_count": 62,
      "outputs": [
        {
          "output_type": "stream",
          "text": [
            "\n",
            "Jumlah missing value per kolom:\n",
            " province_state      40\n",
            "country_region       0\n",
            "date                 0\n",
            "latitude           126\n",
            "longitude          126\n",
            "location_geom      126\n",
            "confirmed            0\n",
            "deaths               1\n",
            "recovered            1\n",
            "active              51\n",
            "fips                51\n",
            "admin2             158\n",
            "combined_key      1000\n",
            "dtype: int64\n"
          ],
          "name": "stdout"
        }
      ]
    },
    {
      "cell_type": "code",
      "metadata": {
        "id": "XPcCp0Dn3Peg",
        "colab": {
          "base_uri": "https://localhost:8080/"
        },
        "outputId": "f14ac8c1-346d-4379-dca6-f50def20ac15"
      },
      "source": [
        "import pandas as pd\n",
        "# Baca file \"public data covid19 jhu csse eu.csv\"\n",
        "df = pd.read_csv(\"https://storage.googleapis.com/dqlab-dataset/CHAPTER%204%20-%20missing%20value%20-%20public%20data%20covid19%20.csv\")\n",
        "# Cetak info dari df\n",
        "print(df.info())\n",
        "# Cetak jumlah missing value di setiap kolom\n",
        "mv = df.isna().sum()\n",
        "print(\"\\nJumlah missing value per kolom:\\n\", mv)"
      ],
      "execution_count": 63,
      "outputs": [
        {
          "output_type": "stream",
          "text": [
            "<class 'pandas.core.frame.DataFrame'>\n",
            "RangeIndex: 1000 entries, 0 to 999\n",
            "Data columns (total 13 columns):\n",
            " #   Column          Non-Null Count  Dtype  \n",
            "---  ------          --------------  -----  \n",
            " 0   province_state  960 non-null    object \n",
            " 1   country_region  1000 non-null   object \n",
            " 2   date            1000 non-null   object \n",
            " 3   latitude        874 non-null    float64\n",
            " 4   longitude       874 non-null    float64\n",
            " 5   location_geom   874 non-null    object \n",
            " 6   confirmed       1000 non-null   int64  \n",
            " 7   deaths          999 non-null    float64\n",
            " 8   recovered       999 non-null    float64\n",
            " 9   active          949 non-null    float64\n",
            " 10  fips            949 non-null    float64\n",
            " 11  admin2          842 non-null    object \n",
            " 12  combined_key    0 non-null      float64\n",
            "dtypes: float64(7), int64(1), object(5)\n",
            "memory usage: 101.7+ KB\n",
            "None\n",
            "\n",
            "Jumlah missing value per kolom:\n",
            " province_state      40\n",
            "country_region       0\n",
            "date                 0\n",
            "latitude           126\n",
            "longitude          126\n",
            "location_geom      126\n",
            "confirmed            0\n",
            "deaths               1\n",
            "recovered            1\n",
            "active              51\n",
            "fips                51\n",
            "admin2             158\n",
            "combined_key      1000\n",
            "dtype: int64\n"
          ],
          "name": "stdout"
        }
      ]
    },
    {
      "cell_type": "markdown",
      "metadata": {
        "id": "Y-P_f2IJ399m"
      },
      "source": [
        "# Treatment untuk Missing Value"
      ]
    },
    {
      "cell_type": "code",
      "metadata": {
        "colab": {
          "base_uri": "https://localhost:8080/"
        },
        "id": "x-U7YQtv3-vA",
        "outputId": "821a4b4c-5026-4aab-ee1b-20a1037e33c1"
      },
      "source": [
        "import pandas as pd\n",
        "# Baca file \"public data covid19 jhu csse eu.csv\"\n",
        "df = pd.read_csv(\"https://storage.googleapis.com/dqlab-dataset/CHAPTER%204%20-%20missing%20value%20-%20public%20data%20covid19%20.csv\")\n",
        "# Cetak ukuran awal dataframe\n",
        "print(\"Ukuran awal df: %d baris, %d kolom.\" % df.shape)\n",
        "# Drop kolom yang seluruhnya missing value dan cetak ukurannya\n",
        "df = df.dropna(axis=1, how=\"all\")\n",
        "print(\"Ukuran df setelah buang kolom dengan seluruh data missing: %d baris, %d kolom.\" % df.shape)\n",
        "# Drop baris jika ada satu saja data yang missing dan cetak ukurannya\n",
        "df = df.dropna(axis=0, how=\"any\")\n",
        "print(\"Ukuran df setelah dibuang baris yang memiliki sekurangnya 1 missing value: %d baris, %d kolom.\" % df.shape)"
      ],
      "execution_count": 64,
      "outputs": [
        {
          "output_type": "stream",
          "text": [
            "Ukuran awal df: 1000 baris, 13 kolom.\n",
            "Ukuran df setelah buang kolom dengan seluruh data missing: 1000 baris, 12 kolom.\n",
            "Ukuran df setelah dibuang baris yang memiliki sekurangnya 1 missing value: 746 baris, 12 kolom.\n"
          ],
          "name": "stdout"
        }
      ]
    },
    {
      "cell_type": "code",
      "metadata": {
        "id": "bITdTpWh4hb2"
      },
      "source": [
        ""
      ],
      "execution_count": 64,
      "outputs": []
    },
    {
      "cell_type": "code",
      "metadata": {
        "id": "PpRw0sFW4iyC",
        "colab": {
          "base_uri": "https://localhost:8080/"
        },
        "outputId": "5da3a206-613b-4abc-9bb3-383435b37856"
      },
      "source": [
        "# Mengisi missing value dengan text tertentu\n",
        "import pandas as pd\n",
        "# Baca file \"public data covid19 jhu csse eu.csv\"\n",
        "df = pd.read_csv(\"https://storage.googleapis.com/dqlab-dataset/CHAPTER%204%20-%20missing%20value%20-%20public%20data%20covid19%20.csv\")\n",
        "# Cetak unique value pada kolom province_state\n",
        "print(\"Unique value awal:\\n\", df[\"province_state\"].unique())\n",
        "# Ganti missing value dengan string \"unknown_province_state\"\n",
        "df[\"province_state\"] = df[\"province_state\"].fillna(\"unknown_province_state\")\n",
        "# Cetak kembali unique value pada kolom province_state\n",
        "print(\"Unique value setelah fillna:\\n\", df[\"province_state\"].unique())"
      ],
      "execution_count": 65,
      "outputs": [
        {
          "output_type": "stream",
          "text": [
            "Unique value awal:\n",
            " [nan 'US' 'Guam' 'Iowa']\n",
            "Unique value setelah fillna:\n",
            " ['unknown_province_state' 'US' 'Guam' 'Iowa']\n"
          ],
          "name": "stdout"
        }
      ]
    },
    {
      "cell_type": "code",
      "metadata": {
        "colab": {
          "base_uri": "https://localhost:8080/"
        },
        "id": "Y0ORr7OEWJOl",
        "outputId": "0639f224-5452-4b95-8aaa-f661c454e142"
      },
      "source": [
        "import pandas as pd\n",
        "# Baca file \"https://storage.googleapis.com/dqlab-dataset/CHAPTER%204%20-%20missing%20value%20-%20public%20data%20covid19%20.csv\"\n",
        "df = pd.read_csv(\"https://storage.googleapis.com/dqlab-dataset/CHAPTER%204%20-%20missing%20value%20-%20public%20data%20covid19%20.csv\")\n",
        "# Cek missing value di kolom active\n",
        "print(\"Jumlah missing value:\", df[\"active\"].isna().sum())\n",
        "# Isi missing value kolom active dengan median\n",
        "df[\"active\"] = df[\"active\"].fillna(df[\"active\"].median())\n",
        "# Cek kembali kolom active\n",
        "print(\"Jumlah missing value setelah diisi median:\", df[\"active\"].isna().sum())"
      ],
      "execution_count": 66,
      "outputs": [
        {
          "output_type": "stream",
          "text": [
            "Jumlah missing value: 51\n",
            "Jumlah missing value setelah diisi median: 0\n"
          ],
          "name": "stdout"
        }
      ]
    },
    {
      "cell_type": "code",
      "metadata": {
        "colab": {
          "base_uri": "https://localhost:8080/"
        },
        "id": "Sayfnha2XIpH",
        "outputId": "fd6fe57b-1367-4e9e-b4a4-0405369f43db"
      },
      "source": [
        "import pandas as pd\n",
        "# Baca file \"https://storage.googleapis.com/dqlab-dataset/CHAPTER%204%20-%20missing%20value%20-%20public%20data%20covid19%20.csv\"\n",
        "df = pd.read_csv(\"https://storage.googleapis.com/dqlab-dataset/CHAPTER%204%20-%20missing%20value%20-%20public%20data%20covid19%20.csv\")\n",
        "# Cetak nilai mean dan median awal \n",
        "print(\"Awal: mean = %f, median = %f.\" % (df[\"active\"].mean(), df[\"active\"].median()))\n",
        "# Isi missing value kolom active dengan median\n",
        "df_median = df[\"active\"].fillna(df[\"active\"].median())\n",
        "# Cetak nilai mean dan median awal setelah diisi dengan median\n",
        "print(\"Fillna median: mean = %f, median = %f.\" % (df_median.mean(), df_median.median()))\n",
        "# Isi missing value kolom active dengan mean\n",
        "df_mean = df[\"active\"].fillna(df[\"active\"].mean())\n",
        "# Cetak nilai mean dan median awal setelah diisi dengan mean\n",
        "print(\"Fillna mean: mean = %f, median = %f.\" % (df_mean.mean(), df_mean.median()))"
      ],
      "execution_count": 67,
      "outputs": [
        {
          "output_type": "stream",
          "text": [
            "Awal: mean = 192.571128, median = 41.000000.\n",
            "Fillna median: mean = 184.841000, median = 41.000000.\n",
            "Fillna mean: mean = 192.571128, median = 49.000000.\n"
          ],
          "name": "stdout"
        }
      ]
    },
    {
      "cell_type": "code",
      "metadata": {
        "colab": {
          "base_uri": "https://localhost:8080/"
        },
        "id": "MAO__vRYXxVl",
        "outputId": "24192f00-8340-46ae-ec93-6358bea4a8c1"
      },
      "source": [
        "# Mengisi missing value dengan interpolasi (untuk time series)\n",
        "import numpy as np\n",
        "import pandas as pd\n",
        "# Data\n",
        "ts = pd.Series({\n",
        "   \"2020-01-01\":9,\n",
        "   \"2020-01-02\":np.nan,\n",
        "   \"2020-01-05\":np.nan,\n",
        "   \"2020-01-07\":24,\n",
        "   \"2020-01-10\":np.nan,\n",
        "   \"2020-01-12\":np.nan,\n",
        "   \"2020-01-15\":33,\n",
        "   \"2020-01-17\":np.nan,\n",
        "   \"2020-01-16\":40,\n",
        "   \"2020-01-20\":45,\n",
        "   \"2020-01-22\":52,\n",
        "   \"2020-01-25\":75,\n",
        "   \"2020-01-28\":np.nan,\n",
        "   \"2020-01-30\":np.nan\n",
        "})\n",
        "# Cetak time series\n",
        "print(\"Awal:\\n\", ts)\n",
        "# Isi missing value menggunakan interpolasi linier\n",
        "ts = ts.interpolate()\n",
        "# Cetak time series setelah interpolasi linier\n",
        "print(\"Setelah diisi missing valuenya:\\n\", ts)"
      ],
      "execution_count": 68,
      "outputs": [
        {
          "output_type": "stream",
          "text": [
            "Awal:\n",
            " 2020-01-01     9.0\n",
            "2020-01-02     NaN\n",
            "2020-01-05     NaN\n",
            "2020-01-07    24.0\n",
            "2020-01-10     NaN\n",
            "2020-01-12     NaN\n",
            "2020-01-15    33.0\n",
            "2020-01-17     NaN\n",
            "2020-01-16    40.0\n",
            "2020-01-20    45.0\n",
            "2020-01-22    52.0\n",
            "2020-01-25    75.0\n",
            "2020-01-28     NaN\n",
            "2020-01-30     NaN\n",
            "dtype: float64\n",
            "Setelah diisi missing valuenya:\n",
            " 2020-01-01     9.0\n",
            "2020-01-02    14.0\n",
            "2020-01-05    19.0\n",
            "2020-01-07    24.0\n",
            "2020-01-10    27.0\n",
            "2020-01-12    30.0\n",
            "2020-01-15    33.0\n",
            "2020-01-17    36.5\n",
            "2020-01-16    40.0\n",
            "2020-01-20    45.0\n",
            "2020-01-22    52.0\n",
            "2020-01-25    75.0\n",
            "2020-01-28    75.0\n",
            "2020-01-30    75.0\n",
            "dtype: float64\n"
          ],
          "name": "stdout"
        }
      ]
    },
    {
      "cell_type": "code",
      "metadata": {
        "colab": {
          "base_uri": "https://localhost:8080/"
        },
        "id": "wufbmocfZjlO",
        "outputId": "8b1df325-9148-4e7f-ed17-f9d7b16ccca8"
      },
      "source": [
        "import numpy as np\n",
        "import pandas as pd\n",
        "# Data\n",
        "ts = pd.Series({\n",
        "   \"2020-01-01\":9,\n",
        "   \"2020-01-02\":np.nan,\n",
        "   \"2020-01-05\":np.nan,\n",
        "   \"2020-01-07\":24,\n",
        "   \"2020-01-10\":np.nan,\n",
        "   \"2020-01-12\":np.nan,\n",
        "   \"2020-01-15\":33,\n",
        "   \"2020-01-17\":np.nan,\n",
        "   \"2020-01-16\":40,\n",
        "   \"2020-01-20\":45,\n",
        "   \"2020-01-22\":52,\n",
        "   \"2020-01-25\":75,\n",
        "   \"2020-01-28\":np.nan,\n",
        "   \"2020-01-30\":np.nan\n",
        "})\n",
        "# Isi missing value menggunakan interpolasi linier\n",
        "ts = ts.interpolate()\n",
        "# Cetak time series setelah interpolasi linier\n",
        "print(\"Setelah diisi missing valuenya:\\n\", ts)"
      ],
      "execution_count": 69,
      "outputs": [
        {
          "output_type": "stream",
          "text": [
            "Setelah diisi missing valuenya:\n",
            " 2020-01-01     9.0\n",
            "2020-01-02    14.0\n",
            "2020-01-05    19.0\n",
            "2020-01-07    24.0\n",
            "2020-01-10    27.0\n",
            "2020-01-12    30.0\n",
            "2020-01-15    33.0\n",
            "2020-01-17    36.5\n",
            "2020-01-16    40.0\n",
            "2020-01-20    45.0\n",
            "2020-01-22    52.0\n",
            "2020-01-25    75.0\n",
            "2020-01-28    75.0\n",
            "2020-01-30    75.0\n",
            "dtype: float64\n"
          ],
          "name": "stdout"
        }
      ]
    },
    {
      "cell_type": "markdown",
      "metadata": {
        "id": "U8i7-y9LaZ-G"
      },
      "source": [
        "# # Mini Project"
      ]
    },
    {
      "cell_type": "markdown",
      "metadata": {
        "id": "WrrRbOAZab2I"
      },
      "source": [
        "# Project Dari Andra"
      ]
    },
    {
      "cell_type": "code",
      "metadata": {
        "id": "1yNhRJkMZxh8",
        "colab": {
          "base_uri": "https://localhost:8080/"
        },
        "outputId": "28de3c38-6499-44a3-c9be-32edcef51b94"
      },
      "source": [
        "import pandas as pd\n",
        "\n",
        "# 1. Baca dataset\n",
        "print(\"[1] BACA DATASET\")\n",
        "df = pd.read_csv(\"https://storage.googleapis.com/dqlab-dataset/retail_raw_test.csv\", low_memory=False)\n",
        "print(\"    Dataset:\\n\", df.head())\n",
        "print(\"    Info:\\n\", df.info())\n",
        "\n",
        "# 2. Ubah tipe data\n",
        "print(\"\\n[2] UBAH TIPE DATA\")\n",
        "df[\"customer_id\"] = df[\"customer_id\"].apply(lambda x: x.split(\"'\")[1]).astype(\"int64\")\n",
        "df[\"quantity\"] = df[\"quantity\"].apply(lambda x: x.split(\"'\")[1]).astype(\"int64\")\n",
        "df[\"item_price\"] = df[\"item_price\"].apply(lambda x: x.split(\"'\")[1]).astype(\"int64\")\n",
        "print(\"    Tipe data:\\n\", df.dtypes)\n",
        "\n",
        "# 3. Transform \"product_value\" supaya bentuknya seragam dengan format \"PXXXX\", assign ke kolom baru \"product_id\", dan drop kolom \"product_value\", jika terdapat nan gantilah dengan \"unknown\"\n",
        "print(\"\\n[3] TRANSFORM product_value MENJADI product_id\")\n",
        "# Buat fungsi\n",
        "import math\n",
        "def impute_product_value(val):\n",
        "    if math.isnan(val):\n",
        "        return \"unknown\"\n",
        "    else:\n",
        "        return 'P' + '{:0>4}'.format(str(val).split('.')[0])\n",
        "# Buat kolom \"product_id\"\n",
        "df[\"product_id\"] = df[\"product_value\"].apply(lambda x: impute_product_value(x))\n",
        "# Hapus kolom \"product_value\"\n",
        "df.drop([\"product_value\"], axis=1, inplace=True)\n",
        "# Cetak 5 data teratas\n",
        "print(df.head())\n",
        "\n",
        "# 4. Tranform order_date menjadi value dengan format \"YYYY-mm-dd\"\n",
        "print(\"\\n[4] TRANSFORM order_date MENJADI FORMAT YYYY-mm-dd\")\n",
        "months_dict = {\n",
        "   \"Jan\":\"01\",\n",
        "   \"Feb\":\"02\",\n",
        "   \"Mar\":\"03\",\n",
        "   \"Apr\":\"04\",\n",
        "   \"May\":\"05\",\n",
        "   \"Jun\":\"06\",\n",
        "   \"Jul\":\"07\",\n",
        "   \"Aug\":\"08\",\n",
        "   \"Sep\":\"09\",\n",
        "   \"Oct\":\"10\",\n",
        "   \"Nov\":\"11\",\n",
        "   \"Dec\":\"12\"\n",
        "}\n",
        "df[\"order_date\"] = pd.to_datetime(df[\"order_date\"].apply(lambda x: str(x)[-4:] + \"-\" + months_dict[str(x)[:3]] + \"-\" + str(x)[4:7]))\n",
        "print(\"    Tipe data:\\n\", df.dtypes)\n",
        "\n",
        "# 5. Mengatasi data yang hilang di beberapa kolom\n",
        "print(\"\\n[5] HANDLING MISSING VALUE\")\n",
        "# Kolom \"city\" dan \"province\" masih memiliki missing value, nilai yang hilang di kedua kolom ini diisi saja dengan \"unknown\"\n",
        "df[[\"city\",\"province\"]] = df[[\"city\",\"province\"]].fillna(\"unknown\")\n",
        "# Kolom brand juga masih memiliki missing value, Ganti value NaN menjadi \"no_brand\"\n",
        "df[\"brand\"] = df[\"brand\"].fillna(\"no_brand\")\n",
        "# Cek apakah masih terdapat missing value di seluruh kolom \n",
        "print(\"    Info:\\n\", df.info())\n",
        "\n",
        "# 6. Membuat kolom baru \"city/province\" dengan menggabungkan kolom \"city\" dan kolom \"province\" dan delete kolom asalnya\n",
        "print(\"\\n[6] MEMBUAT KOLOM BARU city/province\")\n",
        "df[\"city/province\"] = df[\"city\"] + \"/\" + df[\"province\"]\n",
        "# drop kolom \"city\" dan \"province\" karena telah digabungkan\n",
        "df.drop([\"city\",\"province\"], axis=1, inplace=True)\n",
        "# Cetak 5 data teratas\n",
        "print(df.head())\n",
        "\n",
        "# 7. Membuat hierarchical index yang terdiri dari kolom \"city/province\", \"order_date\", \"customer_id\", \"order_id\", \"product_id\"\n",
        "print(\"\\n[7] MEMBUAT HIERACHICAL INDEX\")\n",
        "df = df.set_index([\"city/province\",\"order_date\",\"customer_id\",\"order_id\",\"product_id\"])\n",
        "# urutkanlah berdasarkan index yang baru\n",
        "df = df.sort_index()\n",
        "# Cetak 5 data teratas\n",
        "print(df.head())\n",
        "\n",
        "# 8. Membuat kolom \"total_price\" yang formula nya perkalian antara kolom \"quantity\" dan kolom \"item_price\"\n",
        "print(\"\\n[8] MEMBUAT KOLOM total_price\")\n",
        "df[\"total_price\"] = df[\"quantity\"] * df[\"item_price\"]\n",
        "# Cetak 5 data teratas\n",
        "print(df.head())\n",
        "\n",
        "# 9. Slice dataset agar hanya terdapat data bulan Januari 2019\n",
        "print(\"\\n[9] SLICE DATASET UNTUK BULAN JANUARI 2019 SAJA\")\n",
        "idx = pd.IndexSlice\n",
        "df_jan2019 = df.loc[idx[:, \"2019-01-01\":\"2019-01-31\"], :]\n",
        "print(\"Dataset akhir:\\n\", df_jan2019)\n",
        "\n",
        "# END OF PROJECT"
      ],
      "execution_count": 70,
      "outputs": [
        {
          "output_type": "stream",
          "text": [
            "[1] BACA DATASET\n",
            "    Dataset:\n",
            "    order_id    order_date customer_id  ... quantity item_price product_value\n",
            "0   1730350  Dec 11, 2019      '13447  ...      '24    '113000        1374.0\n",
            "1   1677490  Jul 31, 2019          '0  ...       '1   '1164000        1370.0\n",
            "2   1704211  Oct 18, 2019      '16128  ...      '12    '747000        1679.0\n",
            "3   1679695  Aug 07, 2019      '16225  ...       '6    '590000        1708.0\n",
            "4   1679080  Aug 05, 2019          '0  ...       '2    '740000        1201.0\n",
            "\n",
            "[5 rows x 9 columns]\n",
            "<class 'pandas.core.frame.DataFrame'>\n",
            "RangeIndex: 5000 entries, 0 to 4999\n",
            "Data columns (total 9 columns):\n",
            " #   Column         Non-Null Count  Dtype  \n",
            "---  ------         --------------  -----  \n",
            " 0   order_id       5000 non-null   int64  \n",
            " 1   order_date     5000 non-null   object \n",
            " 2   customer_id    5000 non-null   object \n",
            " 3   city           3802 non-null   object \n",
            " 4   province       3802 non-null   object \n",
            " 5   brand          4995 non-null   object \n",
            " 6   quantity       5000 non-null   object \n",
            " 7   item_price     5000 non-null   object \n",
            " 8   product_value  4995 non-null   float64\n",
            "dtypes: float64(1), int64(1), object(7)\n",
            "memory usage: 351.7+ KB\n",
            "    Info:\n",
            " None\n",
            "\n",
            "[2] UBAH TIPE DATA\n",
            "    Tipe data:\n",
            " order_id           int64\n",
            "order_date        object\n",
            "customer_id        int64\n",
            "city              object\n",
            "province          object\n",
            "brand             object\n",
            "quantity           int64\n",
            "item_price         int64\n",
            "product_value    float64\n",
            "dtype: object\n",
            "\n",
            "[3] TRANSFORM product_value MENJADI product_id\n",
            "   order_id    order_date  customer_id  ... quantity item_price product_id\n",
            "0   1730350  Dec 11, 2019        13447  ...       24     113000      P1374\n",
            "1   1677490  Jul 31, 2019            0  ...        1    1164000      P1370\n",
            "2   1704211  Oct 18, 2019        16128  ...       12     747000      P1679\n",
            "3   1679695  Aug 07, 2019        16225  ...        6     590000      P1708\n",
            "4   1679080  Aug 05, 2019            0  ...        2     740000      P1201\n",
            "\n",
            "[5 rows x 9 columns]\n",
            "\n",
            "[4] TRANSFORM order_date MENJADI FORMAT YYYY-mm-dd\n",
            "    Tipe data:\n",
            " order_id                int64\n",
            "order_date     datetime64[ns]\n",
            "customer_id             int64\n",
            "city                   object\n",
            "province               object\n",
            "brand                  object\n",
            "quantity                int64\n",
            "item_price              int64\n",
            "product_id             object\n",
            "dtype: object\n",
            "\n",
            "[5] HANDLING MISSING VALUE\n",
            "<class 'pandas.core.frame.DataFrame'>\n",
            "RangeIndex: 5000 entries, 0 to 4999\n",
            "Data columns (total 9 columns):\n",
            " #   Column       Non-Null Count  Dtype         \n",
            "---  ------       --------------  -----         \n",
            " 0   order_id     5000 non-null   int64         \n",
            " 1   order_date   5000 non-null   datetime64[ns]\n",
            " 2   customer_id  5000 non-null   int64         \n",
            " 3   city         5000 non-null   object        \n",
            " 4   province     5000 non-null   object        \n",
            " 5   brand        5000 non-null   object        \n",
            " 6   quantity     5000 non-null   int64         \n",
            " 7   item_price   5000 non-null   int64         \n",
            " 8   product_id   5000 non-null   object        \n",
            "dtypes: datetime64[ns](1), int64(4), object(4)\n",
            "memory usage: 351.7+ KB\n",
            "    Info:\n",
            " None\n",
            "\n",
            "[6] MEMBUAT KOLOM BARU city/province\n",
            "   order_id order_date  ...  product_id              city/province\n",
            "0   1730350 2019-12-11  ...       P1374      Surakarta/Jawa Tengah\n",
            "1   1677490 2019-07-31  ...       P1370            unknown/unknown\n",
            "2   1704211 2019-10-18  ...       P1679  Jakarta Pusat/DKI Jakarta\n",
            "3   1679695 2019-08-07  ...       P1708      Yogyakarta/Yogyakarta\n",
            "4   1679080 2019-08-05  ...       P1201            unknown/unknown\n",
            "\n",
            "[5 rows x 8 columns]\n",
            "\n",
            "[7] MEMBUAT HIERACHICAL INDEX\n",
            "                                                                     brand  ...  item_price\n",
            "city/province          order_date customer_id order_id product_id           ...            \n",
            "Banda Aceh/Aceh        2019-04-17 12818       1642480  P1936       BRAND_K  ...      450000\n",
            "                       2019-11-12 12360       1715116  P0758       BRAND_C  ...      695000\n",
            "                                                       P3042       BRAND_R  ...      310000\n",
            "                       2019-12-09 12374       1729036  P1660       BRAND_G  ...     2795000\n",
            "Bandar Lampung/Lampung 2019-01-15 12515       1619257  P0628       BRAND_C  ...      695000\n",
            "\n",
            "[5 rows x 3 columns]\n",
            "\n",
            "[8] MEMBUAT KOLOM total_price\n",
            "                                                                     brand  ...  total_price\n",
            "city/province          order_date customer_id order_id product_id           ...             \n",
            "Banda Aceh/Aceh        2019-04-17 12818       1642480  P1936       BRAND_K  ...     10800000\n",
            "                       2019-11-12 12360       1715116  P0758       BRAND_C  ...      5560000\n",
            "                                                       P3042       BRAND_R  ...      3720000\n",
            "                       2019-12-09 12374       1729036  P1660       BRAND_G  ...     11180000\n",
            "Bandar Lampung/Lampung 2019-01-15 12515       1619257  P0628       BRAND_C  ...      8340000\n",
            "\n",
            "[5 rows x 4 columns]\n",
            "\n",
            "[9] SLICE DATASET UNTUK BULAN JANUARI 2019 SAJA\n",
            "Dataset akhir:\n",
            "                                                                      brand  ...  total_price\n",
            "city/province          order_date customer_id order_id product_id           ...             \n",
            "Bandar Lampung/Lampung 2019-01-15 12515       1619257  P0628       BRAND_C  ...      8340000\n",
            "Bandung/Jawa Barat     2019-01-09 16134       1617055  P1597       BRAND_G  ...      4680000\n",
            "                       2019-01-10 17392       1617952  P2137       BRAND_M  ...      2124000\n",
            "                       2019-01-14 15527       1618828  P3115       BRAND_S  ...      1045000\n",
            "                       2019-01-29 13253       1620289  P0099       BRAND_A  ...      5400000\n",
            "...                                                                    ...  ...          ...\n",
            "unknown/unknown        2019-01-30 0           1620766  P3070       BRAND_R  ...       593000\n",
            "                                                       P3483       BRAND_S  ...      1779000\n",
            "                       2019-01-31 0           1621057  P1298       BRAND_F  ...       296000\n",
            "                                                       P1773       BRAND_H  ...      2965000\n",
            "                                                       P2877       BRAND_R  ...      1486000\n",
            "\n",
            "[334 rows x 4 columns]\n"
          ],
          "name": "stdout"
        }
      ]
    },
    {
      "cell_type": "code",
      "metadata": {
        "id": "6koi_hPbuGmN"
      },
      "source": [
        "import numpy as np\n",
        "import pandas as pd\n",
        "\n",
        "# Data\n",
        "ts = pd.Series({\n",
        "   \"2020-01-01\":9,\n",
        "   \"2020-01-02\":np.nan,\n",
        "   \"2020-01-05\":np.nan,\n",
        "   \"2020-01-07\":24,\n",
        "   \"2020-01-10\":np.nan,\n",
        "   \"2020-01-12\":np.nan,\n",
        "   \"2020-01-15\":33,\n",
        "   \"2020-01-17\":np.nan,\n",
        "   \"2020-01-16\":40,\n",
        "   \"2020-01-20\":45,\n",
        "   \"2020-01-22\":52,\n",
        "   \"2020-01-25\":75,\n",
        "   \"2020-01-28\":np.nan,\n",
        "   \"2020-01-30\":np.nan\n",
        "})\n",
        "\n",
        "# Isi missing value menggunakan interpolasi linier\n",
        "ts = ts.interpolate()\n",
        "\n",
        "# Cetak time series setelah interpolasi linier\n",
        "print(\"Setelah diisi missing valuenya:\\n\", ts)"
      ],
      "execution_count": null,
      "outputs": []
    },
    {
      "cell_type": "markdown",
      "metadata": {
        "id": "_7Y88vyAuoRH"
      },
      "source": [
        "# Project dari Andra"
      ]
    },
    {
      "cell_type": "code",
      "metadata": {
        "id": "BnADRLiYuVZi"
      },
      "source": [
        "import pandas as pd\n",
        "\n",
        "# 1. Baca dataset\n",
        "print(\"[1] BACA DATASET\")\n",
        "df = pd.read_csv(\"https://storage.googleapis.com/dqlab-dataset/retail_raw_test.csv\", low_memory=False)\n",
        "print(\"    Dataset:\\n\", df.head())\n",
        "print(\"    Info:\\n\", df.info())"
      ],
      "execution_count": null,
      "outputs": []
    },
    {
      "cell_type": "code",
      "metadata": {
        "id": "wBcqClX7u6Bl"
      },
      "source": [
        "# 2. Ubah tipe data\n",
        "print(\"\\n[2] UBAH TIPE DATA\")\n",
        "df[\"customer_id\"] = df[\"customer_id\"].apply(lambda x: x.split(\"'\")[1]).astype(\"int64\")\n",
        "df[\"quantity\"] = df[\"quantity\"].apply(lambda x: x.split(\"'\")[1]).astype(\"int64\")\n",
        "df[\"item_price\"] = df[\"item_price\"].apply(lambda x: x.split(\"'\")[1]).astype(\"int64\")\n",
        "print(\"    Tipe data:\\n\", df.dtypes)"
      ],
      "execution_count": null,
      "outputs": []
    },
    {
      "cell_type": "code",
      "metadata": {
        "id": "vjojR-mZvFEv"
      },
      "source": [
        "# 3. Transform \"product_value\" supaya bentuknya seragam dengan format \"PXXXX\", assign ke kolom baru \"product_id\", dan drop kolom \"product_value\", jika terdapat nan gantilah dengan \"unknown\"\n",
        "print(\"\\n[3] TRANSFORM product_value MENJADI product_id\")\n",
        "\n",
        "# Buat fungsi\n",
        "import math\n",
        "def impute_product_value(val):\n",
        "    if math.isnan(val):\n",
        "        return \"unknown\"\n",
        "    else:\n",
        "        return 'P' + '{:0>4}'.format(str(val).split('.')[0])\n",
        "\n",
        "# Buat kolom \"product_id\"\n",
        "df[\"product_id\"] = df[\"product_value\"].apply(lambda x: impute_product_value(x))\n",
        "\n",
        "# Hapus kolom \"product_value\"\n",
        "df.drop([\"product_value\"], axis=1, inplace=True)\n",
        "\n",
        "# Cetak 5 data teratas\n",
        "print(df.head())"
      ],
      "execution_count": null,
      "outputs": []
    },
    {
      "cell_type": "code",
      "metadata": {
        "id": "__jYi16SvbfE"
      },
      "source": [
        "# 4. Tranform order_date menjadi value dengan format \"YYYY-mm-dd\"\n",
        "print(\"\\n[4] TRANSFORM order_date MENJADI FORMAT YYYY-mm-dd\")\n",
        "months_dict = {\n",
        "   \"Jan\":\"01\",\n",
        "   \"Feb\":\"02\",\n",
        "   \"Mar\":\"03\",\n",
        "   \"Apr\":\"04\",\n",
        "   \"May\":\"05\",\n",
        "   \"Jun\":\"06\",\n",
        "   \"Jul\":\"07\",\n",
        "   \"Aug\":\"08\",\n",
        "   \"Sep\":\"09\",\n",
        "   \"Oct\":\"10\",\n",
        "   \"Nov\":\"11\",\n",
        "   \"Dec\":\"12\"\n",
        "}\n",
        "\n",
        "df[\"order_date\"] = pd.to_datetime(df[\"order_date\"].apply(lambda x: str(x)[-4:] + \"-\" + months_dict[str(x)[:3]] + \"-\" + str(x)[4:7]))\n",
        "\n",
        "print(\"    Tipe data:\\n\", df.dtypes)"
      ],
      "execution_count": null,
      "outputs": []
    },
    {
      "cell_type": "code",
      "metadata": {
        "id": "pfQu5OIjvv6-"
      },
      "source": [
        "# 5. Mengatasi data yang hilang di beberapa kolom\n",
        "print(\"\\n[5] HANDLING MISSING VALUE\")\n",
        "\n",
        "# Kolom \"city\" dan \"province\" masih memiliki missing value, nilai yang hilang di kedua kolom ini diisi saja dengan \"unknown\"\n",
        "df[[\"city\", \"province\"]] = df[[\"city\", \"province\"]].fillna(\"unknown\")\n",
        "\n",
        "# Kolom brand juga masih memiliki missing value, Ganti value NaN menjadi \"no_brand\"\n",
        "df[\"brand\"] = df[\"brand\"].fillna(\"no_brand\")\n",
        "\n",
        "# Cek apakah masih terdapat missing value di seluruh kolom \n",
        "print(\"    Info:\\n\", df.info())"
      ],
      "execution_count": null,
      "outputs": []
    },
    {
      "cell_type": "code",
      "metadata": {
        "id": "UNn_T5Q4wBIy"
      },
      "source": [
        "# 6. Membuat kolom baru \"city/province\" dengan menggabungkan kolom \"city\" dan kolom \"province\" dan delete kolom asalnya\n",
        "print(\"\\n[6] MEMBUAT KOLOM BARU city/province\")\n",
        "df[\"city/province\"] = df[\"city\"] + \"/\" + df[\"province\"]\n",
        "\n",
        "# drop kolom \"city\" dan \"province\" karena telah digabungkan\n",
        "df.drop([\"city\", \"province\"], axis=1, inplace=True)\n",
        "\n",
        "# Cetak 5 data teratas\n",
        "print(df.head())"
      ],
      "execution_count": null,
      "outputs": []
    },
    {
      "cell_type": "code",
      "metadata": {
        "id": "KNKQnQm8wIyX"
      },
      "source": [
        "# 7. Membuat hierarchical index yang terdiri dari kolom \"city/province\", \"order_date\", \"customer_id\", \"order_id\", \"product_id\"\n",
        "print(\"\\n[7] MEMBUAT HIERACHICAL INDEX\")\n",
        "df = df.set_index([\"city/province\", \"order_date\", \"customer_id\", \"order_id\", \"product_id\"])\n",
        "\n",
        "# urutkanlah berdasarkan index yang baru\n",
        "df = df.sort_index()\n",
        "\n",
        "# Cetak 5 data teratas\n",
        "print(df.head())"
      ],
      "execution_count": null,
      "outputs": []
    },
    {
      "cell_type": "code",
      "metadata": {
        "id": "53hjAQNLwQHV"
      },
      "source": [
        "# 8. Membuat kolom \"total_price\" yang formula nya perkalian antara kolom \"quantity\" dan kolom \"item_price\"\n",
        "print(\"\\n[8] MEMBUAT KOLOM total_price\")\n",
        "df[\"total_price\"] = df[\"quantity\"] * df[\"item_price\"]\n",
        "\n",
        "# Cetak 5 data teratas\n",
        "print(df.head())"
      ],
      "execution_count": null,
      "outputs": []
    },
    {
      "cell_type": "code",
      "metadata": {
        "id": "ao2XfhBIwTww"
      },
      "source": [
        "# 9. Slice dataset agar hanya terdapat data bulan Januari 2019\n",
        "print(\"\\n[9] SLICE DATASET UNTUK BULAN JANUARI 2019 SAJA\")\n",
        "idx = pd.IndexSlice\n",
        "\n",
        "df_jan2019 = df.loc[idx[:, \"2019-01-01\":\"2019-01-31\"], :]\n",
        "\n",
        "print(\"Dataset akhir:\\n\", df_jan2019)"
      ],
      "execution_count": null,
      "outputs": []
    }
  ]
}