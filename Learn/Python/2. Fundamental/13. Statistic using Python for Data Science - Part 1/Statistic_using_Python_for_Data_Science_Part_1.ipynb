{
  "nbformat": 4,
  "nbformat_minor": 0,
  "metadata": {
    "colab": {
      "name": "Statistic using Python for Data Science - Part 1.ipynb",
      "provenance": []
    },
    "kernelspec": {
      "name": "python3",
      "display_name": "Python 3"
    },
    "language_info": {
      "name": "python"
    }
  },
  "cells": [
    {
      "cell_type": "markdown",
      "metadata": {
        "id": "7_Iu3YJLe3eV"
      },
      "source": [
        "# Load Library"
      ]
    },
    {
      "cell_type": "code",
      "metadata": {
        "id": "41wGQIHadCPa"
      },
      "source": [
        "# memuat numpy sebagai np\n",
        "import numpy as np\n",
        " \n",
        "# memuat pandas sebagai pd\n",
        "import pandas as pd"
      ],
      "execution_count": 1,
      "outputs": []
    },
    {
      "cell_type": "markdown",
      "metadata": {
        "id": "9CBdpL0SfBxM"
      },
      "source": [
        "# Load Dataset"
      ]
    },
    {
      "cell_type": "code",
      "metadata": {
        "id": "ytWbHhqNe8si"
      },
      "source": [
        "# memuat data bernama 'dataset_statistics.csv' dan memasukkan hasilnya ke dalam 'raw_data'\n",
        "raw_data = pd.read_csv(\"https://storage.googleapis.com/dqlab-dataset/dataset_statistic.csv\", sep=';')"
      ],
      "execution_count": 2,
      "outputs": []
    },
    {
      "cell_type": "markdown",
      "metadata": {
        "id": "uKNYKkh6fJrU"
      },
      "source": [
        "# Inspeksi Data"
      ]
    },
    {
      "cell_type": "code",
      "metadata": {
        "colab": {
          "base_uri": "https://localhost:8080/"
        },
        "id": "v2T-an8QfF6Y",
        "outputId": "f39733e2-4b5f-4a10-8875-c3fd56e754c7"
      },
      "source": [
        "print(raw_data)"
      ],
      "execution_count": 3,
      "outputs": [
        {
          "output_type": "stream",
          "text": [
            "    ID Pelanggan     Nama  Jenis Kelamin  ...  Jumlah     Total  Tingkat Kepuasan\n",
            "0              1     Arif              1  ...        4   400000                 2\n",
            "1              2     Dian              2  ...        4  1000000                 2\n",
            "2              3    Dinda              2  ...        3   750000                 3\n",
            "3              4    Fajar              1  ...        2   200000                 3\n",
            "4              5      Ika              2  ...        4  1000000                 2\n",
            "5              6    Ilham              1  ...        4   600000                 3\n",
            "6              7    Indra              1  ...        5   750000                 1\n",
            "7              8  Kartika              2  ...        3   900000                 3\n",
            "8              9  Lestari              2  ...        2   600000                 1\n",
            "9             10      Lia              2  ...        5  1500000                 1\n",
            "10            11    Maria              2  ...        4   400000                 3\n",
            "11            12     Maya              2  ...        5   750000                 3\n",
            "12            13     Mila              2  ...        1   200000                 2\n",
            "13            14    Nurul              2  ...        5  1250000                 1\n",
            "14            15    Retno              2  ...        4   800000                 2\n",
            "15            16     Rini              2  ...        4   600000                 1\n",
            "16            17    Rizki              1  ...        5  1000000                 3\n",
            "17            18     Sari              2  ...        2   500000                 1\n",
            "18            19     Tyas              2  ...        4   400000                 3\n",
            "19            20    Wahyu              1  ...        3   600000                 1\n",
            "\n",
            "[20 rows x 9 columns]\n"
          ],
          "name": "stdout"
        }
      ]
    },
    {
      "cell_type": "code",
      "metadata": {
        "colab": {
          "base_uri": "https://localhost:8080/"
        },
        "id": "jUyFA5DgfLun",
        "outputId": "9e7c4473-bab9-4193-a388-90e7a6c998cf"
      },
      "source": [
        "# Melihat 10 data pada baris pertama\n",
        "print(raw_data.head(10))"
      ],
      "execution_count": 4,
      "outputs": [
        {
          "output_type": "stream",
          "text": [
            "   ID Pelanggan     Nama  Jenis Kelamin  ...  Jumlah     Total  Tingkat Kepuasan\n",
            "0             1     Arif              1  ...        4   400000                 2\n",
            "1             2     Dian              2  ...        4  1000000                 2\n",
            "2             3    Dinda              2  ...        3   750000                 3\n",
            "3             4    Fajar              1  ...        2   200000                 3\n",
            "4             5      Ika              2  ...        4  1000000                 2\n",
            "5             6    Ilham              1  ...        4   600000                 3\n",
            "6             7    Indra              1  ...        5   750000                 1\n",
            "7             8  Kartika              2  ...        3   900000                 3\n",
            "8             9  Lestari              2  ...        2   600000                 1\n",
            "9            10      Lia              2  ...        5  1500000                 1\n",
            "\n",
            "[10 rows x 9 columns]\n"
          ],
          "name": "stdout"
        }
      ]
    },
    {
      "cell_type": "code",
      "metadata": {
        "colab": {
          "base_uri": "https://localhost:8080/"
        },
        "id": "4gKytZqefTW0",
        "outputId": "5a89ebd3-b8b9-4d5c-c06e-56059caa7d98"
      },
      "source": [
        "# Melihat 5 data pada baris terakhir\n",
        "print(raw_data.tail())"
      ],
      "execution_count": 5,
      "outputs": [
        {
          "output_type": "stream",
          "text": [
            "    ID Pelanggan   Nama  Jenis Kelamin  ...  Jumlah     Total  Tingkat Kepuasan\n",
            "15            16   Rini              2  ...        4   600000                 1\n",
            "16            17  Rizki              1  ...        5  1000000                 3\n",
            "17            18   Sari              2  ...        2   500000                 1\n",
            "18            19   Tyas              2  ...        4   400000                 3\n",
            "19            20  Wahyu              1  ...        3   600000                 1\n",
            "\n",
            "[5 rows x 9 columns]\n"
          ],
          "name": "stdout"
        }
      ]
    },
    {
      "cell_type": "markdown",
      "metadata": {
        "id": "IeZQBl5SffxU"
      },
      "source": [
        "# Metode Shape"
      ]
    },
    {
      "cell_type": "code",
      "metadata": {
        "colab": {
          "base_uri": "https://localhost:8080/"
        },
        "id": "zuiic6-efXu-",
        "outputId": "0c2e954f-75a2-4aea-dd0d-a5126259cfac"
      },
      "source": [
        "# Melihat dimensi dari raw_data\n",
        "print(raw_data.shape)"
      ],
      "execution_count": 6,
      "outputs": [
        {
          "output_type": "stream",
          "text": [
            "(20, 9)\n"
          ],
          "name": "stdout"
        }
      ]
    },
    {
      "cell_type": "code",
      "metadata": {
        "colab": {
          "base_uri": "https://localhost:8080/"
        },
        "id": "708nNZbxflnK",
        "outputId": "419524b8-2117-40d0-dc94-4e41405fbf13"
      },
      "source": [
        "# Melihat jumlah data\n",
        "print(raw_data.shape[0])"
      ],
      "execution_count": 7,
      "outputs": [
        {
          "output_type": "stream",
          "text": [
            "20\n"
          ],
          "name": "stdout"
        }
      ]
    },
    {
      "cell_type": "markdown",
      "metadata": {
        "id": "X3Bo6cKRfrtH"
      },
      "source": [
        "# Melihat Kolom Dalam Dataset"
      ]
    },
    {
      "cell_type": "code",
      "metadata": {
        "colab": {
          "base_uri": "https://localhost:8080/"
        },
        "id": "pJWF-GrWfpGG",
        "outputId": "3782252e-9192-4bbe-fe7a-fa96ebfa4d48"
      },
      "source": [
        "print(raw_data.columns)"
      ],
      "execution_count": 8,
      "outputs": [
        {
          "output_type": "stream",
          "text": [
            "Index(['ID Pelanggan', 'Nama', 'Jenis Kelamin', 'Pendapatan', 'Produk',\n",
            "       'Harga', 'Jumlah ', 'Total', 'Tingkat Kepuasan'],\n",
            "      dtype='object')\n"
          ],
          "name": "stdout"
        }
      ]
    },
    {
      "cell_type": "markdown",
      "metadata": {
        "id": "SVszyzzef2kn"
      },
      "source": [
        "# Metode Isna"
      ]
    },
    {
      "cell_type": "code",
      "metadata": {
        "colab": {
          "base_uri": "https://localhost:8080/"
        },
        "id": "emGUWa2qfzvW",
        "outputId": "9c91c615-8bde-461c-bc05-4cf87a2980a8"
      },
      "source": [
        "print(raw_data.isna())"
      ],
      "execution_count": 9,
      "outputs": [
        {
          "output_type": "stream",
          "text": [
            "    ID Pelanggan   Nama  Jenis Kelamin  ...  Jumlah   Total  Tingkat Kepuasan\n",
            "0          False  False          False  ...    False  False             False\n",
            "1          False  False          False  ...    False  False             False\n",
            "2          False  False          False  ...    False  False             False\n",
            "3          False  False          False  ...    False  False             False\n",
            "4          False  False          False  ...    False  False             False\n",
            "5          False  False          False  ...    False  False             False\n",
            "6          False  False          False  ...    False  False             False\n",
            "7          False  False          False  ...    False  False             False\n",
            "8          False  False          False  ...    False  False             False\n",
            "9          False  False          False  ...    False  False             False\n",
            "10         False  False          False  ...    False  False             False\n",
            "11         False  False          False  ...    False  False             False\n",
            "12         False  False          False  ...    False  False             False\n",
            "13         False  False          False  ...    False  False             False\n",
            "14         False  False          False  ...    False  False             False\n",
            "15         False  False          False  ...    False  False             False\n",
            "16         False  False          False  ...    False  False             False\n",
            "17         False  False          False  ...    False  False             False\n",
            "18         False  False          False  ...    False  False             False\n",
            "19         False  False          False  ...    False  False             False\n",
            "\n",
            "[20 rows x 9 columns]\n"
          ],
          "name": "stdout"
        }
      ]
    },
    {
      "cell_type": "code",
      "metadata": {
        "colab": {
          "base_uri": "https://localhost:8080/"
        },
        "id": "mTxOIpBXf83f",
        "outputId": "fe88fb20-46db-4f88-d5b0-d6e7dfda5c18"
      },
      "source": [
        "print(raw_data.isna().sum())"
      ],
      "execution_count": 10,
      "outputs": [
        {
          "output_type": "stream",
          "text": [
            "ID Pelanggan        0\n",
            "Nama                0\n",
            "Jenis Kelamin       0\n",
            "Pendapatan          0\n",
            "Produk              0\n",
            "Harga               0\n",
            "Jumlah              0\n",
            "Total               0\n",
            "Tingkat Kepuasan    0\n",
            "dtype: int64\n"
          ],
          "name": "stdout"
        }
      ]
    },
    {
      "cell_type": "markdown",
      "metadata": {
        "id": "kkrRed9GgCja"
      },
      "source": [
        "# Metode Describe"
      ]
    },
    {
      "cell_type": "code",
      "metadata": {
        "colab": {
          "base_uri": "https://localhost:8080/"
        },
        "id": "yf6jow7zf_vW",
        "outputId": "d5c7b578-564e-4020-a1f4-03ea03e1ebc2"
      },
      "source": [
        "print(raw_data.describe())"
      ],
      "execution_count": 11,
      "outputs": [
        {
          "output_type": "stream",
          "text": [
            "       ID Pelanggan  Jenis Kelamin  ...         Total  Tingkat Kepuasan\n",
            "count      20.00000      20.000000  ...  2.000000e+01         20.000000\n",
            "mean       10.50000       1.700000  ...  7.100000e+05          2.050000\n",
            "std         5.91608       0.470162  ...  3.338768e+05          0.887041\n",
            "min         1.00000       1.000000  ...  2.000000e+05          1.000000\n",
            "25%         5.75000       1.000000  ...  4.750000e+05          1.000000\n",
            "50%        10.50000       2.000000  ...  6.750000e+05          2.000000\n",
            "75%        15.25000       2.000000  ...  9.250000e+05          3.000000\n",
            "max        20.00000       2.000000  ...  1.500000e+06          3.000000\n",
            "\n",
            "[8 rows x 7 columns]\n"
          ],
          "name": "stdout"
        }
      ]
    },
    {
      "cell_type": "code",
      "metadata": {
        "colab": {
          "base_uri": "https://localhost:8080/"
        },
        "id": "Wg5sjRTHgI8A",
        "outputId": "c9aca267-b7f8-4df3-8d41-14d8b65e3412"
      },
      "source": [
        "# Mencari nilai maksimum dari tiap kolom\n",
        "raw_data.max()"
      ],
      "execution_count": 12,
      "outputs": [
        {
          "output_type": "execute_result",
          "data": {
            "text/plain": [
              "ID Pelanggan             20\n",
              "Nama                  Wahyu\n",
              "Jenis Kelamin             2\n",
              "Pendapatan          6450000\n",
              "Produk                    E\n",
              "Harga                300000\n",
              "Jumlah                    5\n",
              "Total               1500000\n",
              "Tingkat Kepuasan          3\n",
              "dtype: object"
            ]
          },
          "metadata": {
            "tags": []
          },
          "execution_count": 12
        }
      ]
    },
    {
      "cell_type": "code",
      "metadata": {
        "colab": {
          "base_uri": "https://localhost:8080/"
        },
        "id": "ImBXh8eQgLPV",
        "outputId": "a90022f6-bfcc-48b9-dcb2-bbf39e009222"
      },
      "source": [
        "# Mencari nilai maksimum dari kolom 'Harga'\n",
        "raw_data['Harga'].max()"
      ],
      "execution_count": 13,
      "outputs": [
        {
          "output_type": "execute_result",
          "data": {
            "text/plain": [
              "300000"
            ]
          },
          "metadata": {
            "tags": []
          },
          "execution_count": 13
        }
      ]
    },
    {
      "cell_type": "code",
      "metadata": {
        "colab": {
          "base_uri": "https://localhost:8080/"
        },
        "id": "rrB5RtvrgMmo",
        "outputId": "9693bd1b-4045-43ab-da09-beeab8c059ba"
      },
      "source": [
        "# Mencari nilai minimum dari kolom 'Harga'\n",
        "raw_data['Harga'].min()"
      ],
      "execution_count": 14,
      "outputs": [
        {
          "output_type": "execute_result",
          "data": {
            "text/plain": [
              "100000"
            ]
          },
          "metadata": {
            "tags": []
          },
          "execution_count": 14
        }
      ]
    },
    {
      "cell_type": "markdown",
      "metadata": {
        "id": "etJCKo4_gTl9"
      },
      "source": [
        "# Metode Sum"
      ]
    },
    {
      "cell_type": "code",
      "metadata": {
        "colab": {
          "base_uri": "https://localhost:8080/"
        },
        "id": "qyFICafRgOdQ",
        "outputId": "a2103302-54b8-4561-a107-613308040948"
      },
      "source": [
        "print(raw_data.sum())"
      ],
      "execution_count": 15,
      "outputs": [
        {
          "output_type": "stream",
          "text": [
            "ID Pelanggan                                                      210\n",
            "Nama                ArifDianDindaFajarIkaIlhamIndraKartikaLestariL...\n",
            "Jenis Kelamin                                                      34\n",
            "Pendapatan                                                   23200000\n",
            "Produk                                           ADDADBBEEEABCDCBCDAC\n",
            "Harga                                                         3950000\n",
            "Jumlah                                                             73\n",
            "Total                                                        14200000\n",
            "Tingkat Kepuasan                                                   41\n",
            "dtype: object\n"
          ],
          "name": "stdout"
        }
      ]
    },
    {
      "cell_type": "code",
      "metadata": {
        "colab": {
          "base_uri": "https://localhost:8080/"
        },
        "id": "iMXnQrvSgVoj",
        "outputId": "b3dd2ba6-9ad9-49dc-c668-7ac6e70330db"
      },
      "source": [
        "# menghitung jumlah dari semua kolom bertipe data numerik saja\n",
        "raw_data.sum(numeric_only=True)"
      ],
      "execution_count": 16,
      "outputs": [
        {
          "output_type": "execute_result",
          "data": {
            "text/plain": [
              "ID Pelanggan             210\n",
              "Jenis Kelamin             34\n",
              "Pendapatan          23200000\n",
              "Harga                3950000\n",
              "Jumlah                    73\n",
              "Total               14200000\n",
              "Tingkat Kepuasan          41\n",
              "dtype: int64"
            ]
          },
          "metadata": {
            "tags": []
          },
          "execution_count": 16
        }
      ]
    },
    {
      "cell_type": "code",
      "metadata": {
        "colab": {
          "base_uri": "https://localhost:8080/"
        },
        "id": "O6-GE0XBgYEL",
        "outputId": "0aa43c4b-516a-496e-8a5e-c7e27bfdfea5"
      },
      "source": [
        "# menghitung jumlah dari kolom 'Harga' dan 'Pendapatan'\n",
        "raw_data[['Harga', 'Pendapatan']].sum()"
      ],
      "execution_count": 17,
      "outputs": [
        {
          "output_type": "execute_result",
          "data": {
            "text/plain": [
              "Harga          3950000\n",
              "Pendapatan    23200000\n",
              "dtype: int64"
            ]
          },
          "metadata": {
            "tags": []
          },
          "execution_count": 17
        }
      ]
    },
    {
      "cell_type": "markdown",
      "metadata": {
        "id": "S2EjAGkjgiDX"
      },
      "source": [
        "# Manipulasi Dataframe - Memilih Kolom dan Baris"
      ]
    },
    {
      "cell_type": "code",
      "metadata": {
        "colab": {
          "base_uri": "https://localhost:8080/"
        },
        "id": "xSwrEIKtgcxO",
        "outputId": "0a91c0d0-a503-495f-a8d5-3564189306d6"
      },
      "source": [
        "# Memilih kolom pendapatan saja\n",
        "print(raw_data['Pendapatan'])"
      ],
      "execution_count": 18,
      "outputs": [
        {
          "output_type": "stream",
          "text": [
            "0      600000\n",
            "1     1200000\n",
            "2      950000\n",
            "3      400000\n",
            "4     1200000\n",
            "5      800000\n",
            "6      950000\n",
            "7     1100000\n",
            "8      800000\n",
            "9     1700000\n",
            "10     600000\n",
            "11     950000\n",
            "12     400000\n",
            "13    6450000\n",
            "14    1000000\n",
            "15     800000\n",
            "16    1200000\n",
            "17     700000\n",
            "18     600000\n",
            "19     800000\n",
            "Name: Pendapatan, dtype: int64\n"
          ],
          "name": "stdout"
        }
      ]
    },
    {
      "cell_type": "code",
      "metadata": {
        "colab": {
          "base_uri": "https://localhost:8080/"
        },
        "id": "jdl3GAF5gqFA",
        "outputId": "4a4a40a2-f673-4777-b1fe-8af0aefd8c14"
      },
      "source": [
        "# Memilih kolom 'Jenis Kelamin' dan 'Pendapatan'\n",
        "print(raw_data[['Jenis Kelamin', 'Pendapatan']])"
      ],
      "execution_count": 19,
      "outputs": [
        {
          "output_type": "stream",
          "text": [
            "    Jenis Kelamin  Pendapatan\n",
            "0               1      600000\n",
            "1               2     1200000\n",
            "2               2      950000\n",
            "3               1      400000\n",
            "4               2     1200000\n",
            "5               1      800000\n",
            "6               1      950000\n",
            "7               2     1100000\n",
            "8               2      800000\n",
            "9               2     1700000\n",
            "10              2      600000\n",
            "11              2      950000\n",
            "12              2      400000\n",
            "13              2     6450000\n",
            "14              2     1000000\n",
            "15              2      800000\n",
            "16              1     1200000\n",
            "17              2      700000\n",
            "18              2      600000\n",
            "19              1      800000\n"
          ],
          "name": "stdout"
        }
      ]
    },
    {
      "cell_type": "markdown",
      "metadata": {
        "id": "o-JXjOHpg3n0"
      },
      "source": [
        "# Metode Loc"
      ]
    },
    {
      "cell_type": "code",
      "metadata": {
        "colab": {
          "base_uri": "https://localhost:8080/"
        },
        "id": "iUHoi3eugy2C",
        "outputId": "389bf722-d8c6-4e08-a30b-7bbee77c4f1c"
      },
      "source": [
        "# mengambil data dari baris ke-0 sampai baris ke-(10-1) atau baris ke-9\n",
        "print(raw_data[:10])"
      ],
      "execution_count": 20,
      "outputs": [
        {
          "output_type": "stream",
          "text": [
            "   ID Pelanggan     Nama  Jenis Kelamin  ...  Jumlah     Total  Tingkat Kepuasan\n",
            "0             1     Arif              1  ...        4   400000                 2\n",
            "1             2     Dian              2  ...        4  1000000                 2\n",
            "2             3    Dinda              2  ...        3   750000                 3\n",
            "3             4    Fajar              1  ...        2   200000                 3\n",
            "4             5      Ika              2  ...        4  1000000                 2\n",
            "5             6    Ilham              1  ...        4   600000                 3\n",
            "6             7    Indra              1  ...        5   750000                 1\n",
            "7             8  Kartika              2  ...        3   900000                 3\n",
            "8             9  Lestari              2  ...        2   600000                 1\n",
            "9            10      Lia              2  ...        5  1500000                 1\n",
            "\n",
            "[10 rows x 9 columns]\n"
          ],
          "name": "stdout"
        }
      ]
    },
    {
      "cell_type": "code",
      "metadata": {
        "colab": {
          "base_uri": "https://localhost:8080/"
        },
        "id": "9sHAR_tzg-ox",
        "outputId": "a4e9b51f-2d4e-4c04-b258-9709de81e34e"
      },
      "source": [
        "# mengambil data dari baris ke-3 sampai baris ke-(5-1) atau baris ke-4\n",
        "print(raw_data[3:5])"
      ],
      "execution_count": 21,
      "outputs": [
        {
          "output_type": "stream",
          "text": [
            "   ID Pelanggan   Nama  Jenis Kelamin  ...  Jumlah     Total  Tingkat Kepuasan\n",
            "3             4  Fajar              1  ...        2   200000                 3\n",
            "4             5    Ika              2  ...        4  1000000                 2\n",
            "\n",
            "[2 rows x 9 columns]\n"
          ],
          "name": "stdout"
        }
      ]
    },
    {
      "cell_type": "code",
      "metadata": {
        "colab": {
          "base_uri": "https://localhost:8080/"
        },
        "id": "mbvBIw53hAVO",
        "outputId": "d67a85b7-e4d3-4118-9585-5e2114ecf3c4"
      },
      "source": [
        "# mengambil data pada baris ke-1, ke-3 dan ke-10\n",
        "print(raw_data.loc[[1,3,10]])"
      ],
      "execution_count": 22,
      "outputs": [
        {
          "output_type": "stream",
          "text": [
            "    ID Pelanggan   Nama  Jenis Kelamin  ...  Jumlah     Total  Tingkat Kepuasan\n",
            "1              2   Dian              2  ...        4  1000000                 2\n",
            "3              4  Fajar              1  ...        2   200000                 3\n",
            "10            11  Maria              2  ...        4   400000                 3\n",
            "\n",
            "[3 rows x 9 columns]\n"
          ],
          "name": "stdout"
        }
      ]
    },
    {
      "cell_type": "code",
      "metadata": {
        "colab": {
          "base_uri": "https://localhost:8080/"
        },
        "id": "0xF-IccthCBw",
        "outputId": "9f7d4398-ee1a-421e-d4c4-07fcac742518"
      },
      "source": [
        "# Mengambil kolom 'Jenis Kelamin' dan 'Pendapatan' dan ambil baris ke-1 sampai ke-9\n",
        "print(raw_data[['Jenis Kelamin', 'Pendapatan']][1:10])"
      ],
      "execution_count": 23,
      "outputs": [
        {
          "output_type": "stream",
          "text": [
            "   Jenis Kelamin  Pendapatan\n",
            "1              2     1200000\n",
            "2              2      950000\n",
            "3              1      400000\n",
            "4              2     1200000\n",
            "5              1      800000\n",
            "6              1      950000\n",
            "7              2     1100000\n",
            "8              2      800000\n",
            "9              2     1700000\n"
          ],
          "name": "stdout"
        }
      ]
    },
    {
      "cell_type": "code",
      "metadata": {
        "colab": {
          "base_uri": "https://localhost:8080/"
        },
        "id": "pOlq0bw-hR7j",
        "outputId": "bc76c502-6af9-4b37-aa23-af815bba0b80"
      },
      "source": [
        "# Mengambil kolom 'Harga' dan 'Tingkat Kepuasan' dan ambil baris ke-1, ke-10 dan ke-15\n",
        "print(raw_data[['Harga', 'Tingkat Kepuasan']].loc[[1,10,15]])"
      ],
      "execution_count": 24,
      "outputs": [
        {
          "output_type": "stream",
          "text": [
            "     Harga  Tingkat Kepuasan\n",
            "1   250000                 2\n",
            "10  100000                 3\n",
            "15  150000                 1\n"
          ],
          "name": "stdout"
        }
      ]
    },
    {
      "cell_type": "markdown",
      "metadata": {
        "id": "twKqU-zKiIc-"
      },
      "source": [
        "# Rata-rata (Mean)"
      ]
    },
    {
      "cell_type": "code",
      "metadata": {
        "id": "FCBTvN7ihUJC"
      },
      "source": [
        "# mengambil hanya data untuk produk 'A'\n",
        "produk_A = raw_data[raw_data['Produk'] == 'A']"
      ],
      "execution_count": 25,
      "outputs": []
    },
    {
      "cell_type": "code",
      "metadata": {
        "colab": {
          "base_uri": "https://localhost:8080/"
        },
        "id": "7ChLU0a8iQOY",
        "outputId": "99aabe98-f523-44a3-8fcf-ae1a90a04409"
      },
      "source": [
        "# menghitung rerata pendapatan menggunakan method .mean pada objek pandas DataFrame\n",
        "print(produk_A['Pendapatan'].mean())"
      ],
      "execution_count": 26,
      "outputs": [
        {
          "output_type": "stream",
          "text": [
            "550000.0\n"
          ],
          "name": "stdout"
        }
      ]
    },
    {
      "cell_type": "code",
      "metadata": {
        "colab": {
          "base_uri": "https://localhost:8080/"
        },
        "id": "hthurSB2iRob",
        "outputId": "a5f8b608-3670-451b-a749-86b4563354a3"
      },
      "source": [
        "# menghitung rerata pendapatan menggunakan method .mean pada objek pandas DataFrame dengan numpy\n",
        "print(np.mean(produk_A['Pendapatan']))"
      ],
      "execution_count": 27,
      "outputs": [
        {
          "output_type": "stream",
          "text": [
            "550000.0\n"
          ],
          "name": "stdout"
        }
      ]
    },
    {
      "cell_type": "markdown",
      "metadata": {
        "id": "anZFAWFLiaOH"
      },
      "source": [
        "# Median"
      ]
    },
    {
      "cell_type": "code",
      "metadata": {
        "colab": {
          "base_uri": "https://localhost:8080/"
        },
        "id": "o6BqE1aaiXCg",
        "outputId": "a1bd856f-b77e-4f7e-839c-a4f3d6faeecf"
      },
      "source": [
        "print(raw_data)"
      ],
      "execution_count": 28,
      "outputs": [
        {
          "output_type": "stream",
          "text": [
            "    ID Pelanggan     Nama  Jenis Kelamin  ...  Jumlah     Total  Tingkat Kepuasan\n",
            "0              1     Arif              1  ...        4   400000                 2\n",
            "1              2     Dian              2  ...        4  1000000                 2\n",
            "2              3    Dinda              2  ...        3   750000                 3\n",
            "3              4    Fajar              1  ...        2   200000                 3\n",
            "4              5      Ika              2  ...        4  1000000                 2\n",
            "5              6    Ilham              1  ...        4   600000                 3\n",
            "6              7    Indra              1  ...        5   750000                 1\n",
            "7              8  Kartika              2  ...        3   900000                 3\n",
            "8              9  Lestari              2  ...        2   600000                 1\n",
            "9             10      Lia              2  ...        5  1500000                 1\n",
            "10            11    Maria              2  ...        4   400000                 3\n",
            "11            12     Maya              2  ...        5   750000                 3\n",
            "12            13     Mila              2  ...        1   200000                 2\n",
            "13            14    Nurul              2  ...        5  1250000                 1\n",
            "14            15    Retno              2  ...        4   800000                 2\n",
            "15            16     Rini              2  ...        4   600000                 1\n",
            "16            17    Rizki              1  ...        5  1000000                 3\n",
            "17            18     Sari              2  ...        2   500000                 1\n",
            "18            19     Tyas              2  ...        4   400000                 3\n",
            "19            20    Wahyu              1  ...        3   600000                 1\n",
            "\n",
            "[20 rows x 9 columns]\n"
          ],
          "name": "stdout"
        }
      ]
    },
    {
      "cell_type": "code",
      "metadata": {
        "colab": {
          "base_uri": "https://localhost:8080/"
        },
        "id": "gpuDxrJ_ifMj",
        "outputId": "ecd585e0-c347-4303-96a4-fd2a17640db4"
      },
      "source": [
        "# Hitung median dari pendapatan menggunakan pandas\n",
        "print(produk_A['Pendapatan'].median())"
      ],
      "execution_count": 29,
      "outputs": [
        {
          "output_type": "stream",
          "text": [
            "600000.0\n"
          ],
          "name": "stdout"
        }
      ]
    },
    {
      "cell_type": "code",
      "metadata": {
        "colab": {
          "base_uri": "https://localhost:8080/"
        },
        "id": "PxS3yQzqimzd",
        "outputId": "834a961c-975b-40f3-ac60-36bf06cdf562"
      },
      "source": [
        "# Hitung median dari pendapatan menggunakan numpy\n",
        "print(np.median(produk_A['Pendapatan']))"
      ],
      "execution_count": 30,
      "outputs": [
        {
          "output_type": "stream",
          "text": [
            "600000.0\n"
          ],
          "name": "stdout"
        }
      ]
    },
    {
      "cell_type": "markdown",
      "metadata": {
        "id": "FwkDeOoFi_gx"
      },
      "source": [
        "# Modus"
      ]
    },
    {
      "cell_type": "code",
      "metadata": {
        "colab": {
          "base_uri": "https://localhost:8080/"
        },
        "id": "r0_ib4uyisR2",
        "outputId": "e371cc4b-c35d-4487-fb0a-5e54faca587e"
      },
      "source": [
        "# Melihat jumlah dari masing-masing produk\n",
        "print(raw_data['Produk'].value_counts()) "
      ],
      "execution_count": 31,
      "outputs": [
        {
          "output_type": "stream",
          "text": [
            "D    5\n",
            "A    4\n",
            "B    4\n",
            "C    4\n",
            "E    3\n",
            "Name: Produk, dtype: int64\n"
          ],
          "name": "stdout"
        }
      ]
    },
    {
      "cell_type": "markdown",
      "metadata": {
        "id": "SwTGeDlXjE8n"
      },
      "source": [
        "# Kuantil"
      ]
    },
    {
      "cell_type": "code",
      "metadata": {
        "colab": {
          "base_uri": "https://localhost:8080/"
        },
        "id": "RkY3TFtzjArv",
        "outputId": "7e178c5d-c703-4f5d-97fa-e2356fdd8f3d"
      },
      "source": [
        "# mencari median atau 50% dari data menggunakan pandas\n",
        "print(raw_data['Pendapatan'].quantile(q = 0.5))"
      ],
      "execution_count": 32,
      "outputs": [
        {
          "output_type": "stream",
          "text": [
            "875000.0\n"
          ],
          "name": "stdout"
        }
      ]
    },
    {
      "cell_type": "code",
      "metadata": {
        "colab": {
          "base_uri": "https://localhost:8080/"
        },
        "id": "2Mt0BYIyjVq9",
        "outputId": "218b6e69-bbcf-491d-9d06-5799bd10a43c"
      },
      "source": [
        "# mencari median atau 50% dari data menggunakan pandas\n",
        "print(np.quantile(raw_data['Pendapatan'], q=0.5))"
      ],
      "execution_count": 33,
      "outputs": [
        {
          "output_type": "stream",
          "text": [
            "875000.0\n"
          ],
          "name": "stdout"
        }
      ]
    },
    {
      "cell_type": "markdown",
      "metadata": {
        "id": "5zWMlqG2jZdf"
      },
      "source": [
        "# Agregasi Data dengan method .agg()"
      ]
    },
    {
      "cell_type": "code",
      "metadata": {
        "colab": {
          "base_uri": "https://localhost:8080/"
        },
        "id": "q6lO5jlLjXFk",
        "outputId": "bd856b4f-5977-4960-e43c-cb5b7cde2b28"
      },
      "source": [
        "# Menghitung rerata dan median 'Pendapatan' dan 'Harga'\n",
        "print(raw_data[['Pendapatan', 'Harga']].agg([np.mean, np.median]))"
      ],
      "execution_count": 34,
      "outputs": [
        {
          "output_type": "stream",
          "text": [
            "        Pendapatan     Harga\n",
            "mean     1160000.0  197500.0\n",
            "median    875000.0  200000.0\n"
          ],
          "name": "stdout"
        }
      ]
    },
    {
      "cell_type": "code",
      "metadata": {
        "colab": {
          "base_uri": "https://localhost:8080/"
        },
        "id": "ptlaq5fdjrsx",
        "outputId": "41cf5b4d-4e5e-42c0-b6c1-4e2e20345b21"
      },
      "source": [
        "# Menghitung mean dan median Pendapatan dan Harga dari tiap produk\n",
        "print(raw_data[['Pendapatan', 'Harga', 'Produk']].groupby('Produk').agg([np.mean, np.median]))"
      ],
      "execution_count": 35,
      "outputs": [
        {
          "output_type": "stream",
          "text": [
            "       Pendapatan            Harga        \n",
            "             mean   median    mean  median\n",
            "Produk                                    \n",
            "A          550000   600000  100000  100000\n",
            "B          875000   875000  150000  150000\n",
            "C          850000   900000  200000  200000\n",
            "D         2100000  1200000  250000  250000\n",
            "E         1200000  1100000  300000  300000\n"
          ],
          "name": "stdout"
        }
      ]
    },
    {
      "cell_type": "markdown",
      "metadata": {
        "id": "ytiv1yPzkTnI"
      },
      "source": [
        "# Proporsi Kategori"
      ]
    },
    {
      "cell_type": "code",
      "metadata": {
        "colab": {
          "base_uri": "https://localhost:8080/"
        },
        "id": "ANOf87bQj-qP",
        "outputId": "aa3b246e-0296-4741-a308-ff2628038c8f"
      },
      "source": [
        "# Mencari proporsi dari setiap produk\n",
        "print(raw_data['Produk'].value_counts()/raw_data.shape[0])"
      ],
      "execution_count": 36,
      "outputs": [
        {
          "output_type": "stream",
          "text": [
            "D    0.25\n",
            "A    0.20\n",
            "B    0.20\n",
            "C    0.20\n",
            "E    0.15\n",
            "Name: Produk, dtype: float64\n"
          ],
          "name": "stdout"
        }
      ]
    },
    {
      "cell_type": "markdown",
      "metadata": {
        "id": "371uOBR4kl0y"
      },
      "source": [
        "# Ukuran Sebaran pada Data Interval dan Rasio"
      ]
    },
    {
      "cell_type": "code",
      "metadata": {
        "colab": {
          "base_uri": "https://localhost:8080/"
        },
        "id": "0dNu-pvPkf4r",
        "outputId": "3f5fc868-7082-45a7-9d60-4c9bcb6c8ed5"
      },
      "source": [
        "# Cari nilai rentang dari kolom 'Pendapatan'\n",
        "print(raw_data['Pendapatan'].max() - raw_data['Pendapatan'].min())"
      ],
      "execution_count": 37,
      "outputs": [
        {
          "output_type": "stream",
          "text": [
            "6050000\n"
          ],
          "name": "stdout"
        }
      ]
    },
    {
      "cell_type": "markdown",
      "metadata": {
        "id": "vouIQ6nIk2WR"
      },
      "source": [
        "# Variansi"
      ]
    },
    {
      "cell_type": "code",
      "metadata": {
        "colab": {
          "base_uri": "https://localhost:8080/"
        },
        "id": "-N71tHk5kyKz",
        "outputId": "e80fd667-7e74-465c-dddd-dc76fd6668cd"
      },
      "source": [
        "# menghitung variansi umur menggunakan method .var() dari pandas\n",
        "print(raw_data['Pendapatan'].var())"
      ],
      "execution_count": 38,
      "outputs": [
        {
          "output_type": "stream",
          "text": [
            "1645684210526.3157\n"
          ],
          "name": "stdout"
        }
      ]
    },
    {
      "cell_type": "code",
      "metadata": {
        "colab": {
          "base_uri": "https://localhost:8080/"
        },
        "id": "wYwMkn1vlDY2",
        "outputId": "000c082e-a19f-4a3b-b6dc-ac3a7dc2bd55"
      },
      "source": [
        "# menghitung variansi umur menggunakan method .var() dari numpy\n",
        "print(np.var(raw_data['Pendapatan']))"
      ],
      "execution_count": 39,
      "outputs": [
        {
          "output_type": "stream",
          "text": [
            "1563400000000.0\n"
          ],
          "name": "stdout"
        }
      ]
    },
    {
      "cell_type": "code",
      "metadata": {
        "colab": {
          "base_uri": "https://localhost:8080/"
        },
        "id": "XNpRvhH2lJAP",
        "outputId": "08de3681-c983-4016-f081-2508e4f911f4"
      },
      "source": [
        "# mengatur variansi populasi dengan method `.var()` dari pandas\n",
        "print (raw_data['Pendapatan'].var(ddof=0))"
      ],
      "execution_count": 40,
      "outputs": [
        {
          "output_type": "stream",
          "text": [
            "1563400000000.0\n"
          ],
          "name": "stdout"
        }
      ]
    },
    {
      "cell_type": "markdown",
      "metadata": {
        "id": "DEbBAiINlUWl"
      },
      "source": [
        "# Deviasi Baku (Standard Deviation)"
      ]
    },
    {
      "cell_type": "code",
      "metadata": {
        "colab": {
          "base_uri": "https://localhost:8080/"
        },
        "id": "UYmbyJa7lLv_",
        "outputId": "a4ea9e01-a97b-4816-bd4b-6d4f028e39de"
      },
      "source": [
        "# menghitung deviasi baku sampel pendapatan menggunakan method std() dari pandas\n",
        "print(raw_data['Pendapatan'].std())"
      ],
      "execution_count": 41,
      "outputs": [
        {
          "output_type": "stream",
          "text": [
            "1282842.2391417876\n"
          ],
          "name": "stdout"
        }
      ]
    },
    {
      "cell_type": "code",
      "metadata": {
        "colab": {
          "base_uri": "https://localhost:8080/"
        },
        "id": "HkOjimytlct5",
        "outputId": "1edac5b6-e3aa-423d-a08f-577c8887b323"
      },
      "source": [
        "# menghitung deviasi baku sampel pendapatan menggunakan method std() dari numpy\n",
        "print(np.std(raw_data['Pendapatan'], ddof = 1))"
      ],
      "execution_count": 42,
      "outputs": [
        {
          "output_type": "stream",
          "text": [
            "1282842.2391417876\n"
          ],
          "name": "stdout"
        }
      ]
    },
    {
      "cell_type": "markdown",
      "metadata": {
        "id": "UJgNZwrlmNmp"
      },
      "source": [
        "# Menghitung Korelasi"
      ]
    },
    {
      "cell_type": "code",
      "metadata": {
        "colab": {
          "base_uri": "https://localhost:8080/"
        },
        "id": "hQ4F4Za6lfEi",
        "outputId": "9b949a5a-389f-485a-f72c-cd2e10aee3bd"
      },
      "source": [
        "# Menghitung korelasi dari setiap pasang variabel pada raw_data (default korelasi pearson)\n",
        "print(raw_data.corr())"
      ],
      "execution_count": 43,
      "outputs": [
        {
          "output_type": "stream",
          "text": [
            "                  ID Pelanggan  Jenis Kelamin  ...     Total  Tingkat Kepuasan\n",
            "ID Pelanggan          1.000000       0.151375  ... -0.039968         -0.245717\n",
            "Jenis Kelamin         0.151375       1.000000  ...  0.238051         -0.088339\n",
            "Pendapatan            0.110958       0.192849  ...  0.592044         -0.312663\n",
            "Harga                -0.028707       0.457555  ...  0.645455         -0.380798\n",
            "Jumlah                0.011289      -0.104168  ...  0.636097          0.017568\n",
            "Total                -0.039968       0.238051  ...  1.000000         -0.268345\n",
            "Tingkat Kepuasan     -0.245717      -0.088339  ... -0.268345          1.000000\n",
            "\n",
            "[7 rows x 7 columns]\n"
          ],
          "name": "stdout"
        }
      ]
    },
    {
      "cell_type": "code",
      "metadata": {
        "colab": {
          "base_uri": "https://localhost:8080/"
        },
        "id": "rrGNA-EVmVMC",
        "outputId": "8b1fdaa6-9252-448d-9a0e-d7c6833c8bb0"
      },
      "source": [
        "# Mencari korelasi 'kendall' untuk tiap pasang variabel\n",
        "print(raw_data.corr(method='kendall'))"
      ],
      "execution_count": 44,
      "outputs": [
        {
          "output_type": "stream",
          "text": [
            "                  ID Pelanggan  Jenis Kelamin  ...     Total  Tingkat Kepuasan\n",
            "ID Pelanggan          1.000000       0.126650  ... -0.065998         -0.183817\n",
            "Jenis Kelamin         0.126650       1.000000  ...  0.190245         -0.085796\n",
            "Pendapatan           -0.054998       0.190245  ...  0.988506         -0.165588\n",
            "Harga                -0.005753       0.415339  ...  0.535078         -0.325659\n",
            "Jumlah                0.024016      -0.090299  ...  0.501925         -0.028923\n",
            "Total                -0.065998       0.190245  ...  1.000000         -0.165588\n",
            "Tingkat Kepuasan     -0.183817      -0.085796  ... -0.165588          1.000000\n",
            "\n",
            "[7 rows x 7 columns]\n"
          ],
          "name": "stdout"
        }
      ]
    },
    {
      "cell_type": "code",
      "metadata": {
        "colab": {
          "base_uri": "https://localhost:8080/"
        },
        "id": "KdIPEnY8maBT",
        "outputId": "b5f0a79e-948c-45e4-ff05-d0eab124baee"
      },
      "source": [
        "# Mencari korelasi 'spearman' untuk tiap pasang variabel\n",
        "print(raw_data.corr(method='spearman'))"
      ],
      "execution_count": 45,
      "outputs": [
        {
          "output_type": "stream",
          "text": [
            "                  ID Pelanggan  Jenis Kelamin  ...     Total  Tingkat Kepuasan\n",
            "ID Pelanggan          1.000000       0.151375  ... -0.069779         -0.238890\n",
            "Jenis Kelamin         0.151375       1.000000  ...  0.219508         -0.090784\n",
            "Pendapatan           -0.063711       0.219508  ...  0.998470         -0.192463\n",
            "Harga                -0.039149       0.463635  ...  0.646194         -0.378933\n",
            "Jumlah                0.046356      -0.098864  ...  0.607110         -0.023874\n",
            "Total                -0.069779       0.219508  ...  1.000000         -0.192463\n",
            "Tingkat Kepuasan     -0.238890      -0.090784  ... -0.192463          1.000000\n",
            "\n",
            "[7 rows x 7 columns]\n"
          ],
          "name": "stdout"
        }
      ]
    }
  ]
}