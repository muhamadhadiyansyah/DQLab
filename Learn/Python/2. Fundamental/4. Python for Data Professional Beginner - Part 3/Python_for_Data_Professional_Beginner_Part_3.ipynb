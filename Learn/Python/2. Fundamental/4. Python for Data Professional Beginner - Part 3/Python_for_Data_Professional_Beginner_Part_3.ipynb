{
  "nbformat": 4,
  "nbformat_minor": 0,
  "metadata": {
    "colab": {
      "name": "Python for Data Professional Beginner - Part 3.ipynb",
      "provenance": [],
      "collapsed_sections": []
    },
    "kernelspec": {
      "name": "python3",
      "display_name": "Python 3"
    },
    "language_info": {
      "name": "python"
    }
  },
  "cells": [
    {
      "cell_type": "markdown",
      "metadata": {
        "id": "9q5hPUUaMXis"
      },
      "source": [
        "# Class dan Objek dalam Python - Part 1"
      ]
    },
    {
      "cell_type": "code",
      "metadata": {
        "id": "jSUQTN5RMVbf"
      },
      "source": [
        "class Karyawan:\n",
        "    pass"
      ],
      "execution_count": 1,
      "outputs": []
    },
    {
      "cell_type": "code",
      "metadata": {
        "id": "GJ2G15ooNcab"
      },
      "source": [
        "aksara = Karyawan()\n",
        "senja = Karyawan()"
      ],
      "execution_count": 2,
      "outputs": []
    },
    {
      "cell_type": "markdown",
      "metadata": {
        "id": "UL3LpTQCN2jq"
      },
      "source": [
        "# Class dan Objek dalam Python - Part 3"
      ]
    },
    {
      "cell_type": "code",
      "metadata": {
        "id": "5GNXXGBvN3EM"
      },
      "source": [
        "class Karyawan:\n",
        "    nama_perusahaan = 'ABC'\n",
        "aksara = Karyawan()\n",
        "senja = Karyawan()"
      ],
      "execution_count": 3,
      "outputs": []
    },
    {
      "cell_type": "code",
      "metadata": {
        "colab": {
          "base_uri": "https://localhost:8080/"
        },
        "id": "1lrSe09iOGQT",
        "outputId": "d924b9c8-43e1-4752-b682-49b42d7ba8ca"
      },
      "source": [
        "# Akses class attribute\n",
        "print(aksara.__class__.nama_perusahaan)"
      ],
      "execution_count": 4,
      "outputs": [
        {
          "output_type": "stream",
          "text": [
            "ABC\n"
          ],
          "name": "stdout"
        }
      ]
    },
    {
      "cell_type": "code",
      "metadata": {
        "colab": {
          "base_uri": "https://localhost:8080/"
        },
        "id": "tkCmMLt6OQtF",
        "outputId": "0dce0729-dd6f-44c2-b617-5562f696b2c7"
      },
      "source": [
        "print(senja.__class__.nama_perusahaan)"
      ],
      "execution_count": 5,
      "outputs": [
        {
          "output_type": "stream",
          "text": [
            "ABC\n"
          ],
          "name": "stdout"
        }
      ]
    },
    {
      "cell_type": "code",
      "metadata": {
        "colab": {
          "base_uri": "https://localhost:8080/"
        },
        "id": "2EJBlJRpOUlY",
        "outputId": "e06608e7-5d33-4dc2-9a46-907bf785ee6e"
      },
      "source": [
        "class Karyawan:\n",
        "    nama_perusahaan = 'ABC'\n",
        "aksara = Karyawan()\n",
        "senja = Karyawan()\n",
        "aksara.__class__.nama_perusahaan = 'DEF'\n",
        "print(aksara.__class__.nama_perusahaan)"
      ],
      "execution_count": 6,
      "outputs": [
        {
          "output_type": "stream",
          "text": [
            "DEF\n"
          ],
          "name": "stdout"
        }
      ]
    },
    {
      "cell_type": "code",
      "metadata": {
        "colab": {
          "base_uri": "https://localhost:8080/"
        },
        "id": "EqgfQgWDOsRO",
        "outputId": "8bf0371f-8da5-493d-c501-0df50e7ce514"
      },
      "source": [
        "# Definisikan class Karyawan\n",
        "class Karyawan:\n",
        "    nama_perusahaan = 'ABC'\n",
        "\n",
        "# Inisiasi object yang dinyatakan dalam variabel aksara dan senja\n",
        "aksara = Karyawan()\n",
        "senja = Karyawan()\n",
        "\n",
        "# Cetak nama perusahaan melalui penggunaan keyword __class__\n",
        "# pada class attribute nama_perusahaan\n",
        "print(aksara.__class__.nama_perusahaan)\n",
        "\n",
        "# Ubah nama_perusahaan menjadi 'DEF'\n",
        "aksara.__class__.nama_perusahaan = 'DEF'\n",
        "\n",
        "# Cetak nama_perusahaan objek aksara dan senja\n",
        "print(aksara.__class__.nama_perusahaan)\n",
        "print(senja.__class__.nama_perusahaan)"
      ],
      "execution_count": 7,
      "outputs": [
        {
          "output_type": "stream",
          "text": [
            "ABC\n",
            "DEF\n",
            "DEF\n"
          ],
          "name": "stdout"
        }
      ]
    },
    {
      "cell_type": "markdown",
      "metadata": {
        "id": "AQf2kTt5O5RP"
      },
      "source": [
        "# Class dan Objek dalam Python - Part 4"
      ]
    },
    {
      "cell_type": "code",
      "metadata": {
        "colab": {
          "base_uri": "https://localhost:8080/"
        },
        "id": "D8Oou6NnO2OB",
        "outputId": "a07630fb-12d4-47c1-8fff-045af3aa0992"
      },
      "source": [
        "class Karyawan:\n",
        "    nama_perusahaan = 'ABC'\n",
        "    def __init__(self, nama, usia, pendapatan):\n",
        "        self.nama = nama\n",
        "        self.usia = usia\n",
        "        self.pendapatan = pendapatan\n",
        "aksara = Karyawan('Aksara', 25, 8500000)\n",
        "senja = Karyawan('Senja', 28, 12500000)\n",
        "print(aksara.nama + ', Usia ' + str(aksara.usia) + ', Pendapatan ' + str(aksara.pendapatan))"
      ],
      "execution_count": 8,
      "outputs": [
        {
          "output_type": "stream",
          "text": [
            "Aksara, Usia 25, Pendapatan 8500000\n"
          ],
          "name": "stdout"
        }
      ]
    },
    {
      "cell_type": "code",
      "metadata": {
        "colab": {
          "base_uri": "https://localhost:8080/"
        },
        "id": "XJciyPKFPpWd",
        "outputId": "273fa1d3-6c25-4e70-ed2b-e308cfccea71"
      },
      "source": [
        "print(senja.nama + ', Usia ' + str(senja.usia) + ', Pendapatan ' + str(senja.pendapatan))"
      ],
      "execution_count": 9,
      "outputs": [
        {
          "output_type": "stream",
          "text": [
            "Senja, Usia 28, Pendapatan 12500000\n"
          ],
          "name": "stdout"
        }
      ]
    },
    {
      "cell_type": "code",
      "metadata": {
        "colab": {
          "base_uri": "https://localhost:8080/"
        },
        "id": "xdQrYDEoP0db",
        "outputId": "e28e9c69-c781-4133-ed7b-51158b0eaf49"
      },
      "source": [
        "# Quiz\n",
        "class Karyawan:\n",
        "    nama_perusahaan = 'ABC'\n",
        "    def __init__(self, nama, usia, pendapatan):\n",
        "        self.nama = nama\n",
        "        self.usia = usia\n",
        "        self.pendapatan = pendapatan\n",
        "        if usia > 30:\n",
        "            self.pendapatan += 1500000\n",
        "\n",
        "karyawan_1 = Karyawan('Budi', 35, 7500000)\n",
        "karyawan_2 = Karyawan('Didi', 30, 8000000)\n",
        "\n",
        "total_pengeluaran = karyawan_1.pendapatan + karyawan_2.pendapatan\n",
        "print(total_pengeluaran)"
      ],
      "execution_count": 10,
      "outputs": [
        {
          "output_type": "stream",
          "text": [
            "17000000\n"
          ],
          "name": "stdout"
        }
      ]
    },
    {
      "cell_type": "code",
      "metadata": {
        "colab": {
          "base_uri": "https://localhost:8080/"
        },
        "id": "Hj78KyQjQwdG",
        "outputId": "cc1448e7-0456-4eb4-f5b6-4c8be44f6859"
      },
      "source": [
        "# Quiz\n",
        "class Karyawan:\n",
        "    nama_perusahaan = 'ABC'\n",
        "    tunjangan_transportasi = 500000\n",
        "    def __init__(self, nama, usia, pendapatan):\n",
        "        self.nama = nama\n",
        "        self.usia = usia\n",
        "        self.pendapatan = pendapatan\n",
        "\n",
        "karyawan_1 = Karyawan('Budi', 35, 5000000)\n",
        "karyawan_2 = Karyawan('Didi', 30, 5000000)\n",
        "karyawan_1.__class__.nama_perusahaan = 1000000\n",
        "\n",
        "total_pengeluaran = karyawan_1.__class__.tunjangan_transportasi\n",
        "total_pengeluaran += karyawan_2.__class__.tunjangan_transportasi\n",
        "total_pengeluaran += karyawan_1.pendapatan\n",
        "total_pengeluaran += karyawan_2.pendapatan\n",
        "\n",
        "print(total_pengeluaran)"
      ],
      "execution_count": 11,
      "outputs": [
        {
          "output_type": "stream",
          "text": [
            "11000000\n"
          ],
          "name": "stdout"
        }
      ]
    },
    {
      "cell_type": "markdown",
      "metadata": {
        "id": "lDjJ99aoRtbp"
      },
      "source": [
        "# Behavior pada Class"
      ]
    },
    {
      "cell_type": "code",
      "metadata": {
        "id": "6EZ8F-xJRp__"
      },
      "source": [
        "class Karyawan:\n",
        "    nama_perusahaan = 'ABC'\n",
        "    insentif_lembur = 250000\n",
        "    def __init__(self, nama, usia, pendapatan):\n",
        "        self.nama = nama\n",
        "        self.usia = usia\n",
        "        self.pendapatan = pendapatan\n",
        "        self.pendapatan_tambahan = 0\n",
        "    def lembur(self):\n",
        "        self.pendapatan_tambahan += self.insentif_lembur\n",
        "    def tambahan_proyek(self, insentif_proyek):\n",
        "    \tself.pendapatan_tambahan += insentif_proyek\n",
        "    def total_pendapatan(self):\n",
        "    \treturn self.pendapatan + self.pendapatan_tambahan\n",
        "\n",
        "aksara = Karyawan('Aksara', 25, 8500000)\n",
        "senja = Karyawan('Senja', 28, 12500000)"
      ],
      "execution_count": 12,
      "outputs": []
    },
    {
      "cell_type": "code",
      "metadata": {
        "id": "CuuekBjWSwUn"
      },
      "source": [
        "aksara.lembur()"
      ],
      "execution_count": 13,
      "outputs": []
    },
    {
      "cell_type": "code",
      "metadata": {
        "id": "0Yl_Ys6fS07f"
      },
      "source": [
        "senja.tambahan_proyek(2500000)"
      ],
      "execution_count": 14,
      "outputs": []
    },
    {
      "cell_type": "code",
      "metadata": {
        "colab": {
          "base_uri": "https://localhost:8080/"
        },
        "id": "j56RdpksS67C",
        "outputId": "2941bbf4-ae00-418f-fb8b-777d993afad4"
      },
      "source": [
        "print('Pendapatan Total Aksara: ' + str(aksara.total_pendapatan()))\n",
        "print('Pendapatan Total Senja: ' + str(senja.total_pendapatan()))"
      ],
      "execution_count": 15,
      "outputs": [
        {
          "output_type": "stream",
          "text": [
            "Pendapatan Total Aksara: 8750000\n",
            "Pendapatan Total Senja: 15000000\n"
          ],
          "name": "stdout"
        }
      ]
    },
    {
      "cell_type": "markdown",
      "metadata": {
        "id": "_MEawQ7tffz7"
      },
      "source": [
        "# Tugas Praktek"
      ]
    },
    {
      "cell_type": "code",
      "metadata": {
        "id": "vpSTPEeEhrSR"
      },
      "source": [
        "# Definisikan class Karyawan\n",
        "class Karyawan:\n",
        "    def __init__(self, nama, usia, pendapatan, insentif_lembur): \n",
        "        self.nama = nama\n",
        "        self.usia = usia\n",
        "        self.pendapatan = pendapatan \n",
        "        self.pendapatan_tambahan = 0\n",
        "        self.insentif_lembur = insentif_lembur\n",
        "    def lembur(self):\n",
        "        self.pendapatan_tambahan += self.insentif_lembur \n",
        "    def tambahan_proyek(self, jumlah_tambahan):\n",
        "        self.pendapatan_tambahan += jumlah_tambahan \n",
        "    def total_pendapatan(self):\n",
        "        return self.pendapatan + self.pendapatan_tambahan\n",
        "\n",
        "# Definisikan class Perusahaan\n",
        "class Perusahaan:\n",
        "    def __init__(self, nama, alamat, nomor_telepon): \n",
        "        self.nama = nama\n",
        "        self.alamat = alamat \n",
        "        self.nomor_telepon = nomor_telepon\n",
        "        self.list_karyawan = []\n",
        "    def aktifkan_karyawan(self, karyawan): \n",
        "        self.list_karyawan.append(karyawan)\n",
        "    def nonaktifkan_karyawan(self, nama_karyawan): \n",
        "        karyawan_nonaktif = None\n",
        "        for karyawan in self.list_karyawan:\n",
        "            if karyawan.nama == nama_karyawan: \n",
        "                karyawan_nonaktif = karyawan \n",
        "                break\n",
        "        if karyawan_nonaktif is not None: \n",
        "            self.list_karyawan.remove(karyawan_nonaktif)"
      ],
      "execution_count": 16,
      "outputs": []
    },
    {
      "cell_type": "code",
      "metadata": {
        "id": "wiP2eyndhwOL"
      },
      "source": [
        "# Definisikan perusahaan\n",
        "perusahaan = Perusahaan('ABC', 'Jl. Jendral Sudirman, Blok 11', '(021) 95205XX')\n",
        "# Definisikan nama-nama karyawan\n",
        "karyawan_1 = Karyawan('Ani', 25, 8500000, 100000)\n",
        "karyawan_2 = Karyawan('Budi', 28, 12000000, 150000)\n",
        "karyawan_3 = Karyawan('Cici', 30, 15000000, 200000)\n",
        "# Aktifkan karyawan di perusahaan ABC\n",
        "perusahaan.aktifkan_karyawan(karyawan_1) \n",
        "perusahaan.aktifkan_karyawan(karyawan_2) \n",
        "perusahaan.aktifkan_karyawan(karyawan_3)"
      ],
      "execution_count": 17,
      "outputs": []
    },
    {
      "cell_type": "markdown",
      "metadata": {
        "id": "2bAaQvq1iDpG"
      },
      "source": [
        "# Encapsulation pada Python - Part 2"
      ]
    },
    {
      "cell_type": "code",
      "metadata": {
        "id": "cVp1mF-ah1HD"
      },
      "source": [
        "class Karyawan:\n",
        "    nama_perusahaan = 'ABC'\n",
        "    __insentif_lembur = 250000\n",
        "    def __init__(self, nama, usia, pendapatan):\n",
        "        self.__nama = nama\n",
        "        self.__usia = usia\n",
        "        self.__pendapatan = pendapatan\n",
        "        self.__pendapatan_tambahan = 0\n",
        "    def lembur(self):\n",
        "        self.__pendapatan_tambahan += self.__insentif_lembur\n",
        "    def tambahan_proyek(self, insentif_proyek):\n",
        "        self.__pendapatan_tambahan += insentif_proyek\n",
        "    def total_pendapatan(self):\n",
        "        return self.__pendapatan + self.__pendapatan_tambahan\n",
        "aksara = Karyawan('Aksara', 25, 8500000)"
      ],
      "execution_count": 18,
      "outputs": []
    },
    {
      "cell_type": "code",
      "metadata": {
        "colab": {
          "base_uri": "https://localhost:8080/"
        },
        "id": "cB2DuR5tjMAp",
        "outputId": "25ff960b-ce07-4d30-de44-3746def18899"
      },
      "source": [
        "print(aksara.__class__.nama_perusahaan)"
      ],
      "execution_count": 19,
      "outputs": [
        {
          "output_type": "stream",
          "text": [
            "ABC\n"
          ],
          "name": "stdout"
        }
      ]
    },
    {
      "cell_type": "code",
      "metadata": {
        "id": "seHctA2NjPvd"
      },
      "source": [
        "print(aksara.__nama) # akan menghasilkan error, karena bersifat private"
      ],
      "execution_count": null,
      "outputs": []
    },
    {
      "cell_type": "markdown",
      "metadata": {
        "id": "ZYLU9pgzjoEE"
      },
      "source": [
        "# Inheritance pada Python – Part 1"
      ]
    },
    {
      "cell_type": "code",
      "metadata": {
        "id": "bHyphfZ-jdcK"
      },
      "source": [
        "class Karyawan:\n",
        "    nama_perusahaan = 'ABC'\n",
        "    insentif_lembur = 250000\n",
        "    def __init__(self, nama, usia, pendapatan):\n",
        "        self.nama = nama\n",
        "        self.usia = usia\n",
        "        self.pendapatan = pendapatan\n",
        "        self.pendapatan_tambahan = 0\n",
        "    def lembur(self):\n",
        "        self.pendapatan_tambahan += self.insentif_lembur\n",
        "    def tambahan_proyek(self, insentif_proyek):\n",
        "        self.pendapatan_tambahan += insentif_proyek\n",
        "    def total_pendapatan(self):\n",
        "        return self.pendapatan + self.pendapatan_tambahan"
      ],
      "execution_count": 21,
      "outputs": []
    },
    {
      "cell_type": "code",
      "metadata": {
        "id": "RzUWRCuPkRla"
      },
      "source": [
        "class AnalisData(Karyawan):\n",
        "    def __init__(self, nama, usia, pendapatan):\n",
        "        super().__init__(nama, usia, pendapatan)"
      ],
      "execution_count": 22,
      "outputs": []
    },
    {
      "cell_type": "code",
      "metadata": {
        "id": "Xlm9itVOkgf5"
      },
      "source": [
        "class IlmuwanData(Karyawan):\n",
        "    def __init__(self, nama, usia, pendapatan):\n",
        "        super().__init__(nama, usia, pendapatan)"
      ],
      "execution_count": 23,
      "outputs": []
    },
    {
      "cell_type": "code",
      "metadata": {
        "colab": {
          "base_uri": "https://localhost:8080/"
        },
        "id": "CQDYNBCFksBC",
        "outputId": "b5a79763-4d86-42f5-c54e-02f3571cb384"
      },
      "source": [
        "aksara = AnalisData('Aksara', 25, 8500000)\n",
        "aksara.lembur()\n",
        "print(aksara.total_pendapatan())"
      ],
      "execution_count": 24,
      "outputs": [
        {
          "output_type": "stream",
          "text": [
            "8750000\n"
          ],
          "name": "stdout"
        }
      ]
    },
    {
      "cell_type": "code",
      "metadata": {
        "colab": {
          "base_uri": "https://localhost:8080/"
        },
        "id": "8CkX6PG0k1P7",
        "outputId": "46889bb9-ed19-4cbe-d54c-8079628b243a"
      },
      "source": [
        "senja = IlmuwanData('Senja', 28, 13000000)\n",
        "senja.tambahan_proyek(2000000)\n",
        "print(senja.total_pendapatan())"
      ],
      "execution_count": 25,
      "outputs": [
        {
          "output_type": "stream",
          "text": [
            "15000000\n"
          ],
          "name": "stdout"
        }
      ]
    },
    {
      "cell_type": "markdown",
      "metadata": {
        "id": "3d3ov64flOyu"
      },
      "source": [
        "# Inheritance pada Python – Part 2"
      ]
    },
    {
      "cell_type": "code",
      "metadata": {
        "id": "R65_upjAk7kv"
      },
      "source": [
        "class Karyawan:\n",
        "    nama_perusahaan = 'ABC'\n",
        "    insentif_lembur = 250000\n",
        "    def __init__(self, nama, usia, pendapatan):\n",
        "        self.nama = nama\n",
        "        self.usia = usia\n",
        "        self.pendapatan = pendapatan\n",
        "        self.pendapatan_tambahan = 0\n",
        "    def lembur(self):\n",
        "        self.pendapatan_tambahan += self.insentif_lembur\n",
        "    def tambahan_proyek(self, insentif_proyek):\n",
        "        self.pendapatan_tambahan += insentif_proyek\n",
        "    def total_pendapatan(self):\n",
        "        return self.pendapatan + self.pendapatan_tambahan"
      ],
      "execution_count": 26,
      "outputs": []
    },
    {
      "cell_type": "code",
      "metadata": {
        "id": "MIgUer5Sl6XV"
      },
      "source": [
        "class AnalisData(Karyawan):\n",
        "    def __init__(self, nama, usia, pendapatan):\n",
        "        super().__init__(nama, usia, pendapatan)"
      ],
      "execution_count": 27,
      "outputs": []
    },
    {
      "cell_type": "code",
      "metadata": {
        "id": "t9ovUljbmHh4"
      },
      "source": [
        "class IlmuwanData(Karyawan):\n",
        "    # Mengubah atribut insentif_lembur yang digunakan pada fungsi lembur()\n",
        "    insentif_lembur = 500000\n",
        "    def __init__(self, nama, usia, pendapatan):\n",
        "        super().__init__(nama, usia, pendapatan)"
      ],
      "execution_count": 28,
      "outputs": []
    },
    {
      "cell_type": "code",
      "metadata": {
        "colab": {
          "base_uri": "https://localhost:8080/"
        },
        "id": "M6JNOFRrmXm0",
        "outputId": "a4f07427-d2e1-438f-c8d0-721c9ebedc30"
      },
      "source": [
        "# Buat objek karyawan yang bekerja sebagai AnalisData\n",
        "aksara = AnalisData('Aksara', 25, 8500000)\n",
        "aksara.lembur()\n",
        "print(aksara.total_pendapatan())"
      ],
      "execution_count": 29,
      "outputs": [
        {
          "output_type": "stream",
          "text": [
            "8750000\n"
          ],
          "name": "stdout"
        }
      ]
    },
    {
      "cell_type": "code",
      "metadata": {
        "colab": {
          "base_uri": "https://localhost:8080/"
        },
        "id": "3bSRLLQOmgjs",
        "outputId": "845995f2-55e1-4d12-9861-e05de6b25128"
      },
      "source": [
        "# Buat objek karyawan yang bekerja sebagai IlmuwanData\n",
        "senja = IlmuwanData('Senja', 28, 13000000)\n",
        "senja.lembur()\n",
        "print(senja.total_pendapatan())"
      ],
      "execution_count": 30,
      "outputs": [
        {
          "output_type": "stream",
          "text": [
            "13500000\n"
          ],
          "name": "stdout"
        }
      ]
    },
    {
      "cell_type": "markdown",
      "metadata": {
        "id": "2n_WzSWCIMPe"
      },
      "source": [
        "# Polymorphism pada Python - Part 1"
      ]
    },
    {
      "cell_type": "code",
      "metadata": {
        "id": "3HIhIrIhmjoc"
      },
      "source": [
        "class Karyawan:\n",
        "    nama_perusahaan = 'ABC'\n",
        "    insentif_lembur = 250000\n",
        "    def __init__(self, nama, usia, pendapatan):\n",
        "        self.nama = nama\n",
        "        self.usia = usia\n",
        "        self.pendapatan = pendapatan\n",
        "        self.pendapatan_tambahan = 0\n",
        "    def lembur(self):\n",
        "        self.pendapatan_tambahan += self.insentif_lembur\n",
        "    def tambahan_proyek(self, insentif_proyek):\n",
        "        self.pendapatan_tambahan += insentif_proyek\n",
        "    def total_pendapatan(self):\n",
        "        return self.pendapatan + self.pendapatan_tambahan"
      ],
      "execution_count": 31,
      "outputs": []
    },
    {
      "cell_type": "code",
      "metadata": {
        "id": "DzhHDeNOI0QB"
      },
      "source": [
        "class AnalisData(Karyawan):\n",
        "    def __init__(self, nama, usia, pendapatan):\n",
        "        super().__init__(nama, usia, pendapatan)\n",
        "    def lembur(self):\n",
        "        self.pendapatan_tambahan += int(self.pendapatan * 0.1)"
      ],
      "execution_count": 32,
      "outputs": []
    },
    {
      "cell_type": "code",
      "metadata": {
        "colab": {
          "base_uri": "https://localhost:8080/"
        },
        "id": "fxbEHssgJbRo",
        "outputId": "90c5a4e1-ed10-4bb5-dc1a-66cf5515b1ad"
      },
      "source": [
        "aksara = AnalisData('Aksara', 25, 8500000)\n",
        "aksara.lembur()\n",
        "print(aksara.total_pendapatan())"
      ],
      "execution_count": 33,
      "outputs": [
        {
          "output_type": "stream",
          "text": [
            "9350000\n"
          ],
          "name": "stdout"
        }
      ]
    },
    {
      "cell_type": "markdown",
      "metadata": {
        "id": "1XoleC3SJuFe"
      },
      "source": [
        "# Polymorphism pada Python - Part 2"
      ]
    },
    {
      "cell_type": "code",
      "metadata": {
        "id": "LYgHoIL1Jlp1"
      },
      "source": [
        "class Karyawan:\n",
        "    nama_perusahaan = 'ABC'\n",
        "    insentif_lembur = 250000\n",
        "    def __init__(self, nama, usia, pendapatan):\n",
        "        self.nama = nama\n",
        "        self.usia = usia\n",
        "        self.pendapatan = pendapatan\n",
        "        self.pendapatan_tambahan = 0\n",
        "    def lembur(self):\n",
        "        self.pendapatan_tambahan += self.insentif_lembur\n",
        "    def tambahan_proyek(self, insentif_proyek):\n",
        "        self.pendapatan_tambahan += insentif_proyek\n",
        "    def total_pendapatan(self):\n",
        "        return self.pendapatan + self.pendapatan_tambahan"
      ],
      "execution_count": 34,
      "outputs": []
    },
    {
      "cell_type": "code",
      "metadata": {
        "id": "Pah1wiRnKY65"
      },
      "source": [
        "class AnalisData(Karyawan):\n",
        "    def __init__(self, nama, usia, pendapatan):\n",
        "        super().__init__(nama, usia, pendapatan)\n",
        "    def lembur(self):\n",
        "        super().lembur()\n",
        "        self.pendapatan_tambahan += int(self.pendapatan * 0.05)"
      ],
      "execution_count": 35,
      "outputs": []
    },
    {
      "cell_type": "code",
      "metadata": {
        "colab": {
          "base_uri": "https://localhost:8080/"
        },
        "id": "F2Ev_7JYK0jk",
        "outputId": "e12afa39-fef7-437a-f68c-6d016d783a7f"
      },
      "source": [
        "aksara = AnalisData('Aksara', 25, 8500000)\n",
        "aksara.lembur()\n",
        "print(aksara.total_pendapatan())"
      ],
      "execution_count": 36,
      "outputs": [
        {
          "output_type": "stream",
          "text": [
            "9175000\n"
          ],
          "name": "stdout"
        }
      ]
    },
    {
      "cell_type": "markdown",
      "metadata": {
        "id": "Qz3pP9woLOK6"
      },
      "source": [
        "# Tugas Praktek"
      ]
    },
    {
      "cell_type": "code",
      "metadata": {
        "id": "u4nT42n2K8C6"
      },
      "source": [
        "# Definisikan class Karyawan\n",
        "class Karyawan:\n",
        "    def __init__(self, nama, usia, pendapatan, insentif_lembur): \n",
        "        self.nama = nama\n",
        "        self.usia = usia \n",
        "        self.pendapatan = pendapatan \n",
        "        self.pendapatan_tambahan = 0\n",
        "        self.insentif_lembur = insentif_lembur \n",
        "    def lembur(self):\n",
        "        self.pendapatan_tambahan += self.insentif_lembur \n",
        "    def tambahan_proyek(self,jumlah_tambahan):\n",
        "        self.pendapatan_tambahan += jumlah_tambahan \n",
        "    def total_pendapatan(self):\n",
        "        return self.pendapatan + self.pendapatan_tambahan\n",
        "\n",
        "# Definisikan class TenagaLepas sebagai child class dari\n",
        "# class Karyawan\n",
        "class TenagaLepas(Karyawan):\n",
        "    def __init__(self, nama, usia, pendapatan): \n",
        "        super().__init__(nama, usia, pendapatan, 0)\n",
        "    def tambahan_proyek(self, nilai_proyek): \n",
        "        self.pendapatan_tambahan += nilai_proyek  * 0.01"
      ],
      "execution_count": 37,
      "outputs": []
    },
    {
      "cell_type": "code",
      "metadata": {
        "id": "HW-ms_XPLW0I"
      },
      "source": [
        "# Definisikan class Karyawan sebagai parent class\n",
        "class Karyawan:\n",
        "    def __init__(self, nama, usia, pendapatan, insentif_lembur): \n",
        "        self.nama = nama\n",
        "        self.usia = usia \n",
        "        self.pendapatan = pendapatan \n",
        "        self.pendapatan_tambahan = 0\n",
        "        self.insentif_lembur = insentif_lembur \n",
        "    def lembur(self):\n",
        "        self.pendapatan_tambahan += self.insentif_lembur \n",
        "    def tambahan_proyek(self,jumlah_tambahan):\n",
        "        self.pendapatan_tambahan += jumlah_tambahan \n",
        "    def total_pendapatan(self):\n",
        "        return self.pendapatan + self.pendapatan_tambahan\n",
        "\n",
        "# Definisikan class TenagaLepas sebagai child class dari\n",
        "# class Karyawan\n",
        "class TenagaLepas(Karyawan):\n",
        "    def __init__(self, nama, usia, pendapatan):\n",
        "        super().__init__(nama, usia, pendapatan, 0)\n",
        "    def tambahan_proyek(self, nilai_proyek):\n",
        "        self.pendapatan_tambahan += nilai_proyek * 0.01\n",
        "\n",
        "# Definisikan class AnalisData sebagai child class dari\n",
        "# class Karyawan\n",
        "class AnalisData(Karyawan):\n",
        "\tpass\n",
        "\n",
        "# Definisikan class IlmuwanData sebagai child class dari\n",
        "# class Karyawan\n",
        "class IlmuwanData(Karyawan):\n",
        "    def tambahan_proyek(self, nilai_proyek): \n",
        "        self.pendapatan_tambahan += 0.1 * nilai_proyek\n",
        "\n",
        "# Definisikan class PembersihData sebagai child class dari\n",
        "# class TenagaLepas\n",
        "class PembersihData(TenagaLepas):\n",
        "\tpass\n",
        "\n",
        "# Definisikan class DokumenterTeknis sebagai child class dari\n",
        "# class TenagaLepas\n",
        "class DokumenterTeknis(TenagaLepas):\n",
        "    def tambahan_proyek(self, jumlah_tambahan): \n",
        "        return"
      ],
      "execution_count": 38,
      "outputs": []
    },
    {
      "cell_type": "markdown",
      "metadata": {
        "id": "0f6FMP8zLu6h"
      },
      "source": [
        "# Tugas Praktek"
      ]
    },
    {
      "cell_type": "code",
      "metadata": {
        "colab": {
          "base_uri": "https://localhost:8080/"
        },
        "id": "6ZH0oKtPLexT",
        "outputId": "9888e5fe-0339-4bba-a3cf-84dc7e69864e"
      },
      "source": [
        "class Karyawan: \n",
        "    nama_perusahaan = 'ABC' \n",
        "    insentif_lembur = 250000\n",
        "    ''' \n",
        "    usia akan di-set nilainya menjadi 21 saat tidak\n",
        "    dispesifikasikan dan pendapatan akan di-set nilainya\n",
        "    menjadi 5000000 saat tidak dispesifikasikan\n",
        "    '''\n",
        "    def __init__(self, nama, usia=21, pendapatan=5000000): \n",
        "        self.nama = nama\n",
        "        self.usia = usia \n",
        "        self.pendapatan = pendapatan \n",
        "        self.pendapatan_tambahan = 0\n",
        "    def lembur(self):\n",
        "        self.pendapatan_tambahan += self.insentif_lembur \n",
        "    def tambahan_proyek(self, insentif_proyek):\n",
        "        self.pendapatan_tambahan += insentif_proyek \n",
        "    def total_pendapatan(self):\n",
        "        return self.pendapatan + self.pendapatan_tambahan\n",
        "\n",
        "# Karyawan baru pertama yang bernama Budi\n",
        "karyawan_baru1 = Karyawan('Budi')\n",
        "print(karyawan_baru1.nama)\n",
        "print(karyawan_baru1.usia)\n",
        "print(karyawan_baru1.total_pendapatan())\n",
        "\n",
        "# Karyawan baru ke-2 yang bernama Didi, umur 25\n",
        "karyawan_baru2 = Karyawan('Didi', 25)\n",
        "print(karyawan_baru2.nama)\n",
        "print(karyawan_baru2.usia)\n",
        "print(karyawan_baru2.total_pendapatan())\n",
        "\n",
        "# Karyawan baru ke-3 yang bernama Hadi, pendapatan 8000000\n",
        "karyawan_baru3 = Karyawan('Hadi', pendapatan=8000000)\n",
        "print(karyawan_baru3.nama)\n",
        "print(karyawan_baru3.usia)\n",
        "print(karyawan_baru3.total_pendapatan())"
      ],
      "execution_count": 39,
      "outputs": [
        {
          "output_type": "stream",
          "text": [
            "Budi\n",
            "21\n",
            "5000000\n",
            "Didi\n",
            "25\n",
            "5000000\n",
            "Hadi\n",
            "21\n",
            "8000000\n"
          ],
          "name": "stdout"
        }
      ]
    },
    {
      "cell_type": "markdown",
      "metadata": {
        "id": "AIAyZ4kZM6vG"
      },
      "source": [
        "# Studi Kasus dari Senja"
      ]
    },
    {
      "cell_type": "code",
      "metadata": {
        "colab": {
          "base_uri": "https://localhost:8080/"
        },
        "id": "YsGl9SoGM2mf",
        "outputId": "e7ee7972-06d2-42b5-d6ea-634b9e41883e"
      },
      "source": [
        "# Definisikan class Karyawan sebagai parent class\n",
        "class Karyawan:\n",
        "    def __init__(self, nama, usia, pendapatan, insentif_lembur):\n",
        "        self.nama = nama\n",
        "        self.usia = usia \n",
        "        self.pendapatan = pendapatan \n",
        "        self.pendapatan_tambahan = 0\n",
        "        self.insentif_lembur = insentif_lembur \n",
        "    def lembur(self):\n",
        "        self.pendapatan_tambahan += self.insentif_lembur\n",
        "    def tambahan_proyek(self,jumlah_tambahan):\n",
        "        self.pendapatan_tambahan += jumlah_tambahan \n",
        "    def total_pendapatan(self):\n",
        "        return self.pendapatan + self.pendapatan_tambahan \n",
        "\n",
        "# Definisikan class TenagaLepas sebagai child class dari class Karyawan \n",
        "class TenagaLepas(Karyawan):\n",
        "    def __init__(self, nama, usia, pendapatan): \n",
        "        super().__init__(nama, usia, pendapatan, 0)\n",
        "    def tambahan_proyek(self, nilai_proyek): \n",
        "        self.pendapatan_tambahan += nilai_proyek  * 0.01\n",
        "\n",
        "# Definisikan class AnalisData sebagai child class dari class Karyawan \n",
        "class AnalisData(Karyawan):\n",
        "    def __init__(self, nama, usia = 21, pendapatan = 6500000,\n",
        "\t\t\t\t insentif_lembur = 100000):\n",
        "        super().__init__(nama, usia, pendapatan, insentif_lembur)\n",
        "\n",
        "# Definisikan class IlmuwanData sebagai child class dari class Karyawan\n",
        "class IlmuwanData(Karyawan):\n",
        "    def __init__(self, nama, usia = 25, pendapatan = 12000000,\n",
        "\t\t\t\t insentif_lembur = 150000):\n",
        "        super().__init__(nama, usia, pendapatan,insentif_lembur)\n",
        "    def tambahan_proyek(self, nilai_proyek):\n",
        "        self.pendapatan_tambahan += 0.1 * nilai_proyek\n",
        "\n",
        "# Definisikan class PembersihData sebagai child class dari class TenagaLepas\n",
        "class PembersihData(TenagaLepas):\n",
        "    def __init__(self, nama, usia, pendapatan = 4000000):\n",
        "        super().__init__(nama, usia, pendapatan)\n",
        "\n",
        "# Definisikan class DokumenterTeknis sebagai child class dari class TenagaLepas\n",
        "class DokumenterTeknis(TenagaLepas):\n",
        "    def __init__(self, nama, usia, pendapatan = 2500000):\n",
        "        super().__init__(nama, usia, pendapatan)\n",
        "        def tambahan_proyek(self, jumlah_tambahan):\n",
        "            return\n",
        "\n",
        "# Definisikan class Perusahaan \n",
        "class Perusahaan:\n",
        "    def __init__(self, nama, alamat, nomor_telepon):\n",
        "        self.nama = nama\n",
        "        self.alamat = alamat\n",
        "        self.nomor_telepon = nomor_telepon\n",
        "        self.list_karyawan = []\n",
        "    def aktifkan_karyawan(self, karyawan): \n",
        "        self.list_karyawan.append(karyawan)\n",
        "    def nonaktifkan_karyawan(self, nama_karyawan): \n",
        "        karyawan_nonaktif = None\n",
        "        for karyawan in self.list_karyawan:\n",
        "            if karyawan.nama == nama_karyawan: \n",
        "                karyawan_nonaktif = karyawan \n",
        "                break\n",
        "        if karyawan_nonaktif is not None: \n",
        "            self.list_karyawan.remove(karyawan_nonaktif)\n",
        "    def total_pengeluaran(self): \n",
        "        pengeluaran = 0\n",
        "        for karyawan in self.list_karyawan:\n",
        "            pengeluaran += karyawan.total_pendapatan() \n",
        "        return pengeluaran\n",
        "    def cari_karyawan(self, nama_karyawan): \n",
        "        for karyawan in self.list_karyawan:\n",
        "            if karyawan.nama == nama_karyawan: \n",
        "                return karyawan\n",
        "        return None\n",
        "\n",
        "# Create object karyawan sesuai dengan tugasnya masing-masing\n",
        "# seperti yang dinyatakan dalam tabel.\n",
        "ani = PembersihData('Ani', 25)\n",
        "budi = DokumenterTeknis('Budi', 18)\n",
        "cici = IlmuwanData('Cici')\n",
        "didi = IlmuwanData('Didi', 32, 20000000)\n",
        "efi = AnalisData('Efi')\n",
        "febi = AnalisData('Febi', 28, 12000000)\n",
        "\n",
        "# Create object perusahaan\n",
        "perusahaan = Perusahaan('ABC','Jl. Jendral Sudirman, Blok 11', '(021) 95812XX')\n",
        "\n",
        "# Aktifkan setiap karyawan yang telah didefinisikan\n",
        "perusahaan.aktifkan_karyawan(ani)\n",
        "perusahaan.aktifkan_karyawan(budi)\n",
        "perusahaan.aktifkan_karyawan(cici)\n",
        "perusahaan.aktifkan_karyawan(didi)\n",
        "perusahaan.aktifkan_karyawan(efi)\n",
        "perusahaan.aktifkan_karyawan(febi)\n",
        "\n",
        "# Cetak keseluruhan total pengeluaran perusahaan\n",
        "print(perusahaan.total_pengeluaran())"
      ],
      "execution_count": 40,
      "outputs": [
        {
          "output_type": "stream",
          "text": [
            "57000000\n"
          ],
          "name": "stdout"
        }
      ]
    }
  ]
}