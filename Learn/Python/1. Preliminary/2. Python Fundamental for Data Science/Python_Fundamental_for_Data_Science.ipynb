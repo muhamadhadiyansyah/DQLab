{
  "nbformat": 4,
  "nbformat_minor": 0,
  "metadata": {
    "colab": {
      "name": "Python Fundamental for Data Science.ipynb",
      "provenance": [],
      "collapsed_sections": []
    },
    "kernelspec": {
      "name": "python3",
      "display_name": "Python 3"
    },
    "language_info": {
      "name": "python"
    }
  },
  "cells": [
    {
      "cell_type": "markdown",
      "metadata": {
        "id": "-tHALJdB8qaH"
      },
      "source": [
        "# Code Hello World"
      ]
    },
    {
      "cell_type": "code",
      "metadata": {
        "colab": {
          "base_uri": "https://localhost:8080/"
        },
        "id": "AitD0knH7l1-",
        "outputId": "0e7912ba-82e6-4b09-ae64-ed62183e48c1"
      },
      "source": [
        "print(\"Hello World\")"
      ],
      "execution_count": 1,
      "outputs": [
        {
          "output_type": "stream",
          "text": [
            "Hello World\n"
          ],
          "name": "stdout"
        }
      ]
    },
    {
      "cell_type": "code",
      "metadata": {
        "colab": {
          "base_uri": "https://localhost:8080/"
        },
        "id": "65nMluRH8zDu",
        "outputId": "fa4a628f-7f3a-4d9d-f07a-90fcab2447ac"
      },
      "source": [
        "print(\"Hello World\")\n",
        "print(5+1)"
      ],
      "execution_count": 2,
      "outputs": [
        {
          "output_type": "stream",
          "text": [
            "Hello World\n",
            "6\n"
          ],
          "name": "stdout"
        }
      ]
    },
    {
      "cell_type": "code",
      "metadata": {
        "colab": {
          "base_uri": "https://localhost:8080/"
        },
        "id": "x2tjH2pp85fT",
        "outputId": "2f367cfd-f70d-49bb-8c97-e0c50ff418f7"
      },
      "source": [
        "print(10 * 2 + 5)\n",
        "print(\"Academy DQLab\")"
      ],
      "execution_count": 3,
      "outputs": [
        {
          "output_type": "stream",
          "text": [
            "25\n",
            "Academy DQLab\n"
          ],
          "name": "stdout"
        }
      ]
    },
    {
      "cell_type": "markdown",
      "metadata": {
        "id": "jhXKZWhZ9GJ1"
      },
      "source": [
        "# Melakukan Comment Pada Python"
      ]
    },
    {
      "cell_type": "code",
      "metadata": {
        "colab": {
          "base_uri": "https://localhost:8080/"
        },
        "id": "EqQEKqRJ9CYy",
        "outputId": "9a87fea3-89cd-490f-fe7d-533d82a79e0f"
      },
      "source": [
        "print(\"Ini adalah sebuah baris kode\") #ini adalah contoh comment dan tidak akan tercetak"
      ],
      "execution_count": 4,
      "outputs": [
        {
          "output_type": "stream",
          "text": [
            "Ini adalah sebuah baris kode\n"
          ],
          "name": "stdout"
        }
      ]
    },
    {
      "cell_type": "code",
      "metadata": {
        "colab": {
          "base_uri": "https://localhost:8080/"
        },
        "id": "VGIzYrbW9ZIk",
        "outputId": "8db22973-3395-4bf6-d706-b52fb651c46f"
      },
      "source": [
        "print(10*2+5) #fungsi matematika\n",
        "print(\"Academy DQLab\")#fungsi mencetak kalimat"
      ],
      "execution_count": 5,
      "outputs": [
        {
          "output_type": "stream",
          "text": [
            "25\n",
            "Academy DQLab\n"
          ],
          "name": "stdout"
        }
      ]
    },
    {
      "cell_type": "markdown",
      "metadata": {
        "id": "HgA8TVGz-Ub0"
      },
      "source": [
        "# Printing Data Type"
      ]
    },
    {
      "cell_type": "code",
      "metadata": {
        "colab": {
          "base_uri": "https://localhost:8080/"
        },
        "id": "m3MaZpS39tiO",
        "outputId": "cade26f5-f822-46af-d415-135a88e4b21c"
      },
      "source": [
        "#tipe data Boolean\n",
        "print(True)\n",
        "\n",
        "\n",
        "#tipe data String\n",
        "print(\"Ayo belajar Python\")\n",
        "print('Belajar Python Sangat Mudah di DQLAB')\n",
        "\n",
        "\n",
        "#tipe data Integer\n",
        "print(20)\n",
        "\n",
        "\n",
        "#tipe data Float\n",
        "print(3.14)\n",
        "\n",
        "\n",
        "#tipe data List\n",
        "print([1,2,3,4,5])\n",
        "print([\"satu\", \"dua\", \"tiga\"])\n",
        "\n",
        "\n",
        "#tipe data Tuple\n",
        "print((1,2,3,4,5))\n",
        "print((\"satu\", \"dua\", \"tiga\"))\n",
        "\n",
        "\n",
        "#tipe data Dictionary\n",
        "print({\"nama\":\"Budi\", 'umur':20})\n",
        "\n",
        "#tipe data Dictionary dimasukan ke dalam variabel biodata\n",
        "biodata = {\"nama\":\"Andi\", 'umur':21} #proses inisialisasi variabel biodata\n",
        "print(biodata) #proses pencetakan variabel biodata yang berisi tipe data Dictionary\n",
        "type(biodata) #fungsi untuk mengecek jenis tipe data. akan tampil <class 'dict'>"
      ],
      "execution_count": 6,
      "outputs": [
        {
          "output_type": "stream",
          "text": [
            "True\n",
            "Ayo belajar Python\n",
            "Belajar Python Sangat Mudah di DQLAB\n",
            "20\n",
            "3.14\n",
            "[1, 2, 3, 4, 5]\n",
            "['satu', 'dua', 'tiga']\n",
            "(1, 2, 3, 4, 5)\n",
            "('satu', 'dua', 'tiga')\n",
            "{'nama': 'Budi', 'umur': 20}\n",
            "{'nama': 'Andi', 'umur': 21}\n"
          ],
          "name": "stdout"
        },
        {
          "output_type": "execute_result",
          "data": {
            "text/plain": [
              "dict"
            ]
          },
          "metadata": {
            "tags": []
          },
          "execution_count": 6
        }
      ]
    },
    {
      "cell_type": "code",
      "metadata": {
        "colab": {
          "base_uri": "https://localhost:8080/"
        },
        "id": "qmlPNr1A-ZMq",
        "outputId": "ca861cbd-aefd-41dc-8e71-dc445138b76f"
      },
      "source": [
        "var_string=\"Belajar Python DQLAB\"\n",
        "var_int=10\n",
        "var_float=3.14\n",
        "var_list=[1,2,3,4]\n",
        "var_tuple=(\"satu\",\"dua\",\"tiga\")\n",
        "var_dict={\"nama\":\"Ali\", 'umur':20}\n",
        "\n",
        "\n",
        "print(var_string)\n",
        "print(var_int)\n",
        "print(var_float)\n",
        "print(var_list)\n",
        "print(var_tuple)\n",
        "print(var_dict)"
      ],
      "execution_count": 7,
      "outputs": [
        {
          "output_type": "stream",
          "text": [
            "Belajar Python DQLAB\n",
            "10\n",
            "3.14\n",
            "[1, 2, 3, 4]\n",
            "('satu', 'dua', 'tiga')\n",
            "{'nama': 'Ali', 'umur': 20}\n"
          ],
          "name": "stdout"
        }
      ]
    },
    {
      "cell_type": "code",
      "metadata": {
        "colab": {
          "base_uri": "https://localhost:8080/"
        },
        "id": "qae6Dxrm-gfn",
        "outputId": "db3da6bc-6983-40f4-ec81-b0b8b1e5475c"
      },
      "source": [
        "print(type(var_string))\n",
        "print(type(var_int))\n",
        "print(type(var_float))\n",
        "print(type(var_list))\n",
        "print(type(var_tuple))\n",
        "print(type(var_dict))"
      ],
      "execution_count": 8,
      "outputs": [
        {
          "output_type": "stream",
          "text": [
            "<class 'str'>\n",
            "<class 'int'>\n",
            "<class 'float'>\n",
            "<class 'list'>\n",
            "<class 'tuple'>\n",
            "<class 'dict'>\n"
          ],
          "name": "stdout"
        }
      ]
    },
    {
      "cell_type": "markdown",
      "metadata": {
        "id": "8bzBz3WK-5i1"
      },
      "source": [
        "# IF Statement"
      ]
    },
    {
      "cell_type": "code",
      "metadata": {
        "colab": {
          "base_uri": "https://localhost:8080/"
        },
        "id": "z-eB7KFO-ixx",
        "outputId": "bdb6ea59-6878-4218-98da-45add72bbb26"
      },
      "source": [
        "i = 10 #inisialisasi variable i yang memiliki nilai 10\n",
        "\n",
        "if(i==10): #pengecekan nilai i apakah sama dengan 10\n",
        "    print(\"ini adalah angka 10\") #jika TRUE maka akan mencetak kalimat ini"
      ],
      "execution_count": 9,
      "outputs": [
        {
          "output_type": "stream",
          "text": [
            "ini adalah angka 10\n"
          ],
          "name": "stdout"
        }
      ]
    },
    {
      "cell_type": "code",
      "metadata": {
        "id": "6WhTmYsg-76H"
      },
      "source": [
        "i = 7 #inisialisasi variable i yang memiliki nilai 7\n",
        "\n",
        "if(i==10): #pengecekan nilai i apakah sama dengan 10\n",
        "    print(\"ini adalah angka 10\") #jika TRUE maka akan mencetak kalimat ini"
      ],
      "execution_count": 10,
      "outputs": []
    },
    {
      "cell_type": "markdown",
      "metadata": {
        "id": "ItRlejZj_DmO"
      },
      "source": [
        "# IF … ELSE …"
      ]
    },
    {
      "cell_type": "code",
      "metadata": {
        "colab": {
          "base_uri": "https://localhost:8080/"
        },
        "id": "LINCVOu7-_ul",
        "outputId": "50730ac5-b6e5-4a6e-8bcf-bec749c36ad7"
      },
      "source": [
        "i = 10 # inisialisasi variable i yang memiliki nilai 10\n",
        "\n",
        "if i == 10: # pengecekan nilai i apakah sama dengan 10\n",
        "    print(\"ini adalah angka 10\") # jika True maka akan mencetak kalimat ini\n",
        "else:\n",
        "    print(\"bukan angka 10\") # jika False maka akan mencetak kalimat ini"
      ],
      "execution_count": 11,
      "outputs": [
        {
          "output_type": "stream",
          "text": [
            "ini adalah angka 10\n"
          ],
          "name": "stdout"
        }
      ]
    },
    {
      "cell_type": "code",
      "metadata": {
        "colab": {
          "base_uri": "https://localhost:8080/"
        },
        "id": "iue1puzd_iAY",
        "outputId": "63172772-376f-4785-dfb3-138d8423d092"
      },
      "source": [
        "i = 5 #inisialisasi variable i yang memiliki nilai 5\n",
        "\n",
        "if(i==10): #pengecekan nilai i apakah sama dengan 10\n",
        "    print(\"ini adalah angka 10\") #jika TRUE maka akan mencetak kalimat ini\n",
        "else:\n",
        "    print(\"bukan angka 10\") #jika FALSE akan mencetak kalimat ini"
      ],
      "execution_count": 12,
      "outputs": [
        {
          "output_type": "stream",
          "text": [
            "bukan angka 10\n"
          ],
          "name": "stdout"
        }
      ]
    },
    {
      "cell_type": "markdown",
      "metadata": {
        "id": "S80x_OR4_vKG"
      },
      "source": [
        "# IF … ELIF … ELSE …."
      ]
    },
    {
      "cell_type": "code",
      "metadata": {
        "colab": {
          "base_uri": "https://localhost:8080/"
        },
        "id": "BnBNsgWy_plx",
        "outputId": "84fa4657-c251-41ed-84a1-35bf4fa27c2a"
      },
      "source": [
        "i = 5\n",
        "\n",
        "if i == 5:\n",
        "  print(\"ini adalah angka 5\")\n",
        "elif i > 5:\n",
        "  print(\"lebih besar dari 5\")\n",
        "else:\n",
        "  print(\"lebih kecil dari 5\")"
      ],
      "execution_count": 13,
      "outputs": [
        {
          "output_type": "stream",
          "text": [
            "ini adalah angka 5\n"
          ],
          "name": "stdout"
        }
      ]
    },
    {
      "cell_type": "code",
      "metadata": {
        "colab": {
          "base_uri": "https://localhost:8080/"
        },
        "id": "CbTE9Vwn_6-n",
        "outputId": "f0b50652-aaed-4d8b-b203-06a3d93e47d9"
      },
      "source": [
        "i = 7\n",
        "\n",
        "if i == 5:\n",
        "  print(\"ini adalah angka 5\")\n",
        "elif i >5:\n",
        "  print(\"lebih besar dari 5\")\n",
        "else:\n",
        "  print(\"lebih kecil dari 5\")"
      ],
      "execution_count": 14,
      "outputs": [
        {
          "output_type": "stream",
          "text": [
            "lebih besar dari 5\n"
          ],
          "name": "stdout"
        }
      ]
    },
    {
      "cell_type": "code",
      "metadata": {
        "colab": {
          "base_uri": "https://localhost:8080/"
        },
        "id": "wzQkSqHuAJ-C",
        "outputId": "60492aa1-e336-4f77-d53a-52642a2daa88"
      },
      "source": [
        "i=3\n",
        "\n",
        "if(i==5):\n",
        "     print(\"ini adalah angka 5\")\n",
        "elif(i>5):\n",
        "     print(\"lebih besar dari 5\")\n",
        "else:\n",
        "     print(\"lebih kecil dari 5\")"
      ],
      "execution_count": 15,
      "outputs": [
        {
          "output_type": "stream",
          "text": [
            "lebih kecil dari 5\n"
          ],
          "name": "stdout"
        }
      ]
    },
    {
      "cell_type": "markdown",
      "metadata": {
        "id": "79ZRU7FeARIr"
      },
      "source": [
        "# NESTED IF"
      ]
    },
    {
      "cell_type": "code",
      "metadata": {
        "colab": {
          "base_uri": "https://localhost:8080/"
        },
        "id": "Pe0S-3DOANQO",
        "outputId": "703aa815-02e1-4b97-a93d-f1ce95a86306"
      },
      "source": [
        "i = 2\n",
        "if i < 7:\n",
        "    print(\"nilai i kurang dari 7\")\n",
        "    if i < 3:\n",
        "        print(\"nilai i kurang dari 3\")\n",
        "    else:\n",
        "        print(\"nilai i kurang dari 7 tapi lebih dari 3\")"
      ],
      "execution_count": 16,
      "outputs": [
        {
          "output_type": "stream",
          "text": [
            "nilai i kurang dari 7\n",
            "nilai i kurang dari 3\n"
          ],
          "name": "stdout"
        }
      ]
    },
    {
      "cell_type": "markdown",
      "metadata": {
        "id": "WwO7gmkVA9AM"
      },
      "source": [
        "# Praktek Operasi Matematika"
      ]
    },
    {
      "cell_type": "code",
      "metadata": {
        "colab": {
          "base_uri": "https://localhost:8080/"
        },
        "id": "HG1YElh0AhmU",
        "outputId": "d65dc1f2-8b73-4b51-9396-fddc67a7ed68"
      },
      "source": [
        "a = 10\n",
        "b = 5\n",
        "selisih = a - b\n",
        "jumlah = a + b\n",
        "kali = a * b\n",
        "bagi = a / b\n",
        "print(\"Hasil penjumlahan a dan b adalah\", jumlah)\n",
        "print(\"Selisih a dan b adalah :\", selisih)\n",
        "print(\"Hasil perkalian a dan b adalah :\", kali)\n",
        "print(\"Hasil pembagian a dan b adalah:\", bagi)"
      ],
      "execution_count": 17,
      "outputs": [
        {
          "output_type": "stream",
          "text": [
            "Hasil penjumlahan a dan b adalah 15\n",
            "Selisih a dan b adalah : 5\n",
            "Hasil perkalian a dan b adalah : 50\n",
            "Hasil pembagian a dan b adalah: 2.0\n"
          ],
          "name": "stdout"
        }
      ]
    },
    {
      "cell_type": "markdown",
      "metadata": {
        "id": "zLVwF3WgBPsL"
      },
      "source": [
        "# Operasi modulus"
      ]
    },
    {
      "cell_type": "code",
      "metadata": {
        "colab": {
          "base_uri": "https://localhost:8080/"
        },
        "id": "Sx4YmFIwBGYz",
        "outputId": "e310d807-bac9-4915-f5c8-764682cf2cf3"
      },
      "source": [
        "c = 10\n",
        "d = 5\n",
        "\n",
        "modulus = c % d\n",
        "print(\"Hasil modulus\", modulus)"
      ],
      "execution_count": 18,
      "outputs": [
        {
          "output_type": "stream",
          "text": [
            "Hasil modulus 0\n"
          ],
          "name": "stdout"
        }
      ]
    },
    {
      "cell_type": "code",
      "metadata": {
        "colab": {
          "base_uri": "https://localhost:8080/"
        },
        "id": "obdQ9fA0BVrX",
        "outputId": "b56d9e9b-0cd5-42fe-b384-f4ae64533560"
      },
      "source": [
        "c = 10\n",
        "d = 3\n",
        "\n",
        "modulus = c % d\n",
        "print(\"Hasil modulus\", modulus)"
      ],
      "execution_count": 19,
      "outputs": [
        {
          "output_type": "stream",
          "text": [
            "Hasil modulus 1\n"
          ],
          "name": "stdout"
        }
      ]
    },
    {
      "cell_type": "markdown",
      "metadata": {
        "id": "srcDUtO_BiSr"
      },
      "source": [
        "# Tugas Mid Praktek"
      ]
    },
    {
      "cell_type": "code",
      "metadata": {
        "colab": {
          "base_uri": "https://localhost:8080/"
        },
        "id": "Ks1t_-lhBaV1",
        "outputId": "e83cbd89-e107-4e70-9abb-ac9ace63b964"
      },
      "source": [
        "angka = 10\n",
        "\n",
        "if angka % 2 == 0:\n",
        "    print(\"angka termasuk bilangan genap\")\n",
        "else:\n",
        "    print(\"angka termasuk bilangan ganjil\")"
      ],
      "execution_count": 20,
      "outputs": [
        {
          "output_type": "stream",
          "text": [
            "angka termasuk bilangan genap\n"
          ],
          "name": "stdout"
        }
      ]
    },
    {
      "cell_type": "markdown",
      "metadata": {
        "id": "hnOJJU88CAir"
      },
      "source": [
        "# while"
      ]
    },
    {
      "cell_type": "code",
      "metadata": {
        "colab": {
          "base_uri": "https://localhost:8080/"
        },
        "id": "6_EZX25rB0wO",
        "outputId": "8a1dc6b3-8875-4021-faf6-7c3cb72d9c08"
      },
      "source": [
        "j = 0 # nilai awal j = 0\n",
        "\n",
        "while j < 6: # ketika j kurang dari 6 lakukan perulangan, jika tidak stop perulangan\n",
        "    print(\"Ini adalah perulangan ke -\", j) # lakukan perintah ini ketika perulangan\n",
        "    j = j + 1 # setiap kali diakhir perulangan update nilai dengan ditambah 1."
      ],
      "execution_count": 21,
      "outputs": [
        {
          "output_type": "stream",
          "text": [
            "Ini adalah perulangan ke - 0\n",
            "Ini adalah perulangan ke - 1\n",
            "Ini adalah perulangan ke - 2\n",
            "Ini adalah perulangan ke - 3\n",
            "Ini adalah perulangan ke - 4\n",
            "Ini adalah perulangan ke - 5\n"
          ],
          "name": "stdout"
        }
      ]
    },
    {
      "cell_type": "markdown",
      "metadata": {
        "id": "qCp6D5M9CT5u"
      },
      "source": [
        "# for (1)"
      ]
    },
    {
      "cell_type": "code",
      "metadata": {
        "colab": {
          "base_uri": "https://localhost:8080/"
        },
        "id": "LBIA_rbbCP4X",
        "outputId": "a0c76eaa-c28e-418a-d688-1a905ff08e99"
      },
      "source": [
        "for i in range (1, 6): # perulangan for sebagai inisialisasi dari angka 1 hingga angka yang lebih kecil daripada 6.\n",
        "  print(\"Ini adalah perulangan ke -\", i) # perintah jika looping akan tetap berjalan"
      ],
      "execution_count": 22,
      "outputs": [
        {
          "output_type": "stream",
          "text": [
            "Ini adalah perulangan ke - 1\n",
            "Ini adalah perulangan ke - 2\n",
            "Ini adalah perulangan ke - 3\n",
            "Ini adalah perulangan ke - 4\n",
            "Ini adalah perulangan ke - 5\n"
          ],
          "name": "stdout"
        }
      ]
    },
    {
      "cell_type": "markdown",
      "metadata": {
        "id": "1pEipYXWCytJ"
      },
      "source": [
        "# for (2) with access element"
      ]
    },
    {
      "cell_type": "code",
      "metadata": {
        "colab": {
          "base_uri": "https://localhost:8080/"
        },
        "id": "yqfGXuOBCorT",
        "outputId": "789e3c40-1539-4324-f8c0-7e87202c5900"
      },
      "source": [
        "count = [1, 2, 3, 4, 5] # elemen list\n",
        "\n",
        "for number in count: # looping untuk menampilkan semua elemen pada count\n",
        "  print(\"Ini adalah elemen count: \", number) # menampilkan elemen list pada count"
      ],
      "execution_count": 23,
      "outputs": [
        {
          "output_type": "stream",
          "text": [
            "Ini adalah elemen count:  1\n",
            "Ini adalah elemen count:  2\n",
            "Ini adalah elemen count:  3\n",
            "Ini adalah elemen count:  4\n",
            "Ini adalah elemen count:  5\n"
          ],
          "name": "stdout"
        }
      ]
    },
    {
      "cell_type": "code",
      "metadata": {
        "colab": {
          "base_uri": "https://localhost:8080/"
        },
        "id": "oTARgKTQDDWc",
        "outputId": "d8f6d76a-486d-40e2-a25c-4281978365b9"
      },
      "source": [
        "for i in range(1, 11):\n",
        "    if i % 2 == 0:\n",
        "        print(\"Angka genap\", i)\n",
        "    else:\n",
        "        print(\"Angka ganjil\", i)"
      ],
      "execution_count": 24,
      "outputs": [
        {
          "output_type": "stream",
          "text": [
            "Angka ganjil 1\n",
            "Angka genap 2\n",
            "Angka ganjil 3\n",
            "Angka genap 4\n",
            "Angka ganjil 5\n",
            "Angka genap 6\n",
            "Angka ganjil 7\n",
            "Angka genap 8\n",
            "Angka ganjil 9\n",
            "Angka genap 10\n"
          ],
          "name": "stdout"
        }
      ]
    },
    {
      "cell_type": "markdown",
      "metadata": {
        "id": "qrCS_iYNDyx4"
      },
      "source": [
        "# Membuat fungsi sendiri"
      ]
    },
    {
      "cell_type": "code",
      "metadata": {
        "id": "kFzVB10gDbSZ"
      },
      "source": [
        "def nama_fungsi():\n",
        "    print(\"Hello ini Fungsi\")"
      ],
      "execution_count": 25,
      "outputs": []
    },
    {
      "cell_type": "code",
      "metadata": {
        "colab": {
          "base_uri": "https://localhost:8080/"
        },
        "id": "tlpqrjCiEBPu",
        "outputId": "88a49d9f-0ebe-4311-f273-4c06c050036f"
      },
      "source": [
        "# memanggil fungsi\n",
        "nama_fungsi()"
      ],
      "execution_count": 26,
      "outputs": [
        {
          "output_type": "stream",
          "text": [
            "Hello ini Fungsi\n"
          ],
          "name": "stdout"
        }
      ]
    },
    {
      "cell_type": "code",
      "metadata": {
        "id": "iZ_mPPj1EF7C"
      },
      "source": [
        "def hello():\n",
        "    print(\"Hello\")\n",
        "    print(\"Welcome to DQLab\")"
      ],
      "execution_count": 27,
      "outputs": []
    },
    {
      "cell_type": "code",
      "metadata": {
        "colab": {
          "base_uri": "https://localhost:8080/"
        },
        "id": "LjeSX9wZEMWC",
        "outputId": "4e5392e0-1f3a-4344-aff8-5606c9967d77"
      },
      "source": [
        "# memanggil fungsi\n",
        "hello()"
      ],
      "execution_count": 28,
      "outputs": [
        {
          "output_type": "stream",
          "text": [
            "Hello\n",
            "Welcome to DQLab\n"
          ],
          "name": "stdout"
        }
      ]
    },
    {
      "cell_type": "code",
      "metadata": {
        "id": "nYqYkhNNEO0b"
      },
      "source": [
        "# Membuat fungsi\n",
        "def salam():\n",
        "    print(\"Hello, Selamat Pagi\")"
      ],
      "execution_count": 29,
      "outputs": []
    },
    {
      "cell_type": "code",
      "metadata": {
        "colab": {
          "base_uri": "https://localhost:8080/"
        },
        "id": "tI2FrWEnEVy8",
        "outputId": "ed7286e3-6ba0-4167-a878-220f88987158"
      },
      "source": [
        "# Pemanggilan fungsi\n",
        "salam()"
      ],
      "execution_count": 30,
      "outputs": [
        {
          "output_type": "stream",
          "text": [
            "Hello, Selamat Pagi\n"
          ],
          "name": "stdout"
        }
      ]
    },
    {
      "cell_type": "markdown",
      "metadata": {
        "id": "pI1eoHkUEboU"
      },
      "source": [
        "# Parameter pada fungsi"
      ]
    },
    {
      "cell_type": "code",
      "metadata": {
        "id": "EjD3EgWeEY6A"
      },
      "source": [
        "def luas_segitiga(alas, tinggi): # alas dan tinggi merupakan parameter\n",
        "    luas = (alas * tinggi) / 2\n",
        "    print(\"Luas segitiga: %f\" % luas)"
      ],
      "execution_count": 31,
      "outputs": []
    },
    {
      "cell_type": "code",
      "metadata": {
        "colab": {
          "base_uri": "https://localhost:8080/"
        },
        "id": "d1Wze5L_E5CF",
        "outputId": "86ed2367-9d1a-4eda-cd4f-743938f03d52"
      },
      "source": [
        "# Pemanggilan fungsi\n",
        "# 4 dan 6 merupakan parameter yang diinputkan ke dalam fungsi luas_segitiga\n",
        "luas_segitiga(4, 6)"
      ],
      "execution_count": 32,
      "outputs": [
        {
          "output_type": "stream",
          "text": [
            "Luas segitiga: 12.000000\n"
          ],
          "name": "stdout"
        }
      ]
    },
    {
      "cell_type": "markdown",
      "metadata": {
        "id": "zbp7GklEFQ6i"
      },
      "source": [
        "# Fungsi dengan Return Value"
      ]
    },
    {
      "cell_type": "code",
      "metadata": {
        "id": "F7XagV5WFI9W"
      },
      "source": [
        "def luas_segitiga(alas, tinggi):\n",
        "    luas = (alas * tinggi) / 2\n",
        "    return luas"
      ],
      "execution_count": 33,
      "outputs": []
    },
    {
      "cell_type": "code",
      "metadata": {
        "colab": {
          "base_uri": "https://localhost:8080/"
        },
        "id": "Pg0WSqElFjcM",
        "outputId": "27c07095-91ab-4892-e05f-b5b11d3f9154"
      },
      "source": [
        "# pemanggilan fungsi\n",
        "print(\"Luas segitiga: %f\" % luas_segitiga(4, 6))"
      ],
      "execution_count": 34,
      "outputs": [
        {
          "output_type": "stream",
          "text": [
            "Luas segitiga: 12.000000\n"
          ],
          "name": "stdout"
        }
      ]
    },
    {
      "cell_type": "markdown",
      "metadata": {
        "id": "cP-3C7z_F6OY"
      },
      "source": [
        "# Import Package dan Menggunakan modul"
      ]
    },
    {
      "cell_type": "code",
      "metadata": {
        "id": "8lx7SeuHFqaw"
      },
      "source": [
        "import math"
      ],
      "execution_count": 35,
      "outputs": []
    },
    {
      "cell_type": "code",
      "metadata": {
        "colab": {
          "base_uri": "https://localhost:8080/"
        },
        "id": "gZQz-UhqF_PP",
        "outputId": "b9f176aa-2d44-4a49-fd25-bdb3ff1f282b"
      },
      "source": [
        "import math\n",
        "print(\"Nilai pi adalah:\", math.pi) # math.pi merupakan syntax untuk memanggil fungsi"
      ],
      "execution_count": 36,
      "outputs": [
        {
          "output_type": "stream",
          "text": [
            "Nilai pi adalah: 3.141592653589793\n"
          ],
          "name": "stdout"
        }
      ]
    },
    {
      "cell_type": "markdown",
      "metadata": {
        "id": "5xLJjFBnGITf"
      },
      "source": [
        "# Import dengan Module Rename atau Alias"
      ]
    },
    {
      "cell_type": "code",
      "metadata": {
        "colab": {
          "base_uri": "https://localhost:8080/"
        },
        "id": "eEKwV66FGEyr",
        "outputId": "d703535d-58d9-4322-a10f-6e92a87e4f63"
      },
      "source": [
        "# Menggunakan m sebagai module rename atau alias\n",
        "import math as m\n",
        "\n",
        "# m.pi merupakan sytax untuk memanggil fungsi​\n",
        "print(\"Nilai pi adalah:\", m.pi) "
      ],
      "execution_count": 37,
      "outputs": [
        {
          "output_type": "stream",
          "text": [
            "Nilai pi adalah: 3.141592653589793\n"
          ],
          "name": "stdout"
        }
      ]
    },
    {
      "cell_type": "markdown",
      "metadata": {
        "id": "hSViC74PGb3x"
      },
      "source": [
        "# Import Sebagian Fungsi"
      ]
    },
    {
      "cell_type": "code",
      "metadata": {
        "colab": {
          "base_uri": "https://localhost:8080/"
        },
        "id": "1vcNnaQyGYtW",
        "outputId": "092cb333-9fdc-45e7-8c31-b1168be12f7c"
      },
      "source": [
        "from math import pi\n",
        "\n",
        "print(\"Nilai pi adalah\", pi)"
      ],
      "execution_count": 38,
      "outputs": [
        {
          "output_type": "stream",
          "text": [
            "Nilai pi adalah 3.141592653589793\n"
          ],
          "name": "stdout"
        }
      ]
    },
    {
      "cell_type": "markdown",
      "metadata": {
        "id": "DscDZONZGmS1"
      },
      "source": [
        "# Import Semua isi Moduls"
      ]
    },
    {
      "cell_type": "code",
      "metadata": {
        "colab": {
          "base_uri": "https://localhost:8080/"
        },
        "id": "34vyYS_cGi0P",
        "outputId": "97f4112e-81ee-42e8-a7a1-20703f573f61"
      },
      "source": [
        "from math import *\n",
        "\n",
        "print(\"Nilai e adalah:\", e)"
      ],
      "execution_count": 39,
      "outputs": [
        {
          "output_type": "stream",
          "text": [
            "Nilai e adalah: 2.718281828459045\n"
          ],
          "name": "stdout"
        }
      ]
    },
    {
      "cell_type": "markdown",
      "metadata": {
        "id": "Mi3ZsrtPGxwp"
      },
      "source": [
        "# Membaca Teks File (CSV)"
      ]
    },
    {
      "cell_type": "code",
      "metadata": {
        "id": "7QSsgzAFHGyL"
      },
      "source": [
        "import csv\n",
        "\n",
        "# Tentukan lokasi file, nama file, dan inisialisasi csv\n",
        "f = open('https://storage.googleapis.com/dqlab-dataset/penduduk_gender_head.csv', 'r')\n",
        "reader = csv.reader(f)\n",
        "\n",
        "# Membaca baris per baris\n",
        "for row in reader:\n",
        "    print(row)\n",
        "\n",
        "# Menutup file csv\n",
        "f.close()"
      ],
      "execution_count": null,
      "outputs": []
    },
    {
      "cell_type": "markdown",
      "metadata": {
        "id": "359ssG3RHJNi"
      },
      "source": [
        "# Membaca file CSV dengan menggunakan PANDAS"
      ]
    },
    {
      "cell_type": "code",
      "metadata": {
        "colab": {
          "base_uri": "https://localhost:8080/"
        },
        "id": "iUHGpReLG_Gj",
        "outputId": "aff52c1f-5bca-40fa-e0f2-90dece22abe7"
      },
      "source": [
        "import pandas as pd\n",
        "\n",
        "\n",
        "table = pd.read_csv(\"https://storage.googleapis.com/dqlab-dataset/penduduk_gender_head.csv\")\n",
        "table.head()\n",
        "print(table)"
      ],
      "execution_count": 41,
      "outputs": [
        {
          "output_type": "stream",
          "text": [
            "    TAHUN         NAMA PROVINSI  ... Unnamed: 16 Unnamed: 17\n",
            "0    2013  PROVINSI DKI JAKARTA  ...         NaN         NaN\n",
            "1    2013  PROVINSI DKI JAKARTA  ...         NaN         NaN\n",
            "2    2013  PROVINSI DKI JAKARTA  ...         NaN         NaN\n",
            "3    2013  PROVINSI DKI JAKARTA  ...         NaN         NaN\n",
            "4    2013  PROVINSI DKI JAKARTA  ...         NaN         NaN\n",
            "5    2013  PROVINSI DKI JAKARTA  ...         NaN         NaN\n",
            "6    2013  PROVINSI DKI JAKARTA  ...         NaN         NaN\n",
            "7    2013  PROVINSI DKI JAKARTA  ...         NaN         NaN\n",
            "8    2013  PROVINSI DKI JAKARTA  ...         NaN         NaN\n",
            "9    2013  PROVINSI DKI JAKARTA  ...         NaN         NaN\n",
            "10   2013  PROVINSI DKI JAKARTA  ...         NaN         NaN\n",
            "11   2013  PROVINSI DKI JAKARTA  ...         NaN         NaN\n",
            "12   2013  PROVINSI DKI JAKARTA  ...         NaN         NaN\n",
            "13   2013  PROVINSI DKI JAKARTA  ...         NaN         NaN\n",
            "14   2013  PROVINSI DKI JAKARTA  ...         NaN         NaN\n",
            "15   2013  PROVINSI DKI JAKARTA  ...         NaN         NaN\n",
            "16   2013  PROVINSI DKI JAKARTA  ...         NaN         NaN\n",
            "17   2013  PROVINSI DKI JAKARTA  ...         NaN         NaN\n",
            "18   2013  PROVINSI DKI JAKARTA  ...         NaN         NaN\n",
            "19   2013  PROVINSI DKI JAKARTA  ...         NaN         NaN\n",
            "20   2013  PROVINSI DKI JAKARTA  ...         NaN         NaN\n",
            "21   2013  PROVINSI DKI JAKARTA  ...         NaN         NaN\n",
            "22   2013  PROVINSI DKI JAKARTA  ...         NaN         NaN\n",
            "23   2013  PROVINSI DKI JAKARTA  ...         NaN         NaN\n",
            "24   2013  PROVINSI DKI JAKARTA  ...         NaN         NaN\n",
            "25   2013  PROVINSI DKI JAKARTA  ...         NaN         NaN\n",
            "26   2013  PROVINSI DKI JAKARTA  ...         NaN         NaN\n",
            "27   2013  PROVINSI DKI JAKARTA  ...         NaN         NaN\n",
            "28   2013  PROVINSI DKI JAKARTA  ...         NaN         NaN\n",
            "29   2013  PROVINSI DKI JAKARTA  ...         NaN         NaN\n",
            "30   2013  PROVINSI DKI JAKARTA  ...         NaN         NaN\n",
            "31   2013  PROVINSI DKI JAKARTA  ...         NaN         NaN\n",
            "32   2013  PROVINSI DKI JAKARTA  ...         NaN         NaN\n",
            "33   2013  PROVINSI DKI JAKARTA  ...         NaN         NaN\n",
            "34   2013  PROVINSI DKI JAKARTA  ...         NaN         NaN\n",
            "35   2013  PROVINSI DKI JAKARTA  ...         NaN         NaN\n",
            "36   2013  PROVINSI DKI JAKARTA  ...         NaN         NaN\n",
            "37   2013  PROVINSI DKI JAKARTA  ...         NaN         NaN\n",
            "38   2013  PROVINSI DKI JAKARTA  ...         NaN         NaN\n",
            "39   2013  PROVINSI DKI JAKARTA  ...         NaN         NaN\n",
            "40   2013  PROVINSI DKI JAKARTA  ...         NaN         NaN\n",
            "41   2013  PROVINSI DKI JAKARTA  ...         NaN         NaN\n",
            "42   2013  PROVINSI DKI JAKARTA  ...         NaN         NaN\n",
            "43   2013  PROVINSI DKI JAKARTA  ...         NaN         NaN\n",
            "\n",
            "[44 rows x 18 columns]\n"
          ],
          "name": "stdout"
        }
      ]
    },
    {
      "cell_type": "markdown",
      "metadata": {
        "id": "9arccWaxHbuZ"
      },
      "source": [
        "# Bar Chart"
      ]
    },
    {
      "cell_type": "code",
      "metadata": {
        "colab": {
          "base_uri": "https://localhost:8080/",
          "height": 265
        },
        "id": "mLfPVnx_HXCv",
        "outputId": "52eabcc7-c745-4512-c467-11b3e6ec493c"
      },
      "source": [
        "import pandas as pd\n",
        "import numpy as np\n",
        "import matplotlib.pyplot as plt\n",
        "\n",
        "\n",
        "table = pd.read_csv(\"https://storage.googleapis.com/dqlab-dataset/penduduk_gender_head.csv\")\n",
        "table.head()\n",
        "x_label = table['NAMA KELURAHAN']\n",
        "plt.bar(x=np.arange(len(x_label)),height=table['LAKI-LAKI WNI'])\n",
        "plt.show()"
      ],
      "execution_count": 42,
      "outputs": [
        {
          "output_type": "display_data",
          "data": {
            "image/png": "[encoded data removed]",
            "text/plain": [
              "<Figure size 432x288 with 1 Axes>"
            ]
          },
          "metadata": {
            "tags": [],
            "needs_background": "light"
          }
        }
      ]
    },
    {
      "cell_type": "markdown",
      "metadata": {
        "id": "p596Ypc8HoXH"
      },
      "source": [
        "# Parameter dalam Grafik (Memberikan Nilai Axis dari data CSV)"
      ]
    },
    {
      "cell_type": "code",
      "metadata": {
        "colab": {
          "base_uri": "https://localhost:8080/",
          "height": 330
        },
        "id": "mH2P9SAUHk3S",
        "outputId": "f65f436e-ead7-4256-c908-78f2ffcd7268"
      },
      "source": [
        "import pandas as pd\n",
        "import numpy as np\n",
        "import matplotlib.pyplot as plt\n",
        "\n",
        "table = pd.read_csv(\"https://storage.googleapis.com/dqlab-dataset/penduduk_gender_head.csv\")\n",
        "table.head()\n",
        "\n",
        "x_label = table['NAMA KELURAHAN']\n",
        "plt.bar(x=np.arange(len(x_label)),height=table['LAKI-LAKI WNI'])\n",
        "plt.xticks(np.arange(len(x_label)), table['NAMA KELURAHAN'], rotation=30)\n",
        "plt.show()"
      ],
      "execution_count": 43,
      "outputs": [
        {
          "output_type": "display_data",
          "data": {
            "image/png": "[encoded data removed]",
            "text/plain": [
              "<Figure size 432x288 with 1 Axes>"
            ]
          },
          "metadata": {
            "tags": [],
            "needs_background": "light"
          }
        }
      ]
    },
    {
      "cell_type": "markdown",
      "metadata": {
        "id": "MFZ9_H47H0b5"
      },
      "source": [
        "# Menambah Title dan Label pada Grafik"
      ]
    },
    {
      "cell_type": "code",
      "metadata": {
        "colab": {
          "base_uri": "https://localhost:8080/",
          "height": 418
        },
        "id": "zm7DtMEeHxCJ",
        "outputId": "a03dcd3f-318b-4d60-e4d6-b124c97ac31f"
      },
      "source": [
        "import pandas as pd\n",
        "import numpy as np\n",
        "import matplotlib.pyplot as plt\n",
        "\n",
        "\n",
        "table = pd.read_csv(\"https://storage.googleapis.com/dqlab-dataset/penduduk_gender_head.csv\")\n",
        "table.head()\n",
        "\n",
        "x_label = table['NAMA KELURAHAN']\n",
        "plt.bar(x=np.arange(len(x_label)),height=table['LAKI-LAKI WNI'])\n",
        "plt.xticks(np.arange(len(x_label)), table['NAMA KELURAHAN'], rotation=90)\n",
        "plt.xlabel('Keluarahan di Jakarta pusat')\n",
        "plt.ylabel('Jumlah Penduduk Laki - Laki')\n",
        "plt.title('Persebaran Jumlah Penduduk Laki- Laki di Jakarta Pusat')\n",
        "\n",
        "plt.show()"
      ],
      "execution_count": 44,
      "outputs": [
        {
          "output_type": "display_data",
          "data": {
            "image/png": "[encoded data removed]",
            "text/plain": [
              "<Figure size 432x288 with 1 Axes>"
            ]
          },
          "metadata": {
            "tags": [],
            "needs_background": "light"
          }
        }
      ]
    }
  ]
}