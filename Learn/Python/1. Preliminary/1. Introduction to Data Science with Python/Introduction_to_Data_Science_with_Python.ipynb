{
  "nbformat": 4,
  "nbformat_minor": 0,
  "metadata": {
    "colab": {
      "name": "Introduction to Data Science with Python.ipynb",
      "provenance": []
    },
    "kernelspec": {
      "name": "python3",
      "display_name": "Python 3"
    },
    "language_info": {
      "name": "python"
    }
  },
  "cells": [
    {
      "cell_type": "markdown",
      "metadata": {
        "id": "kQIfVKQ2JBLz"
      },
      "source": [
        "# Python “Hello World” & Statement"
      ]
    },
    {
      "cell_type": "code",
      "metadata": {
        "colab": {
          "base_uri": "https://localhost:8080/"
        },
        "id": "8ag53oaYGmXE",
        "outputId": "cd126f61-8589-46da-98eb-ae2275931b43"
      },
      "source": [
        "print(\"Hello World.\")\n",
        "print(\"Saya Aksara, baru belajar Python.\")"
      ],
      "execution_count": null,
      "outputs": [
        {
          "output_type": "stream",
          "text": [
            "Hello World.\n",
            "Saya Aksara, baru belajar Python.\n"
          ],
          "name": "stdout"
        }
      ]
    },
    {
      "cell_type": "markdown",
      "metadata": {
        "id": "RML0XRcdJRx8"
      },
      "source": [
        "# Variables di Python"
      ]
    },
    {
      "cell_type": "code",
      "metadata": {
        "id": "kt4WPEAXJEEc"
      },
      "source": [
        "bil1 = 10\n",
        "Bil_2 = 20\n",
        "Frasa = \"Halo Dunia\"\n",
        "bil1, Bil_2 = 10, 20\n",
        "salam = \"Selamat Pagi\"; Penutup = \"Salam Sejahtera\""
      ],
      "execution_count": null,
      "outputs": []
    },
    {
      "cell_type": "markdown",
      "metadata": {
        "id": "6vRKoI7xKXG4"
      },
      "source": [
        "# Comments di Python"
      ]
    },
    {
      "cell_type": "code",
      "metadata": {
        "colab": {
          "base_uri": "https://localhost:8080/"
        },
        "id": "O9HuxUdeJY-n",
        "outputId": "c321c438-91e5-4539-bac6-74de9afcb862"
      },
      "source": [
        "#perintah pada baris ini tidak mempengaruhi program\n",
        "'''\n",
        "perintah ini tidak akan dieksekusi oleh Python\n",
        "dan perintah ini juga tidak akan dieksekusi\n",
        "perintah ini juga tidak akan dieksekusi\n",
        "'''\n",
        "print(\"jadi # digunakan untuk membuat comment pada Python\")"
      ],
      "execution_count": null,
      "outputs": [
        {
          "output_type": "stream",
          "text": [
            "jadi # digunakan untuk membuat comment pada Python\n"
          ],
          "name": "stdout"
        }
      ]
    },
    {
      "cell_type": "markdown",
      "metadata": {
        "id": "kMWaK4DXLY1l"
      },
      "source": [
        "# Tugas Praktek"
      ]
    },
    {
      "cell_type": "code",
      "metadata": {
        "colab": {
          "base_uri": "https://localhost:8080/"
        },
        "id": "eMwhrfr6KZcc",
        "outputId": "23c8cc6d-61a0-4118-d91d-de13b9bf6fcd"
      },
      "source": [
        "text = \"Belajar Python di DQLab.\"\n",
        "print(list(text))\n",
        "print(tuple(text))\n",
        "print(set(text))"
      ],
      "execution_count": null,
      "outputs": [
        {
          "output_type": "stream",
          "text": [
            "['B', 'e', 'l', 'a', 'j', 'a', 'r', ' ', 'P', 'y', 't', 'h', 'o', 'n', ' ', 'd', 'i', ' ', 'D', 'Q', 'L', 'a', 'b', '.']\n",
            "('B', 'e', 'l', 'a', 'j', 'a', 'r', ' ', 'P', 'y', 't', 'h', 'o', 'n', ' ', 'd', 'i', ' ', 'D', 'Q', 'L', 'a', 'b', '.')\n",
            "{'.', 'o', 'h', 'D', 'B', 'a', 'e', 'b', 'j', ' ', 'l', 'n', 'P', 't', 'i', 'y', 'd', 'Q', 'L', 'r'}\n"
          ],
          "name": "stdout"
        }
      ]
    },
    {
      "cell_type": "markdown",
      "metadata": {
        "id": "lK9lOsVQLcui"
      },
      "source": [
        "# Menggunakan Library di Python\n"
      ]
    },
    {
      "cell_type": "code",
      "metadata": {
        "id": "Cy8LZ7e3Lby8"
      },
      "source": [
        "import math\n",
        "import numpy as np\n",
        "import pandas as pd\n",
        "import seaborn as sns"
      ],
      "execution_count": 5,
      "outputs": []
    }
  ]
}